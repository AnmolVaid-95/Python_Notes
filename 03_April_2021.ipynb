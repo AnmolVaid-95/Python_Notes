{
 "cells": [
  {
   "cell_type": "code",
   "execution_count": 6,
   "metadata": {},
   "outputs": [],
   "source": [
    "def test(**kwargs):\n",
    "    print(kwargs.items())"
   ]
  },
  {
   "cell_type": "code",
   "execution_count": 7,
   "metadata": {},
   "outputs": [
    {
     "name": "stdout",
     "output_type": "stream",
     "text": [
      "dict_items([('x', 'anmol'), ('y', 'vaid')])\n"
     ]
    }
   ],
   "source": [
    "test(x = 'anmol', y = 'vaid')"
   ]
  },
  {
   "cell_type": "markdown",
   "metadata": {},
   "source": [
    "**kwargs excepts input as dictionary only as shown above"
   ]
  },
  {
   "cell_type": "code",
   "execution_count": 8,
   "metadata": {},
   "outputs": [],
   "source": [
    "# now we are going to make functioon without giving name this is know as Lamda function or anaonomus function"
   ]
  },
  {
   "cell_type": "code",
   "execution_count": 9,
   "metadata": {},
   "outputs": [],
   "source": [
    "def test1(name, mail_id):\n",
    "    return name, mail_id"
   ]
  },
  {
   "cell_type": "code",
   "execution_count": 10,
   "metadata": {},
   "outputs": [
    {
     "data": {
      "text/plain": [
       "('anmol', 'anmolvaid5@gmail.com')"
      ]
     },
     "execution_count": 10,
     "metadata": {},
     "output_type": "execute_result"
    }
   ],
   "source": [
    "test1('anmol','anmolvaid5@gmail.com')"
   ]
  },
  {
   "cell_type": "markdown",
   "metadata": {},
   "source": [
    "Now without giving name of function we will perform above task."
   ]
  },
  {
   "cell_type": "code",
   "execution_count": 11,
   "metadata": {},
   "outputs": [],
   "source": [
    "m = lambda x,y : x+y"
   ]
  },
  {
   "cell_type": "markdown",
   "metadata": {},
   "source": [
    "lambda_keyword (space) variables_name : operation_to_be_performed ===> Syntax to perform the lambda function  "
   ]
  },
  {
   "cell_type": "code",
   "execution_count": 12,
   "metadata": {},
   "outputs": [
    {
     "data": {
      "text/plain": [
       "17"
      ]
     },
     "execution_count": 12,
     "metadata": {},
     "output_type": "execute_result"
    }
   ],
   "source": [
    "m(9,8)"
   ]
  },
  {
   "cell_type": "markdown",
   "metadata": {},
   "source": [
    "understanding iterator and generator"
   ]
  },
  {
   "cell_type": "code",
   "execution_count": 14,
   "metadata": {},
   "outputs": [],
   "source": [
    "a = 10 "
   ]
  },
  {
   "cell_type": "code",
   "execution_count": 15,
   "metadata": {},
   "outputs": [
    {
     "ename": "TypeError",
     "evalue": "'int' object is not iterable",
     "output_type": "error",
     "traceback": [
      "\u001b[1;31m---------------------------------------------------------------------------\u001b[0m",
      "\u001b[1;31mTypeError\u001b[0m                                 Traceback (most recent call last)",
      "\u001b[1;32m<ipython-input-15-c324de4f8f18>\u001b[0m in \u001b[0;36m<module>\u001b[1;34m\u001b[0m\n\u001b[1;32m----> 1\u001b[1;33m \u001b[1;32mfor\u001b[0m \u001b[0mi\u001b[0m \u001b[1;32min\u001b[0m \u001b[0ma\u001b[0m\u001b[1;33m:\u001b[0m\u001b[1;33m\u001b[0m\u001b[1;33m\u001b[0m\u001b[0m\n\u001b[0m\u001b[0;32m      2\u001b[0m     \u001b[0mprint\u001b[0m\u001b[1;33m(\u001b[0m\u001b[0mi\u001b[0m\u001b[1;33m)\u001b[0m\u001b[1;33m\u001b[0m\u001b[1;33m\u001b[0m\u001b[0m\n",
      "\u001b[1;31mTypeError\u001b[0m: 'int' object is not iterable"
     ]
    }
   ],
   "source": [
    "for i in a:\n",
    "    print(i)"
   ]
  },
  {
   "cell_type": "code",
   "execution_count": 16,
   "metadata": {},
   "outputs": [
    {
     "name": "stdout",
     "output_type": "stream",
     "text": [
      "a\n",
      "n\n",
      "m\n",
      "o\n",
      "l\n"
     ]
    }
   ],
   "source": [
    "for i in \"anmol\":\n",
    "    print(i)"
   ]
  },
  {
   "cell_type": "markdown",
   "metadata": {},
   "source": [
    "string stores data in form of indexing"
   ]
  },
  {
   "cell_type": "code",
   "execution_count": 17,
   "metadata": {},
   "outputs": [
    {
     "ename": "TypeError",
     "evalue": "'str' object is not an iterator",
     "output_type": "error",
     "traceback": [
      "\u001b[1;31m---------------------------------------------------------------------------\u001b[0m",
      "\u001b[1;31mTypeError\u001b[0m                                 Traceback (most recent call last)",
      "\u001b[1;32m<ipython-input-17-31e86bf08df5>\u001b[0m in \u001b[0;36m<module>\u001b[1;34m\u001b[0m\n\u001b[0;32m      1\u001b[0m \u001b[0ma\u001b[0m \u001b[1;33m=\u001b[0m \u001b[1;34m'anmol'\u001b[0m\u001b[1;33m\u001b[0m\u001b[1;33m\u001b[0m\u001b[0m\n\u001b[1;32m----> 2\u001b[1;33m \u001b[0mnext\u001b[0m\u001b[1;33m(\u001b[0m\u001b[0ma\u001b[0m\u001b[1;33m)\u001b[0m\u001b[1;33m\u001b[0m\u001b[1;33m\u001b[0m\u001b[0m\n\u001b[0m",
      "\u001b[1;31mTypeError\u001b[0m: 'str' object is not an iterator"
     ]
    }
   ],
   "source": [
    "a = 'anmol'\n",
    "next(a)"
   ]
  },
  {
   "cell_type": "markdown",
   "metadata": {},
   "source": [
    "Iterator and iterable is a kind of entity out of which i will be able to extract a data with help of indexes"
   ]
  },
  {
   "cell_type": "markdown",
   "metadata": {},
   "source": [
    "ITERABLE MEANS THAT U CAN CONVERT UR DATA INTO ITERATOR"
   ]
  },
  {
   "cell_type": "code",
   "execution_count": 19,
   "metadata": {},
   "outputs": [
    {
     "data": {
      "text/plain": [
       "<str_iterator at 0x20f64889ee0>"
      ]
     },
     "execution_count": 19,
     "metadata": {},
     "output_type": "execute_result"
    }
   ],
   "source": [
    "iter(a)"
   ]
  },
  {
   "cell_type": "code",
   "execution_count": 20,
   "metadata": {},
   "outputs": [],
   "source": [
    "k = iter(a)"
   ]
  },
  {
   "cell_type": "code",
   "execution_count": 22,
   "metadata": {},
   "outputs": [
    {
     "data": {
      "text/plain": [
       "'a'"
      ]
     },
     "execution_count": 22,
     "metadata": {},
     "output_type": "execute_result"
    }
   ],
   "source": [
    "next(k)"
   ]
  },
  {
   "cell_type": "markdown",
   "metadata": {},
   "source": [
    "ITERATOR gives power to remember what was done last time."
   ]
  },
  {
   "cell_type": "markdown",
   "metadata": {},
   "source": [
    "So first for loop is trying to implement iter on string passed to it and then it start doing next(), next() and next()"
   ]
  },
  {
   "cell_type": "code",
   "execution_count": 23,
   "metadata": {},
   "outputs": [],
   "source": [
    "l = [1,2,3,4,5,6]"
   ]
  },
  {
   "cell_type": "code",
   "execution_count": 24,
   "metadata": {},
   "outputs": [
    {
     "ename": "TypeError",
     "evalue": "'list' object is not an iterator",
     "output_type": "error",
     "traceback": [
      "\u001b[1;31m---------------------------------------------------------------------------\u001b[0m",
      "\u001b[1;31mTypeError\u001b[0m                                 Traceback (most recent call last)",
      "\u001b[1;32m<ipython-input-24-cdc8a39da60d>\u001b[0m in \u001b[0;36m<module>\u001b[1;34m\u001b[0m\n\u001b[1;32m----> 1\u001b[1;33m \u001b[0mnext\u001b[0m\u001b[1;33m(\u001b[0m\u001b[0ml\u001b[0m\u001b[1;33m)\u001b[0m\u001b[1;33m\u001b[0m\u001b[1;33m\u001b[0m\u001b[0m\n\u001b[0m",
      "\u001b[1;31mTypeError\u001b[0m: 'list' object is not an iterator"
     ]
    }
   ],
   "source": [
    "next(l)"
   ]
  },
  {
   "cell_type": "code",
   "execution_count": 25,
   "metadata": {},
   "outputs": [],
   "source": [
    "l = iter(l)"
   ]
  },
  {
   "cell_type": "code",
   "execution_count": 26,
   "metadata": {},
   "outputs": [
    {
     "data": {
      "text/plain": [
       "1"
      ]
     },
     "execution_count": 26,
     "metadata": {},
     "output_type": "execute_result"
    }
   ],
   "source": [
    "next(l)"
   ]
  },
  {
   "cell_type": "code",
   "execution_count": 27,
   "metadata": {},
   "outputs": [
    {
     "data": {
      "text/plain": [
       "2"
      ]
     },
     "execution_count": 27,
     "metadata": {},
     "output_type": "execute_result"
    }
   ],
   "source": [
    "next(l)"
   ]
  },
  {
   "cell_type": "code",
   "execution_count": 28,
   "metadata": {},
   "outputs": [
    {
     "data": {
      "text/plain": [
       "3"
      ]
     },
     "execution_count": 28,
     "metadata": {},
     "output_type": "execute_result"
    }
   ],
   "source": [
    "next(l)"
   ]
  },
  {
   "cell_type": "markdown",
   "metadata": {},
   "source": [
    "And so on.\n",
    "This is way to convert to extract elements from a iterator."
   ]
  },
  {
   "cell_type": "markdown",
   "metadata": {},
   "source": [
    "List is a ITERABLE OBJECT."
   ]
  },
  {
   "cell_type": "markdown",
   "metadata": {},
   "source": [
    "Now we will se GENERATOR"
   ]
  },
  {
   "cell_type": "code",
   "execution_count": 29,
   "metadata": {},
   "outputs": [],
   "source": [
    "def test4(n):\n",
    "    l=[]\n",
    "    for i in range(n):\n",
    "        l.append(i**3)\n",
    "    return l "
   ]
  },
  {
   "cell_type": "code",
   "execution_count": 30,
   "metadata": {},
   "outputs": [
    {
     "data": {
      "text/plain": [
       "[0, 1, 8, 27, 64, 125]"
      ]
     },
     "execution_count": 30,
     "metadata": {},
     "output_type": "execute_result"
    }
   ],
   "source": [
    "test4(6)"
   ]
  },
  {
   "cell_type": "markdown",
   "metadata": {},
   "source": [
    "If you take number like 6000000000000, then system will will hang because it will first complete all operation and will then return l "
   ]
  },
  {
   "cell_type": "markdown",
   "metadata": {},
   "source": [
    "However, if we use yield operator in case of return then step by step we will be able to see the computation result. As yield operator help us to remember what we have done last time."
   ]
  },
  {
   "cell_type": "markdown",
   "metadata": {},
   "source": [
    "Yield will present a GENERATOR OBJECT and use this generator object in for loop to get the answer."
   ]
  },
  {
   "cell_type": "code",
   "execution_count": 7,
   "metadata": {},
   "outputs": [
    {
     "name": "stdout",
     "output_type": "stream",
     "text": [
      "Enter the number 12\n"
     ]
    },
    {
     "data": {
      "text/plain": [
       "[0, 1, 1, 2, 3, 5, 8, 13, 21, 34, 55, 89]"
      ]
     },
     "execution_count": 7,
     "metadata": {},
     "output_type": "execute_result"
    }
   ],
   "source": [
    "# function to generate fibonacci series\n",
    "def fib():\n",
    "    a = 0\n",
    "    b=1\n",
    "    o = []\n",
    "    n = int(input(\"Enter the number \"))\n",
    "    for i in range(n):\n",
    "        o.append(a)\n",
    "        a,b = b,a+b\n",
    "    return o\n",
    "\n",
    "fib()"
   ]
  },
  {
   "cell_type": "markdown",
   "metadata": {},
   "source": [
    "FILESYSTEM"
   ]
  },
  {
   "cell_type": "code",
   "execution_count": 8,
   "metadata": {},
   "outputs": [
    {
     "data": {
      "text/plain": [
       "'C:\\\\Users\\\\Anmol_PC\\\\Desktop\\\\ineuron_assign\\\\Class_work'"
      ]
     },
     "execution_count": 8,
     "metadata": {},
     "output_type": "execute_result"
    }
   ],
   "source": [
    "%pwd"
   ]
  },
  {
   "cell_type": "code",
   "execution_count": 9,
   "metadata": {},
   "outputs": [],
   "source": [
    "import os"
   ]
  },
  {
   "cell_type": "code",
   "execution_count": 10,
   "metadata": {},
   "outputs": [],
   "source": [
    "os.chdir('C://Users//Anmol_PC//Desktop//ineuron_assign/Class_work/study_file_system/')"
   ]
  },
  {
   "cell_type": "code",
   "execution_count": 11,
   "metadata": {},
   "outputs": [
    {
     "data": {
      "text/plain": [
       "'C:\\\\Users\\\\Anmol_PC\\\\Desktop\\\\ineuron_assign\\\\Class_work\\\\study_file_system'"
      ]
     },
     "execution_count": 11,
     "metadata": {},
     "output_type": "execute_result"
    }
   ],
   "source": [
    "%pwd"
   ]
  },
  {
   "cell_type": "code",
   "execution_count": 12,
   "metadata": {},
   "outputs": [
    {
     "ename": "FileNotFoundError",
     "evalue": "[Errno 2] No such file or directory: 'test.txt'",
     "output_type": "error",
     "traceback": [
      "\u001b[1;31m---------------------------------------------------------------------------\u001b[0m",
      "\u001b[1;31mFileNotFoundError\u001b[0m                         Traceback (most recent call last)",
      "\u001b[1;32m<ipython-input-12-c1d6406a1bac>\u001b[0m in \u001b[0;36m<module>\u001b[1;34m\u001b[0m\n\u001b[1;32m----> 1\u001b[1;33m \u001b[0mf\u001b[0m \u001b[1;33m=\u001b[0m \u001b[0mopen\u001b[0m\u001b[1;33m(\u001b[0m\u001b[1;34m\"test.txt\"\u001b[0m\u001b[1;33m)\u001b[0m\u001b[1;33m\u001b[0m\u001b[1;33m\u001b[0m\u001b[0m\n\u001b[0m",
      "\u001b[1;31mFileNotFoundError\u001b[0m: [Errno 2] No such file or directory: 'test.txt'"
     ]
    }
   ],
   "source": [
    "f = open(\"test.txt\")"
   ]
  },
  {
   "cell_type": "code",
   "execution_count": 13,
   "metadata": {},
   "outputs": [],
   "source": [
    "f = open('test.txt','w')"
   ]
  },
  {
   "cell_type": "code",
   "execution_count": 14,
   "metadata": {},
   "outputs": [],
   "source": [
    "f.close()"
   ]
  },
  {
   "cell_type": "code",
   "execution_count": 22,
   "metadata": {},
   "outputs": [
    {
     "ename": "FileExistsError",
     "evalue": "[Errno 17] File exists: 'test1.txt'",
     "output_type": "error",
     "traceback": [
      "\u001b[1;31m---------------------------------------------------------------------------\u001b[0m",
      "\u001b[1;31mFileExistsError\u001b[0m                           Traceback (most recent call last)",
      "\u001b[1;32m<ipython-input-22-27349d346c9a>\u001b[0m in \u001b[0;36m<module>\u001b[1;34m\u001b[0m\n\u001b[1;32m----> 1\u001b[1;33m \u001b[0mf\u001b[0m \u001b[1;33m=\u001b[0m \u001b[0mopen\u001b[0m\u001b[1;33m(\u001b[0m\u001b[1;34m'test1.txt'\u001b[0m\u001b[1;33m,\u001b[0m\u001b[1;34m'x'\u001b[0m\u001b[1;33m)\u001b[0m\u001b[1;33m\u001b[0m\u001b[1;33m\u001b[0m\u001b[0m\n\u001b[0m",
      "\u001b[1;31mFileExistsError\u001b[0m: [Errno 17] File exists: 'test1.txt'"
     ]
    }
   ],
   "source": [
    "f = open('test1.txt','x')"
   ]
  },
  {
   "cell_type": "code",
   "execution_count": 16,
   "metadata": {},
   "outputs": [
    {
     "data": {
      "text/plain": [
       "21"
      ]
     },
     "execution_count": 16,
     "metadata": {},
     "output_type": "execute_result"
    }
   ],
   "source": [
    "f.write('This is my first file')"
   ]
  },
  {
   "cell_type": "code",
   "execution_count": 19,
   "metadata": {},
   "outputs": [],
   "source": [
    "f.close()"
   ]
  },
  {
   "cell_type": "code",
   "execution_count": 21,
   "metadata": {},
   "outputs": [
    {
     "ename": "ValueError",
     "evalue": "I/O operation on closed file.",
     "output_type": "error",
     "traceback": [
      "\u001b[1;31m---------------------------------------------------------------------------\u001b[0m",
      "\u001b[1;31mValueError\u001b[0m                                Traceback (most recent call last)",
      "\u001b[1;32m<ipython-input-21-571e9fb02258>\u001b[0m in \u001b[0;36m<module>\u001b[1;34m\u001b[0m\n\u001b[1;32m----> 1\u001b[1;33m \u001b[0mf\u001b[0m\u001b[1;33m.\u001b[0m\u001b[0mread\u001b[0m\u001b[1;33m(\u001b[0m\u001b[1;33m)\u001b[0m\u001b[1;33m\u001b[0m\u001b[1;33m\u001b[0m\u001b[0m\n\u001b[0m",
      "\u001b[1;31mValueError\u001b[0m: I/O operation on closed file."
     ]
    }
   ],
   "source": [
    "f.read()"
   ]
  },
  {
   "cell_type": "code",
   "execution_count": 18,
   "metadata": {},
   "outputs": [
    {
     "ename": "UnsupportedOperation",
     "evalue": "not readable",
     "output_type": "error",
     "traceback": [
      "\u001b[1;31m---------------------------------------------------------------------------\u001b[0m",
      "\u001b[1;31mUnsupportedOperation\u001b[0m                      Traceback (most recent call last)",
      "\u001b[1;32m<ipython-input-18-7e1d2e12b839>\u001b[0m in \u001b[0;36m<module>\u001b[1;34m\u001b[0m\n\u001b[1;32m----> 1\u001b[1;33m \u001b[0mf\u001b[0m\u001b[1;33m.\u001b[0m\u001b[0mreadline\u001b[0m\u001b[1;33m(\u001b[0m\u001b[1;33m)\u001b[0m\u001b[1;33m\u001b[0m\u001b[1;33m\u001b[0m\u001b[0m\n\u001b[0m",
      "\u001b[1;31mUnsupportedOperation\u001b[0m: not readable"
     ]
    }
   ],
   "source": [
    "f.readline()"
   ]
  },
  {
   "cell_type": "code",
   "execution_count": 23,
   "metadata": {},
   "outputs": [],
   "source": [
    "f = open('test1.txt','r')"
   ]
  },
  {
   "cell_type": "code",
   "execution_count": 24,
   "metadata": {},
   "outputs": [
    {
     "data": {
      "text/plain": [
       "True"
      ]
     },
     "execution_count": 24,
     "metadata": {},
     "output_type": "execute_result"
    }
   ],
   "source": [
    "f.readable()"
   ]
  },
  {
   "cell_type": "code",
   "execution_count": 25,
   "metadata": {},
   "outputs": [
    {
     "data": {
      "text/plain": [
       "'This is my first file'"
      ]
     },
     "execution_count": 25,
     "metadata": {},
     "output_type": "execute_result"
    }
   ],
   "source": [
    "f.readline()"
   ]
  },
  {
   "cell_type": "code",
   "execution_count": 26,
   "metadata": {},
   "outputs": [],
   "source": [
    "f.close()"
   ]
  },
  {
   "cell_type": "code",
   "execution_count": 27,
   "metadata": {},
   "outputs": [],
   "source": [
    "f = open('test1.txt','a')"
   ]
  },
  {
   "cell_type": "code",
   "execution_count": 28,
   "metadata": {},
   "outputs": [
    {
     "data": {
      "text/plain": [
       "22"
      ]
     },
     "execution_count": 28,
     "metadata": {},
     "output_type": "execute_result"
    }
   ],
   "source": [
    "f.write(' Learning is important')"
   ]
  },
  {
   "cell_type": "code",
   "execution_count": 29,
   "metadata": {},
   "outputs": [],
   "source": [
    "f.writelines('you must first learn that. Then should do practical ')"
   ]
  },
  {
   "cell_type": "code",
   "execution_count": 30,
   "metadata": {},
   "outputs": [
    {
     "ename": "UnsupportedOperation",
     "evalue": "not readable",
     "output_type": "error",
     "traceback": [
      "\u001b[1;31m---------------------------------------------------------------------------\u001b[0m",
      "\u001b[1;31mUnsupportedOperation\u001b[0m                      Traceback (most recent call last)",
      "\u001b[1;32m<ipython-input-30-7e1d2e12b839>\u001b[0m in \u001b[0;36m<module>\u001b[1;34m\u001b[0m\n\u001b[1;32m----> 1\u001b[1;33m \u001b[0mf\u001b[0m\u001b[1;33m.\u001b[0m\u001b[0mreadline\u001b[0m\u001b[1;33m(\u001b[0m\u001b[1;33m)\u001b[0m\u001b[1;33m\u001b[0m\u001b[1;33m\u001b[0m\u001b[0m\n\u001b[0m",
      "\u001b[1;31mUnsupportedOperation\u001b[0m: not readable"
     ]
    }
   ],
   "source": [
    "f.readline()"
   ]
  },
  {
   "cell_type": "code",
   "execution_count": 31,
   "metadata": {},
   "outputs": [],
   "source": [
    "f.close()"
   ]
  },
  {
   "cell_type": "code",
   "execution_count": 32,
   "metadata": {},
   "outputs": [
    {
     "ename": "ValueError",
     "evalue": "I/O operation on closed file.",
     "output_type": "error",
     "traceback": [
      "\u001b[1;31m---------------------------------------------------------------------------\u001b[0m",
      "\u001b[1;31mValueError\u001b[0m                                Traceback (most recent call last)",
      "\u001b[1;32m<ipython-input-32-055d0c37aeda>\u001b[0m in \u001b[0;36m<module>\u001b[1;34m\u001b[0m\n\u001b[1;32m----> 1\u001b[1;33m \u001b[0mf\u001b[0m\u001b[1;33m.\u001b[0m\u001b[0mreadlines\u001b[0m\u001b[1;33m(\u001b[0m\u001b[1;33m)\u001b[0m\u001b[1;33m\u001b[0m\u001b[1;33m\u001b[0m\u001b[0m\n\u001b[0m",
      "\u001b[1;31mValueError\u001b[0m: I/O operation on closed file."
     ]
    }
   ],
   "source": [
    "f.readlines()"
   ]
  },
  {
   "cell_type": "code",
   "execution_count": 34,
   "metadata": {},
   "outputs": [],
   "source": [
    "f = open('test1.txt','r+')"
   ]
  },
  {
   "cell_type": "code",
   "execution_count": 35,
   "metadata": {},
   "outputs": [
    {
     "data": {
      "text/plain": [
       "['This is my first file Learning is importantyou must first learn that. Then should do practical ']"
      ]
     },
     "execution_count": 35,
     "metadata": {},
     "output_type": "execute_result"
    }
   ],
   "source": [
    "f.readlines()"
   ]
  },
  {
   "cell_type": "code",
   "execution_count": 36,
   "metadata": {},
   "outputs": [
    {
     "data": {
      "text/plain": [
       "''"
      ]
     },
     "execution_count": 36,
     "metadata": {},
     "output_type": "execute_result"
    }
   ],
   "source": [
    "f.read()"
   ]
  },
  {
   "cell_type": "code",
   "execution_count": 40,
   "metadata": {},
   "outputs": [
    {
     "ename": "TypeError",
     "evalue": "'<' not supported between instances of 'str' and 'int'",
     "output_type": "error",
     "traceback": [
      "\u001b[1;31m---------------------------------------------------------------------------\u001b[0m",
      "\u001b[1;31mTypeError\u001b[0m                                 Traceback (most recent call last)",
      "\u001b[1;32m<ipython-input-40-20dff1259465>\u001b[0m in \u001b[0;36m<module>\u001b[1;34m\u001b[0m\n\u001b[1;32m----> 1\u001b[1;33m \u001b[0mf\u001b[0m\u001b[1;33m.\u001b[0m\u001b[0mseek\u001b[0m\u001b[1;33m(\u001b[0m\u001b[1;34m'file'\u001b[0m\u001b[1;33m)\u001b[0m\u001b[1;33m\u001b[0m\u001b[1;33m\u001b[0m\u001b[0m\n\u001b[0m",
      "\u001b[1;31mTypeError\u001b[0m: '<' not supported between instances of 'str' and 'int'"
     ]
    }
   ],
   "source": [
    "f.seek()"
   ]
  },
  {
   "cell_type": "code",
   "execution_count": 41,
   "metadata": {},
   "outputs": [],
   "source": [
    "f.close()"
   ]
  },
  {
   "cell_type": "code",
   "execution_count": 42,
   "metadata": {},
   "outputs": [],
   "source": [
    "f = open('test1.txt')"
   ]
  },
  {
   "cell_type": "code",
   "execution_count": 43,
   "metadata": {},
   "outputs": [
    {
     "data": {
      "text/plain": [
       "'This is my first file Learning is importantyou must first learn that. Then should do practical '"
      ]
     },
     "execution_count": 43,
     "metadata": {},
     "output_type": "execute_result"
    }
   ],
   "source": [
    "f.read()"
   ]
  },
  {
   "cell_type": "code",
   "execution_count": 44,
   "metadata": {
    "collapsed": true
   },
   "outputs": [
    {
     "data": {
      "text/plain": [
       "''"
      ]
     },
     "execution_count": 44,
     "metadata": {},
     "output_type": "execute_result"
    }
   ],
   "source": [
    "f.read()"
   ]
  },
  {
   "cell_type": "markdown",
   "metadata": {},
   "source": [
    "As we can see from above output that as we have read all content of file our curesor comes to last position and then if we fire read command again. We will get blank. In order to set cursor to a specific position we use seek operation."
   ]
  },
  {
   "cell_type": "code",
   "execution_count": 46,
   "metadata": {},
   "outputs": [
    {
     "data": {
      "text/plain": [
       "0"
      ]
     },
     "execution_count": 46,
     "metadata": {},
     "output_type": "execute_result"
    }
   ],
   "source": [
    "f.seek(0)\n",
    "# this will reset the cursor to begning of the file.."
   ]
  },
  {
   "cell_type": "code",
   "execution_count": 47,
   "metadata": {},
   "outputs": [
    {
     "data": {
      "text/plain": [
       "'This is my first file Learning is importantyou must first learn that. Then should do practical '"
      ]
     },
     "execution_count": 47,
     "metadata": {},
     "output_type": "execute_result"
    }
   ],
   "source": [
    "f.read()"
   ]
  },
  {
   "cell_type": "code",
   "execution_count": 48,
   "metadata": {},
   "outputs": [
    {
     "data": {
      "text/plain": [
       "''"
      ]
     },
     "execution_count": 48,
     "metadata": {},
     "output_type": "execute_result"
    }
   ],
   "source": [
    "f.read()"
   ]
  },
  {
   "cell_type": "code",
   "execution_count": 49,
   "metadata": {},
   "outputs": [
    {
     "data": {
      "text/plain": [
       "0"
      ]
     },
     "execution_count": 49,
     "metadata": {},
     "output_type": "execute_result"
    }
   ],
   "source": [
    "f.seek(0)"
   ]
  },
  {
   "cell_type": "code",
   "execution_count": 50,
   "metadata": {},
   "outputs": [
    {
     "data": {
      "text/plain": [
       "'This is my first file L'"
      ]
     },
     "execution_count": 50,
     "metadata": {},
     "output_type": "execute_result"
    }
   ],
   "source": [
    "# 23 means that starting from 0 till 23rd character. \n",
    "# it does not mean that we will start reading from 23rd character $ go till end.\n",
    "f.read(23)"
   ]
  },
  {
   "cell_type": "code",
   "execution_count": 51,
   "metadata": {},
   "outputs": [
    {
     "data": {
      "text/plain": [
       "'earning is importantyou must first learn that. Then should do practical '"
      ]
     },
     "execution_count": 51,
     "metadata": {},
     "output_type": "execute_result"
    }
   ],
   "source": [
    "f.read()"
   ]
  },
  {
   "cell_type": "code",
   "execution_count": 52,
   "metadata": {},
   "outputs": [
    {
     "data": {
      "text/plain": [
       "0"
      ]
     },
     "execution_count": 52,
     "metadata": {},
     "output_type": "execute_result"
    }
   ],
   "source": [
    "f.seek(0)"
   ]
  },
  {
   "cell_type": "code",
   "execution_count": 54,
   "metadata": {},
   "outputs": [
    {
     "ename": "SyntaxError",
     "evalue": "invalid syntax (<ipython-input-54-e76fc598b8ee>, line 1)",
     "output_type": "error",
     "traceback": [
      "\u001b[1;36m  File \u001b[1;32m\"<ipython-input-54-e76fc598b8ee>\"\u001b[1;36m, line \u001b[1;32m1\u001b[0m\n\u001b[1;33m    f.read(12:23)\u001b[0m\n\u001b[1;37m             ^\u001b[0m\n\u001b[1;31mSyntaxError\u001b[0m\u001b[1;31m:\u001b[0m invalid syntax\n"
     ]
    }
   ],
   "source": [
    "f.read(12:23)\n",
    "# indexing extarction of data is not possible in this as can be seen from below error."
   ]
  },
  {
   "cell_type": "code",
   "execution_count": 55,
   "metadata": {},
   "outputs": [
    {
     "data": {
      "text/plain": [
       "0"
      ]
     },
     "execution_count": 55,
     "metadata": {},
     "output_type": "execute_result"
    }
   ],
   "source": [
    "f.seek(0)"
   ]
  },
  {
   "cell_type": "code",
   "execution_count": 56,
   "metadata": {},
   "outputs": [
    {
     "name": "stdout",
     "output_type": "stream",
     "text": [
      "This is my first file Learning is importantyou must first learn that. Then should do practical \n"
     ]
    }
   ],
   "source": [
    "for i in f:\n",
    "    print(i)"
   ]
  },
  {
   "cell_type": "code",
   "execution_count": 57,
   "metadata": {},
   "outputs": [],
   "source": [
    "f.close()"
   ]
  },
  {
   "cell_type": "code",
   "execution_count": 58,
   "metadata": {},
   "outputs": [],
   "source": [
    "f = open('process.txt','r')"
   ]
  },
  {
   "cell_type": "code",
   "execution_count": 59,
   "metadata": {},
   "outputs": [
    {
     "name": "stdout",
     "output_type": "stream",
     "text": [
      "ÿþ\n",
      "\n",
      "\u0000\n",
      "\n",
      "\u0000H\u0000a\u0000n\u0000d\u0000l\u0000e\u0000s\u0000 \u0000 \u0000N\u0000P\u0000M\u0000(\u0000K\u0000)\u0000 \u0000 \u0000 \u0000 \u0000P\u0000M\u0000(\u0000K\u0000)\u0000 \u0000 \u0000 \u0000 \u0000 \u0000 \u0000W\u0000S\u0000(\u0000K\u0000)\u0000 \u0000 \u0000 \u0000 \u0000 \u0000C\u0000P\u0000U\u0000(\u0000s\u0000)\u0000 \u0000 \u0000 \u0000 \u0000 \u0000I\u0000d\u0000 \u0000 \u0000S\u0000I\u0000 \u0000P\u0000r\u0000o\u0000c\u0000e\u0000s\u0000s\u0000N\u0000a\u0000m\u0000e\u0000 \u0000 \u0000 \u0000 \u0000 \u0000 \u0000 \u0000 \u0000 \u0000 \u0000 \u0000 \u0000 \u0000 \u0000 \u0000 \u0000 \u0000 \u0000 \u0000 \u0000 \u0000 \u0000 \u0000\n",
      "\n",
      "\u0000\n",
      "\n",
      "\u0000-\u0000-\u0000-\u0000-\u0000-\u0000-\u0000-\u0000 \u0000 \u0000-\u0000-\u0000-\u0000-\u0000-\u0000-\u0000 \u0000 \u0000 \u0000 \u0000-\u0000-\u0000-\u0000-\u0000-\u0000 \u0000 \u0000 \u0000 \u0000 \u0000 \u0000-\u0000-\u0000-\u0000-\u0000-\u0000 \u0000 \u0000 \u0000 \u0000 \u0000-\u0000-\u0000-\u0000-\u0000-\u0000-\u0000 \u0000 \u0000 \u0000 \u0000 \u0000-\u0000-\u0000 \u0000 \u0000-\u0000-\u0000 \u0000-\u0000-\u0000-\u0000-\u0000-\u0000-\u0000-\u0000-\u0000-\u0000-\u0000-\u0000 \u0000 \u0000 \u0000 \u0000 \u0000 \u0000 \u0000 \u0000 \u0000 \u0000 \u0000 \u0000 \u0000 \u0000 \u0000 \u0000 \u0000 \u0000 \u0000 \u0000 \u0000 \u0000 \u0000\n",
      "\n",
      "\u0000\n",
      "\n",
      "\u0000 \u0000 \u0000 \u0000 \u00002\u00008\u00000\u0000 \u0000 \u0000 \u0000 \u0000 \u0000 \u00001\u00008\u0000 \u0000 \u0000 \u0000 \u00001\u00004\u00000\u00003\u00002\u0000 \u0000 \u0000 \u0000 \u0000 \u0000 \u00002\u00000\u00008\u00002\u00008\u0000 \u0000 \u0000 \u0000 \u0000 \u0000 \u00001\u00001\u0000.\u00005\u00009\u0000 \u0000 \u0000 \u00003\u00000\u00003\u00002\u0000 \u0000 \u0000 \u00000\u0000 \u0000a\u0000u\u0000d\u0000i\u0000o\u0000d\u0000g\u0000 \u0000 \u0000 \u0000 \u0000 \u0000 \u0000 \u0000 \u0000 \u0000 \u0000 \u0000 \u0000 \u0000 \u0000 \u0000 \u0000 \u0000 \u0000 \u0000 \u0000 \u0000 \u0000 \u0000 \u0000 \u0000 \u0000 \u0000\n",
      "\n",
      "\u0000\n",
      "\n",
      "\u0000 \u0000 \u0000 \u0000 \u00003\u00001\u00009\u0000 \u0000 \u0000 \u0000 \u0000 \u0000 \u00001\u00008\u0000 \u0000 \u0000 \u0000 \u0000 \u00005\u00004\u00004\u00004\u0000 \u0000 \u0000 \u0000 \u0000 \u0000 \u00002\u00003\u00000\u00009\u00006\u0000 \u0000 \u0000 \u0000 \u0000 \u0000 \u0000 \u00000\u0000.\u00002\u00000\u0000 \u0000 \u0000 \u00007\u00001\u00002\u00004\u0000 \u0000 \u0000 \u00005\u0000 \u0000b\u0000a\u0000c\u0000k\u0000g\u0000r\u0000o\u0000u\u0000n\u0000d\u0000T\u0000a\u0000s\u0000k\u0000H\u0000o\u0000s\u0000t\u0000 \u0000 \u0000 \u0000 \u0000 \u0000 \u0000 \u0000 \u0000 \u0000 \u0000 \u0000 \u0000 \u0000 \u0000 \u0000 \u0000\n",
      "\n",
      "\u0000\n",
      "\n",
      "\u0000 \u0000 \u0000 \u0000 \u00002\u00002\u00001\u0000 \u0000 \u0000 \u0000 \u0000 \u0000 \u00001\u00004\u0000 \u0000 \u0000 \u0000 \u00001\u00006\u00006\u00007\u00006\u0000 \u0000 \u0000 \u0000 \u0000 \u0000 \u00003\u00006\u00002\u00006\u00000\u0000 \u0000 \u0000 \u0000 \u0000 \u0000 \u0000 \u00000\u0000.\u00001\u00009\u0000 \u0000 \u0000 \u00001\u00003\u00001\u00006\u0000 \u0000 \u0000 \u00005\u0000 \u0000c\u0000h\u0000r\u0000o\u0000m\u0000e\u0000 \u0000 \u0000 \u0000 \u0000 \u0000 \u0000 \u0000 \u0000 \u0000 \u0000 \u0000 \u0000 \u0000 \u0000 \u0000 \u0000 \u0000 \u0000 \u0000 \u0000 \u0000 \u0000 \u0000 \u0000 \u0000 \u0000 \u0000 \u0000\n",
      "\n",
      "\u0000\n",
      "\n",
      "\u0000 \u0000 \u0000 \u0000 \u00002\u00009\u00000\u0000 \u0000 \u0000 \u0000 \u0000 \u0000 \u00001\u00007\u0000 \u0000 \u0000 \u0000 \u00003\u00003\u00004\u00008\u00004\u0000 \u0000 \u0000 \u0000 \u0000 \u0000 \u00006\u00006\u00009\u00001\u00006\u0000 \u0000 \u0000 \u0000 \u0000 \u0000 \u0000 \u00001\u0000.\u00004\u00007\u0000 \u0000 \u0000 \u00001\u00007\u00004\u00008\u0000 \u0000 \u0000 \u00005\u0000 \u0000c\u0000h\u0000r\u0000o\u0000m\u0000e\u0000 \u0000 \u0000 \u0000 \u0000 \u0000 \u0000 \u0000 \u0000 \u0000 \u0000 \u0000 \u0000 \u0000 \u0000 \u0000 \u0000 \u0000 \u0000 \u0000 \u0000 \u0000 \u0000 \u0000 \u0000 \u0000 \u0000 \u0000 \u0000\n",
      "\n",
      "\u0000\n",
      "\n",
      "\u0000 \u0000 \u0000 \u0000 \u00003\u00005\u00007\u0000 \u0000 \u0000 \u0000 \u0000 \u0000 \u00002\u00001\u0000 \u0000 \u0000 \u0000 \u00006\u00003\u00001\u00002\u00008\u0000 \u0000 \u0000 \u0000 \u0000 \u00001\u00000\u00003\u00002\u00008\u00008\u0000 \u0000 \u0000 \u0000 \u0000 \u0000 \u00001\u00008\u0000.\u00002\u00007\u0000 \u0000 \u0000 \u00003\u00001\u00008\u00008\u0000 \u0000 \u0000 \u00005\u0000 \u0000c\u0000h\u0000r\u0000o\u0000m\u0000e\u0000 \u0000 \u0000 \u0000 \u0000 \u0000 \u0000 \u0000 \u0000 \u0000 \u0000 \u0000 \u0000 \u0000 \u0000 \u0000 \u0000 \u0000 \u0000 \u0000 \u0000 \u0000 \u0000 \u0000 \u0000 \u0000 \u0000 \u0000 \u0000\n",
      "\n",
      "\u0000\n",
      "\n",
      "\u0000 \u0000 \u0000 \u00001\u00004\u00003\u00000\u0000 \u0000 \u0000 \u0000 \u0000 \u0000 \u00005\u00005\u0000 \u0000 \u0000 \u00001\u00000\u00006\u00005\u00006\u00008\u0000 \u0000 \u0000 \u0000 \u0000 \u00001\u00008\u00000\u00009\u00008\u00008\u0000 \u0000 \u0000 \u0000 \u0000 \u0000 \u00001\u00002\u0000.\u00000\u00009\u0000 \u0000 \u0000 \u00003\u00003\u00005\u00006\u0000 \u0000 \u0000 \u00005\u0000 \u0000c\u0000h\u0000r\u0000o\u0000m\u0000e\u0000 \u0000 \u0000 \u0000 \u0000 \u0000 \u0000 \u0000 \u0000 \u0000 \u0000 \u0000 \u0000 \u0000 \u0000 \u0000 \u0000 \u0000 \u0000 \u0000 \u0000 \u0000 \u0000 \u0000 \u0000 \u0000 \u0000 \u0000 \u0000\n",
      "\n",
      "\u0000\n",
      "\n",
      "\u0000 \u0000 \u0000 \u0000 \u00002\u00009\u00000\u0000 \u0000 \u0000 \u0000 \u0000 \u0000 \u00001\u00007\u0000 \u0000 \u0000 \u0000 \u0000 \u00009\u00004\u00008\u00000\u0000 \u0000 \u0000 \u0000 \u0000 \u0000 \u00001\u00009\u00002\u00004\u00004\u0000 \u0000 \u0000 \u0000 \u0000 \u0000 \u0000 \u00000\u0000.\u00003\u00009\u0000 \u0000 \u0000 \u00005\u00008\u00000\u00008\u0000 \u0000 \u0000 \u00005\u0000 \u0000c\u0000h\u0000r\u0000o\u0000m\u0000e\u0000 \u0000 \u0000 \u0000 \u0000 \u0000 \u0000 \u0000 \u0000 \u0000 \u0000 \u0000 \u0000 \u0000 \u0000 \u0000 \u0000 \u0000 \u0000 \u0000 \u0000 \u0000 \u0000 \u0000 \u0000 \u0000 \u0000 \u0000 \u0000\n",
      "\n",
      "\u0000\n",
      "\n",
      "\u0000 \u0000 \u0000 \u0000 \u00004\u00009\u00009\u0000 \u0000 \u0000 \u0000 \u0000 \u0000 \u00002\u00004\u0000 \u0000 \u0000 \u0000 \u00008\u00006\u00007\u00006\u00004\u0000 \u0000 \u0000 \u0000 \u0000 \u00001\u00000\u00000\u00000\u00003\u00002\u0000 \u0000 \u0000 \u0000 \u0000 \u0000 \u0000 \u00006\u0000.\u00007\u00002\u0000 \u0000 \u0000 \u00006\u00008\u00007\u00006\u0000 \u0000 \u0000 \u00005\u0000 \u0000c\u0000h\u0000r\u0000o\u0000m\u0000e\u0000 \u0000 \u0000 \u0000 \u0000 \u0000 \u0000 \u0000 \u0000 \u0000 \u0000 \u0000 \u0000 \u0000 \u0000 \u0000 \u0000 \u0000 \u0000 \u0000 \u0000 \u0000 \u0000 \u0000 \u0000 \u0000 \u0000 \u0000 \u0000\n",
      "\n",
      "\u0000\n",
      "\n",
      "\u0000 \u0000 \u0000 \u0000 \u00001\u00006\u00007\u0000 \u0000 \u0000 \u0000 \u0000 \u0000 \u0000 \u00009\u0000 \u0000 \u0000 \u0000 \u0000 \u00001\u00009\u00007\u00006\u0000 \u0000 \u0000 \u0000 \u0000 \u0000 \u0000 \u00006\u00008\u00008\u00004\u0000 \u0000 \u0000 \u0000 \u0000 \u0000 \u0000 \u00000\u0000.\u00000\u00005\u0000 \u0000 \u0000 \u00008\u00001\u00002\u00000\u0000 \u0000 \u0000 \u00005\u0000 \u0000c\u0000h\u0000r\u0000o\u0000m\u0000e\u0000 \u0000 \u0000 \u0000 \u0000 \u0000 \u0000 \u0000 \u0000 \u0000 \u0000 \u0000 \u0000 \u0000 \u0000 \u0000 \u0000 \u0000 \u0000 \u0000 \u0000 \u0000 \u0000 \u0000 \u0000 \u0000 \u0000 \u0000 \u0000\n",
      "\n",
      "\u0000\n",
      "\n",
      "\u0000 \u0000 \u0000 \u0000 \u00003\u00008\u00002\u0000 \u0000 \u0000 \u0000 \u0000 \u0000 \u00002\u00009\u0000 \u0000 \u0000 \u0000 \u00001\u00007\u00004\u00009\u00006\u0000 \u0000 \u0000 \u0000 \u0000 \u0000 \u00003\u00006\u00002\u00009\u00006\u0000 \u0000 \u0000 \u0000 \u0000 \u0000 \u0000 \u00002\u0000.\u00005\u00002\u0000 \u0000 \u0000 \u00008\u00001\u00009\u00006\u0000 \u0000 \u0000 \u00005\u0000 \u0000c\u0000h\u0000r\u0000o\u0000m\u0000e\u0000 \u0000 \u0000 \u0000 \u0000 \u0000 \u0000 \u0000 \u0000 \u0000 \u0000 \u0000 \u0000 \u0000 \u0000 \u0000 \u0000 \u0000 \u0000 \u0000 \u0000 \u0000 \u0000 \u0000 \u0000 \u0000 \u0000 \u0000 \u0000\n",
      "\n",
      "\u0000\n",
      "\n",
      "\u0000 \u0000 \u0000 \u0000 \u00002\u00003\u00000\u0000 \u0000 \u0000 \u0000 \u0000 \u0000 \u00001\u00004\u0000 \u0000 \u0000 \u0000 \u00001\u00000\u00006\u00004\u00008\u0000 \u0000 \u0000 \u0000 \u0000 \u0000 \u00001\u00007\u00009\u00006\u00004\u0000 \u0000 \u0000 \u0000 \u0000 \u0000 \u0000 \u00000\u0000.\u00001\u00004\u0000 \u0000 \u0000 \u00008\u00008\u00000\u00008\u0000 \u0000 \u0000 \u00005\u0000 \u0000c\u0000h\u0000r\u0000o\u0000m\u0000e\u0000 \u0000 \u0000 \u0000 \u0000 \u0000 \u0000 \u0000 \u0000 \u0000 \u0000 \u0000 \u0000 \u0000 \u0000 \u0000 \u0000 \u0000 \u0000 \u0000 \u0000 \u0000 \u0000 \u0000 \u0000 \u0000 \u0000 \u0000 \u0000\n",
      "\n",
      "\u0000\n",
      "\n",
      "\u0000 \u0000 \u0000 \u0000 \u00002\u00000\u00008\u0000 \u0000 \u0000 \u0000 \u0000 \u0000 \u00001\u00004\u0000 \u0000 \u0000 \u0000 \u00001\u00004\u00009\u00002\u00008\u0000 \u0000 \u0000 \u0000 \u0000 \u0000 \u00002\u00004\u00005\u00008\u00008\u0000 \u0000 \u0000 \u0000 \u0000 \u0000 \u0000 \u00000\u0000.\u00001\u00003\u0000 \u0000 \u00001\u00003\u00002\u00003\u00006\u0000 \u0000 \u0000 \u00005\u0000 \u0000c\u0000h\u0000r\u0000o\u0000m\u0000e\u0000 \u0000 \u0000 \u0000 \u0000 \u0000 \u0000 \u0000 \u0000 \u0000 \u0000 \u0000 \u0000 \u0000 \u0000 \u0000 \u0000 \u0000 \u0000 \u0000 \u0000 \u0000 \u0000 \u0000 \u0000 \u0000 \u0000 \u0000 \u0000\n",
      "\n",
      "\u0000\n",
      "\n",
      "\u0000 \u0000 \u0000 \u0000 \u00002\u00006\u00002\u0000 \u0000 \u0000 \u0000 \u0000 \u0000 \u00001\u00004\u0000 \u0000 \u0000 \u0000 \u0000 \u00005\u00008\u00008\u00000\u0000 \u0000 \u0000 \u0000 \u0000 \u0000 \u00001\u00005\u00008\u00000\u00000\u0000 \u0000 \u0000 \u0000 \u0000 \u0000 \u0000 \u00000\u0000.\u00005\u00002\u0000 \u0000 \u0000 \u00001\u00007\u00005\u00006\u0000 \u0000 \u0000 \u00005\u0000 \u0000c\u0000o\u0000n\u0000h\u0000o\u0000s\u0000t\u0000 \u0000 \u0000 \u0000 \u0000 \u0000 \u0000 \u0000 \u0000 \u0000 \u0000 \u0000 \u0000 \u0000 \u0000 \u0000 \u0000 \u0000 \u0000 \u0000 \u0000 \u0000 \u0000 \u0000 \u0000 \u0000 \u0000 \u0000\n",
      "\n",
      "\u0000\n",
      "\n",
      "\u0000 \u0000 \u0000 \u0000 \u00002\u00006\u00005\u0000 \u0000 \u0000 \u0000 \u0000 \u0000 \u00001\u00004\u0000 \u0000 \u0000 \u0000 \u0000 \u00009\u00006\u00008\u00008\u0000 \u0000 \u0000 \u0000 \u0000 \u0000 \u00002\u00000\u00003\u00003\u00006\u0000 \u0000 \u0000 \u0000 \u0000 \u0000 \u0000 \u00000\u0000.\u00001\u00009\u0000 \u0000 \u0000 \u00003\u00008\u00000\u00000\u0000 \u0000 \u0000 \u00005\u0000 \u0000c\u0000o\u0000n\u0000h\u0000o\u0000s\u0000t\u0000 \u0000 \u0000 \u0000 \u0000 \u0000 \u0000 \u0000 \u0000 \u0000 \u0000 \u0000 \u0000 \u0000 \u0000 \u0000 \u0000 \u0000 \u0000 \u0000 \u0000 \u0000 \u0000 \u0000 \u0000 \u0000 \u0000 \u0000\n",
      "\n",
      "\u0000\n",
      "\n",
      "\u0000 \u0000 \u0000 \u0000 \u00001\u00004\u00003\u0000 \u0000 \u0000 \u0000 \u0000 \u0000 \u00001\u00000\u0000 \u0000 \u0000 \u0000 \u0000 \u00006\u00007\u00001\u00002\u0000 \u0000 \u0000 \u0000 \u0000 \u0000 \u0000 \u00001\u00007\u00005\u00006\u0000 \u0000 \u0000 \u0000 \u0000 \u0000 \u0000 \u0000 \u0000 \u0000 \u0000 \u0000 \u0000 \u0000 \u00006\u00003\u00009\u00006\u0000 \u0000 \u0000 \u00000\u0000 \u0000c\u0000o\u0000n\u0000h\u0000o\u0000s\u0000t\u0000 \u0000 \u0000 \u0000 \u0000 \u0000 \u0000 \u0000 \u0000 \u0000 \u0000 \u0000 \u0000 \u0000 \u0000 \u0000 \u0000 \u0000 \u0000 \u0000 \u0000 \u0000 \u0000 \u0000 \u0000 \u0000 \u0000 \u0000\n",
      "\n",
      "\u0000\n",
      "\n",
      "\u0000 \u0000 \u0000 \u0000 \u00003\u00008\u00008\u0000 \u0000 \u0000 \u0000 \u0000 \u0000 \u00002\u00000\u0000 \u0000 \u0000 \u0000 \u0000 \u00006\u00008\u00008\u00004\u0000 \u0000 \u0000 \u0000 \u0000 \u0000 \u00001\u00007\u00006\u00000\u00000\u0000 \u0000 \u0000 \u0000 \u0000 \u0000 \u0000 \u00000\u0000.\u00007\u00003\u0000 \u0000 \u0000 \u00006\u00005\u00006\u00000\u0000 \u0000 \u0000 \u00005\u0000 \u0000C\u0000p\u0000t\u0000H\u0000o\u0000s\u0000t\u0000 \u0000 \u0000 \u0000 \u0000 \u0000 \u0000 \u0000 \u0000 \u0000 \u0000 \u0000 \u0000 \u0000 \u0000 \u0000 \u0000 \u0000 \u0000 \u0000 \u0000 \u0000 \u0000 \u0000 \u0000 \u0000 \u0000 \u0000\n",
      "\n",
      "\u0000\n",
      "\n",
      "\u0000 \u0000 \u0000 \u0000 \u00007\u00003\u00003\u0000 \u0000 \u0000 \u0000 \u0000 \u0000 \u00002\u00005\u0000 \u0000 \u0000 \u0000 \u0000 \u00001\u00009\u00004\u00000\u0000 \u0000 \u0000 \u0000 \u0000 \u0000 \u0000 \u00003\u00003\u00007\u00006\u0000 \u0000 \u0000 \u0000 \u0000 \u0000 \u0000 \u0000 \u0000 \u0000 \u0000 \u0000 \u0000 \u0000 \u0000 \u00006\u00006\u00008\u0000 \u0000 \u0000 \u00000\u0000 \u0000c\u0000s\u0000r\u0000s\u0000s\u0000 \u0000 \u0000 \u0000 \u0000 \u0000 \u0000 \u0000 \u0000 \u0000 \u0000 \u0000 \u0000 \u0000 \u0000 \u0000 \u0000 \u0000 \u0000 \u0000 \u0000 \u0000 \u0000 \u0000 \u0000 \u0000 \u0000 \u0000 \u0000 \u0000\n",
      "\n",
      "\u0000\n",
      "\n",
      "\u0000 \u0000 \u0000 \u0000 \u00006\u00002\u00001\u0000 \u0000 \u0000 \u0000 \u0000 \u0000 \u00002\u00000\u0000 \u0000 \u0000 \u0000 \u0000 \u00002\u00004\u00000\u00000\u0000 \u0000 \u0000 \u0000 \u0000 \u0000 \u0000 \u00005\u00009\u00001\u00002\u0000 \u0000 \u0000 \u0000 \u0000 \u0000 \u0000 \u0000 \u0000 \u0000 \u0000 \u0000 \u0000 \u0000 \u00008\u00007\u00006\u00008\u0000 \u0000 \u0000 \u00005\u0000 \u0000c\u0000s\u0000r\u0000s\u0000s\u0000 \u0000 \u0000 \u0000 \u0000 \u0000 \u0000 \u0000 \u0000 \u0000 \u0000 \u0000 \u0000 \u0000 \u0000 \u0000 \u0000 \u0000 \u0000 \u0000 \u0000 \u0000 \u0000 \u0000 \u0000 \u0000 \u0000 \u0000 \u0000 \u0000\n",
      "\n",
      "\u0000\n",
      "\n",
      "\u0000 \u0000 \u0000 \u0000 \u00004\u00001\u00006\u0000 \u0000 \u0000 \u0000 \u0000 \u0000 \u00001\u00005\u0000 \u0000 \u0000 \u0000 \u0000 \u00003\u00006\u00009\u00002\u0000 \u0000 \u0000 \u0000 \u0000 \u0000 \u00001\u00004\u00004\u00003\u00002\u0000 \u0000 \u0000 \u0000 \u0000 \u0000 \u0000 \u00001\u0000.\u00003\u00004\u0000 \u0000 \u00001\u00001\u00000\u00003\u00006\u0000 \u0000 \u0000 \u00005\u0000 \u0000c\u0000t\u0000f\u0000m\u0000o\u0000n\u0000 \u0000 \u0000 \u0000 \u0000 \u0000 \u0000 \u0000 \u0000 \u0000 \u0000 \u0000 \u0000 \u0000 \u0000 \u0000 \u0000 \u0000 \u0000 \u0000 \u0000 \u0000 \u0000 \u0000 \u0000 \u0000 \u0000 \u0000 \u0000\n",
      "\n",
      "\u0000\n",
      "\n",
      "\u0000 \u0000 \u0000 \u0000 \u00002\u00003\u00008\u0000 \u0000 \u0000 \u0000 \u0000 \u0000 \u00002\u00003\u0000 \u0000 \u0000 \u0000 \u0000 \u00005\u00005\u00007\u00002\u0000 \u0000 \u0000 \u0000 \u0000 \u0000 \u00001\u00002\u00006\u00002\u00008\u0000 \u0000 \u0000 \u0000 \u0000 \u0000 \u0000 \u00000\u0000.\u00002\u00005\u0000 \u0000 \u0000 \u00006\u00008\u00004\u00000\u0000 \u0000 \u0000 \u00005\u0000 \u0000d\u0000l\u0000l\u0000h\u0000o\u0000s\u0000t\u0000 \u0000 \u0000 \u0000 \u0000 \u0000 \u0000 \u0000 \u0000 \u0000 \u0000 \u0000 \u0000 \u0000 \u0000 \u0000 \u0000 \u0000 \u0000 \u0000 \u0000 \u0000 \u0000 \u0000 \u0000 \u0000 \u0000 \u0000\n",
      "\n",
      "\u0000\n",
      "\n",
      "\u0000 \u0000 \u0000 \u0000 \u0000 \u00008\u00001\u0000 \u0000 \u0000 \u0000 \u0000 \u0000 \u0000 \u00006\u0000 \u0000 \u0000 \u0000 \u0000 \u00001\u00004\u00001\u00006\u0000 \u0000 \u0000 \u0000 \u0000 \u0000 \u0000 \u00004\u00005\u00002\u00000\u0000 \u0000 \u0000 \u0000 \u0000 \u0000 \u0000 \u00000\u0000.\u00000\u00003\u0000 \u0000 \u0000 \u00008\u00002\u00003\u00002\u0000 \u0000 \u0000 \u00005\u0000 \u0000d\u0000p\u0000t\u0000f\u0000_\u0000h\u0000e\u0000l\u0000p\u0000e\u0000r\u0000 \u0000 \u0000 \u0000 \u0000 \u0000 \u0000 \u0000 \u0000 \u0000 \u0000 \u0000 \u0000 \u0000 \u0000 \u0000 \u0000 \u0000 \u0000 \u0000 \u0000 \u0000 \u0000 \u0000\n",
      "\n",
      "\u0000\n",
      "\n",
      "\u0000 \u0000 \u0000 \u0000 \u00009\u00001\u00003\u0000 \u0000 \u0000 \u0000 \u0000 \u0000 \u00003\u00004\u0000 \u0000 \u0000 \u0000 \u00006\u00009\u00001\u00004\u00004\u0000 \u0000 \u0000 \u0000 \u0000 \u0000 \u00009\u00002\u00008\u00006\u00000\u0000 \u0000 \u0000 \u0000 \u0000 \u0000 \u0000 \u0000 \u0000 \u0000 \u0000 \u0000 \u0000 \u00001\u00000\u00008\u00009\u00006\u0000 \u0000 \u0000 \u00005\u0000 \u0000d\u0000w\u0000m\u0000 \u0000 \u0000 \u0000 \u0000 \u0000 \u0000 \u0000 \u0000 \u0000 \u0000 \u0000 \u0000 \u0000 \u0000 \u0000 \u0000 \u0000 \u0000 \u0000 \u0000 \u0000 \u0000 \u0000 \u0000 \u0000 \u0000 \u0000 \u0000 \u0000 \u0000 \u0000\n",
      "\n",
      "\u0000\n",
      "\n",
      "\u0000 \u0000 \u0000 \u0000 \u00006\u00009\u00003\u0000 \u0000 \u0000 \u0000 \u0000 \u0000 \u00008\u00008\u0000 \u0000 \u0000 \u00001\u00008\u00007\u00005\u00007\u00006\u0000 \u0000 \u0000 \u0000 \u0000 \u00001\u00004\u00002\u00001\u00002\u00008\u0000 \u0000 \u0000 \u0000 \u0000 \u0000 \u0000 \u00007\u0000.\u00005\u00006\u0000 \u0000 \u00001\u00000\u00009\u00006\u00000\u0000 \u0000 \u0000 \u00005\u0000 \u0000E\u0000p\u0000i\u0000c\u0000G\u0000a\u0000m\u0000e\u0000s\u0000L\u0000a\u0000u\u0000n\u0000c\u0000h\u0000e\u0000r\u0000 \u0000 \u0000 \u0000 \u0000 \u0000 \u0000 \u0000 \u0000 \u0000 \u0000 \u0000 \u0000 \u0000 \u0000 \u0000 \u0000 \u0000\n",
      "\n",
      "\u0000\n",
      "\n",
      "\u0000 \u0000 \u0000 \u0000 \u00002\u00009\u00003\u0000 \u0000 \u0000 \u0000 \u0000 \u0000 \u00002\u00000\u0000 \u0000 \u0000 \u0000 \u00002\u00000\u00008\u00004\u00008\u0000 \u0000 \u0000 \u0000 \u0000 \u0000 \u00003\u00000\u00000\u00001\u00002\u0000 \u0000 \u0000 \u0000 \u0000 \u0000 \u0000 \u00000\u0000.\u00001\u00004\u0000 \u0000 \u00001\u00001\u00009\u00007\u00002\u0000 \u0000 \u0000 \u00005\u0000 \u0000E\u0000p\u0000i\u0000c\u0000W\u0000e\u0000b\u0000H\u0000e\u0000l\u0000p\u0000e\u0000r\u0000 \u0000 \u0000 \u0000 \u0000 \u0000 \u0000 \u0000 \u0000 \u0000 \u0000 \u0000 \u0000 \u0000 \u0000 \u0000 \u0000 \u0000 \u0000 \u0000 \u0000 \u0000\n",
      "\n",
      "\u0000\n",
      "\n",
      "\u0000 \u0000 \u0000 \u0000 \u00004\u00003\u00006\u0000 \u0000 \u0000 \u0000 \u0000 \u0000 \u00002\u00004\u0000 \u0000 \u0000 \u0000 \u00003\u00005\u00001\u00008\u00004\u0000 \u0000 \u0000 \u0000 \u0000 \u0000 \u00003\u00005\u00004\u00007\u00002\u0000 \u0000 \u0000 \u0000 \u0000 \u0000 \u0000 \u00000\u0000.\u00002\u00000\u0000 \u0000 \u00001\u00002\u00005\u00006\u00000\u0000 \u0000 \u0000 \u00005\u0000 \u0000E\u0000p\u0000i\u0000c\u0000W\u0000e\u0000b\u0000H\u0000e\u0000l\u0000p\u0000e\u0000r\u0000 \u0000 \u0000 \u0000 \u0000 \u0000 \u0000 \u0000 \u0000 \u0000 \u0000 \u0000 \u0000 \u0000 \u0000 \u0000 \u0000 \u0000 \u0000 \u0000 \u0000 \u0000\n",
      "\n",
      "\u0000\n",
      "\n",
      "\u0000 \u0000 \u0000 \u0000 \u00001\u00002\u00009\u0000 \u0000 \u0000 \u0000 \u0000 \u0000 \u0000 \u00008\u0000 \u0000 \u0000 \u0000 \u0000 \u00001\u00008\u00007\u00006\u0000 \u0000 \u0000 \u0000 \u0000 \u0000 \u0000 \u00003\u00000\u00001\u00006\u0000 \u0000 \u0000 \u0000 \u0000 \u0000 \u0000 \u0000 \u0000 \u0000 \u0000 \u0000 \u0000 \u0000 \u00003\u00003\u00001\u00006\u0000 \u0000 \u0000 \u00000\u0000 \u0000e\u0000s\u0000i\u0000f\u0000_\u0000u\u0000f\u0000 \u0000 \u0000 \u0000 \u0000 \u0000 \u0000 \u0000 \u0000 \u0000 \u0000 \u0000 \u0000 \u0000 \u0000 \u0000 \u0000 \u0000 \u0000 \u0000 \u0000 \u0000 \u0000 \u0000 \u0000 \u0000 \u0000 \u0000\n",
      "\n",
      "\u0000\n",
      "\n",
      "\u0000 \u0000 \u0000 \u00002\u00004\u00001\u00005\u0000 \u0000 \u0000 \u0000 \u0000 \u0000 \u00008\u00000\u0000 \u0000 \u0000 \u0000 \u00006\u00008\u00005\u00002\u00004\u0000 \u0000 \u0000 \u0000 \u0000 \u00001\u00003\u00001\u00001\u00000\u00000\u0000 \u0000 \u0000 \u0000 \u0000 \u0000 \u00002\u00002\u0000.\u00000\u00006\u0000 \u0000 \u0000 \u00005\u00001\u00004\u00000\u0000 \u0000 \u0000 \u00005\u0000 \u0000e\u0000x\u0000p\u0000l\u0000o\u0000r\u0000e\u0000r\u0000 \u0000 \u0000 \u0000 \u0000 \u0000 \u0000 \u0000 \u0000 \u0000 \u0000 \u0000 \u0000 \u0000 \u0000 \u0000 \u0000 \u0000 \u0000 \u0000 \u0000 \u0000 \u0000 \u0000 \u0000 \u0000 \u0000\n",
      "\n",
      "\u0000\n",
      "\n",
      "\u0000 \u0000 \u0000 \u0000 \u0000 \u00003\u00002\u0000 \u0000 \u0000 \u0000 \u0000 \u0000 \u0000 \u00005\u0000 \u0000 \u0000 \u0000 \u0000 \u00001\u00005\u00007\u00002\u0000 \u0000 \u0000 \u0000 \u0000 \u0000 \u0000 \u00001\u00001\u00000\u00008\u0000 \u0000 \u0000 \u0000 \u0000 \u0000 \u0000 \u0000 \u0000 \u0000 \u0000 \u0000 \u0000 \u0000 \u0000 \u00006\u00003\u00006\u0000 \u0000 \u0000 \u00000\u0000 \u0000f\u0000o\u0000n\u0000t\u0000d\u0000r\u0000v\u0000h\u0000o\u0000s\u0000t\u0000 \u0000 \u0000 \u0000 \u0000 \u0000 \u0000 \u0000 \u0000 \u0000 \u0000 \u0000 \u0000 \u0000 \u0000 \u0000 \u0000 \u0000 \u0000 \u0000 \u0000 \u0000 \u0000 \u0000\n",
      "\n",
      "\u0000\n",
      "\n",
      "\u0000 \u0000 \u0000 \u0000 \u0000 \u00003\u00002\u0000 \u0000 \u0000 \u0000 \u0000 \u0000 \u0000 \u00006\u0000 \u0000 \u0000 \u0000 \u0000 \u00002\u00000\u00000\u00004\u0000 \u0000 \u0000 \u0000 \u0000 \u0000 \u0000 \u00005\u00000\u00008\u00008\u0000 \u0000 \u0000 \u0000 \u0000 \u0000 \u0000 \u0000 \u0000 \u0000 \u0000 \u0000 \u0000 \u0000 \u00002\u00003\u00005\u00006\u0000 \u0000 \u0000 \u00005\u0000 \u0000f\u0000o\u0000n\u0000t\u0000d\u0000r\u0000v\u0000h\u0000o\u0000s\u0000t\u0000 \u0000 \u0000 \u0000 \u0000 \u0000 \u0000 \u0000 \u0000 \u0000 \u0000 \u0000 \u0000 \u0000 \u0000 \u0000 \u0000 \u0000 \u0000 \u0000 \u0000 \u0000 \u0000 \u0000\n",
      "\n",
      "\u0000\n",
      "\n",
      "\u0000 \u0000 \u0000 \u0000 \u00001\u00009\u00001\u0000 \u0000 \u0000 \u0000 \u0000 \u0000 \u00001\u00001\u0000 \u0000 \u0000 \u0000 \u0000 \u00001\u00007\u00004\u00008\u0000 \u0000 \u0000 \u0000 \u0000 \u0000 \u0000 \u0000 \u00008\u00008\u00004\u0000 \u0000 \u0000 \u0000 \u0000 \u0000 \u0000 \u0000 \u0000 \u0000 \u0000 \u0000 \u0000 \u0000 \u00006\u00005\u00006\u00004\u0000 \u0000 \u0000 \u00000\u0000 \u0000G\u0000o\u0000o\u0000g\u0000l\u0000e\u0000C\u0000r\u0000a\u0000s\u0000h\u0000H\u0000a\u0000n\u0000d\u0000l\u0000e\u0000r\u0000 \u0000 \u0000 \u0000 \u0000 \u0000 \u0000 \u0000 \u0000 \u0000 \u0000 \u0000 \u0000 \u0000 \u0000 \u0000 \u0000\n",
      "\n",
      "\u0000\n",
      "\n",
      "\u0000 \u0000 \u0000 \u0000 \u00001\u00006\u00000\u0000 \u0000 \u0000 \u0000 \u0000 \u0000 \u0000 \u00009\u0000 \u0000 \u0000 \u0000 \u0000 \u00001\u00007\u00000\u00008\u0000 \u0000 \u0000 \u0000 \u0000 \u0000 \u0000 \u0000 \u00008\u00006\u00004\u0000 \u0000 \u0000 \u0000 \u0000 \u0000 \u0000 \u0000 \u0000 \u0000 \u0000 \u0000 \u0000 \u0000 \u00001\u00009\u00004\u00008\u0000 \u0000 \u0000 \u00000\u0000 \u0000G\u0000o\u0000o\u0000g\u0000l\u0000e\u0000C\u0000r\u0000a\u0000s\u0000h\u0000H\u0000a\u0000n\u0000d\u0000l\u0000e\u0000r\u00006\u00004\u0000 \u0000 \u0000 \u0000 \u0000 \u0000 \u0000 \u0000 \u0000 \u0000 \u0000 \u0000 \u0000 \u0000 \u0000\n",
      "\n",
      "\u0000\n",
      "\n",
      "\u0000 \u0000 \u0000 \u0000 \u00002\u00001\u00005\u0000 \u0000 \u0000 \u0000 \u0000 \u0000 \u00001\u00003\u0000 \u0000 \u0000 \u0000 \u0000 \u00002\u00000\u00004\u00000\u0000 \u0000 \u0000 \u0000 \u0000 \u0000 \u0000 \u0000 \u00009\u00007\u00002\u0000 \u0000 \u0000 \u0000 \u0000 \u0000 \u0000 \u0000 \u0000 \u0000 \u0000 \u0000 \u0000 \u00001\u00001\u00006\u00002\u00008\u0000 \u0000 \u0000 \u00000\u0000 \u0000G\u0000o\u0000o\u0000g\u0000l\u0000e\u0000U\u0000p\u0000d\u0000a\u0000t\u0000e\u0000 \u0000 \u0000 \u0000 \u0000 \u0000 \u0000 \u0000 \u0000 \u0000 \u0000 \u0000 \u0000 \u0000 \u0000 \u0000 \u0000 \u0000 \u0000 \u0000 \u0000 \u0000 \u0000\n",
      "\n",
      "\u0000\n",
      "\n",
      "\u0000 \u0000 \u0000 \u0000 \u00005\u00004\u00009\u0000 \u0000 \u0000 \u0000 \u0000 \u0000 \u00001\u00007\u0000 \u0000 \u0000 \u0000 \u00003\u00001\u00007\u00006\u00004\u0000 \u0000 \u0000 \u0000 \u0000 \u0000 \u0000 \u00009\u00004\u00000\u00004\u0000 \u0000 \u0000 \u0000 \u0000 \u0000 \u0000 \u0000 \u0000 \u0000 \u0000 \u0000 \u0000 \u0000 \u00004\u00009\u00003\u00002\u0000 \u0000 \u0000 \u00000\u0000 \u0000H\u0000P\u0000S\u0000u\u0000p\u0000p\u0000o\u0000r\u0000t\u0000S\u0000o\u0000l\u0000u\u0000t\u0000i\u0000o\u0000n\u0000s\u0000F\u0000r\u0000a\u0000m\u0000e\u0000w\u0000o\u0000r\u0000k\u0000S\u0000e\u0000r\u0000v\u0000i\u0000c\u0000e\u0000\n",
      "\n",
      "\u0000\n",
      "\n",
      "\u0000 \u0000 \u0000 \u0000 \u0000 \u0000 \u00000\u0000 \u0000 \u0000 \u0000 \u0000 \u0000 \u0000 \u00000\u0000 \u0000 \u0000 \u0000 \u0000 \u0000 \u0000 \u00006\u00000\u0000 \u0000 \u0000 \u0000 \u0000 \u0000 \u0000 \u0000 \u0000 \u0000 \u00008\u0000 \u0000 \u0000 \u0000 \u0000 \u0000 \u0000 \u0000 \u0000 \u0000 \u0000 \u0000 \u0000 \u0000 \u0000 \u0000 \u0000 \u00000\u0000 \u0000 \u0000 \u00000\u0000 \u0000I\u0000d\u0000l\u0000e\u0000 \u0000 \u0000 \u0000 \u0000 \u0000 \u0000 \u0000 \u0000 \u0000 \u0000 \u0000 \u0000 \u0000 \u0000 \u0000 \u0000 \u0000 \u0000 \u0000 \u0000 \u0000 \u0000 \u0000 \u0000 \u0000 \u0000 \u0000 \u0000 \u0000 \u0000\n",
      "\n",
      "\u0000\n",
      "\n",
      "\u0000 \u0000 \u0000 \u0000 \u00002\u00002\u00002\u0000 \u0000 \u0000 \u0000 \u0000 \u0000 \u00001\u00001\u0000 \u0000 \u0000 \u0000 \u0000 \u00002\u00009\u00000\u00000\u0000 \u0000 \u0000 \u0000 \u0000 \u0000 \u0000 \u00005\u00002\u00001\u00006\u0000 \u0000 \u0000 \u0000 \u0000 \u0000 \u0000 \u0000 \u0000 \u0000 \u0000 \u0000 \u0000 \u0000 \u00002\u00008\u00007\u00002\u0000 \u0000 \u0000 \u00000\u0000 \u0000i\u0000g\u0000f\u0000x\u0000C\u0000U\u0000I\u0000S\u0000e\u0000r\u0000v\u0000i\u0000c\u0000e\u0000 \u0000 \u0000 \u0000 \u0000 \u0000 \u0000 \u0000 \u0000 \u0000 \u0000 \u0000 \u0000 \u0000 \u0000 \u0000 \u0000 \u0000 \u0000 \u0000 \u0000\n",
      "\n",
      "\u0000\n",
      "\n",
      "\u0000 \u0000 \u0000 \u0000 \u00002\u00001\u00006\u0000 \u0000 \u0000 \u0000 \u0000 \u0000 \u00001\u00004\u0000 \u0000 \u0000 \u0000 \u0000 \u00003\u00005\u00000\u00004\u0000 \u0000 \u0000 \u0000 \u0000 \u0000 \u00001\u00002\u00004\u00004\u00000\u0000 \u0000 \u0000 \u0000 \u0000 \u0000 \u0000 \u00000\u0000.\u00001\u00006\u0000 \u0000 \u0000 \u00005\u00008\u00006\u00000\u0000 \u0000 \u0000 \u00005\u0000 \u0000i\u0000g\u0000f\u0000x\u0000E\u0000M\u0000 \u0000 \u0000 \u0000 \u0000 \u0000 \u0000 \u0000 \u0000 \u0000 \u0000 \u0000 \u0000 \u0000 \u0000 \u0000 \u0000 \u0000 \u0000 \u0000 \u0000 \u0000 \u0000 \u0000 \u0000 \u0000 \u0000 \u0000 \u0000\n",
      "\n",
      "\u0000\n",
      "\n",
      "\u0000 \u0000 \u0000 \u0000 \u00001\u00004\u00005\u0000 \u0000 \u0000 \u0000 \u0000 \u0000 \u00001\u00000\u0000 \u0000 \u0000 \u0000 \u0000 \u00002\u00003\u00005\u00006\u0000 \u0000 \u0000 \u0000 \u0000 \u0000 \u0000 \u00009\u00000\u00004\u00008\u0000 \u0000 \u0000 \u0000 \u0000 \u0000 \u0000 \u00000\u0000.\u00000\u00008\u0000 \u0000 \u0000 \u00008\u00003\u00008\u00000\u0000 \u0000 \u0000 \u00005\u0000 \u0000i\u0000g\u0000f\u0000x\u0000H\u0000K\u0000 \u0000 \u0000 \u0000 \u0000 \u0000 \u0000 \u0000 \u0000 \u0000 \u0000 \u0000 \u0000 \u0000 \u0000 \u0000 \u0000 \u0000 \u0000 \u0000 \u0000 \u0000 \u0000 \u0000 \u0000 \u0000 \u0000 \u0000 \u0000\n",
      "\n",
      "\u0000\n",
      "\n",
      "\u0000 \u0000 \u0000 \u0000 \u00001\u00009\u00009\u0000 \u0000 \u0000 \u0000 \u0000 \u0000 \u00001\u00003\u0000 \u0000 \u0000 \u0000 \u0000 \u00003\u00000\u00005\u00006\u0000 \u0000 \u0000 \u0000 \u0000 \u0000 \u00001\u00001\u00002\u00008\u00008\u0000 \u0000 \u0000 \u0000 \u0000 \u0000 \u0000 \u00000\u0000.\u00003\u00009\u0000 \u0000 \u00001\u00001\u00009\u00002\u00000\u0000 \u0000 \u0000 \u00005\u0000 \u0000i\u0000g\u0000f\u0000x\u0000T\u0000r\u0000a\u0000y\u0000 \u0000 \u0000 \u0000 \u0000 \u0000 \u0000 \u0000 \u0000 \u0000 \u0000 \u0000 \u0000 \u0000 \u0000 \u0000 \u0000 \u0000 \u0000 \u0000 \u0000 \u0000 \u0000 \u0000 \u0000 \u0000 \u0000\n",
      "\n",
      "\u0000\n",
      "\n",
      "\u0000 \u0000 \u0000 \u0000 \u00003\u00006\u00002\u0000 \u0000 \u0000 \u0000 \u0000 \u0000 \u00001\u00007\u0000 \u0000 \u0000 \u0000 \u0000 \u00003\u00000\u00006\u00004\u0000 \u0000 \u0000 \u0000 \u0000 \u0000 \u00001\u00003\u00008\u00007\u00002\u0000 \u0000 \u0000 \u0000 \u0000 \u0000 \u0000 \u00000\u0000.\u00002\u00003\u0000 \u0000 \u0000 \u00006\u00004\u00005\u00002\u0000 \u0000 \u0000 \u00005\u0000 \u0000j\u0000u\u0000c\u0000h\u0000e\u0000c\u0000k\u0000 \u0000 \u0000 \u0000 \u0000 \u0000 \u0000 \u0000 \u0000 \u0000 \u0000 \u0000 \u0000 \u0000 \u0000 \u0000 \u0000 \u0000 \u0000 \u0000 \u0000 \u0000 \u0000 \u0000 \u0000 \u0000 \u0000 \u0000\n",
      "\n",
      "\u0000\n",
      "\n",
      "\u0000 \u0000 \u0000 \u0000 \u00002\u00006\u00007\u0000 \u0000 \u0000 \u0000 \u0000 \u0000 \u00001\u00005\u0000 \u0000 \u0000 \u0000 \u0000 \u00002\u00003\u00002\u00000\u0000 \u0000 \u0000 \u0000 \u0000 \u0000 \u00001\u00005\u00000\u00006\u00000\u0000 \u0000 \u0000 \u0000 \u0000 \u0000 \u0000 \u00000\u0000.\u00000\u00009\u0000 \u0000 \u00001\u00000\u00002\u00008\u00000\u0000 \u0000 \u0000 \u00005\u0000 \u0000j\u0000u\u0000s\u0000c\u0000h\u0000e\u0000d\u0000 \u0000 \u0000 \u0000 \u0000 \u0000 \u0000 \u0000 \u0000 \u0000 \u0000 \u0000 \u0000 \u0000 \u0000 \u0000 \u0000 \u0000 \u0000 \u0000 \u0000 \u0000 \u0000 \u0000 \u0000 \u0000 \u0000 \u0000\n",
      "\n",
      "\u0000\n",
      "\n",
      "\u0000 \u0000 \u0000 \u0000 \u0000 \u00009\u00002\u0000 \u0000 \u0000 \u0000 \u0000 \u0000 \u0000 \u00009\u0000 \u0000 \u0000 \u0000 \u0000 \u0000 \u00009\u00003\u00002\u0000 \u0000 \u0000 \u0000 \u0000 \u0000 \u0000 \u00001\u00000\u00004\u00004\u0000 \u0000 \u0000 \u0000 \u0000 \u0000 \u0000 \u0000 \u0000 \u0000 \u0000 \u0000 \u0000 \u0000 \u00003\u00004\u00008\u00000\u0000 \u0000 \u0000 \u00000\u0000 \u0000K\u0000M\u0000S\u0000S\u0000S\u0000 \u0000 \u0000 \u0000 \u0000 \u0000 \u0000 \u0000 \u0000 \u0000 \u0000 \u0000 \u0000 \u0000 \u0000 \u0000 \u0000 \u0000 \u0000 \u0000 \u0000 \u0000 \u0000 \u0000 \u0000 \u0000 \u0000 \u0000 \u0000 \u0000\n",
      "\n",
      "\u0000\n",
      "\n",
      "\u0000 \u0000 \u0000 \u0000 \u00005\u00000\u00008\u0000 \u0000 \u0000 \u0000 \u0000 \u0000 \u00002\u00004\u0000 \u0000 \u0000 \u0000 \u00001\u00005\u00005\u00009\u00002\u0000 \u0000 \u0000 \u0000 \u0000 \u0000 \u00004\u00007\u00004\u00007\u00002\u0000 \u0000 \u0000 \u0000 \u0000 \u0000 \u0000 \u00000\u0000.\u00005\u00003\u0000 \u0000 \u0000 \u00001\u00002\u00007\u00002\u0000 \u0000 \u0000 \u00005\u0000 \u0000L\u0000o\u0000c\u0000k\u0000A\u0000p\u0000p\u0000 \u0000 \u0000 \u0000 \u0000 \u0000 \u0000 \u0000 \u0000 \u0000 \u0000 \u0000 \u0000 \u0000 \u0000 \u0000 \u0000 \u0000 \u0000 \u0000 \u0000 \u0000 \u0000 \u0000 \u0000 \u0000 \u0000 \u0000\n",
      "\n",
      "\u0000\n",
      "\n",
      "\u0000 \u0000 \u0000 \u00001\u00005\u00009\u00005\u0000 \u0000 \u0000 \u0000 \u0000 \u0000 \u00002\u00004\u0000 \u0000 \u0000 \u0000 \u0000 \u00008\u00001\u00009\u00002\u0000 \u0000 \u0000 \u0000 \u0000 \u0000 \u00001\u00004\u00000\u00009\u00006\u0000 \u0000 \u0000 \u0000 \u0000 \u0000 \u0000 \u0000 \u0000 \u0000 \u0000 \u0000 \u0000 \u0000 \u0000 \u00008\u00005\u00002\u0000 \u0000 \u0000 \u00000\u0000 \u0000l\u0000s\u0000a\u0000s\u0000s\u0000 \u0000 \u0000 \u0000 \u0000 \u0000 \u0000 \u0000 \u0000 \u0000 \u0000 \u0000 \u0000 \u0000 \u0000 \u0000 \u0000 \u0000 \u0000 \u0000 \u0000 \u0000 \u0000 \u0000 \u0000 \u0000 \u0000 \u0000 \u0000 \u0000\n",
      "\n",
      "\u0000\n",
      "\n",
      "\u0000 \u0000 \u0000 \u0000 \u0000 \u0000 \u00000\u0000 \u0000 \u0000 \u0000 \u0000 \u0000 \u0000 \u00000\u0000 \u0000 \u0000 \u0000 \u0000 \u00002\u00001\u00006\u00008\u0000 \u0000 \u0000 \u0000 \u0000 \u00003\u00009\u00009\u00006\u00004\u00000\u0000 \u0000 \u0000 \u0000 \u0000 \u0000 \u0000 \u0000 \u0000 \u0000 \u0000 \u0000 \u0000 \u0000 \u00002\u00007\u00007\u00002\u0000 \u0000 \u0000 \u00000\u0000 \u0000M\u0000e\u0000m\u0000o\u0000r\u0000y\u0000 \u0000C\u0000o\u0000m\u0000p\u0000r\u0000e\u0000s\u0000s\u0000i\u0000o\u0000n\u0000 \u0000 \u0000 \u0000 \u0000 \u0000 \u0000 \u0000 \u0000 \u0000 \u0000 \u0000 \u0000 \u0000 \u0000 \u0000 \u0000\n",
      "\n",
      "\u0000\n",
      "\n",
      "\u0000 \u0000 \u0000 \u0000 \u00002\u00001\u00001\u0000 \u0000 \u0000 \u0000 \u0000 \u0000 \u00001\u00002\u0000 \u0000 \u0000 \u0000 \u0000 \u00001\u00009\u00000\u00004\u0000 \u0000 \u0000 \u0000 \u0000 \u0000 \u0000 \u0000 \u00009\u00006\u00000\u0000 \u0000 \u0000 \u0000 \u0000 \u0000 \u0000 \u0000 \u0000 \u0000 \u0000 \u0000 \u0000 \u00001\u00000\u00003\u00009\u00006\u0000 \u0000 \u0000 \u00000\u0000 \u0000M\u0000i\u0000c\u0000r\u0000o\u0000s\u0000o\u0000f\u0000t\u0000E\u0000d\u0000g\u0000e\u0000U\u0000p\u0000d\u0000a\u0000t\u0000e\u0000 \u0000 \u0000 \u0000 \u0000 \u0000 \u0000 \u0000 \u0000 \u0000 \u0000 \u0000 \u0000 \u0000 \u0000 \u0000\n",
      "\n",
      "\u0000\n",
      "\n",
      "\u0000 \u0000 \u0000 \u0000 \u00002\u00008\u00008\u0000 \u0000 \u0000 \u0000 \u0000 \u0000 \u00002\u00003\u0000 \u0000 \u0000 \u00001\u00008\u00002\u00000\u00005\u00002\u0000 \u0000 \u0000 \u0000 \u0000 \u0000 \u00001\u00005\u00004\u00003\u00002\u0000 \u0000 \u0000 \u0000 \u0000 \u0000 \u0000 \u0000 \u0000 \u0000 \u0000 \u0000 \u0000 \u0000 \u00004\u00009\u00004\u00008\u0000 \u0000 \u0000 \u00000\u0000 \u0000m\u0000o\u0000n\u0000g\u0000o\u0000d\u0000 \u0000 \u0000 \u0000 \u0000 \u0000 \u0000 \u0000 \u0000 \u0000 \u0000 \u0000 \u0000 \u0000 \u0000 \u0000 \u0000 \u0000 \u0000 \u0000 \u0000 \u0000 \u0000 \u0000 \u0000 \u0000 \u0000 \u0000 \u0000\n",
      "\n",
      "\u0000\n",
      "\n",
      "\u0000 \u0000 \u0000 \u0000 \u00001\u00007\u00004\u0000 \u0000 \u0000 \u0000 \u0000 \u0000 \u00001\u00002\u0000 \u0000 \u0000 \u0000 \u0000 \u00006\u00004\u00008\u00004\u0000 \u0000 \u0000 \u0000 \u0000 \u0000 \u00001\u00004\u00000\u00008\u00004\u0000 \u0000 \u0000 \u0000 \u0000 \u0000 \u0000 \u00000\u0000.\u00001\u00009\u0000 \u0000 \u0000 \u00002\u00004\u00006\u00004\u0000 \u0000 \u0000 \u00005\u0000 \u0000m\u0000s\u0000e\u0000d\u0000g\u0000e\u0000 \u0000 \u0000 \u0000 \u0000 \u0000 \u0000 \u0000 \u0000 \u0000 \u0000 \u0000 \u0000 \u0000 \u0000 \u0000 \u0000 \u0000 \u0000 \u0000 \u0000 \u0000 \u0000 \u0000 \u0000 \u0000 \u0000 \u0000 \u0000\n",
      "\n",
      "\u0000\n",
      "\n",
      "\u0000 \u0000 \u0000 \u0000 \u00004\u00000\u00006\u0000 \u0000 \u0000 \u0000 \u0000 \u0000 \u00002\u00004\u0000 \u0000 \u0000 \u00001\u00000\u00007\u00004\u00005\u00006\u0000 \u0000 \u0000 \u0000 \u0000 \u00001\u00004\u00003\u00000\u00006\u00000\u0000 \u0000 \u0000 \u0000 \u0000 \u0000 \u0000 \u00009\u0000.\u00006\u00006\u0000 \u0000 \u0000 \u00003\u00007\u00001\u00002\u0000 \u0000 \u0000 \u00005\u0000 \u0000m\u0000s\u0000e\u0000d\u0000g\u0000e\u0000 \u0000 \u0000 \u0000 \u0000 \u0000 \u0000 \u0000 \u0000 \u0000 \u0000 \u0000 \u0000 \u0000 \u0000 \u0000 \u0000 \u0000 \u0000 \u0000 \u0000 \u0000 \u0000 \u0000 \u0000 \u0000 \u0000 \u0000 \u0000\n",
      "\n",
      "\u0000\n",
      "\n",
      "\u0000 \u0000 \u0000 \u0000 \u00004\u00007\u00003\u0000 \u0000 \u0000 \u0000 \u0000 \u0000 \u00002\u00008\u0000 \u0000 \u0000 \u0000 \u00005\u00005\u00009\u00007\u00002\u0000 \u0000 \u0000 \u0000 \u0000 \u0000 \u00007\u00008\u00000\u00008\u00000\u0000 \u0000 \u0000 \u0000 \u0000 \u0000 \u0000 \u00003\u0000.\u00007\u00005\u0000 \u0000 \u0000 \u00005\u00000\u00007\u00002\u0000 \u0000 \u0000 \u00005\u0000 \u0000m\u0000s\u0000e\u0000d\u0000g\u0000e\u0000 \u0000 \u0000 \u0000 \u0000 \u0000 \u0000 \u0000 \u0000 \u0000 \u0000 \u0000 \u0000 \u0000 \u0000 \u0000 \u0000 \u0000 \u0000 \u0000 \u0000 \u0000 \u0000 \u0000 \u0000 \u0000 \u0000 \u0000 \u0000\n",
      "\n",
      "\u0000\n",
      "\n",
      "\u0000 \u0000 \u0000 \u0000 \u00002\u00006\u00001\u0000 \u0000 \u0000 \u0000 \u0000 \u0000 \u00001\u00005\u0000 \u0000 \u0000 \u0000 \u0000 \u00006\u00000\u00000\u00008\u0000 \u0000 \u0000 \u0000 \u0000 \u0000 \u00001\u00007\u00000\u00003\u00002\u0000 \u0000 \u0000 \u0000 \u0000 \u0000 \u0000 \u00000\u0000.\u00001\u00006\u0000 \u0000 \u0000 \u00006\u00007\u00008\u00000\u0000 \u0000 \u0000 \u00005\u0000 \u0000m\u0000s\u0000e\u0000d\u0000g\u0000e\u0000 \u0000 \u0000 \u0000 \u0000 \u0000 \u0000 \u0000 \u0000 \u0000 \u0000 \u0000 \u0000 \u0000 \u0000 \u0000 \u0000 \u0000 \u0000 \u0000 \u0000 \u0000 \u0000 \u0000 \u0000 \u0000 \u0000 \u0000 \u0000\n",
      "\n",
      "\u0000\n",
      "\n",
      "\u0000 \u0000 \u0000 \u0000 \u00004\u00008\u00005\u0000 \u0000 \u0000 \u0000 \u0000 \u0000 \u00002\u00005\u0000 \u0000 \u0000 \u00001\u00001\u00003\u00007\u00003\u00006\u0000 \u0000 \u0000 \u0000 \u0000 \u00001\u00003\u00002\u00008\u00006\u00008\u0000 \u0000 \u0000 \u0000 \u0000 \u0000 \u00001\u00001\u0000.\u00004\u00007\u0000 \u0000 \u0000 \u00007\u00002\u00006\u00004\u0000 \u0000 \u0000 \u00005\u0000 \u0000m\u0000s\u0000e\u0000d\u0000g\u0000e\u0000 \u0000 \u0000 \u0000 \u0000 \u0000 \u0000 \u0000 \u0000 \u0000 \u0000 \u0000 \u0000 \u0000 \u0000 \u0000 \u0000 \u0000 \u0000 \u0000 \u0000 \u0000 \u0000 \u0000 \u0000 \u0000 \u0000 \u0000 \u0000\n",
      "\n",
      "\u0000\n",
      "\n",
      "\u0000 \u0000 \u0000 \u0000 \u00003\u00002\u00003\u0000 \u0000 \u0000 \u0000 \u0000 \u0000 \u00002\u00005\u0000 \u0000 \u0000 \u0000 \u00009\u00002\u00006\u00002\u00000\u0000 \u0000 \u0000 \u0000 \u0000 \u00001\u00003\u00000\u00002\u00003\u00002\u0000 \u0000 \u0000 \u0000 \u0000 \u0000 \u00002\u00004\u0000.\u00005\u00003\u0000 \u0000 \u0000 \u00008\u00000\u00002\u00000\u0000 \u0000 \u0000 \u00005\u0000 \u0000m\u0000s\u0000e\u0000d\u0000g\u0000e\u0000 \u0000 \u0000 \u0000 \u0000 \u0000 \u0000 \u0000 \u0000 \u0000 \u0000 \u0000 \u0000 \u0000 \u0000 \u0000 \u0000 \u0000 \u0000 \u0000 \u0000 \u0000 \u0000 \u0000 \u0000 \u0000 \u0000 \u0000 \u0000\n",
      "\n",
      "\u0000\n",
      "\n",
      "\u0000 \u0000 \u0000 \u00001\u00004\u00002\u00005\u0000 \u0000 \u0000 \u0000 \u0000 \u0000 \u00006\u00000\u0000 \u0000 \u0000 \u0000 \u00004\u00006\u00000\u00006\u00004\u0000 \u0000 \u0000 \u0000 \u0000 \u00001\u00003\u00006\u00003\u00005\u00002\u0000 \u0000 \u0000 \u0000 \u0000 \u0000 \u00001\u00002\u0000.\u00008\u00009\u0000 \u0000 \u0000 \u00008\u00001\u00000\u00004\u0000 \u0000 \u0000 \u00005\u0000 \u0000m\u0000s\u0000e\u0000d\u0000g\u0000e\u0000 \u0000 \u0000 \u0000 \u0000 \u0000 \u0000 \u0000 \u0000 \u0000 \u0000 \u0000 \u0000 \u0000 \u0000 \u0000 \u0000 \u0000 \u0000 \u0000 \u0000 \u0000 \u0000 \u0000 \u0000 \u0000 \u0000 \u0000 \u0000\n",
      "\n",
      "\u0000\n",
      "\n",
      "\u0000 \u0000 \u0000 \u0000 \u00001\u00006\u00001\u0000 \u0000 \u0000 \u0000 \u0000 \u0000 \u0000 \u00009\u0000 \u0000 \u0000 \u0000 \u0000 \u00001\u00006\u00006\u00008\u0000 \u0000 \u0000 \u0000 \u0000 \u0000 \u0000 \u00006\u00006\u00002\u00008\u0000 \u0000 \u0000 \u0000 \u0000 \u0000 \u0000 \u00000\u0000.\u00000\u00005\u0000 \u0000 \u0000 \u00009\u00002\u00000\u00000\u0000 \u0000 \u0000 \u00005\u0000 \u0000m\u0000s\u0000e\u0000d\u0000g\u0000e\u0000 \u0000 \u0000 \u0000 \u0000 \u0000 \u0000 \u0000 \u0000 \u0000 \u0000 \u0000 \u0000 \u0000 \u0000 \u0000 \u0000 \u0000 \u0000 \u0000 \u0000 \u0000 \u0000 \u0000 \u0000 \u0000 \u0000 \u0000 \u0000\n",
      "\n",
      "\u0000\n",
      "\n",
      "\u0000 \u0000 \u0000 \u0000 \u00002\u00001\u00009\u0000 \u0000 \u0000 \u0000 \u0000 \u0000 \u00001\u00004\u0000 \u0000 \u0000 \u0000 \u00001\u00001\u00004\u00009\u00006\u0000 \u0000 \u0000 \u0000 \u0000 \u0000 \u00002\u00003\u00004\u00007\u00002\u0000 \u0000 \u0000 \u0000 \u0000 \u0000 \u0000 \u00000\u0000.\u00001\u00006\u0000 \u0000 \u00001\u00001\u00004\u00006\u00000\u0000 \u0000 \u0000 \u00005\u0000 \u0000m\u0000s\u0000e\u0000d\u0000g\u0000e\u0000 \u0000 \u0000 \u0000 \u0000 \u0000 \u0000 \u0000 \u0000 \u0000 \u0000 \u0000 \u0000 \u0000 \u0000 \u0000 \u0000 \u0000 \u0000 \u0000 \u0000 \u0000 \u0000 \u0000 \u0000 \u0000 \u0000 \u0000 \u0000\n",
      "\n",
      "\u0000\n",
      "\n",
      "\u0000 \u0000 \u0000 \u00008\u00000\u00007\u00005\u0000 \u0000 \u0000 \u0000 \u0000 \u0000 \u00009\u00002\u0000 \u0000 \u00001\u00009\u00002\u00008\u00003\u00001\u00002\u0000 \u0000 \u0000 \u0000 \u0000 \u00004\u00008\u00005\u00003\u00009\u00002\u0000 \u0000 \u0000 \u0000 \u0000 \u0000 \u0000 \u0000 \u0000 \u0000 \u0000 \u0000 \u0000 \u0000 \u00004\u00007\u00002\u00008\u0000 \u0000 \u0000 \u00000\u0000 \u0000M\u0000s\u0000M\u0000p\u0000E\u0000n\u0000g\u0000 \u0000 \u0000 \u0000 \u0000 \u0000 \u0000 \u0000 \u0000 \u0000 \u0000 \u0000 \u0000 \u0000 \u0000 \u0000 \u0000 \u0000 \u0000 \u0000 \u0000 \u0000 \u0000 \u0000 \u0000 \u0000 \u0000 \u0000\n",
      "\n",
      "\u0000\n",
      "\n",
      "\u0000 \u0000 \u0000 \u0000 \u00001\u00004\u00001\u0000 \u0000 \u0000 \u0000 \u0000 \u0000 \u0000 \u00009\u0000 \u0000 \u0000 \u0000 \u00002\u00001\u00008\u00007\u00002\u0000 \u0000 \u0000 \u0000 \u0000 \u0000 \u0000 \u00001\u00006\u00006\u00000\u0000 \u0000 \u0000 \u0000 \u0000 \u0000 \u0000 \u0000 \u0000 \u0000 \u0000 \u0000 \u0000 \u0000 \u00005\u00002\u00009\u00006\u0000 \u0000 \u0000 \u00000\u0000 \u0000m\u0000y\u0000s\u0000q\u0000l\u0000d\u0000 \u0000 \u0000 \u0000 \u0000 \u0000 \u0000 \u0000 \u0000 \u0000 \u0000 \u0000 \u0000 \u0000 \u0000 \u0000 \u0000 \u0000 \u0000 \u0000 \u0000 \u0000 \u0000 \u0000 \u0000 \u0000 \u0000 \u0000 \u0000\n",
      "\n",
      "\u0000\n",
      "\n",
      "\u0000 \u0000 \u0000 \u0000 \u00006\u00004\u00006\u0000 \u0000 \u0000 \u0000 \u0000 \u0000 \u00002\u00007\u0000 \u0000 \u0000 \u00003\u00004\u00006\u00007\u00000\u00000\u0000 \u0000 \u0000 \u0000 \u0000 \u0000 \u00003\u00000\u00005\u00004\u00008\u0000 \u0000 \u0000 \u0000 \u0000 \u0000 \u0000 \u0000 \u0000 \u0000 \u0000 \u0000 \u0000 \u0000 \u00006\u00003\u00008\u00008\u0000 \u0000 \u0000 \u00000\u0000 \u0000m\u0000y\u0000s\u0000q\u0000l\u0000d\u0000 \u0000 \u0000 \u0000 \u0000 \u0000 \u0000 \u0000 \u0000 \u0000 \u0000 \u0000 \u0000 \u0000 \u0000 \u0000 \u0000 \u0000 \u0000 \u0000 \u0000 \u0000 \u0000 \u0000 \u0000 \u0000 \u0000 \u0000 \u0000\n",
      "\n",
      "\u0000\n",
      "\n",
      "\u0000 \u0000 \u0000 \u0000 \u00001\u00009\u00002\u0000 \u0000 \u0000 \u0000 \u0000 \u0000 \u00001\u00001\u0000 \u0000 \u0000 \u0000 \u0000 \u00005\u00000\u00002\u00000\u0000 \u0000 \u0000 \u0000 \u0000 \u0000 \u0000 \u00004\u00008\u00001\u00006\u0000 \u0000 \u0000 \u0000 \u0000 \u0000 \u0000 \u0000 \u0000 \u0000 \u0000 \u0000 \u0000 \u0000 \u00005\u00009\u00009\u00002\u0000 \u0000 \u0000 \u00000\u0000 \u0000N\u0000i\u0000s\u0000S\u0000r\u0000v\u0000 \u0000 \u0000 \u0000 \u0000 \u0000 \u0000 \u0000 \u0000 \u0000 \u0000 \u0000 \u0000 \u0000 \u0000 \u0000 \u0000 \u0000 \u0000 \u0000 \u0000 \u0000 \u0000 \u0000 \u0000 \u0000 \u0000 \u0000 \u0000\n",
      "\n",
      "\u0000\n",
      "\n",
      "\u0000 \u0000 \u0000 \u0000 \u00002\u00007\u00008\u0000 \u0000 \u0000 \u0000 \u0000 \u0000 \u00001\u00002\u0000 \u0000 \u0000 \u0000 \u0000 \u00003\u00005\u00009\u00002\u0000 \u0000 \u0000 \u0000 \u0000 \u0000 \u0000 \u00007\u00001\u00009\u00002\u0000 \u0000 \u0000 \u0000 \u0000 \u0000 \u0000 \u0000 \u0000 \u0000 \u0000 \u0000 \u0000 \u0000 \u00002\u00005\u00000\u00000\u0000 \u0000 \u0000 \u00000\u0000 \u0000N\u0000V\u0000D\u0000i\u0000s\u0000p\u0000l\u0000a\u0000y\u0000.\u0000C\u0000o\u0000n\u0000t\u0000a\u0000i\u0000n\u0000e\u0000r\u0000 \u0000 \u0000 \u0000 \u0000 \u0000 \u0000 \u0000 \u0000 \u0000 \u0000 \u0000 \u0000 \u0000 \u0000 \u0000\n",
      "\n",
      "\u0000\n",
      "\n",
      "\u0000 \u0000 \u0000 \u0000 \u00005\u00009\u00006\u0000 \u0000 \u0000 \u0000 \u0000 \u0000 \u00002\u00003\u0000 \u0000 \u0000 \u0000 \u00002\u00004\u00007\u00006\u00000\u0000 \u0000 \u0000 \u0000 \u0000 \u0000 \u00002\u00008\u00005\u00000\u00000\u0000 \u0000 \u0000 \u0000 \u0000 \u0000 \u0000 \u0000 \u0000 \u0000 \u0000 \u0000 \u0000 \u0000 \u00007\u00009\u00006\u00000\u0000 \u0000 \u0000 \u00005\u0000 \u0000N\u0000V\u0000D\u0000i\u0000s\u0000p\u0000l\u0000a\u0000y\u0000.\u0000C\u0000o\u0000n\u0000t\u0000a\u0000i\u0000n\u0000e\u0000r\u0000 \u0000 \u0000 \u0000 \u0000 \u0000 \u0000 \u0000 \u0000 \u0000 \u0000 \u0000 \u0000 \u0000 \u0000 \u0000\n",
      "\n",
      "\u0000\n",
      "\n",
      "\u0000 \u0000 \u0000 \u0000 \u00006\u00005\u00007\u0000 \u0000 \u0000 \u0000 \u0000 \u0000 \u00003\u00000\u0000 \u0000 \u0000 \u0000 \u00006\u00004\u00003\u00003\u00002\u0000 \u0000 \u0000 \u0000 \u0000 \u0000 \u00007\u00007\u00003\u00008\u00008\u0000 \u0000 \u0000 \u0000 \u0000 \u0000 \u0000 \u00001\u0000.\u00008\u00009\u0000 \u0000 \u00001\u00002\u00005\u00006\u00008\u0000 \u0000 \u0000 \u00005\u0000 \u0000p\u0000o\u0000w\u0000e\u0000r\u0000s\u0000h\u0000e\u0000l\u0000l\u0000 \u0000 \u0000 \u0000 \u0000 \u0000 \u0000 \u0000 \u0000 \u0000 \u0000 \u0000 \u0000 \u0000 \u0000 \u0000 \u0000 \u0000 \u0000 \u0000 \u0000 \u0000 \u0000 \u0000 \u0000\n",
      "\n",
      "\u0000\n",
      "\n",
      "\u0000 \u0000 \u0000 \u0000 \u00002\u00003\u00001\u0000 \u0000 \u0000 \u0000 \u0000 \u0000 \u00002\u00007\u0000 \u0000 \u0000 \u0000 \u00002\u00004\u00004\u00000\u00004\u0000 \u0000 \u0000 \u0000 \u0000 \u0000 \u0000 \u00003\u00009\u00000\u00000\u0000 \u0000 \u0000 \u0000 \u0000 \u0000 \u0000 \u0000 \u0000 \u0000 \u0000 \u0000 \u0000 \u0000 \u00006\u00008\u00006\u00008\u0000 \u0000 \u0000 \u00000\u0000 \u0000P\u0000r\u0000e\u0000s\u0000e\u0000n\u0000t\u0000a\u0000t\u0000i\u0000o\u0000n\u0000F\u0000o\u0000n\u0000t\u0000C\u0000a\u0000c\u0000h\u0000e\u0000 \u0000 \u0000 \u0000 \u0000 \u0000 \u0000 \u0000 \u0000 \u0000 \u0000 \u0000 \u0000 \u0000\n",
      "\n",
      "\u0000\n",
      "\n",
      "\u0000 \u0000 \u0000 \u0000 \u00002\u00008\u00006\u0000 \u0000 \u0000 \u0000 \u0000 \u0000 \u00007\u00005\u0000 \u0000 \u0000 \u0000 \u00004\u00002\u00006\u00008\u00004\u0000 \u0000 \u0000 \u0000 \u0000 \u0000 \u00005\u00000\u00008\u00009\u00006\u0000 \u0000 \u0000 \u0000 \u0000 \u0000 \u0000 \u00001\u0000.\u00007\u00005\u0000 \u0000 \u0000 \u00007\u00005\u00000\u00008\u0000 \u0000 \u0000 \u00005\u0000 \u0000p\u0000y\u0000t\u0000h\u0000o\u0000n\u0000 \u0000 \u0000 \u0000 \u0000 \u0000 \u0000 \u0000 \u0000 \u0000 \u0000 \u0000 \u0000 \u0000 \u0000 \u0000 \u0000 \u0000 \u0000 \u0000 \u0000 \u0000 \u0000 \u0000 \u0000 \u0000 \u0000 \u0000 \u0000\n",
      "\n",
      "\u0000\n",
      "\n",
      "\u0000 \u0000 \u0000 \u0000 \u00006\u00009\u00003\u0000 \u0000 \u0000 \u0000 \u0000 \u0000 \u00009\u00004\u0000 \u0000 \u0000 \u0000 \u00005\u00008\u00003\u00008\u00004\u0000 \u0000 \u0000 \u0000 \u0000 \u0000 \u00007\u00005\u00003\u00006\u00004\u0000 \u0000 \u0000 \u0000 \u0000 \u0000 \u0000 \u00009\u0000.\u00005\u00002\u0000 \u0000 \u00001\u00000\u00004\u00002\u00000\u0000 \u0000 \u0000 \u00005\u0000 \u0000p\u0000y\u0000t\u0000h\u0000o\u0000n\u0000 \u0000 \u0000 \u0000 \u0000 \u0000 \u0000 \u0000 \u0000 \u0000 \u0000 \u0000 \u0000 \u0000 \u0000 \u0000 \u0000 \u0000 \u0000 \u0000 \u0000 \u0000 \u0000 \u0000 \u0000 \u0000 \u0000 \u0000 \u0000\n",
      "\n",
      "\u0000\n",
      "\n",
      "\u0000 \u0000 \u0000 \u0000 \u00002\u00008\u00008\u0000 \u0000 \u0000 \u0000 \u0000 \u0000 \u00007\u00005\u0000 \u0000 \u0000 \u0000 \u00004\u00002\u00007\u00003\u00002\u0000 \u0000 \u0000 \u0000 \u0000 \u0000 \u00005\u00000\u00009\u00008\u00000\u0000 \u0000 \u0000 \u0000 \u0000 \u0000 \u0000 \u00001\u0000.\u00007\u00005\u0000 \u0000 \u00001\u00001\u00004\u00004\u00000\u0000 \u0000 \u0000 \u00005\u0000 \u0000p\u0000y\u0000t\u0000h\u0000o\u0000n\u0000 \u0000 \u0000 \u0000 \u0000 \u0000 \u0000 \u0000 \u0000 \u0000 \u0000 \u0000 \u0000 \u0000 \u0000 \u0000 \u0000 \u0000 \u0000 \u0000 \u0000 \u0000 \u0000 \u0000 \u0000 \u0000 \u0000 \u0000 \u0000\n",
      "\n",
      "\u0000\n",
      "\n",
      "\u0000 \u0000 \u0000 \u0000 \u00001\u00006\u00004\u0000 \u0000 \u0000 \u0000 \u0000 \u0000 \u00001\u00004\u0000 \u0000 \u0000 \u0000 \u0000 \u00008\u00000\u00007\u00002\u0000 \u0000 \u0000 \u0000 \u0000 \u0000 \u00001\u00004\u00008\u00009\u00002\u0000 \u0000 \u0000 \u0000 \u0000 \u0000 \u0000 \u00000\u0000.\u00001\u00009\u0000 \u0000 \u00001\u00001\u00006\u00009\u00006\u0000 \u0000 \u0000 \u00005\u0000 \u0000p\u0000y\u0000t\u0000h\u0000o\u0000n\u0000 \u0000 \u0000 \u0000 \u0000 \u0000 \u0000 \u0000 \u0000 \u0000 \u0000 \u0000 \u0000 \u0000 \u0000 \u0000 \u0000 \u0000 \u0000 \u0000 \u0000 \u0000 \u0000 \u0000 \u0000 \u0000 \u0000 \u0000 \u0000\n",
      "\n",
      "\u0000\n",
      "\n",
      "\u0000 \u0000 \u0000 \u0000 \u00003\u00001\u00004\u0000 \u0000 \u0000 \u0000 \u0000 \u0000 \u00001\u00005\u0000 \u0000 \u0000 \u0000 \u0000 \u00006\u00002\u00001\u00006\u0000 \u0000 \u0000 \u0000 \u0000 \u0000 \u00001\u00004\u00008\u00007\u00002\u0000 \u0000 \u0000 \u0000 \u0000 \u0000 \u0000 \u0000 \u0000 \u0000 \u0000 \u0000 \u0000 \u0000 \u00008\u00008\u00008\u00008\u0000 \u0000 \u0000 \u00005\u0000 \u0000R\u0000A\u0000V\u0000B\u0000g\u00006\u00004\u0000 \u0000 \u0000 \u0000 \u0000 \u0000 \u0000 \u0000 \u0000 \u0000 \u0000 \u0000 \u0000 \u0000 \u0000 \u0000 \u0000 \u0000 \u0000 \u0000 \u0000 \u0000 \u0000 \u0000 \u0000 \u0000 \u0000 \u0000\n",
      "\n",
      "\u0000\n",
      "\n",
      "\u0000 \u0000 \u0000 \u0000 \u0000 \u0000 \u00000\u0000 \u0000 \u0000 \u0000 \u0000 \u0000 \u00001\u00008\u0000 \u0000 \u0000 \u0000 \u0000 \u00009\u00002\u00005\u00006\u0000 \u0000 \u0000 \u0000 \u0000 \u0000 \u00004\u00000\u00007\u00001\u00002\u0000 \u0000 \u0000 \u0000 \u0000 \u0000 \u0000 \u0000 \u0000 \u0000 \u0000 \u0000 \u0000 \u0000 \u0000 \u0000 \u00009\u00006\u0000 \u0000 \u0000 \u00000\u0000 \u0000R\u0000e\u0000g\u0000i\u0000s\u0000t\u0000r\u0000y\u0000 \u0000 \u0000 \u0000 \u0000 \u0000 \u0000 \u0000 \u0000 \u0000 \u0000 \u0000 \u0000 \u0000 \u0000 \u0000 \u0000 \u0000 \u0000 \u0000 \u0000 \u0000 \u0000 \u0000 \u0000 \u0000 \u0000\n",
      "\n",
      "\u0000\n",
      "\n",
      "\u0000 \u0000 \u0000 \u0000 \u00002\u00002\u00006\u0000 \u0000 \u0000 \u0000 \u0000 \u0000 \u00001\u00001\u0000 \u0000 \u0000 \u0000 \u0000 \u00002\u00002\u00008\u00000\u0000 \u0000 \u0000 \u0000 \u0000 \u0000 \u0000 \u00004\u00005\u00004\u00000\u0000 \u0000 \u0000 \u0000 \u0000 \u0000 \u0000 \u0000 \u0000 \u0000 \u0000 \u0000 \u0000 \u0000 \u00003\u00001\u00007\u00006\u0000 \u0000 \u0000 \u00000\u0000 \u0000R\u0000t\u0000k\u0000A\u0000u\u0000d\u0000i\u0000o\u0000S\u0000e\u0000r\u0000v\u0000i\u0000c\u0000e\u00006\u00004\u0000 \u0000 \u0000 \u0000 \u0000 \u0000 \u0000 \u0000 \u0000 \u0000 \u0000 \u0000 \u0000 \u0000 \u0000 \u0000 \u0000 \u0000\n",
      "\n",
      "\u0000\n",
      "\n",
      "\u0000 \u0000 \u0000 \u00007\u00008\u00001\u00002\u0000 \u0000 \u0000 \u0000 \u0000 \u0000 \u0000 \u00008\u0000 \u0000 \u0000 \u0000 \u0000 \u00002\u00000\u00008\u00004\u0000 \u0000 \u0000 \u0000 \u0000 \u0000 \u0000 \u00003\u00005\u00006\u00000\u0000 \u0000 \u0000 \u0000 \u0000 \u0000 \u0000 \u0000 \u0000 \u0000 \u0000 \u0000 \u0000 \u0000 \u00003\u00004\u00004\u00004\u0000 \u0000 \u0000 \u00000\u0000 \u0000R\u0000t\u0000k\u0000B\u0000t\u0000M\u0000a\u0000n\u0000S\u0000e\u0000r\u0000v\u0000 \u0000 \u0000 \u0000 \u0000 \u0000 \u0000 \u0000 \u0000 \u0000 \u0000 \u0000 \u0000 \u0000 \u0000 \u0000 \u0000 \u0000 \u0000 \u0000 \u0000 \u0000 \u0000\n",
      "\n",
      "\u0000\n",
      "\n",
      "\u0000 \u0000 \u0000 \u0000 \u00004\u00009\u00003\u0000 \u0000 \u0000 \u0000 \u0000 \u0000 \u00001\u00007\u0000 \u0000 \u0000 \u0000 \u00001\u00000\u00007\u00002\u00000\u0000 \u0000 \u0000 \u0000 \u0000 \u0000 \u00002\u00000\u00006\u00008\u00000\u0000 \u0000 \u0000 \u0000 \u0000 \u0000 \u0000 \u00000\u0000.\u00005\u00000\u0000 \u0000 \u0000 \u00004\u00003\u00004\u00000\u0000 \u0000 \u0000 \u00005\u0000 \u0000R\u0000t\u0000k\u0000N\u0000G\u0000U\u0000I\u00006\u00004\u0000 \u0000 \u0000 \u0000 \u0000 \u0000 \u0000 \u0000 \u0000 \u0000 \u0000 \u0000 \u0000 \u0000 \u0000 \u0000 \u0000 \u0000 \u0000 \u0000 \u0000 \u0000 \u0000 \u0000 \u0000 \u0000\n",
      "\n",
      "\u0000\n",
      "\n",
      "\u0000 \u0000 \u0000 \u0000 \u00001\u00003\u00008\u0000 \u0000 \u0000 \u0000 \u0000 \u0000 \u0000 \u00008\u0000 \u0000 \u0000 \u0000 \u0000 \u00002\u00000\u00005\u00002\u0000 \u0000 \u0000 \u0000 \u0000 \u0000 \u0000 \u00007\u00003\u00008\u00004\u0000 \u0000 \u0000 \u0000 \u0000 \u0000 \u0000 \u00000\u0000.\u00000\u00002\u0000 \u0000 \u0000 \u0000 \u00009\u00001\u00006\u0000 \u0000 \u0000 \u00005\u0000 \u0000R\u0000u\u0000n\u0000t\u0000i\u0000m\u0000e\u0000B\u0000r\u0000o\u0000k\u0000e\u0000r\u0000 \u0000 \u0000 \u0000 \u0000 \u0000 \u0000 \u0000 \u0000 \u0000 \u0000 \u0000 \u0000 \u0000 \u0000 \u0000 \u0000 \u0000 \u0000 \u0000 \u0000 \u0000\n",
      "\n",
      "\u0000\n",
      "\n",
      "\u0000 \u0000 \u0000 \u0000 \u00003\u00008\u00005\u0000 \u0000 \u0000 \u0000 \u0000 \u0000 \u00002\u00001\u0000 \u0000 \u0000 \u0000 \u0000 \u00008\u00006\u00005\u00002\u0000 \u0000 \u0000 \u0000 \u0000 \u0000 \u00003\u00001\u00008\u00003\u00002\u0000 \u0000 \u0000 \u0000 \u0000 \u0000 \u0000 \u00001\u0000.\u00000\u00006\u0000 \u0000 \u0000 \u00001\u00009\u00001\u00006\u0000 \u0000 \u0000 \u00005\u0000 \u0000R\u0000u\u0000n\u0000t\u0000i\u0000m\u0000e\u0000B\u0000r\u0000o\u0000k\u0000e\u0000r\u0000 \u0000 \u0000 \u0000 \u0000 \u0000 \u0000 \u0000 \u0000 \u0000 \u0000 \u0000 \u0000 \u0000 \u0000 \u0000 \u0000 \u0000 \u0000 \u0000 \u0000 \u0000\n",
      "\n",
      "\u0000\n",
      "\n",
      "\u0000 \u0000 \u0000 \u0000 \u00006\u00007\u00002\u0000 \u0000 \u0000 \u0000 \u0000 \u0000 \u00003\u00002\u0000 \u0000 \u0000 \u0000 \u00001\u00002\u00003\u00003\u00006\u0000 \u0000 \u0000 \u0000 \u0000 \u0000 \u00004\u00001\u00003\u00000\u00008\u0000 \u0000 \u0000 \u0000 \u0000 \u0000 \u0000 \u00001\u0000.\u00005\u00006\u0000 \u0000 \u0000 \u00003\u00009\u00006\u00000\u0000 \u0000 \u0000 \u00005\u0000 \u0000R\u0000u\u0000n\u0000t\u0000i\u0000m\u0000e\u0000B\u0000r\u0000o\u0000k\u0000e\u0000r\u0000 \u0000 \u0000 \u0000 \u0000 \u0000 \u0000 \u0000 \u0000 \u0000 \u0000 \u0000 \u0000 \u0000 \u0000 \u0000 \u0000 \u0000 \u0000 \u0000 \u0000 \u0000\n",
      "\n",
      "\u0000\n",
      "\n",
      "\u0000 \u0000 \u0000 \u0000 \u00002\u00002\u00000\u0000 \u0000 \u0000 \u0000 \u0000 \u0000 \u00001\u00002\u0000 \u0000 \u0000 \u0000 \u0000 \u00002\u00007\u00003\u00006\u0000 \u0000 \u0000 \u0000 \u0000 \u0000 \u00001\u00006\u00001\u00006\u00004\u0000 \u0000 \u0000 \u0000 \u0000 \u0000 \u0000 \u00000\u0000.\u00000\u00005\u0000 \u0000 \u0000 \u00006\u00006\u00002\u00008\u0000 \u0000 \u0000 \u00005\u0000 \u0000R\u0000u\u0000n\u0000t\u0000i\u0000m\u0000e\u0000B\u0000r\u0000o\u0000k\u0000e\u0000r\u0000 \u0000 \u0000 \u0000 \u0000 \u0000 \u0000 \u0000 \u0000 \u0000 \u0000 \u0000 \u0000 \u0000 \u0000 \u0000 \u0000 \u0000 \u0000 \u0000 \u0000 \u0000\n",
      "\n",
      "\u0000\n",
      "\n",
      "\u0000 \u0000 \u0000 \u0000 \u00002\u00007\u00004\u0000 \u0000 \u0000 \u0000 \u0000 \u0000 \u00001\u00005\u0000 \u0000 \u0000 \u0000 \u0000 \u00005\u00006\u00008\u00000\u0000 \u0000 \u0000 \u0000 \u0000 \u0000 \u00002\u00002\u00001\u00007\u00002\u0000 \u0000 \u0000 \u0000 \u0000 \u0000 \u0000 \u00000\u0000.\u00002\u00007\u0000 \u0000 \u0000 \u00007\u00007\u00004\u00004\u0000 \u0000 \u0000 \u00005\u0000 \u0000R\u0000u\u0000n\u0000t\u0000i\u0000m\u0000e\u0000B\u0000r\u0000o\u0000k\u0000e\u0000r\u0000 \u0000 \u0000 \u0000 \u0000 \u0000 \u0000 \u0000 \u0000 \u0000 \u0000 \u0000 \u0000 \u0000 \u0000 \u0000 \u0000 \u0000 \u0000 \u0000 \u0000 \u0000\n",
      "\n",
      "\u0000\n",
      "\n",
      "\u0000 \u0000 \u0000 \u0000 \u00002\u00006\u00009\u0000 \u0000 \u0000 \u0000 \u0000 \u0000 \u00001\u00005\u0000 \u0000 \u0000 \u0000 \u0000 \u00003\u00007\u00000\u00008\u0000 \u0000 \u0000 \u0000 \u0000 \u0000 \u00001\u00009\u00008\u00008\u00008\u0000 \u0000 \u0000 \u0000 \u0000 \u0000 \u0000 \u00000\u0000.\u00001\u00009\u0000 \u0000 \u0000 \u00007\u00009\u00008\u00004\u0000 \u0000 \u0000 \u00005\u0000 \u0000R\u0000u\u0000n\u0000t\u0000i\u0000m\u0000e\u0000B\u0000r\u0000o\u0000k\u0000e\u0000r\u0000 \u0000 \u0000 \u0000 \u0000 \u0000 \u0000 \u0000 \u0000 \u0000 \u0000 \u0000 \u0000 \u0000 \u0000 \u0000 \u0000 \u0000 \u0000 \u0000 \u0000 \u0000\n",
      "\n",
      "\u0000\n",
      "\n",
      "\u0000 \u0000 \u0000 \u0000 \u00003\u00001\u00002\u0000 \u0000 \u0000 \u0000 \u0000 \u0000 \u00001\u00008\u0000 \u0000 \u0000 \u0000 \u0000 \u00006\u00001\u00008\u00004\u0000 \u0000 \u0000 \u0000 \u0000 \u0000 \u00002\u00003\u00005\u00006\u00008\u0000 \u0000 \u0000 \u0000 \u0000 \u0000 \u0000 \u00000\u0000.\u00008\u00004\u0000 \u0000 \u00001\u00000\u00009\u00002\u00008\u0000 \u0000 \u0000 \u00005\u0000 \u0000R\u0000u\u0000n\u0000t\u0000i\u0000m\u0000e\u0000B\u0000r\u0000o\u0000k\u0000e\u0000r\u0000 \u0000 \u0000 \u0000 \u0000 \u0000 \u0000 \u0000 \u0000 \u0000 \u0000 \u0000 \u0000 \u0000 \u0000 \u0000 \u0000 \u0000 \u0000 \u0000 \u0000 \u0000\n",
      "\n",
      "\u0000\n",
      "\n",
      "\u0000 \u0000 \u0000 \u0000 \u00001\u00002\u00000\u0000 \u0000 \u0000 \u0000 \u0000 \u0000 \u0000 \u00007\u0000 \u0000 \u0000 \u0000 \u0000 \u00001\u00002\u00001\u00002\u0000 \u0000 \u0000 \u0000 \u0000 \u0000 \u0000 \u00006\u00000\u00006\u00004\u0000 \u0000 \u0000 \u0000 \u0000 \u0000 \u0000 \u0000 \u0000 \u0000 \u0000 \u0000 \u0000 \u0000 \u0000 \u00001\u00000\u00004\u0000 \u0000 \u0000 \u00000\u0000 \u0000S\u0000e\u0000a\u0000r\u0000c\u0000h\u0000F\u0000i\u0000l\u0000t\u0000e\u0000r\u0000H\u0000o\u0000s\u0000t\u0000 \u0000 \u0000 \u0000 \u0000 \u0000 \u0000 \u0000 \u0000 \u0000 \u0000 \u0000 \u0000 \u0000 \u0000 \u0000 \u0000 \u0000 \u0000\n",
      "\n",
      "\u0000\n",
      "\n",
      "\u0000 \u0000 \u0000 \u0000 \u00009\u00002\u00007\u0000 \u0000 \u0000 \u0000 \u0000 \u0000 \u00008\u00002\u0000 \u0000 \u0000 \u0000 \u00007\u00001\u00008\u00000\u00000\u0000 \u0000 \u0000 \u0000 \u0000 \u0000 \u00007\u00000\u00009\u00006\u00004\u0000 \u0000 \u0000 \u0000 \u0000 \u0000 \u0000 \u0000 \u0000 \u0000 \u0000 \u0000 \u0000 \u0000 \u00008\u00002\u00003\u00006\u0000 \u0000 \u0000 \u00000\u0000 \u0000S\u0000e\u0000a\u0000r\u0000c\u0000h\u0000I\u0000n\u0000d\u0000e\u0000x\u0000e\u0000r\u0000 \u0000 \u0000 \u0000 \u0000 \u0000 \u0000 \u0000 \u0000 \u0000 \u0000 \u0000 \u0000 \u0000 \u0000 \u0000 \u0000 \u0000 \u0000 \u0000 \u0000 \u0000\n",
      "\n",
      "\u0000\n",
      "\n",
      "\u0000 \u0000 \u0000 \u0000 \u00003\u00007\u00001\u0000 \u0000 \u0000 \u0000 \u0000 \u0000 \u00001\u00002\u0000 \u0000 \u0000 \u0000 \u0000 \u00002\u00003\u00009\u00006\u0000 \u0000 \u0000 \u0000 \u0000 \u0000 \u0000 \u00009\u00007\u00008\u00000\u0000 \u0000 \u0000 \u0000 \u0000 \u0000 \u0000 \u0000 \u0000 \u0000 \u0000 \u0000 \u0000 \u0000 \u00003\u00006\u00001\u00006\u0000 \u0000 \u0000 \u00000\u0000 \u0000S\u0000e\u0000a\u0000r\u0000c\u0000h\u0000P\u0000r\u0000o\u0000t\u0000o\u0000c\u0000o\u0000l\u0000H\u0000o\u0000s\u0000t\u0000 \u0000 \u0000 \u0000 \u0000 \u0000 \u0000 \u0000 \u0000 \u0000 \u0000 \u0000 \u0000 \u0000 \u0000 \u0000 \u0000\n",
      "\n",
      "\u0000\n",
      "\n",
      "\u0000 \u0000 \u0000 \u00001\u00002\u00009\u00004\u0000 \u0000 \u0000 \u0000 \u0000 \u0000 \u00009\u00000\u0000 \u0000 \u0000 \u00001\u00001\u00003\u00005\u00002\u00008\u0000 \u0000 \u0000 \u0000 \u0000 \u00001\u00008\u00002\u00002\u00007\u00006\u0000 \u0000 \u0000 \u0000 \u0000 \u0000 \u0000 \u00005\u0000.\u00004\u00005\u0000 \u0000 \u00001\u00002\u00003\u00005\u00006\u0000 \u0000 \u0000 \u00005\u0000 \u0000S\u0000e\u0000a\u0000r\u0000c\u0000h\u0000U\u0000I\u0000 \u0000 \u0000 \u0000 \u0000 \u0000 \u0000 \u0000 \u0000 \u0000 \u0000 \u0000 \u0000 \u0000 \u0000 \u0000 \u0000 \u0000 \u0000 \u0000 \u0000 \u0000 \u0000 \u0000 \u0000 \u0000 \u0000\n",
      "\n",
      "\u0000\n",
      "\n",
      "\u0000 \u0000 \u0000 \u0000 \u00001\u00008\u00009\u0000 \u0000 \u0000 \u0000 \u0000 \u0000 \u00001\u00001\u0000 \u0000 \u0000 \u0000 \u0000 \u00002\u00002\u00008\u00004\u0000 \u0000 \u0000 \u0000 \u0000 \u0000 \u00001\u00004\u00004\u00003\u00006\u0000 \u0000 \u0000 \u0000 \u0000 \u0000 \u0000 \u00000\u0000.\u00000\u00008\u0000 \u0000 \u00001\u00000\u00003\u00000\u00000\u0000 \u0000 \u0000 \u00005\u0000 \u0000S\u0000e\u0000c\u0000u\u0000r\u0000i\u0000t\u0000y\u0000H\u0000e\u0000a\u0000l\u0000t\u0000h\u0000H\u0000o\u0000s\u0000t\u0000 \u0000 \u0000 \u0000 \u0000 \u0000 \u0000 \u0000 \u0000 \u0000 \u0000 \u0000 \u0000 \u0000 \u0000 \u0000 \u0000\n",
      "\n",
      "\u0000\n",
      "\n",
      "\u0000 \u0000 \u0000 \u0000 \u00002\u00008\u00009\u0000 \u0000 \u0000 \u0000 \u0000 \u0000 \u00001\u00003\u0000 \u0000 \u0000 \u0000 \u0000 \u00003\u00004\u00006\u00004\u0000 \u0000 \u0000 \u0000 \u0000 \u0000 \u0000 \u00008\u00003\u00001\u00002\u0000 \u0000 \u0000 \u0000 \u0000 \u0000 \u0000 \u0000 \u0000 \u0000 \u0000 \u0000 \u0000 \u0000 \u00004\u00004\u00000\u00008\u0000 \u0000 \u0000 \u00000\u0000 \u0000S\u0000e\u0000c\u0000u\u0000r\u0000i\u0000t\u0000y\u0000H\u0000e\u0000a\u0000l\u0000t\u0000h\u0000S\u0000e\u0000r\u0000v\u0000i\u0000c\u0000e\u0000 \u0000 \u0000 \u0000 \u0000 \u0000 \u0000 \u0000 \u0000 \u0000 \u0000 \u0000 \u0000 \u0000\n",
      "\n",
      "\u0000\n",
      "\n",
      "\u0000 \u0000 \u0000 \u0000 \u00007\u00008\u00007\u0000 \u0000 \u0000 \u0000 \u0000 \u0000 \u00001\u00002\u0000 \u0000 \u0000 \u0000 \u0000 \u00006\u00008\u00002\u00000\u0000 \u0000 \u0000 \u0000 \u0000 \u0000 \u0000 \u00008\u00005\u00006\u00000\u0000 \u0000 \u0000 \u0000 \u0000 \u0000 \u0000 \u0000 \u0000 \u0000 \u0000 \u0000 \u0000 \u0000 \u0000 \u00008\u00004\u00000\u0000 \u0000 \u0000 \u00000\u0000 \u0000s\u0000e\u0000r\u0000v\u0000i\u0000c\u0000e\u0000s\u0000 \u0000 \u0000 \u0000 \u0000 \u0000 \u0000 \u0000 \u0000 \u0000 \u0000 \u0000 \u0000 \u0000 \u0000 \u0000 \u0000 \u0000 \u0000 \u0000 \u0000 \u0000 \u0000 \u0000 \u0000 \u0000 \u0000\n",
      "\n",
      "\u0000\n",
      "\n",
      "\u0000 \u0000 \u0000 \u0000 \u00003\u00001\u00002\u0000 \u0000 \u0000 \u0000 \u0000 \u0000 \u00001\u00005\u0000 \u0000 \u0000 \u0000 \u0000 \u00003\u00006\u00002\u00008\u0000 \u0000 \u0000 \u0000 \u0000 \u0000 \u0000 \u00007\u00001\u00000\u00000\u0000 \u0000 \u0000 \u0000 \u0000 \u0000 \u0000 \u00000\u0000.\u00005\u00006\u0000 \u0000 \u0000 \u00005\u00003\u00002\u00000\u0000 \u0000 \u0000 \u00005\u0000 \u0000S\u0000e\u0000t\u0000t\u0000i\u0000n\u0000g\u0000S\u0000y\u0000n\u0000c\u0000H\u0000o\u0000s\u0000t\u0000 \u0000 \u0000 \u0000 \u0000 \u0000 \u0000 \u0000 \u0000 \u0000 \u0000 \u0000 \u0000 \u0000 \u0000 \u0000 \u0000 \u0000 \u0000 \u0000\n",
      "\n",
      "\u0000\n",
      "\n",
      "\u0000 \u0000 \u0000 \u0000 \u0000 \u00008\u00009\u0000 \u0000 \u0000 \u0000 \u0000 \u0000 \u0000 \u00006\u0000 \u0000 \u0000 \u0000 \u0000 \u00003\u00004\u00002\u00004\u0000 \u0000 \u0000 \u0000 \u0000 \u0000 \u0000 \u00004\u00001\u00004\u00008\u0000 \u0000 \u0000 \u0000 \u0000 \u0000 \u0000 \u0000 \u0000 \u0000 \u0000 \u0000 \u0000 \u0000 \u00007\u00007\u00009\u00006\u0000 \u0000 \u0000 \u00000\u0000 \u0000S\u0000g\u0000r\u0000m\u0000B\u0000r\u0000o\u0000k\u0000e\u0000r\u0000 \u0000 \u0000 \u0000 \u0000 \u0000 \u0000 \u0000 \u0000 \u0000 \u0000 \u0000 \u0000 \u0000 \u0000 \u0000 \u0000 \u0000 \u0000 \u0000 \u0000 \u0000 \u0000 \u0000 \u0000\n",
      "\n",
      "\u0000\n",
      "\n",
      "\u0000 \u0000 \u0000 \u0000 \u00005\u00005\u00005\u0000 \u0000 \u0000 \u0000 \u0000 \u0000 \u00002\u00005\u0000 \u0000 \u0000 \u0000 \u00001\u00005\u00005\u00008\u00000\u0000 \u0000 \u0000 \u0000 \u0000 \u0000 \u00004\u00006\u00008\u00000\u00000\u0000 \u0000 \u0000 \u0000 \u0000 \u0000 \u0000 \u00000\u0000.\u00004\u00008\u0000 \u0000 \u0000 \u00008\u00001\u00002\u00008\u0000 \u0000 \u0000 \u00005\u0000 \u0000S\u0000h\u0000e\u0000l\u0000l\u0000E\u0000x\u0000p\u0000e\u0000r\u0000i\u0000e\u0000n\u0000c\u0000e\u0000H\u0000o\u0000s\u0000t\u0000 \u0000 \u0000 \u0000 \u0000 \u0000 \u0000 \u0000 \u0000 \u0000 \u0000 \u0000 \u0000 \u0000 \u0000 \u0000\n",
      "\n",
      "\u0000\n",
      "\n",
      "\u0000 \u0000 \u0000 \u0000 \u00005\u00003\u00000\u0000 \u0000 \u0000 \u0000 \u0000 \u0000 \u00001\u00008\u0000 \u0000 \u0000 \u0000 \u0000 \u00006\u00003\u00004\u00008\u0000 \u0000 \u0000 \u0000 \u0000 \u0000 \u00002\u00006\u00001\u00006\u00004\u0000 \u0000 \u0000 \u0000 \u0000 \u0000 \u0000 \u00002\u0000.\u00000\u00000\u0000 \u0000 \u0000 \u00009\u00006\u00000\u00000\u0000 \u0000 \u0000 \u00005\u0000 \u0000s\u0000i\u0000h\u0000o\u0000s\u0000t\u0000 \u0000 \u0000 \u0000 \u0000 \u0000 \u0000 \u0000 \u0000 \u0000 \u0000 \u0000 \u0000 \u0000 \u0000 \u0000 \u0000 \u0000 \u0000 \u0000 \u0000 \u0000 \u0000 \u0000 \u0000 \u0000 \u0000 \u0000 \u0000\n",
      "\n",
      "\u0000\n",
      "\n",
      "\u0000 \u0000 \u0000 \u00001\u00000\u00003\u00002\u0000 \u0000 \u0000 \u0000 \u0000 \u0000 \u00008\u00008\u0000 \u0000 \u0000 \u00001\u00007\u00001\u00000\u00008\u00008\u0000 \u0000 \u0000 \u0000 \u0000 \u00001\u00004\u00009\u00009\u00006\u00000\u0000 \u0000 \u0000 \u0000 \u0000 \u0000 \u0000 \u00003\u0000.\u00004\u00005\u0000 \u0000 \u0000 \u00005\u00008\u00007\u00006\u0000 \u0000 \u0000 \u00005\u0000 \u0000S\u0000k\u0000y\u0000p\u0000e\u0000A\u0000p\u0000p\u0000 \u0000 \u0000 \u0000 \u0000 \u0000 \u0000 \u0000 \u0000 \u0000 \u0000 \u0000 \u0000 \u0000 \u0000 \u0000 \u0000 \u0000 \u0000 \u0000 \u0000 \u0000 \u0000 \u0000 \u0000 \u0000 \u0000\n",
      "\n",
      "\u0000\n",
      "\n",
      "\u0000 \u0000 \u0000 \u0000 \u00001\u00005\u00001\u0000 \u0000 \u0000 \u0000 \u0000 \u0000 \u0000 \u00008\u0000 \u0000 \u0000 \u0000 \u0000 \u00001\u00009\u00008\u00000\u0000 \u0000 \u0000 \u0000 \u0000 \u0000 \u00001\u00001\u00006\u00000\u00000\u0000 \u0000 \u0000 \u0000 \u0000 \u0000 \u0000 \u00000\u0000.\u00000\u00008\u0000 \u0000 \u00001\u00001\u00002\u00004\u00008\u0000 \u0000 \u0000 \u00005\u0000 \u0000S\u0000k\u0000y\u0000p\u0000e\u0000B\u0000a\u0000c\u0000k\u0000g\u0000r\u0000o\u0000u\u0000n\u0000d\u0000H\u0000o\u0000s\u0000t\u0000 \u0000 \u0000 \u0000 \u0000 \u0000 \u0000 \u0000 \u0000 \u0000 \u0000 \u0000 \u0000 \u0000 \u0000 \u0000\n",
      "\n",
      "\u0000\n",
      "\n",
      "\u0000 \u0000 \u0000 \u0000 \u00004\u00000\u00002\u0000 \u0000 \u0000 \u0000 \u0000 \u0000 \u00002\u00002\u0000 \u0000 \u0000 \u0000 \u0000 \u00008\u00000\u00000\u00000\u0000 \u0000 \u0000 \u0000 \u0000 \u0000 \u00002\u00002\u00001\u00004\u00008\u0000 \u0000 \u0000 \u0000 \u0000 \u0000 \u0000 \u00000\u0000.\u00001\u00006\u0000 \u0000 \u00001\u00003\u00002\u00001\u00006\u0000 \u0000 \u0000 \u00005\u0000 \u0000s\u0000m\u0000a\u0000r\u0000t\u0000s\u0000c\u0000r\u0000e\u0000e\u0000n\u0000 \u0000 \u0000 \u0000 \u0000 \u0000 \u0000 \u0000 \u0000 \u0000 \u0000 \u0000 \u0000 \u0000 \u0000 \u0000 \u0000 \u0000 \u0000 \u0000 \u0000 \u0000 \u0000 \u0000\n",
      "\n",
      "\u0000\n",
      "\n",
      "\u0000 \u0000 \u0000 \u0000 \u0000 \u00005\u00003\u0000 \u0000 \u0000 \u0000 \u0000 \u0000 \u0000 \u00003\u0000 \u0000 \u0000 \u0000 \u0000 \u00001\u00001\u00007\u00006\u0000 \u0000 \u0000 \u0000 \u0000 \u0000 \u0000 \u0000 \u00004\u00008\u00000\u0000 \u0000 \u0000 \u0000 \u0000 \u0000 \u0000 \u0000 \u0000 \u0000 \u0000 \u0000 \u0000 \u0000 \u0000 \u00004\u00000\u00004\u0000 \u0000 \u0000 \u00000\u0000 \u0000s\u0000m\u0000s\u0000s\u0000 \u0000 \u0000 \u0000 \u0000 \u0000 \u0000 \u0000 \u0000 \u0000 \u0000 \u0000 \u0000 \u0000 \u0000 \u0000 \u0000 \u0000 \u0000 \u0000 \u0000 \u0000 \u0000 \u0000 \u0000 \u0000 \u0000 \u0000 \u0000 \u0000 \u0000\n",
      "\n",
      "\u0000\n",
      "\n",
      "\u0000 \u0000 \u0000 \u0000 \u00004\u00004\u00001\u0000 \u0000 \u0000 \u0000 \u0000 \u0000 \u00002\u00002\u0000 \u0000 \u0000 \u0000 \u0000 \u00005\u00008\u00009\u00002\u0000 \u0000 \u0000 \u0000 \u0000 \u0000 \u0000 \u00005\u00009\u00002\u00004\u0000 \u0000 \u0000 \u0000 \u0000 \u0000 \u0000 \u0000 \u0000 \u0000 \u0000 \u0000 \u0000 \u0000 \u00003\u00009\u00000\u00008\u0000 \u0000 \u0000 \u00000\u0000 \u0000s\u0000p\u0000o\u0000o\u0000l\u0000s\u0000v\u0000 \u0000 \u0000 \u0000 \u0000 \u0000 \u0000 \u0000 \u0000 \u0000 \u0000 \u0000 \u0000 \u0000 \u0000 \u0000 \u0000 \u0000 \u0000 \u0000 \u0000 \u0000 \u0000 \u0000 \u0000 \u0000 \u0000 \u0000\n",
      "\n",
      "\u0000\n",
      "\n",
      "\u0000 \u0000 \u0000 \u0000 \u00007\u00003\u00000\u0000 \u0000 \u0000 \u0000 \u0000 \u0000 \u00003\u00002\u0000 \u0000 \u0000 \u0000 \u00002\u00008\u00008\u00008\u00008\u0000 \u0000 \u0000 \u0000 \u0000 \u0000 \u00007\u00003\u00005\u00002\u00008\u0000 \u0000 \u0000 \u0000 \u0000 \u0000 \u0000 \u00002\u0000.\u00002\u00007\u0000 \u0000 \u0000 \u00006\u00006\u00005\u00002\u0000 \u0000 \u0000 \u00005\u0000 \u0000S\u0000t\u0000a\u0000r\u0000t\u0000M\u0000e\u0000n\u0000u\u0000E\u0000x\u0000p\u0000e\u0000r\u0000i\u0000e\u0000n\u0000c\u0000e\u0000H\u0000o\u0000s\u0000t\u0000 \u0000 \u0000 \u0000 \u0000 \u0000 \u0000 \u0000 \u0000 \u0000 \u0000 \u0000\n",
      "\n",
      "\u0000\n",
      "\n",
      "\u0000 \u0000 \u0000 \u0000 \u0000 \u00008\u00006\u0000 \u0000 \u0000 \u0000 \u0000 \u0000 \u0000 \u00005\u0000 \u0000 \u0000 \u0000 \u0000 \u0000 \u00009\u00001\u00006\u0000 \u0000 \u0000 \u0000 \u0000 \u0000 \u0000 \u00001\u00003\u00002\u00004\u0000 \u0000 \u0000 \u0000 \u0000 \u0000 \u0000 \u0000 \u0000 \u0000 \u0000 \u0000 \u0000 \u0000 \u0000 \u00005\u00007\u00006\u0000 \u0000 \u0000 \u00000\u0000 \u0000s\u0000v\u0000c\u0000h\u0000o\u0000s\u0000t\u0000 \u0000 \u0000 \u0000 \u0000 \u0000 \u0000 \u0000 \u0000 \u0000 \u0000 \u0000 \u0000 \u0000 \u0000 \u0000 \u0000 \u0000 \u0000 \u0000 \u0000 \u0000 \u0000 \u0000 \u0000 \u0000 \u0000 \u0000\n",
      "\n",
      "\u0000\n",
      "\n",
      "\u0000 \u0000 \u0000 \u0000 \u00002\u00004\u00000\u0000 \u0000 \u0000 \u0000 \u0000 \u0000 \u00001\u00002\u0000 \u0000 \u0000 \u0000 \u0000 \u00002\u00003\u00001\u00006\u0000 \u0000 \u0000 \u0000 \u0000 \u0000 \u0000 \u00009\u00007\u00006\u00000\u0000 \u0000 \u0000 \u0000 \u0000 \u0000 \u0000 \u0000 \u0000 \u0000 \u0000 \u0000 \u0000 \u0000 \u0000 \u00005\u00009\u00002\u0000 \u0000 \u0000 \u00000\u0000 \u0000s\u0000v\u0000c\u0000h\u0000o\u0000s\u0000t\u0000 \u0000 \u0000 \u0000 \u0000 \u0000 \u0000 \u0000 \u0000 \u0000 \u0000 \u0000 \u0000 \u0000 \u0000 \u0000 \u0000 \u0000 \u0000 \u0000 \u0000 \u0000 \u0000 \u0000 \u0000 \u0000 \u0000 \u0000\n",
      "\n",
      "\u0000\n",
      "\n",
      "\u0000 \u0000 \u0000 \u00001\u00002\u00006\u00000\u0000 \u0000 \u0000 \u0000 \u0000 \u0000 \u00002\u00005\u0000 \u0000 \u0000 \u0000 \u00001\u00006\u00004\u00002\u00008\u0000 \u0000 \u0000 \u0000 \u0000 \u0000 \u00002\u00005\u00009\u00001\u00006\u0000 \u0000 \u0000 \u0000 \u0000 \u0000 \u0000 \u0000 \u0000 \u0000 \u0000 \u0000 \u0000 \u0000 \u0000 \u00006\u00009\u00002\u0000 \u0000 \u0000 \u00000\u0000 \u0000s\u0000v\u0000c\u0000h\u0000o\u0000s\u0000t\u0000 \u0000 \u0000 \u0000 \u0000 \u0000 \u0000 \u0000 \u0000 \u0000 \u0000 \u0000 \u0000 \u0000 \u0000 \u0000 \u0000 \u0000 \u0000 \u0000 \u0000 \u0000 \u0000 \u0000 \u0000 \u0000 \u0000 \u0000\n",
      "\n",
      "\u0000\n",
      "\n",
      "\u0000 \u0000 \u0000 \u0000 \u00001\u00009\u00002\u0000 \u0000 \u0000 \u0000 \u0000 \u0000 \u00001\u00005\u0000 \u0000 \u0000 \u0000 \u0000 \u00006\u00002\u00003\u00002\u0000 \u0000 \u0000 \u0000 \u0000 \u0000 \u0000 \u00009\u00003\u00005\u00002\u0000 \u0000 \u0000 \u0000 \u0000 \u0000 \u0000 \u0000 \u0000 \u0000 \u0000 \u0000 \u0000 \u0000 \u00001\u00000\u00006\u00004\u0000 \u0000 \u0000 \u00000\u0000 \u0000s\u0000v\u0000c\u0000h\u0000o\u0000s\u0000t\u0000 \u0000 \u0000 \u0000 \u0000 \u0000 \u0000 \u0000 \u0000 \u0000 \u0000 \u0000 \u0000 \u0000 \u0000 \u0000 \u0000 \u0000 \u0000 \u0000 \u0000 \u0000 \u0000 \u0000 \u0000 \u0000 \u0000 \u0000\n",
      "\n",
      "\u0000\n",
      "\n",
      "\u0000 \u0000 \u0000 \u00001\u00003\u00008\u00003\u0000 \u0000 \u0000 \u0000 \u0000 \u0000 \u00002\u00001\u0000 \u0000 \u0000 \u0000 \u0000 \u00009\u00001\u00009\u00006\u0000 \u0000 \u0000 \u0000 \u0000 \u0000 \u00001\u00003\u00001\u00003\u00006\u0000 \u0000 \u0000 \u0000 \u0000 \u0000 \u0000 \u0000 \u0000 \u0000 \u0000 \u0000 \u0000 \u0000 \u00001\u00001\u00006\u00008\u0000 \u0000 \u0000 \u00000\u0000 \u0000s\u0000v\u0000c\u0000h\u0000o\u0000s\u0000t\u0000 \u0000 \u0000 \u0000 \u0000 \u0000 \u0000 \u0000 \u0000 \u0000 \u0000 \u0000 \u0000 \u0000 \u0000 \u0000 \u0000 \u0000 \u0000 \u0000 \u0000 \u0000 \u0000 \u0000 \u0000 \u0000 \u0000 \u0000\n",
      "\n",
      "\u0000\n",
      "\n",
      "\u0000 \u0000 \u0000 \u0000 \u00002\u00008\u00007\u0000 \u0000 \u0000 \u0000 \u0000 \u0000 \u00001\u00000\u0000 \u0000 \u0000 \u0000 \u0000 \u00002\u00008\u00004\u00008\u0000 \u0000 \u0000 \u0000 \u0000 \u0000 \u0000 \u00005\u00007\u00004\u00004\u0000 \u0000 \u0000 \u0000 \u0000 \u0000 \u0000 \u0000 \u0000 \u0000 \u0000 \u0000 \u0000 \u0000 \u00001\u00002\u00002\u00000\u0000 \u0000 \u0000 \u00000\u0000 \u0000s\u0000v\u0000c\u0000h\u0000o\u0000s\u0000t\u0000 \u0000 \u0000 \u0000 \u0000 \u0000 \u0000 \u0000 \u0000 \u0000 \u0000 \u0000 \u0000 \u0000 \u0000 \u0000 \u0000 \u0000 \u0000 \u0000 \u0000 \u0000 \u0000 \u0000 \u0000 \u0000 \u0000 \u0000\n",
      "\n",
      "\u0000\n",
      "\n",
      "\u0000 \u0000 \u0000 \u0000 \u00006\u00002\u00005\u0000 \u0000 \u0000 \u0000 \u0000 \u0000 \u00002\u00000\u0000 \u0000 \u0000 \u0000 \u00001\u00009\u00000\u00009\u00002\u0000 \u0000 \u0000 \u0000 \u0000 \u0000 \u00001\u00008\u00001\u00006\u00004\u0000 \u0000 \u0000 \u0000 \u0000 \u0000 \u0000 \u0000 \u0000 \u0000 \u0000 \u0000 \u0000 \u0000 \u00001\u00002\u00006\u00008\u0000 \u0000 \u0000 \u00000\u0000 \u0000s\u0000v\u0000c\u0000h\u0000o\u0000s\u0000t\u0000 \u0000 \u0000 \u0000 \u0000 \u0000 \u0000 \u0000 \u0000 \u0000 \u0000 \u0000 \u0000 \u0000 \u0000 \u0000 \u0000 \u0000 \u0000 \u0000 \u0000 \u0000 \u0000 \u0000 \u0000 \u0000 \u0000 \u0000\n",
      "\n",
      "\u0000\n",
      "\n",
      "\u0000 \u0000 \u0000 \u0000 \u00001\u00005\u00006\u0000 \u0000 \u0000 \u0000 \u0000 \u0000 \u0000 \u00007\u0000 \u0000 \u0000 \u0000 \u0000 \u00001\u00008\u00001\u00006\u0000 \u0000 \u0000 \u0000 \u0000 \u0000 \u0000 \u00002\u00005\u00004\u00008\u0000 \u0000 \u0000 \u0000 \u0000 \u0000 \u0000 \u0000 \u0000 \u0000 \u0000 \u0000 \u0000 \u0000 \u00001\u00004\u00006\u00000\u0000 \u0000 \u0000 \u00000\u0000 \u0000s\u0000v\u0000c\u0000h\u0000o\u0000s\u0000t\u0000 \u0000 \u0000 \u0000 \u0000 \u0000 \u0000 \u0000 \u0000 \u0000 \u0000 \u0000 \u0000 \u0000 \u0000 \u0000 \u0000 \u0000 \u0000 \u0000 \u0000 \u0000 \u0000 \u0000 \u0000 \u0000 \u0000 \u0000\n",
      "\n",
      "\u0000\n",
      "\n",
      "\u0000 \u0000 \u0000 \u0000 \u00002\u00008\u00007\u0000 \u0000 \u0000 \u0000 \u0000 \u0000 \u00001\u00003\u0000 \u0000 \u0000 \u0000 \u0000 \u00003\u00002\u00003\u00006\u0000 \u0000 \u0000 \u0000 \u0000 \u0000 \u0000 \u00006\u00000\u00003\u00006\u0000 \u0000 \u0000 \u0000 \u0000 \u0000 \u0000 \u0000 \u0000 \u0000 \u0000 \u0000 \u0000 \u0000 \u00001\u00004\u00007\u00002\u0000 \u0000 \u0000 \u00000\u0000 \u0000s\u0000v\u0000c\u0000h\u0000o\u0000s\u0000t\u0000 \u0000 \u0000 \u0000 \u0000 \u0000 \u0000 \u0000 \u0000 \u0000 \u0000 \u0000 \u0000 \u0000 \u0000 \u0000 \u0000 \u0000 \u0000 \u0000 \u0000 \u0000 \u0000 \u0000 \u0000 \u0000 \u0000 \u0000\n",
      "\n",
      "\u0000\n",
      "\n",
      "\u0000 \u0000 \u0000 \u0000 \u00002\u00005\u00005\u0000 \u0000 \u0000 \u0000 \u0000 \u0000 \u00001\u00003\u0000 \u0000 \u0000 \u0000 \u0000 \u00002\u00005\u00005\u00002\u0000 \u0000 \u0000 \u0000 \u0000 \u0000 \u0000 \u00006\u00000\u00006\u00008\u0000 \u0000 \u0000 \u0000 \u0000 \u0000 \u0000 \u0000 \u0000 \u0000 \u0000 \u0000 \u0000 \u0000 \u00001\u00006\u00002\u00004\u0000 \u0000 \u0000 \u00000\u0000 \u0000s\u0000v\u0000c\u0000h\u0000o\u0000s\u0000t\u0000 \u0000 \u0000 \u0000 \u0000 \u0000 \u0000 \u0000 \u0000 \u0000 \u0000 \u0000 \u0000 \u0000 \u0000 \u0000 \u0000 \u0000 \u0000 \u0000 \u0000 \u0000 \u0000 \u0000 \u0000 \u0000 \u0000 \u0000\n",
      "\n",
      "\u0000\n",
      "\n",
      "\u0000 \u0000 \u0000 \u0000 \u00004\u00002\u00003\u0000 \u0000 \u0000 \u0000 \u0000 \u0000 \u00001\u00004\u0000 \u0000 \u0000 \u0000 \u00001\u00007\u00002\u00004\u00000\u0000 \u0000 \u0000 \u0000 \u0000 \u0000 \u00001\u00004\u00007\u00006\u00004\u0000 \u0000 \u0000 \u0000 \u0000 \u0000 \u0000 \u0000 \u0000 \u0000 \u0000 \u0000 \u0000 \u0000 \u00001\u00006\u00003\u00002\u0000 \u0000 \u0000 \u00000\u0000 \u0000s\u0000v\u0000c\u0000h\u0000o\u0000s\u0000t\u0000 \u0000 \u0000 \u0000 \u0000 \u0000 \u0000 \u0000 \u0000 \u0000 \u0000 \u0000 \u0000 \u0000 \u0000 \u0000 \u0000 \u0000 \u0000 \u0000 \u0000 \u0000 \u0000 \u0000 \u0000 \u0000 \u0000 \u0000\n",
      "\n",
      "\u0000\n",
      "\n",
      "\u0000 \u0000 \u0000 \u0000 \u00003\u00009\u00009\u0000 \u0000 \u0000 \u0000 \u0000 \u0000 \u00001\u00008\u0000 \u0000 \u0000 \u0000 \u0000 \u00006\u00007\u00001\u00006\u0000 \u0000 \u0000 \u0000 \u0000 \u0000 \u0000 \u00009\u00004\u00006\u00004\u0000 \u0000 \u0000 \u0000 \u0000 \u0000 \u0000 \u0000 \u0000 \u0000 \u0000 \u0000 \u0000 \u0000 \u00001\u00006\u00006\u00000\u0000 \u0000 \u0000 \u00000\u0000 \u0000s\u0000v\u0000c\u0000h\u0000o\u0000s\u0000t\u0000 \u0000 \u0000 \u0000 \u0000 \u0000 \u0000 \u0000 \u0000 \u0000 \u0000 \u0000 \u0000 \u0000 \u0000 \u0000 \u0000 \u0000 \u0000 \u0000 \u0000 \u0000 \u0000 \u0000 \u0000 \u0000 \u0000 \u0000\n",
      "\n",
      "\u0000\n",
      "\n",
      "\u0000 \u0000 \u0000 \u0000 \u00002\u00002\u00004\u0000 \u0000 \u0000 \u0000 \u0000 \u0000 \u00001\u00003\u0000 \u0000 \u0000 \u0000 \u0000 \u00004\u00002\u00000\u00004\u0000 \u0000 \u0000 \u0000 \u0000 \u0000 \u0000 \u00007\u00008\u00006\u00008\u0000 \u0000 \u0000 \u0000 \u0000 \u0000 \u0000 \u0000 \u0000 \u0000 \u0000 \u0000 \u0000 \u0000 \u00001\u00006\u00009\u00002\u0000 \u0000 \u0000 \u00000\u0000 \u0000s\u0000v\u0000c\u0000h\u0000o\u0000s\u0000t\u0000 \u0000 \u0000 \u0000 \u0000 \u0000 \u0000 \u0000 \u0000 \u0000 \u0000 \u0000 \u0000 \u0000 \u0000 \u0000 \u0000 \u0000 \u0000 \u0000 \u0000 \u0000 \u0000 \u0000 \u0000 \u0000 \u0000 \u0000\n",
      "\n",
      "\u0000\n",
      "\n",
      "\u0000 \u0000 \u0000 \u0000 \u00001\u00006\u00006\u0000 \u0000 \u0000 \u0000 \u0000 \u0000 \u00001\u00000\u0000 \u0000 \u0000 \u0000 \u0000 \u00002\u00004\u00007\u00002\u0000 \u0000 \u0000 \u0000 \u0000 \u0000 \u0000 \u00004\u00007\u00008\u00008\u0000 \u0000 \u0000 \u0000 \u0000 \u0000 \u0000 \u0000 \u0000 \u0000 \u0000 \u0000 \u0000 \u0000 \u00001\u00007\u00000\u00004\u0000 \u0000 \u0000 \u00000\u0000 \u0000s\u0000v\u0000c\u0000h\u0000o\u0000s\u0000t\u0000 \u0000 \u0000 \u0000 \u0000 \u0000 \u0000 \u0000 \u0000 \u0000 \u0000 \u0000 \u0000 \u0000 \u0000 \u0000 \u0000 \u0000 \u0000 \u0000 \u0000 \u0000 \u0000 \u0000 \u0000 \u0000 \u0000 \u0000\n",
      "\n",
      "\u0000\n",
      "\n",
      "\u0000 \u0000 \u0000 \u0000 \u00001\u00002\u00006\u0000 \u0000 \u0000 \u0000 \u0000 \u0000 \u0000 \u00008\u0000 \u0000 \u0000 \u0000 \u0000 \u00001\u00004\u00004\u00004\u0000 \u0000 \u0000 \u0000 \u0000 \u0000 \u0000 \u00003\u00005\u00004\u00000\u0000 \u0000 \u0000 \u0000 \u0000 \u0000 \u0000 \u0000 \u0000 \u0000 \u0000 \u0000 \u0000 \u0000 \u00001\u00007\u00003\u00006\u0000 \u0000 \u0000 \u00000\u0000 \u0000s\u0000v\u0000c\u0000h\u0000o\u0000s\u0000t\u0000 \u0000 \u0000 \u0000 \u0000 \u0000 \u0000 \u0000 \u0000 \u0000 \u0000 \u0000 \u0000 \u0000 \u0000 \u0000 \u0000 \u0000 \u0000 \u0000 \u0000 \u0000 \u0000 \u0000 \u0000 \u0000 \u0000 \u0000\n",
      "\n",
      "\u0000\n",
      "\n",
      "\u0000 \u0000 \u0000 \u0000 \u00002\u00005\u00009\u0000 \u0000 \u0000 \u0000 \u0000 \u0000 \u00001\u00000\u0000 \u0000 \u0000 \u0000 \u0000 \u00002\u00004\u00001\u00002\u0000 \u0000 \u0000 \u0000 \u0000 \u0000 \u0000 \u00005\u00000\u00007\u00002\u0000 \u0000 \u0000 \u0000 \u0000 \u0000 \u0000 \u0000 \u0000 \u0000 \u0000 \u0000 \u0000 \u0000 \u00001\u00008\u00001\u00006\u0000 \u0000 \u0000 \u00000\u0000 \u0000s\u0000v\u0000c\u0000h\u0000o\u0000s\u0000t\u0000 \u0000 \u0000 \u0000 \u0000 \u0000 \u0000 \u0000 \u0000 \u0000 \u0000 \u0000 \u0000 \u0000 \u0000 \u0000 \u0000 \u0000 \u0000 \u0000 \u0000 \u0000 \u0000 \u0000 \u0000 \u0000 \u0000 \u0000\n",
      "\n",
      "\u0000\n",
      "\n",
      "\u0000 \u0000 \u0000 \u0000 \u00002\u00008\u00008\u0000 \u0000 \u0000 \u0000 \u0000 \u0000 \u00001\u00005\u0000 \u0000 \u0000 \u0000 \u0000 \u00003\u00008\u00007\u00002\u0000 \u0000 \u0000 \u0000 \u0000 \u0000 \u00001\u00002\u00006\u00009\u00006\u0000 \u0000 \u0000 \u0000 \u0000 \u0000 \u0000 \u0000 \u0000 \u0000 \u0000 \u0000 \u0000 \u0000 \u00001\u00008\u00009\u00002\u0000 \u0000 \u0000 \u00000\u0000 \u0000s\u0000v\u0000c\u0000h\u0000o\u0000s\u0000t\u0000 \u0000 \u0000 \u0000 \u0000 \u0000 \u0000 \u0000 \u0000 \u0000 \u0000 \u0000 \u0000 \u0000 \u0000 \u0000 \u0000 \u0000 \u0000 \u0000 \u0000 \u0000 \u0000 \u0000 \u0000 \u0000 \u0000 \u0000\n",
      "\n",
      "\u0000\n",
      "\n",
      "\u0000 \u0000 \u0000 \u0000 \u00001\u00005\u00000\u0000 \u0000 \u0000 \u0000 \u0000 \u0000 \u00002\u00005\u0000 \u0000 \u0000 \u0000 \u0000 \u00005\u00001\u00001\u00006\u0000 \u0000 \u0000 \u0000 \u0000 \u0000 \u0000 \u00005\u00006\u00004\u00004\u0000 \u0000 \u0000 \u0000 \u0000 \u0000 \u0000 \u0000 \u0000 \u0000 \u0000 \u0000 \u0000 \u0000 \u00001\u00009\u00000\u00000\u0000 \u0000 \u0000 \u00000\u0000 \u0000s\u0000v\u0000c\u0000h\u0000o\u0000s\u0000t\u0000 \u0000 \u0000 \u0000 \u0000 \u0000 \u0000 \u0000 \u0000 \u0000 \u0000 \u0000 \u0000 \u0000 \u0000 \u0000 \u0000 \u0000 \u0000 \u0000 \u0000 \u0000 \u0000 \u0000 \u0000 \u0000 \u0000 \u0000\n",
      "\n",
      "\u0000\n",
      "\n",
      "\u0000 \u0000 \u0000 \u0000 \u00001\u00003\u00006\u0000 \u0000 \u0000 \u0000 \u0000 \u0000 \u00001\u00000\u0000 \u0000 \u0000 \u0000 \u0000 \u00001\u00006\u00000\u00000\u0000 \u0000 \u0000 \u0000 \u0000 \u0000 \u0000 \u00002\u00007\u00007\u00006\u0000 \u0000 \u0000 \u0000 \u0000 \u0000 \u0000 \u0000 \u0000 \u0000 \u0000 \u0000 \u0000 \u0000 \u00001\u00009\u00002\u00000\u0000 \u0000 \u0000 \u00000\u0000 \u0000s\u0000v\u0000c\u0000h\u0000o\u0000s\u0000t\u0000 \u0000 \u0000 \u0000 \u0000 \u0000 \u0000 \u0000 \u0000 \u0000 \u0000 \u0000 \u0000 \u0000 \u0000 \u0000 \u0000 \u0000 \u0000 \u0000 \u0000 \u0000 \u0000 \u0000 \u0000 \u0000 \u0000 \u0000\n",
      "\n",
      "\u0000\n",
      "\n",
      "\u0000 \u0000 \u0000 \u0000 \u00003\u00006\u00006\u0000 \u0000 \u0000 \u0000 \u0000 \u0000 \u00001\u00002\u0000 \u0000 \u0000 \u0000 \u0000 \u00002\u00009\u00005\u00002\u0000 \u0000 \u0000 \u0000 \u0000 \u0000 \u0000 \u00006\u00008\u00008\u00008\u0000 \u0000 \u0000 \u0000 \u0000 \u0000 \u0000 \u0000 \u0000 \u0000 \u0000 \u0000 \u0000 \u0000 \u00001\u00009\u00003\u00006\u0000 \u0000 \u0000 \u00000\u0000 \u0000s\u0000v\u0000c\u0000h\u0000o\u0000s\u0000t\u0000 \u0000 \u0000 \u0000 \u0000 \u0000 \u0000 \u0000 \u0000 \u0000 \u0000 \u0000 \u0000 \u0000 \u0000 \u0000 \u0000 \u0000 \u0000 \u0000 \u0000 \u0000 \u0000 \u0000 \u0000 \u0000 \u0000 \u0000\n",
      "\n",
      "\u0000\n",
      "\n",
      "\u0000 \u0000 \u0000 \u0000 \u00002\u00004\u00008\u0000 \u0000 \u0000 \u0000 \u0000 \u0000 \u00001\u00000\u0000 \u0000 \u0000 \u0000 \u0000 \u00002\u00007\u00003\u00002\u0000 \u0000 \u0000 \u0000 \u0000 \u0000 \u0000 \u00004\u00000\u00008\u00008\u0000 \u0000 \u0000 \u0000 \u0000 \u0000 \u0000 \u0000 \u0000 \u0000 \u0000 \u0000 \u0000 \u0000 \u00002\u00000\u00000\u00000\u0000 \u0000 \u0000 \u00000\u0000 \u0000s\u0000v\u0000c\u0000h\u0000o\u0000s\u0000t\u0000 \u0000 \u0000 \u0000 \u0000 \u0000 \u0000 \u0000 \u0000 \u0000 \u0000 \u0000 \u0000 \u0000 \u0000 \u0000 \u0000 \u0000 \u0000 \u0000 \u0000 \u0000 \u0000 \u0000 \u0000 \u0000 \u0000 \u0000\n",
      "\n",
      "\u0000\n",
      "\n",
      "\u0000 \u0000 \u0000 \u0000 \u00002\u00005\u00009\u0000 \u0000 \u0000 \u0000 \u0000 \u0000 \u00001\u00002\u0000 \u0000 \u0000 \u0000 \u0000 \u00007\u00006\u00006\u00000\u0000 \u0000 \u0000 \u0000 \u0000 \u0000 \u00001\u00003\u00004\u00008\u00004\u0000 \u0000 \u0000 \u0000 \u0000 \u0000 \u0000 \u0000 \u0000 \u0000 \u0000 \u0000 \u0000 \u0000 \u00002\u00001\u00004\u00008\u0000 \u0000 \u0000 \u00000\u0000 \u0000s\u0000v\u0000c\u0000h\u0000o\u0000s\u0000t\u0000 \u0000 \u0000 \u0000 \u0000 \u0000 \u0000 \u0000 \u0000 \u0000 \u0000 \u0000 \u0000 \u0000 \u0000 \u0000 \u0000 \u0000 \u0000 \u0000 \u0000 \u0000 \u0000 \u0000 \u0000 \u0000 \u0000 \u0000\n",
      "\n",
      "\u0000\n",
      "\n",
      "\u0000 \u0000 \u0000 \u0000 \u00002\u00005\u00006\u0000 \u0000 \u0000 \u0000 \u0000 \u0000 \u00002\u00006\u0000 \u0000 \u0000 \u0000 \u0000 \u00005\u00004\u00007\u00006\u0000 \u0000 \u0000 \u0000 \u0000 \u0000 \u0000 \u00009\u00007\u00006\u00004\u0000 \u0000 \u0000 \u0000 \u0000 \u0000 \u0000 \u0000 \u0000 \u0000 \u0000 \u0000 \u0000 \u0000 \u00002\u00001\u00009\u00002\u0000 \u0000 \u0000 \u00000\u0000 \u0000s\u0000v\u0000c\u0000h\u0000o\u0000s\u0000t\u0000 \u0000 \u0000 \u0000 \u0000 \u0000 \u0000 \u0000 \u0000 \u0000 \u0000 \u0000 \u0000 \u0000 \u0000 \u0000 \u0000 \u0000 \u0000 \u0000 \u0000 \u0000 \u0000 \u0000 \u0000 \u0000 \u0000 \u0000\n",
      "\n",
      "\u0000\n",
      "\n",
      "\u0000 \u0000 \u0000 \u0000 \u00001\u00003\u00005\u0000 \u0000 \u0000 \u0000 \u0000 \u0000 \u0000 \u00009\u0000 \u0000 \u0000 \u0000 \u0000 \u00001\u00005\u00009\u00006\u0000 \u0000 \u0000 \u0000 \u0000 \u0000 \u0000 \u00001\u00004\u00006\u00004\u0000 \u0000 \u0000 \u0000 \u0000 \u0000 \u0000 \u0000 \u0000 \u0000 \u0000 \u0000 \u0000 \u0000 \u00002\u00002\u00000\u00000\u0000 \u0000 \u0000 \u00000\u0000 \u0000s\u0000v\u0000c\u0000h\u0000o\u0000s\u0000t\u0000 \u0000 \u0000 \u0000 \u0000 \u0000 \u0000 \u0000 \u0000 \u0000 \u0000 \u0000 \u0000 \u0000 \u0000 \u0000 \u0000 \u0000 \u0000 \u0000 \u0000 \u0000 \u0000 \u0000 \u0000 \u0000 \u0000 \u0000\n",
      "\n",
      "\u0000\n",
      "\n",
      "\u0000 \u0000 \u0000 \u0000 \u00004\u00008\u00002\u0000 \u0000 \u0000 \u0000 \u0000 \u0000 \u00001\u00008\u0000 \u0000 \u0000 \u0000 \u0000 \u00003\u00007\u00005\u00006\u0000 \u0000 \u0000 \u0000 \u0000 \u0000 \u0000 \u00008\u00000\u00009\u00006\u0000 \u0000 \u0000 \u0000 \u0000 \u0000 \u0000 \u0000 \u0000 \u0000 \u0000 \u0000 \u0000 \u0000 \u00002\u00002\u00000\u00004\u0000 \u0000 \u0000 \u00000\u0000 \u0000s\u0000v\u0000c\u0000h\u0000o\u0000s\u0000t\u0000 \u0000 \u0000 \u0000 \u0000 \u0000 \u0000 \u0000 \u0000 \u0000 \u0000 \u0000 \u0000 \u0000 \u0000 \u0000 \u0000 \u0000 \u0000 \u0000 \u0000 \u0000 \u0000 \u0000 \u0000 \u0000 \u0000 \u0000\n",
      "\n",
      "\u0000\n",
      "\n",
      "\u0000 \u0000 \u0000 \u0000 \u00001\u00009\u00008\u0000 \u0000 \u0000 \u0000 \u0000 \u0000 \u00001\u00002\u0000 \u0000 \u0000 \u0000 \u0000 \u00002\u00006\u00003\u00006\u0000 \u0000 \u0000 \u0000 \u0000 \u0000 \u0000 \u00007\u00001\u00008\u00004\u0000 \u0000 \u0000 \u0000 \u0000 \u0000 \u0000 \u0000 \u0000 \u0000 \u0000 \u0000 \u0000 \u0000 \u00002\u00002\u00002\u00004\u0000 \u0000 \u0000 \u00000\u0000 \u0000s\u0000v\u0000c\u0000h\u0000o\u0000s\u0000t\u0000 \u0000 \u0000 \u0000 \u0000 \u0000 \u0000 \u0000 \u0000 \u0000 \u0000 \u0000 \u0000 \u0000 \u0000 \u0000 \u0000 \u0000 \u0000 \u0000 \u0000 \u0000 \u0000 \u0000 \u0000 \u0000 \u0000 \u0000\n",
      "\n",
      "\u0000\n",
      "\n",
      "\u0000 \u0000 \u0000 \u0000 \u00003\u00008\u00005\u0000 \u0000 \u0000 \u0000 \u0000 \u0000 \u00001\u00006\u0000 \u0000 \u0000 \u0000 \u0000 \u00005\u00002\u00004\u00008\u0000 \u0000 \u0000 \u0000 \u0000 \u0000 \u0000 \u00008\u00007\u00004\u00000\u0000 \u0000 \u0000 \u0000 \u0000 \u0000 \u0000 \u0000 \u0000 \u0000 \u0000 \u0000 \u0000 \u0000 \u00002\u00002\u00005\u00002\u0000 \u0000 \u0000 \u00000\u0000 \u0000s\u0000v\u0000c\u0000h\u0000o\u0000s\u0000t\u0000 \u0000 \u0000 \u0000 \u0000 \u0000 \u0000 \u0000 \u0000 \u0000 \u0000 \u0000 \u0000 \u0000 \u0000 \u0000 \u0000 \u0000 \u0000 \u0000 \u0000 \u0000 \u0000 \u0000 \u0000 \u0000 \u0000 \u0000\n",
      "\n",
      "\u0000\n",
      "\n",
      "\u0000 \u0000 \u0000 \u0000 \u00002\u00007\u00009\u0000 \u0000 \u0000 \u0000 \u0000 \u0000 \u00001\u00004\u0000 \u0000 \u0000 \u0000 \u0000 \u00003\u00007\u00003\u00002\u0000 \u0000 \u0000 \u0000 \u0000 \u0000 \u0000 \u00004\u00008\u00009\u00002\u0000 \u0000 \u0000 \u0000 \u0000 \u0000 \u0000 \u0000 \u0000 \u0000 \u0000 \u0000 \u0000 \u0000 \u00002\u00002\u00008\u00000\u0000 \u0000 \u0000 \u00000\u0000 \u0000s\u0000v\u0000c\u0000h\u0000o\u0000s\u0000t\u0000 \u0000 \u0000 \u0000 \u0000 \u0000 \u0000 \u0000 \u0000 \u0000 \u0000 \u0000 \u0000 \u0000 \u0000 \u0000 \u0000 \u0000 \u0000 \u0000 \u0000 \u0000 \u0000 \u0000 \u0000 \u0000 \u0000 \u0000\n",
      "\n",
      "\u0000\n",
      "\n",
      "\u0000 \u0000 \u0000 \u0000 \u00006\u00006\u00005\u0000 \u0000 \u0000 \u0000 \u0000 \u0000 \u00001\u00003\u0000 \u0000 \u0000 \u0000 \u0000 \u00003\u00002\u00009\u00002\u0000 \u0000 \u0000 \u0000 \u0000 \u0000 \u0000 \u00006\u00000\u00002\u00008\u0000 \u0000 \u0000 \u0000 \u0000 \u0000 \u0000 \u0000 \u0000 \u0000 \u0000 \u0000 \u0000 \u0000 \u00002\u00004\u00004\u00000\u0000 \u0000 \u0000 \u00000\u0000 \u0000s\u0000v\u0000c\u0000h\u0000o\u0000s\u0000t\u0000 \u0000 \u0000 \u0000 \u0000 \u0000 \u0000 \u0000 \u0000 \u0000 \u0000 \u0000 \u0000 \u0000 \u0000 \u0000 \u0000 \u0000 \u0000 \u0000 \u0000 \u0000 \u0000 \u0000 \u0000 \u0000 \u0000 \u0000\n",
      "\n",
      "\u0000\n",
      "\n",
      "\u0000 \u0000 \u0000 \u0000 \u00002\u00002\u00006\u0000 \u0000 \u0000 \u0000 \u0000 \u0000 \u00001\u00002\u0000 \u0000 \u0000 \u0000 \u0000 \u00002\u00003\u00000\u00004\u0000 \u0000 \u0000 \u0000 \u0000 \u0000 \u0000 \u00005\u00000\u00006\u00000\u0000 \u0000 \u0000 \u0000 \u0000 \u0000 \u0000 \u0000 \u0000 \u0000 \u0000 \u0000 \u0000 \u0000 \u00002\u00005\u00005\u00006\u0000 \u0000 \u0000 \u00000\u0000 \u0000s\u0000v\u0000c\u0000h\u0000o\u0000s\u0000t\u0000 \u0000 \u0000 \u0000 \u0000 \u0000 \u0000 \u0000 \u0000 \u0000 \u0000 \u0000 \u0000 \u0000 \u0000 \u0000 \u0000 \u0000 \u0000 \u0000 \u0000 \u0000 \u0000 \u0000 \u0000 \u0000 \u0000 \u0000\n",
      "\n",
      "\u0000\n",
      "\n",
      "\u0000 \u0000 \u0000 \u0000 \u00001\u00007\u00006\u0000 \u0000 \u0000 \u0000 \u0000 \u0000 \u0000 \u00009\u0000 \u0000 \u0000 \u0000 \u0000 \u00001\u00009\u00002\u00004\u0000 \u0000 \u0000 \u0000 \u0000 \u0000 \u0000 \u00004\u00001\u00007\u00002\u0000 \u0000 \u0000 \u0000 \u0000 \u0000 \u0000 \u0000 \u0000 \u0000 \u0000 \u0000 \u0000 \u0000 \u00002\u00006\u00005\u00006\u0000 \u0000 \u0000 \u00000\u0000 \u0000s\u0000v\u0000c\u0000h\u0000o\u0000s\u0000t\u0000 \u0000 \u0000 \u0000 \u0000 \u0000 \u0000 \u0000 \u0000 \u0000 \u0000 \u0000 \u0000 \u0000 \u0000 \u0000 \u0000 \u0000 \u0000 \u0000 \u0000 \u0000 \u0000 \u0000 \u0000 \u0000 \u0000 \u0000\n",
      "\n",
      "\u0000\n",
      "\n",
      "\u0000 \u0000 \u0000 \u0000 \u00002\u00003\u00009\u0000 \u0000 \u0000 \u0000 \u0000 \u0000 \u00001\u00005\u0000 \u0000 \u0000 \u0000 \u00009\u00005\u00005\u00008\u00008\u0000 \u0000 \u0000 \u0000 \u0000 \u0000 \u00009\u00004\u00004\u00001\u00002\u0000 \u0000 \u0000 \u0000 \u0000 \u0000 \u0000 \u0000 \u0000 \u0000 \u0000 \u0000 \u0000 \u0000 \u00002\u00006\u00008\u00004\u0000 \u0000 \u0000 \u00000\u0000 \u0000s\u0000v\u0000c\u0000h\u0000o\u0000s\u0000t\u0000 \u0000 \u0000 \u0000 \u0000 \u0000 \u0000 \u0000 \u0000 \u0000 \u0000 \u0000 \u0000 \u0000 \u0000 \u0000 \u0000 \u0000 \u0000 \u0000 \u0000 \u0000 \u0000 \u0000 \u0000 \u0000 \u0000 \u0000\n",
      "\n",
      "\u0000\n",
      "\n",
      "\u0000 \u0000 \u0000 \u0000 \u00002\u00001\u00007\u0000 \u0000 \u0000 \u0000 \u0000 \u0000 \u0000 \u00007\u0000 \u0000 \u0000 \u0000 \u0000 \u00001\u00003\u00004\u00004\u0000 \u0000 \u0000 \u0000 \u0000 \u0000 \u0000 \u00001\u00009\u00005\u00006\u0000 \u0000 \u0000 \u0000 \u0000 \u0000 \u0000 \u0000 \u0000 \u0000 \u0000 \u0000 \u0000 \u0000 \u00002\u00007\u00000\u00004\u0000 \u0000 \u0000 \u00000\u0000 \u0000s\u0000v\u0000c\u0000h\u0000o\u0000s\u0000t\u0000 \u0000 \u0000 \u0000 \u0000 \u0000 \u0000 \u0000 \u0000 \u0000 \u0000 \u0000 \u0000 \u0000 \u0000 \u0000 \u0000 \u0000 \u0000 \u0000 \u0000 \u0000 \u0000 \u0000 \u0000 \u0000 \u0000 \u0000\n",
      "\n",
      "\u0000\n",
      "\n",
      "\u0000 \u0000 \u0000 \u0000 \u00001\u00008\u00002\u0000 \u0000 \u0000 \u0000 \u0000 \u0000 \u00001\u00002\u0000 \u0000 \u0000 \u0000 \u0000 \u00002\u00000\u00008\u00004\u0000 \u0000 \u0000 \u0000 \u0000 \u0000 \u0000 \u00005\u00000\u00008\u00004\u0000 \u0000 \u0000 \u0000 \u0000 \u0000 \u0000 \u0000 \u0000 \u0000 \u0000 \u0000 \u0000 \u0000 \u00002\u00008\u00003\u00002\u0000 \u0000 \u0000 \u00000\u0000 \u0000s\u0000v\u0000c\u0000h\u0000o\u0000s\u0000t\u0000 \u0000 \u0000 \u0000 \u0000 \u0000 \u0000 \u0000 \u0000 \u0000 \u0000 \u0000 \u0000 \u0000 \u0000 \u0000 \u0000 \u0000 \u0000 \u0000 \u0000 \u0000 \u0000 \u0000 \u0000 \u0000 \u0000 \u0000\n",
      "\n",
      "\u0000\n",
      "\n",
      "\u0000 \u0000 \u0000 \u0000 \u00001\u00009\u00002\u0000 \u0000 \u0000 \u0000 \u0000 \u0000 \u00001\u00001\u0000 \u0000 \u0000 \u0000 \u0000 \u00002\u00003\u00004\u00000\u0000 \u0000 \u0000 \u0000 \u0000 \u0000 \u0000 \u00009\u00002\u00006\u00008\u0000 \u0000 \u0000 \u0000 \u0000 \u0000 \u0000 \u0000 \u0000 \u0000 \u0000 \u0000 \u0000 \u0000 \u00002\u00009\u00002\u00004\u0000 \u0000 \u0000 \u00000\u0000 \u0000s\u0000v\u0000c\u0000h\u0000o\u0000s\u0000t\u0000 \u0000 \u0000 \u0000 \u0000 \u0000 \u0000 \u0000 \u0000 \u0000 \u0000 \u0000 \u0000 \u0000 \u0000 \u0000 \u0000 \u0000 \u0000 \u0000 \u0000 \u0000 \u0000 \u0000 \u0000 \u0000 \u0000 \u0000\n",
      "\n",
      "\u0000\n",
      "\n",
      "\u0000 \u0000 \u0000 \u0000 \u00002\u00002\u00009\u0000 \u0000 \u0000 \u0000 \u0000 \u0000 \u0000 \u00009\u0000 \u0000 \u0000 \u0000 \u0000 \u00002\u00000\u00004\u00008\u0000 \u0000 \u0000 \u0000 \u0000 \u0000 \u0000 \u00005\u00000\u00007\u00006\u0000 \u0000 \u0000 \u0000 \u0000 \u0000 \u0000 \u0000 \u0000 \u0000 \u0000 \u0000 \u0000 \u0000 \u00002\u00009\u00005\u00002\u0000 \u0000 \u0000 \u00000\u0000 \u0000s\u0000v\u0000c\u0000h\u0000o\u0000s\u0000t\u0000 \u0000 \u0000 \u0000 \u0000 \u0000 \u0000 \u0000 \u0000 \u0000 \u0000 \u0000 \u0000 \u0000 \u0000 \u0000 \u0000 \u0000 \u0000 \u0000 \u0000 \u0000 \u0000 \u0000 \u0000 \u0000 \u0000 \u0000\n",
      "\n",
      "\u0000\n",
      "\n",
      "\u0000 \u0000 \u0000 \u0000 \u00001\u00005\u00003\u0000 \u0000 \u0000 \u0000 \u0000 \u0000 \u0000 \u00009\u0000 \u0000 \u0000 \u0000 \u0000 \u00001\u00007\u00004\u00004\u0000 \u0000 \u0000 \u0000 \u0000 \u0000 \u0000 \u00003\u00005\u00004\u00004\u0000 \u0000 \u0000 \u0000 \u0000 \u0000 \u0000 \u0000 \u0000 \u0000 \u0000 \u0000 \u0000 \u0000 \u00002\u00009\u00006\u00008\u0000 \u0000 \u0000 \u00000\u0000 \u0000s\u0000v\u0000c\u0000h\u0000o\u0000s\u0000t\u0000 \u0000 \u0000 \u0000 \u0000 \u0000 \u0000 \u0000 \u0000 \u0000 \u0000 \u0000 \u0000 \u0000 \u0000 \u0000 \u0000 \u0000 \u0000 \u0000 \u0000 \u0000 \u0000 \u0000 \u0000 \u0000 \u0000 \u0000\n",
      "\n",
      "\u0000\n",
      "\n",
      "\u0000 \u0000 \u0000 \u0000 \u00004\u00003\u00003\u0000 \u0000 \u0000 \u0000 \u0000 \u0000 \u00001\u00006\u0000 \u0000 \u0000 \u0000 \u0000 \u00009\u00007\u00004\u00004\u0000 \u0000 \u0000 \u0000 \u0000 \u0000 \u00001\u00004\u00000\u00006\u00000\u0000 \u0000 \u0000 \u0000 \u0000 \u0000 \u0000 \u0000 \u0000 \u0000 \u0000 \u0000 \u0000 \u0000 \u00003\u00000\u00005\u00002\u0000 \u0000 \u0000 \u00000\u0000 \u0000s\u0000v\u0000c\u0000h\u0000o\u0000s\u0000t\u0000 \u0000 \u0000 \u0000 \u0000 \u0000 \u0000 \u0000 \u0000 \u0000 \u0000 \u0000 \u0000 \u0000 \u0000 \u0000 \u0000 \u0000 \u0000 \u0000 \u0000 \u0000 \u0000 \u0000 \u0000 \u0000 \u0000 \u0000\n",
      "\n",
      "\u0000\n",
      "\n",
      "\u0000 \u0000 \u0000 \u0000 \u00004\u00006\u00002\u0000 \u0000 \u0000 \u0000 \u0000 \u0000 \u00001\u00005\u0000 \u0000 \u0000 \u0000 \u0000 \u00004\u00005\u00005\u00006\u0000 \u0000 \u0000 \u0000 \u0000 \u0000 \u00001\u00001\u00000\u00002\u00008\u0000 \u0000 \u0000 \u0000 \u0000 \u0000 \u0000 \u0000 \u0000 \u0000 \u0000 \u0000 \u0000 \u0000 \u00003\u00001\u00000\u00004\u0000 \u0000 \u0000 \u00000\u0000 \u0000s\u0000v\u0000c\u0000h\u0000o\u0000s\u0000t\u0000 \u0000 \u0000 \u0000 \u0000 \u0000 \u0000 \u0000 \u0000 \u0000 \u0000 \u0000 \u0000 \u0000 \u0000 \u0000 \u0000 \u0000 \u0000 \u0000 \u0000 \u0000 \u0000 \u0000 \u0000 \u0000 \u0000 \u0000\n",
      "\n",
      "\u0000\n",
      "\n",
      "\u0000 \u0000 \u0000 \u0000 \u00005\u00004\u00008\u0000 \u0000 \u0000 \u0000 \u0000 \u0000 \u00002\u00005\u0000 \u0000 \u0000 \u0000 \u00001\u00008\u00007\u00008\u00008\u0000 \u0000 \u0000 \u0000 \u0000 \u0000 \u00002\u00009\u00009\u00002\u00008\u0000 \u0000 \u0000 \u0000 \u0000 \u0000 \u0000 \u0000 \u0000 \u0000 \u0000 \u0000 \u0000 \u0000 \u00003\u00001\u00009\u00006\u0000 \u0000 \u0000 \u00000\u0000 \u0000s\u0000v\u0000c\u0000h\u0000o\u0000s\u0000t\u0000 \u0000 \u0000 \u0000 \u0000 \u0000 \u0000 \u0000 \u0000 \u0000 \u0000 \u0000 \u0000 \u0000 \u0000 \u0000 \u0000 \u0000 \u0000 \u0000 \u0000 \u0000 \u0000 \u0000 \u0000 \u0000 \u0000 \u0000\n",
      "\n",
      "\u0000\n",
      "\n",
      "\u0000 \u0000 \u0000 \u0000 \u00004\u00000\u00007\u0000 \u0000 \u0000 \u0000 \u0000 \u0000 \u00002\u00000\u0000 \u0000 \u0000 \u0000 \u00001\u00004\u00002\u00005\u00002\u0000 \u0000 \u0000 \u0000 \u0000 \u0000 \u00001\u00007\u00004\u00003\u00002\u0000 \u0000 \u0000 \u0000 \u0000 \u0000 \u0000 \u0000 \u0000 \u0000 \u0000 \u0000 \u0000 \u0000 \u00003\u00004\u00005\u00002\u0000 \u0000 \u0000 \u00000\u0000 \u0000s\u0000v\u0000c\u0000h\u0000o\u0000s\u0000t\u0000 \u0000 \u0000 \u0000 \u0000 \u0000 \u0000 \u0000 \u0000 \u0000 \u0000 \u0000 \u0000 \u0000 \u0000 \u0000 \u0000 \u0000 \u0000 \u0000 \u0000 \u0000 \u0000 \u0000 \u0000 \u0000 \u0000 \u0000\n",
      "\n",
      "\u0000\n",
      "\n",
      "\u0000 \u0000 \u0000 \u0000 \u00002\u00000\u00009\u0000 \u0000 \u0000 \u0000 \u0000 \u0000 \u00001\u00002\u0000 \u0000 \u0000 \u0000 \u0000 \u00002\u00004\u00000\u00004\u0000 \u0000 \u0000 \u0000 \u0000 \u0000 \u0000 \u00003\u00006\u00009\u00006\u0000 \u0000 \u0000 \u0000 \u0000 \u0000 \u0000 \u0000 \u0000 \u0000 \u0000 \u0000 \u0000 \u0000 \u00003\u00005\u00005\u00006\u0000 \u0000 \u0000 \u00000\u0000 \u0000s\u0000v\u0000c\u0000h\u0000o\u0000s\u0000t\u0000 \u0000 \u0000 \u0000 \u0000 \u0000 \u0000 \u0000 \u0000 \u0000 \u0000 \u0000 \u0000 \u0000 \u0000 \u0000 \u0000 \u0000 \u0000 \u0000 \u0000 \u0000 \u0000 \u0000 \u0000 \u0000 \u0000 \u0000\n",
      "\n",
      "\u0000\n",
      "\n",
      "\u0000 \u0000 \u0000 \u0000 \u00001\u00004\u00001\u0000 \u0000 \u0000 \u0000 \u0000 \u0000 \u00001\u00004\u0000 \u0000 \u0000 \u0000 \u0000 \u00001\u00009\u00002\u00004\u0000 \u0000 \u0000 \u0000 \u0000 \u0000 \u0000 \u00002\u00006\u00002\u00004\u0000 \u0000 \u0000 \u0000 \u0000 \u0000 \u0000 \u0000 \u0000 \u0000 \u0000 \u0000 \u0000 \u0000 \u00003\u00005\u00006\u00004\u0000 \u0000 \u0000 \u00000\u0000 \u0000s\u0000v\u0000c\u0000h\u0000o\u0000s\u0000t\u0000 \u0000 \u0000 \u0000 \u0000 \u0000 \u0000 \u0000 \u0000 \u0000 \u0000 \u0000 \u0000 \u0000 \u0000 \u0000 \u0000 \u0000 \u0000 \u0000 \u0000 \u0000 \u0000 \u0000 \u0000 \u0000 \u0000 \u0000\n",
      "\n",
      "\u0000\n",
      "\n",
      "\u0000 \u0000 \u0000 \u0000 \u00003\u00007\u00006\u0000 \u0000 \u0000 \u0000 \u0000 \u0000 \u00001\u00007\u0000 \u0000 \u0000 \u0000 \u0000 \u00002\u00007\u00002\u00000\u0000 \u0000 \u0000 \u0000 \u0000 \u0000 \u0000 \u00004\u00007\u00008\u00008\u0000 \u0000 \u0000 \u0000 \u0000 \u0000 \u0000 \u0000 \u0000 \u0000 \u0000 \u0000 \u0000 \u0000 \u00003\u00005\u00008\u00004\u0000 \u0000 \u0000 \u00000\u0000 \u0000s\u0000v\u0000c\u0000h\u0000o\u0000s\u0000t\u0000 \u0000 \u0000 \u0000 \u0000 \u0000 \u0000 \u0000 \u0000 \u0000 \u0000 \u0000 \u0000 \u0000 \u0000 \u0000 \u0000 \u0000 \u0000 \u0000 \u0000 \u0000 \u0000 \u0000 \u0000 \u0000 \u0000 \u0000\n",
      "\n",
      "\u0000\n",
      "\n",
      "\u0000 \u0000 \u0000 \u0000 \u00003\u00002\u00005\u0000 \u0000 \u0000 \u0000 \u0000 \u0000 \u00001\u00007\u0000 \u0000 \u0000 \u0000 \u0000 \u00005\u00002\u00008\u00000\u0000 \u0000 \u0000 \u0000 \u0000 \u0000 \u00001\u00001\u00008\u00000\u00000\u0000 \u0000 \u0000 \u0000 \u0000 \u0000 \u0000 \u0000 \u0000 \u0000 \u0000 \u0000 \u0000 \u0000 \u00003\u00006\u00001\u00002\u0000 \u0000 \u0000 \u00000\u0000 \u0000s\u0000v\u0000c\u0000h\u0000o\u0000s\u0000t\u0000 \u0000 \u0000 \u0000 \u0000 \u0000 \u0000 \u0000 \u0000 \u0000 \u0000 \u0000 \u0000 \u0000 \u0000 \u0000 \u0000 \u0000 \u0000 \u0000 \u0000 \u0000 \u0000 \u0000 \u0000 \u0000 \u0000 \u0000\n",
      "\n",
      "\u0000\n",
      "\n",
      "\u0000 \u0000 \u0000 \u0000 \u00004\u00004\u00007\u0000 \u0000 \u0000 \u0000 \u0000 \u0000 \u00001\u00004\u0000 \u0000 \u0000 \u0000 \u00002\u00002\u00002\u00003\u00002\u0000 \u0000 \u0000 \u0000 \u0000 \u0000 \u00001\u00001\u00004\u00007\u00006\u0000 \u0000 \u0000 \u0000 \u0000 \u0000 \u0000 \u0000 \u0000 \u0000 \u0000 \u0000 \u0000 \u0000 \u00003\u00006\u00002\u00004\u0000 \u0000 \u0000 \u00000\u0000 \u0000s\u0000v\u0000c\u0000h\u0000o\u0000s\u0000t\u0000 \u0000 \u0000 \u0000 \u0000 \u0000 \u0000 \u0000 \u0000 \u0000 \u0000 \u0000 \u0000 \u0000 \u0000 \u0000 \u0000 \u0000 \u0000 \u0000 \u0000 \u0000 \u0000 \u0000 \u0000 \u0000 \u0000 \u0000\n",
      "\n",
      "\u0000\n",
      "\n",
      "\u0000 \u0000 \u0000 \u0000 \u00002\u00007\u00000\u0000 \u0000 \u0000 \u0000 \u0000 \u0000 \u00001\u00003\u0000 \u0000 \u0000 \u0000 \u0000 \u00003\u00003\u00005\u00006\u0000 \u0000 \u0000 \u0000 \u0000 \u0000 \u00001\u00007\u00007\u00006\u00000\u0000 \u0000 \u0000 \u0000 \u0000 \u0000 \u0000 \u00000\u0000.\u00000\u00006\u0000 \u0000 \u0000 \u00003\u00006\u00005\u00002\u0000 \u0000 \u0000 \u00005\u0000 \u0000s\u0000v\u0000c\u0000h\u0000o\u0000s\u0000t\u0000 \u0000 \u0000 \u0000 \u0000 \u0000 \u0000 \u0000 \u0000 \u0000 \u0000 \u0000 \u0000 \u0000 \u0000 \u0000 \u0000 \u0000 \u0000 \u0000 \u0000 \u0000 \u0000 \u0000 \u0000 \u0000 \u0000 \u0000\n",
      "\n",
      "\u0000\n",
      "\n",
      "\u0000 \u0000 \u0000 \u0000 \u00005\u00000\u00001\u0000 \u0000 \u0000 \u0000 \u0000 \u0000 \u00002\u00000\u0000 \u0000 \u0000 \u0000 \u0000 \u00006\u00001\u00009\u00002\u0000 \u0000 \u0000 \u0000 \u0000 \u0000 \u0000 \u00008\u00000\u00008\u00000\u0000 \u0000 \u0000 \u0000 \u0000 \u0000 \u0000 \u0000 \u0000 \u0000 \u0000 \u0000 \u0000 \u0000 \u00003\u00007\u00004\u00008\u0000 \u0000 \u0000 \u00000\u0000 \u0000s\u0000v\u0000c\u0000h\u0000o\u0000s\u0000t\u0000 \u0000 \u0000 \u0000 \u0000 \u0000 \u0000 \u0000 \u0000 \u0000 \u0000 \u0000 \u0000 \u0000 \u0000 \u0000 \u0000 \u0000 \u0000 \u0000 \u0000 \u0000 \u0000 \u0000 \u0000 \u0000 \u0000 \u0000\n",
      "\n",
      "\u0000\n",
      "\n",
      "\u0000 \u0000 \u0000 \u0000 \u00002\u00005\u00008\u0000 \u0000 \u0000 \u0000 \u0000 \u0000 \u00001\u00006\u0000 \u0000 \u0000 \u0000 \u0000 \u00002\u00008\u00008\u00000\u0000 \u0000 \u0000 \u0000 \u0000 \u0000 \u0000 \u00009\u00003\u00001\u00002\u0000 \u0000 \u0000 \u0000 \u0000 \u0000 \u0000 \u0000 \u0000 \u0000 \u0000 \u0000 \u0000 \u0000 \u00003\u00008\u00000\u00008\u0000 \u0000 \u0000 \u00000\u0000 \u0000s\u0000v\u0000c\u0000h\u0000o\u0000s\u0000t\u0000 \u0000 \u0000 \u0000 \u0000 \u0000 \u0000 \u0000 \u0000 \u0000 \u0000 \u0000 \u0000 \u0000 \u0000 \u0000 \u0000 \u0000 \u0000 \u0000 \u0000 \u0000 \u0000 \u0000 \u0000 \u0000 \u0000 \u0000\n",
      "\n",
      "\u0000\n",
      "\n",
      "\u0000 \u0000 \u0000 \u0000 \u00004\u00009\u00004\u0000 \u0000 \u0000 \u0000 \u0000 \u0000 \u00003\u00004\u0000 \u0000 \u0000 \u0000 \u00001\u00002\u00006\u00006\u00004\u0000 \u0000 \u0000 \u0000 \u0000 \u0000 \u00001\u00004\u00007\u00009\u00002\u0000 \u0000 \u0000 \u0000 \u0000 \u0000 \u0000 \u0000 \u0000 \u0000 \u0000 \u0000 \u0000 \u0000 \u00003\u00009\u00004\u00004\u0000 \u0000 \u0000 \u00000\u0000 \u0000s\u0000v\u0000c\u0000h\u0000o\u0000s\u0000t\u0000 \u0000 \u0000 \u0000 \u0000 \u0000 \u0000 \u0000 \u0000 \u0000 \u0000 \u0000 \u0000 \u0000 \u0000 \u0000 \u0000 \u0000 \u0000 \u0000 \u0000 \u0000 \u0000 \u0000 \u0000 \u0000 \u0000 \u0000\n",
      "\n",
      "\u0000\n",
      "\n",
      "\u0000 \u0000 \u0000 \u0000 \u00001\u00008\u00007\u0000 \u0000 \u0000 \u0000 \u0000 \u0000 \u00001\u00000\u0000 \u0000 \u0000 \u0000 \u0000 \u00002\u00000\u00001\u00002\u0000 \u0000 \u0000 \u0000 \u0000 \u0000 \u0000 \u00002\u00005\u00006\u00000\u0000 \u0000 \u0000 \u0000 \u0000 \u0000 \u0000 \u0000 \u0000 \u0000 \u0000 \u0000 \u0000 \u0000 \u00003\u00009\u00007\u00002\u0000 \u0000 \u0000 \u00000\u0000 \u0000s\u0000v\u0000c\u0000h\u0000o\u0000s\u0000t\u0000 \u0000 \u0000 \u0000 \u0000 \u0000 \u0000 \u0000 \u0000 \u0000 \u0000 \u0000 \u0000 \u0000 \u0000 \u0000 \u0000 \u0000 \u0000 \u0000 \u0000 \u0000 \u0000 \u0000 \u0000 \u0000 \u0000 \u0000\n",
      "\n",
      "\u0000\n",
      "\n",
      "\u0000 \u0000 \u0000 \u0000 \u00002\u00001\u00003\u0000 \u0000 \u0000 \u0000 \u0000 \u0000 \u00001\u00001\u0000 \u0000 \u0000 \u0000 \u0000 \u00002\u00005\u00002\u00004\u0000 \u0000 \u0000 \u0000 \u0000 \u0000 \u0000 \u00004\u00001\u00008\u00000\u0000 \u0000 \u0000 \u0000 \u0000 \u0000 \u0000 \u0000 \u0000 \u0000 \u0000 \u0000 \u0000 \u0000 \u00003\u00009\u00008\u00000\u0000 \u0000 \u0000 \u00000\u0000 \u0000s\u0000v\u0000c\u0000h\u0000o\u0000s\u0000t\u0000 \u0000 \u0000 \u0000 \u0000 \u0000 \u0000 \u0000 \u0000 \u0000 \u0000 \u0000 \u0000 \u0000 \u0000 \u0000 \u0000 \u0000 \u0000 \u0000 \u0000 \u0000 \u0000 \u0000 \u0000 \u0000 \u0000 \u0000\n",
      "\n",
      "\u0000\n",
      "\n",
      "\u0000 \u0000 \u0000 \u0000 \u00002\u00003\u00007\u0000 \u0000 \u0000 \u0000 \u0000 \u0000 \u00001\u00001\u0000 \u0000 \u0000 \u0000 \u0000 \u00002\u00003\u00009\u00006\u0000 \u0000 \u0000 \u0000 \u0000 \u0000 \u00001\u00000\u00009\u00005\u00002\u0000 \u0000 \u0000 \u0000 \u0000 \u0000 \u0000 \u0000 \u0000 \u0000 \u0000 \u0000 \u0000 \u0000 \u00003\u00009\u00008\u00008\u0000 \u0000 \u0000 \u00000\u0000 \u0000s\u0000v\u0000c\u0000h\u0000o\u0000s\u0000t\u0000 \u0000 \u0000 \u0000 \u0000 \u0000 \u0000 \u0000 \u0000 \u0000 \u0000 \u0000 \u0000 \u0000 \u0000 \u0000 \u0000 \u0000 \u0000 \u0000 \u0000 \u0000 \u0000 \u0000 \u0000 \u0000 \u0000 \u0000\n",
      "\n",
      "\u0000\n",
      "\n",
      "\u0000 \u0000 \u0000 \u0000 \u00001\u00004\u00004\u0000 \u0000 \u0000 \u0000 \u0000 \u0000 \u0000 \u00007\u0000 \u0000 \u0000 \u0000 \u0000 \u00001\u00003\u00008\u00004\u0000 \u0000 \u0000 \u0000 \u0000 \u0000 \u0000 \u00002\u00004\u00001\u00006\u0000 \u0000 \u0000 \u0000 \u0000 \u0000 \u0000 \u0000 \u0000 \u0000 \u0000 \u0000 \u0000 \u0000 \u00004\u00001\u00002\u00004\u0000 \u0000 \u0000 \u00000\u0000 \u0000s\u0000v\u0000c\u0000h\u0000o\u0000s\u0000t\u0000 \u0000 \u0000 \u0000 \u0000 \u0000 \u0000 \u0000 \u0000 \u0000 \u0000 \u0000 \u0000 \u0000 \u0000 \u0000 \u0000 \u0000 \u0000 \u0000 \u0000 \u0000 \u0000 \u0000 \u0000 \u0000 \u0000 \u0000\n",
      "\n",
      "\u0000\n",
      "\n",
      "\u0000 \u0000 \u0000 \u0000 \u00001\u00007\u00003\u0000 \u0000 \u0000 \u0000 \u0000 \u0000 \u0000 \u00009\u0000 \u0000 \u0000 \u0000 \u0000 \u00001\u00006\u00009\u00002\u0000 \u0000 \u0000 \u0000 \u0000 \u0000 \u0000 \u00007\u00000\u00002\u00004\u0000 \u0000 \u0000 \u0000 \u0000 \u0000 \u0000 \u0000 \u0000 \u0000 \u0000 \u0000 \u0000 \u0000 \u00004\u00001\u00004\u00004\u0000 \u0000 \u0000 \u00000\u0000 \u0000s\u0000v\u0000c\u0000h\u0000o\u0000s\u0000t\u0000 \u0000 \u0000 \u0000 \u0000 \u0000 \u0000 \u0000 \u0000 \u0000 \u0000 \u0000 \u0000 \u0000 \u0000 \u0000 \u0000 \u0000 \u0000 \u0000 \u0000 \u0000 \u0000 \u0000 \u0000 \u0000 \u0000 \u0000\n",
      "\n",
      "\u0000\n",
      "\n",
      "\u0000 \u0000 \u0000 \u0000 \u00004\u00004\u00003\u0000 \u0000 \u0000 \u0000 \u0000 \u0000 \u00002\u00001\u0000 \u0000 \u0000 \u0000 \u0000 \u00005\u00007\u00001\u00002\u0000 \u0000 \u0000 \u0000 \u0000 \u0000 \u00001\u00005\u00008\u00002\u00008\u0000 \u0000 \u0000 \u0000 \u0000 \u0000 \u0000 \u0000 \u0000 \u0000 \u0000 \u0000 \u0000 \u0000 \u00004\u00003\u00009\u00002\u0000 \u0000 \u0000 \u00000\u0000 \u0000s\u0000v\u0000c\u0000h\u0000o\u0000s\u0000t\u0000 \u0000 \u0000 \u0000 \u0000 \u0000 \u0000 \u0000 \u0000 \u0000 \u0000 \u0000 \u0000 \u0000 \u0000 \u0000 \u0000 \u0000 \u0000 \u0000 \u0000 \u0000 \u0000 \u0000 \u0000 \u0000 \u0000 \u0000\n",
      "\n",
      "\u0000\n",
      "\n",
      "\u0000 \u0000 \u0000 \u0000 \u00002\u00002\u00003\u0000 \u0000 \u0000 \u0000 \u0000 \u0000 \u00001\u00002\u0000 \u0000 \u0000 \u0000 \u0000 \u00002\u00004\u00008\u00000\u0000 \u0000 \u0000 \u0000 \u0000 \u0000 \u0000 \u00004\u00006\u00007\u00002\u0000 \u0000 \u0000 \u0000 \u0000 \u0000 \u0000 \u0000 \u0000 \u0000 \u0000 \u0000 \u0000 \u0000 \u00004\u00005\u00003\u00002\u0000 \u0000 \u0000 \u00000\u0000 \u0000s\u0000v\u0000c\u0000h\u0000o\u0000s\u0000t\u0000 \u0000 \u0000 \u0000 \u0000 \u0000 \u0000 \u0000 \u0000 \u0000 \u0000 \u0000 \u0000 \u0000 \u0000 \u0000 \u0000 \u0000 \u0000 \u0000 \u0000 \u0000 \u0000 \u0000 \u0000 \u0000 \u0000 \u0000\n",
      "\n",
      "\u0000\n",
      "\n",
      "\u0000 \u0000 \u0000 \u0000 \u00001\u00003\u00006\u0000 \u0000 \u0000 \u0000 \u0000 \u0000 \u0000 \u00008\u0000 \u0000 \u0000 \u0000 \u0000 \u00001\u00005\u00009\u00002\u0000 \u0000 \u0000 \u0000 \u0000 \u0000 \u0000 \u00003\u00000\u00006\u00008\u0000 \u0000 \u0000 \u0000 \u0000 \u0000 \u0000 \u0000 \u0000 \u0000 \u0000 \u0000 \u0000 \u0000 \u00004\u00006\u00004\u00004\u0000 \u0000 \u0000 \u00000\u0000 \u0000s\u0000v\u0000c\u0000h\u0000o\u0000s\u0000t\u0000 \u0000 \u0000 \u0000 \u0000 \u0000 \u0000 \u0000 \u0000 \u0000 \u0000 \u0000 \u0000 \u0000 \u0000 \u0000 \u0000 \u0000 \u0000 \u0000 \u0000 \u0000 \u0000 \u0000 \u0000 \u0000 \u0000 \u0000\n",
      "\n",
      "\u0000\n",
      "\n",
      "\u0000 \u0000 \u0000 \u0000 \u00001\u00005\u00005\u0000 \u0000 \u0000 \u0000 \u0000 \u0000 \u0000 \u00009\u0000 \u0000 \u0000 \u0000 \u0000 \u00001\u00006\u00005\u00006\u0000 \u0000 \u0000 \u0000 \u0000 \u0000 \u0000 \u00004\u00005\u00004\u00008\u0000 \u0000 \u0000 \u0000 \u0000 \u0000 \u0000 \u0000 \u0000 \u0000 \u0000 \u0000 \u0000 \u0000 \u00004\u00007\u00003\u00006\u0000 \u0000 \u0000 \u00000\u0000 \u0000s\u0000v\u0000c\u0000h\u0000o\u0000s\u0000t\u0000 \u0000 \u0000 \u0000 \u0000 \u0000 \u0000 \u0000 \u0000 \u0000 \u0000 \u0000 \u0000 \u0000 \u0000 \u0000 \u0000 \u0000 \u0000 \u0000 \u0000 \u0000 \u0000 \u0000 \u0000 \u0000 \u0000 \u0000\n",
      "\n",
      "\u0000\n",
      "\n",
      "\u0000 \u0000 \u0000 \u0000 \u00003\u00009\u00004\u0000 \u0000 \u0000 \u0000 \u0000 \u0000 \u00002\u00005\u0000 \u0000 \u0000 \u0000 \u0000 \u00003\u00006\u00002\u00000\u0000 \u0000 \u0000 \u0000 \u0000 \u0000 \u0000 \u00005\u00005\u00000\u00004\u0000 \u0000 \u0000 \u0000 \u0000 \u0000 \u0000 \u0000 \u0000 \u0000 \u0000 \u0000 \u0000 \u0000 \u00004\u00009\u00002\u00000\u0000 \u0000 \u0000 \u00000\u0000 \u0000s\u0000v\u0000c\u0000h\u0000o\u0000s\u0000t\u0000 \u0000 \u0000 \u0000 \u0000 \u0000 \u0000 \u0000 \u0000 \u0000 \u0000 \u0000 \u0000 \u0000 \u0000 \u0000 \u0000 \u0000 \u0000 \u0000 \u0000 \u0000 \u0000 \u0000 \u0000 \u0000 \u0000 \u0000\n",
      "\n",
      "\u0000\n",
      "\n",
      "\u0000 \u0000 \u0000 \u0000 \u00001\u00006\u00000\u0000 \u0000 \u0000 \u0000 \u0000 \u0000 \u00001\u00000\u0000 \u0000 \u0000 \u0000 \u0000 \u00001\u00007\u00003\u00002\u0000 \u0000 \u0000 \u0000 \u0000 \u0000 \u0000 \u00003\u00008\u00003\u00006\u0000 \u0000 \u0000 \u0000 \u0000 \u0000 \u0000 \u0000 \u0000 \u0000 \u0000 \u0000 \u0000 \u0000 \u00005\u00001\u00006\u00004\u0000 \u0000 \u0000 \u00000\u0000 \u0000s\u0000v\u0000c\u0000h\u0000o\u0000s\u0000t\u0000 \u0000 \u0000 \u0000 \u0000 \u0000 \u0000 \u0000 \u0000 \u0000 \u0000 \u0000 \u0000 \u0000 \u0000 \u0000 \u0000 \u0000 \u0000 \u0000 \u0000 \u0000 \u0000 \u0000 \u0000 \u0000 \u0000 \u0000\n",
      "\n",
      "\u0000\n",
      "\n",
      "\u0000 \u0000 \u0000 \u0000 \u00005\u00007\u00009\u0000 \u0000 \u0000 \u0000 \u0000 \u0000 \u00002\u00006\u0000 \u0000 \u0000 \u0000 \u0000 \u00009\u00000\u00008\u00000\u0000 \u0000 \u0000 \u0000 \u0000 \u0000 \u00003\u00009\u00001\u00002\u00000\u0000 \u0000 \u0000 \u0000 \u0000 \u0000 \u0000 \u00001\u0000.\u00006\u00004\u0000 \u0000 \u0000 \u00005\u00007\u00006\u00000\u0000 \u0000 \u0000 \u00005\u0000 \u0000s\u0000v\u0000c\u0000h\u0000o\u0000s\u0000t\u0000 \u0000 \u0000 \u0000 \u0000 \u0000 \u0000 \u0000 \u0000 \u0000 \u0000 \u0000 \u0000 \u0000 \u0000 \u0000 \u0000 \u0000 \u0000 \u0000 \u0000 \u0000 \u0000 \u0000 \u0000 \u0000 \u0000 \u0000\n",
      "\n",
      "\u0000\n",
      "\n",
      "\u0000 \u0000 \u0000 \u0000 \u00001\u00003\u00001\u0000 \u0000 \u0000 \u0000 \u0000 \u0000 \u0000 \u00008\u0000 \u0000 \u0000 \u0000 \u0000 \u00001\u00005\u00003\u00006\u0000 \u0000 \u0000 \u0000 \u0000 \u0000 \u0000 \u00007\u00000\u00003\u00002\u0000 \u0000 \u0000 \u0000 \u0000 \u0000 \u0000 \u0000 \u0000 \u0000 \u0000 \u0000 \u0000 \u0000 \u00005\u00008\u00005\u00006\u0000 \u0000 \u0000 \u00000\u0000 \u0000s\u0000v\u0000c\u0000h\u0000o\u0000s\u0000t\u0000 \u0000 \u0000 \u0000 \u0000 \u0000 \u0000 \u0000 \u0000 \u0000 \u0000 \u0000 \u0000 \u0000 \u0000 \u0000 \u0000 \u0000 \u0000 \u0000 \u0000 \u0000 \u0000 \u0000 \u0000 \u0000 \u0000 \u0000\n",
      "\n",
      "\u0000\n",
      "\n",
      "\u0000 \u0000 \u0000 \u0000 \u00005\u00006\u00005\u0000 \u0000 \u0000 \u0000 \u0000 \u0000 \u00003\u00002\u0000 \u0000 \u0000 \u0000 \u00001\u00001\u00000\u00008\u00004\u0000 \u0000 \u0000 \u0000 \u0000 \u0000 \u00001\u00003\u00008\u00006\u00008\u0000 \u0000 \u0000 \u0000 \u0000 \u0000 \u0000 \u0000 \u0000 \u0000 \u0000 \u0000 \u0000 \u0000 \u00005\u00009\u00008\u00004\u0000 \u0000 \u0000 \u00000\u0000 \u0000s\u0000v\u0000c\u0000h\u0000o\u0000s\u0000t\u0000 \u0000 \u0000 \u0000 \u0000 \u0000 \u0000 \u0000 \u0000 \u0000 \u0000 \u0000 \u0000 \u0000 \u0000 \u0000 \u0000 \u0000 \u0000 \u0000 \u0000 \u0000 \u0000 \u0000 \u0000 \u0000 \u0000 \u0000\n",
      "\n",
      "\u0000\n",
      "\n",
      "\u0000 \u0000 \u0000 \u0000 \u00002\u00009\u00009\u0000 \u0000 \u0000 \u0000 \u0000 \u0000 \u00001\u00003\u0000 \u0000 \u0000 \u0000 \u0000 \u00004\u00009\u00000\u00004\u0000 \u0000 \u0000 \u0000 \u0000 \u0000 \u0000 \u00008\u00000\u00002\u00004\u0000 \u0000 \u0000 \u0000 \u0000 \u0000 \u0000 \u0000 \u0000 \u0000 \u0000 \u0000 \u0000 \u0000 \u00006\u00000\u00008\u00004\u0000 \u0000 \u0000 \u00000\u0000 \u0000s\u0000v\u0000c\u0000h\u0000o\u0000s\u0000t\u0000 \u0000 \u0000 \u0000 \u0000 \u0000 \u0000 \u0000 \u0000 \u0000 \u0000 \u0000 \u0000 \u0000 \u0000 \u0000 \u0000 \u0000 \u0000 \u0000 \u0000 \u0000 \u0000 \u0000 \u0000 \u0000 \u0000 \u0000\n",
      "\n",
      "\u0000\n",
      "\n",
      "\u0000 \u0000 \u0000 \u0000 \u00002\u00003\u00008\u0000 \u0000 \u0000 \u0000 \u0000 \u0000 \u00002\u00000\u0000 \u0000 \u0000 \u0000 \u0000 \u00002\u00001\u00002\u00004\u0000 \u0000 \u0000 \u0000 \u0000 \u0000 \u0000 \u00003\u00003\u00009\u00006\u0000 \u0000 \u0000 \u0000 \u0000 \u0000 \u0000 \u0000 \u0000 \u0000 \u0000 \u0000 \u0000 \u0000 \u00006\u00001\u00004\u00008\u0000 \u0000 \u0000 \u00000\u0000 \u0000s\u0000v\u0000c\u0000h\u0000o\u0000s\u0000t\u0000 \u0000 \u0000 \u0000 \u0000 \u0000 \u0000 \u0000 \u0000 \u0000 \u0000 \u0000 \u0000 \u0000 \u0000 \u0000 \u0000 \u0000 \u0000 \u0000 \u0000 \u0000 \u0000 \u0000 \u0000 \u0000 \u0000 \u0000\n",
      "\n",
      "\u0000\n",
      "\n",
      "\u0000 \u0000 \u0000 \u0000 \u00004\u00004\u00006\u0000 \u0000 \u0000 \u0000 \u0000 \u0000 \u00002\u00002\u0000 \u0000 \u0000 \u0000 \u0000 \u00005\u00009\u00006\u00000\u0000 \u0000 \u0000 \u0000 \u0000 \u0000 \u00001\u00006\u00005\u00008\u00000\u0000 \u0000 \u0000 \u0000 \u0000 \u0000 \u0000 \u0000 \u0000 \u0000 \u0000 \u0000 \u0000 \u0000 \u00006\u00001\u00008\u00000\u0000 \u0000 \u0000 \u00000\u0000 \u0000s\u0000v\u0000c\u0000h\u0000o\u0000s\u0000t\u0000 \u0000 \u0000 \u0000 \u0000 \u0000 \u0000 \u0000 \u0000 \u0000 \u0000 \u0000 \u0000 \u0000 \u0000 \u0000 \u0000 \u0000 \u0000 \u0000 \u0000 \u0000 \u0000 \u0000 \u0000 \u0000 \u0000 \u0000\n",
      "\n",
      "\u0000\n",
      "\n",
      "\u0000 \u0000 \u0000 \u0000 \u00003\u00000\u00009\u0000 \u0000 \u0000 \u0000 \u0000 \u0000 \u00001\u00006\u0000 \u0000 \u0000 \u0000 \u0000 \u00004\u00005\u00004\u00008\u0000 \u0000 \u0000 \u0000 \u0000 \u0000 \u00001\u00007\u00009\u00004\u00000\u0000 \u0000 \u0000 \u0000 \u0000 \u0000 \u0000 \u0000 \u0000 \u0000 \u0000 \u0000 \u0000 \u0000 \u00006\u00009\u00000\u00008\u0000 \u0000 \u0000 \u00000\u0000 \u0000s\u0000v\u0000c\u0000h\u0000o\u0000s\u0000t\u0000 \u0000 \u0000 \u0000 \u0000 \u0000 \u0000 \u0000 \u0000 \u0000 \u0000 \u0000 \u0000 \u0000 \u0000 \u0000 \u0000 \u0000 \u0000 \u0000 \u0000 \u0000 \u0000 \u0000 \u0000 \u0000 \u0000 \u0000\n",
      "\n",
      "\u0000\n",
      "\n",
      "\u0000 \u0000 \u0000 \u0000 \u00001\u00009\u00005\u0000 \u0000 \u0000 \u0000 \u0000 \u0000 \u0000 \u00009\u0000 \u0000 \u0000 \u0000 \u0000 \u00001\u00007\u00006\u00008\u0000 \u0000 \u0000 \u0000 \u0000 \u0000 \u0000 \u00003\u00005\u00007\u00006\u0000 \u0000 \u0000 \u0000 \u0000 \u0000 \u0000 \u0000 \u0000 \u0000 \u0000 \u0000 \u0000 \u0000 \u00007\u00001\u00003\u00006\u0000 \u0000 \u0000 \u00000\u0000 \u0000s\u0000v\u0000c\u0000h\u0000o\u0000s\u0000t\u0000 \u0000 \u0000 \u0000 \u0000 \u0000 \u0000 \u0000 \u0000 \u0000 \u0000 \u0000 \u0000 \u0000 \u0000 \u0000 \u0000 \u0000 \u0000 \u0000 \u0000 \u0000 \u0000 \u0000 \u0000 \u0000 \u0000 \u0000\n",
      "\n",
      "\u0000\n",
      "\n",
      "\u0000 \u0000 \u0000 \u0000 \u00002\u00003\u00004\u0000 \u0000 \u0000 \u0000 \u0000 \u0000 \u00001\u00003\u0000 \u0000 \u0000 \u0000 \u0000 \u00003\u00000\u00004\u00004\u0000 \u0000 \u0000 \u0000 \u0000 \u0000 \u0000 \u00005\u00007\u00007\u00002\u0000 \u0000 \u0000 \u0000 \u0000 \u0000 \u0000 \u0000 \u0000 \u0000 \u0000 \u0000 \u0000 \u0000 \u00007\u00003\u00000\u00004\u0000 \u0000 \u0000 \u00000\u0000 \u0000s\u0000v\u0000c\u0000h\u0000o\u0000s\u0000t\u0000 \u0000 \u0000 \u0000 \u0000 \u0000 \u0000 \u0000 \u0000 \u0000 \u0000 \u0000 \u0000 \u0000 \u0000 \u0000 \u0000 \u0000 \u0000 \u0000 \u0000 \u0000 \u0000 \u0000 \u0000 \u0000 \u0000 \u0000\n",
      "\n",
      "\u0000\n",
      "\n",
      "\u0000 \u0000 \u0000 \u0000 \u00004\u00003\u00001\u0000 \u0000 \u0000 \u0000 \u0000 \u0000 \u00002\u00000\u0000 \u0000 \u0000 \u0000 \u0000 \u00004\u00001\u00006\u00000\u0000 \u0000 \u0000 \u0000 \u0000 \u0000 \u00001\u00003\u00005\u00002\u00000\u0000 \u0000 \u0000 \u0000 \u0000 \u0000 \u0000 \u0000 \u0000 \u0000 \u0000 \u0000 \u0000 \u0000 \u00007\u00005\u00009\u00002\u0000 \u0000 \u0000 \u00000\u0000 \u0000s\u0000v\u0000c\u0000h\u0000o\u0000s\u0000t\u0000 \u0000 \u0000 \u0000 \u0000 \u0000 \u0000 \u0000 \u0000 \u0000 \u0000 \u0000 \u0000 \u0000 \u0000 \u0000 \u0000 \u0000 \u0000 \u0000 \u0000 \u0000 \u0000 \u0000 \u0000 \u0000 \u0000 \u0000\n",
      "\n",
      "\u0000\n",
      "\n",
      "\u0000 \u0000 \u0000 \u00001\u00002\u00006\u00000\u0000 \u0000 \u0000 \u0000 \u0000 \u00001\u00002\u00002\u0000 \u0000 \u0000 \u00004\u00004\u00007\u00001\u00006\u00004\u0000 \u0000 \u0000 \u0000 \u0000 \u0000 \u00004\u00005\u00001\u00005\u00002\u0000 \u0000 \u0000 \u0000 \u0000 \u0000 \u0000 \u0000 \u0000 \u0000 \u0000 \u0000 \u0000 \u0000 \u00007\u00007\u00006\u00000\u0000 \u0000 \u0000 \u00000\u0000 \u0000s\u0000v\u0000c\u0000h\u0000o\u0000s\u0000t\u0000 \u0000 \u0000 \u0000 \u0000 \u0000 \u0000 \u0000 \u0000 \u0000 \u0000 \u0000 \u0000 \u0000 \u0000 \u0000 \u0000 \u0000 \u0000 \u0000 \u0000 \u0000 \u0000 \u0000 \u0000 \u0000 \u0000 \u0000\n",
      "\n",
      "\u0000\n",
      "\n",
      "\u0000 \u0000 \u0000 \u0000 \u00002\u00002\u00006\u0000 \u0000 \u0000 \u0000 \u0000 \u0000 \u00001\u00001\u0000 \u0000 \u0000 \u0000 \u0000 \u00002\u00000\u00007\u00002\u0000 \u0000 \u0000 \u0000 \u0000 \u0000 \u0000 \u00005\u00000\u00003\u00002\u0000 \u0000 \u0000 \u0000 \u0000 \u0000 \u0000 \u0000 \u0000 \u0000 \u0000 \u0000 \u0000 \u0000 \u00007\u00008\u00002\u00008\u0000 \u0000 \u0000 \u00000\u0000 \u0000s\u0000v\u0000c\u0000h\u0000o\u0000s\u0000t\u0000 \u0000 \u0000 \u0000 \u0000 \u0000 \u0000 \u0000 \u0000 \u0000 \u0000 \u0000 \u0000 \u0000 \u0000 \u0000 \u0000 \u0000 \u0000 \u0000 \u0000 \u0000 \u0000 \u0000 \u0000 \u0000 \u0000 \u0000\n",
      "\n",
      "\u0000\n",
      "\n",
      "\u0000 \u0000 \u0000 \u0000 \u00001\u00001\u00008\u0000 \u0000 \u0000 \u0000 \u0000 \u0000 \u0000 \u00007\u0000 \u0000 \u0000 \u0000 \u0000 \u00001\u00002\u00008\u00004\u0000 \u0000 \u0000 \u0000 \u0000 \u0000 \u0000 \u00005\u00004\u00008\u00008\u0000 \u0000 \u0000 \u0000 \u0000 \u0000 \u0000 \u0000 \u0000 \u0000 \u0000 \u0000 \u0000 \u0000 \u00008\u00008\u00003\u00002\u0000 \u0000 \u0000 \u00000\u0000 \u0000s\u0000v\u0000c\u0000h\u0000o\u0000s\u0000t\u0000 \u0000 \u0000 \u0000 \u0000 \u0000 \u0000 \u0000 \u0000 \u0000 \u0000 \u0000 \u0000 \u0000 \u0000 \u0000 \u0000 \u0000 \u0000 \u0000 \u0000 \u0000 \u0000 \u0000 \u0000 \u0000 \u0000 \u0000\n",
      "\n",
      "\u0000\n",
      "\n",
      "\u0000 \u0000 \u0000 \u0000 \u00001\u00002\u00008\u0000 \u0000 \u0000 \u0000 \u0000 \u0000 \u0000 \u00008\u0000 \u0000 \u0000 \u0000 \u0000 \u00001\u00007\u00003\u00006\u0000 \u0000 \u0000 \u0000 \u0000 \u0000 \u0000 \u00006\u00001\u00004\u00004\u0000 \u0000 \u0000 \u0000 \u0000 \u0000 \u0000 \u0000 \u0000 \u0000 \u0000 \u0000 \u0000 \u0000 \u00009\u00003\u00002\u00008\u0000 \u0000 \u0000 \u00000\u0000 \u0000s\u0000v\u0000c\u0000h\u0000o\u0000s\u0000t\u0000 \u0000 \u0000 \u0000 \u0000 \u0000 \u0000 \u0000 \u0000 \u0000 \u0000 \u0000 \u0000 \u0000 \u0000 \u0000 \u0000 \u0000 \u0000 \u0000 \u0000 \u0000 \u0000 \u0000 \u0000 \u0000 \u0000 \u0000\n",
      "\n",
      "\u0000\n",
      "\n",
      "\u0000 \u0000 \u0000 \u0000 \u00002\u00002\u00002\u0000 \u0000 \u0000 \u0000 \u0000 \u0000 \u00001\u00002\u0000 \u0000 \u0000 \u0000 \u0000 \u00002\u00008\u00007\u00006\u0000 \u0000 \u0000 \u0000 \u0000 \u0000 \u00001\u00000\u00008\u00000\u00000\u0000 \u0000 \u0000 \u0000 \u0000 \u0000 \u0000 \u0000 \u0000 \u0000 \u0000 \u0000 \u0000 \u0000 \u00009\u00003\u00006\u00008\u0000 \u0000 \u0000 \u00000\u0000 \u0000s\u0000v\u0000c\u0000h\u0000o\u0000s\u0000t\u0000 \u0000 \u0000 \u0000 \u0000 \u0000 \u0000 \u0000 \u0000 \u0000 \u0000 \u0000 \u0000 \u0000 \u0000 \u0000 \u0000 \u0000 \u0000 \u0000 \u0000 \u0000 \u0000 \u0000 \u0000 \u0000 \u0000 \u0000\n",
      "\n",
      "\u0000\n",
      "\n",
      "\u0000 \u0000 \u0000 \u0000 \u00001\u00007\u00007\u0000 \u0000 \u0000 \u0000 \u0000 \u0000 \u0000 \u00009\u0000 \u0000 \u0000 \u0000 \u0000 \u00002\u00001\u00002\u00004\u0000 \u0000 \u0000 \u0000 \u0000 \u0000 \u0000 \u00007\u00003\u00009\u00006\u0000 \u0000 \u0000 \u0000 \u0000 \u0000 \u0000 \u0000 \u0000 \u0000 \u0000 \u0000 \u0000 \u00001\u00000\u00000\u00002\u00004\u0000 \u0000 \u0000 \u00000\u0000 \u0000s\u0000v\u0000c\u0000h\u0000o\u0000s\u0000t\u0000 \u0000 \u0000 \u0000 \u0000 \u0000 \u0000 \u0000 \u0000 \u0000 \u0000 \u0000 \u0000 \u0000 \u0000 \u0000 \u0000 \u0000 \u0000 \u0000 \u0000 \u0000 \u0000 \u0000 \u0000 \u0000 \u0000 \u0000\n",
      "\n",
      "\u0000\n",
      "\n",
      "\u0000 \u0000 \u0000 \u0000 \u00001\u00009\u00007\u0000 \u0000 \u0000 \u0000 \u0000 \u0000 \u00001\u00000\u0000 \u0000 \u0000 \u0000 \u0000 \u00002\u00000\u00009\u00002\u0000 \u0000 \u0000 \u0000 \u0000 \u0000 \u0000 \u00007\u00008\u00009\u00006\u0000 \u0000 \u0000 \u0000 \u0000 \u0000 \u0000 \u0000 \u0000 \u0000 \u0000 \u0000 \u0000 \u00001\u00000\u00000\u00007\u00002\u0000 \u0000 \u0000 \u00000\u0000 \u0000s\u0000v\u0000c\u0000h\u0000o\u0000s\u0000t\u0000 \u0000 \u0000 \u0000 \u0000 \u0000 \u0000 \u0000 \u0000 \u0000 \u0000 \u0000 \u0000 \u0000 \u0000 \u0000 \u0000 \u0000 \u0000 \u0000 \u0000 \u0000 \u0000 \u0000 \u0000 \u0000 \u0000 \u0000\n",
      "\n",
      "\u0000\n",
      "\n",
      "\u0000 \u0000 \u0000 \u0000 \u00001\u00002\u00009\u0000 \u0000 \u0000 \u0000 \u0000 \u0000 \u0000 \u00007\u0000 \u0000 \u0000 \u0000 \u0000 \u00002\u00006\u00006\u00000\u0000 \u0000 \u0000 \u0000 \u0000 \u0000 \u0000 \u00007\u00005\u00005\u00006\u0000 \u0000 \u0000 \u0000 \u0000 \u0000 \u0000 \u0000 \u0000 \u0000 \u0000 \u0000 \u0000 \u00001\u00000\u00008\u00002\u00008\u0000 \u0000 \u0000 \u00000\u0000 \u0000s\u0000v\u0000c\u0000h\u0000o\u0000s\u0000t\u0000 \u0000 \u0000 \u0000 \u0000 \u0000 \u0000 \u0000 \u0000 \u0000 \u0000 \u0000 \u0000 \u0000 \u0000 \u0000 \u0000 \u0000 \u0000 \u0000 \u0000 \u0000 \u0000 \u0000 \u0000 \u0000 \u0000 \u0000\n",
      "\n",
      "\u0000\n",
      "\n",
      "\u0000 \u0000 \u0000 \u0000 \u00004\u00006\u00003\u0000 \u0000 \u0000 \u0000 \u0000 \u0000 \u00001\u00009\u0000 \u0000 \u0000 \u0000 \u0000 \u00009\u00008\u00008\u00008\u0000 \u0000 \u0000 \u0000 \u0000 \u0000 \u00003\u00002\u00000\u00002\u00004\u0000 \u0000 \u0000 \u0000 \u0000 \u0000 \u0000 \u00006\u0000.\u00000\u00002\u0000 \u0000 \u00001\u00001\u00002\u00003\u00006\u0000 \u0000 \u0000 \u00005\u0000 \u0000s\u0000v\u0000c\u0000h\u0000o\u0000s\u0000t\u0000 \u0000 \u0000 \u0000 \u0000 \u0000 \u0000 \u0000 \u0000 \u0000 \u0000 \u0000 \u0000 \u0000 \u0000 \u0000 \u0000 \u0000 \u0000 \u0000 \u0000 \u0000 \u0000 \u0000 \u0000 \u0000 \u0000 \u0000\n",
      "\n",
      "\u0000\n",
      "\n",
      "\u0000 \u0000 \u0000 \u0000 \u00002\u00006\u00001\u0000 \u0000 \u0000 \u0000 \u0000 \u0000 \u00001\u00005\u0000 \u0000 \u0000 \u0000 \u0000 \u00003\u00000\u00003\u00002\u0000 \u0000 \u0000 \u0000 \u0000 \u0000 \u00001\u00002\u00006\u00002\u00004\u0000 \u0000 \u0000 \u0000 \u0000 \u0000 \u0000 \u00000\u0000.\u00000\u00006\u0000 \u0000 \u00001\u00001\u00004\u00002\u00004\u0000 \u0000 \u0000 \u00005\u0000 \u0000s\u0000v\u0000c\u0000h\u0000o\u0000s\u0000t\u0000 \u0000 \u0000 \u0000 \u0000 \u0000 \u0000 \u0000 \u0000 \u0000 \u0000 \u0000 \u0000 \u0000 \u0000 \u0000 \u0000 \u0000 \u0000 \u0000 \u0000 \u0000 \u0000 \u0000 \u0000 \u0000 \u0000 \u0000\n",
      "\n",
      "\u0000\n",
      "\n",
      "\u0000 \u0000 \u0000 \u0000 \u00002\u00006\u00003\u0000 \u0000 \u0000 \u0000 \u0000 \u0000 \u00001\u00006\u0000 \u0000 \u0000 \u0000 \u0000 \u00004\u00001\u00002\u00004\u0000 \u0000 \u0000 \u0000 \u0000 \u0000 \u00001\u00001\u00009\u00000\u00008\u0000 \u0000 \u0000 \u0000 \u0000 \u0000 \u0000 \u0000 \u0000 \u0000 \u0000 \u0000 \u0000 \u00001\u00001\u00006\u00000\u00008\u0000 \u0000 \u0000 \u00000\u0000 \u0000s\u0000v\u0000c\u0000h\u0000o\u0000s\u0000t\u0000 \u0000 \u0000 \u0000 \u0000 \u0000 \u0000 \u0000 \u0000 \u0000 \u0000 \u0000 \u0000 \u0000 \u0000 \u0000 \u0000 \u0000 \u0000 \u0000 \u0000 \u0000 \u0000 \u0000 \u0000 \u0000 \u0000 \u0000\n",
      "\n",
      "\u0000\n",
      "\n",
      "\u0000 \u0000 \u0000 \u0000 \u00001\u00009\u00005\u0000 \u0000 \u0000 \u0000 \u0000 \u0000 \u00001\u00002\u0000 \u0000 \u0000 \u0000 \u0000 \u00004\u00000\u00000\u00004\u0000 \u0000 \u0000 \u0000 \u0000 \u0000 \u00001\u00002\u00001\u00003\u00002\u0000 \u0000 \u0000 \u0000 \u0000 \u0000 \u0000 \u0000 \u0000 \u0000 \u0000 \u0000 \u0000 \u00001\u00001\u00009\u00006\u00008\u0000 \u0000 \u0000 \u00000\u0000 \u0000s\u0000v\u0000c\u0000h\u0000o\u0000s\u0000t\u0000 \u0000 \u0000 \u0000 \u0000 \u0000 \u0000 \u0000 \u0000 \u0000 \u0000 \u0000 \u0000 \u0000 \u0000 \u0000 \u0000 \u0000 \u0000 \u0000 \u0000 \u0000 \u0000 \u0000 \u0000 \u0000 \u0000 \u0000\n",
      "\n",
      "\u0000\n",
      "\n",
      "\u0000 \u0000 \u0000 \u0000 \u00005\u00002\u00007\u0000 \u0000 \u0000 \u0000 \u0000 \u0000 \u00001\u00006\u0000 \u0000 \u0000 \u0000 \u0000 \u00006\u00005\u00006\u00004\u0000 \u0000 \u0000 \u0000 \u0000 \u0000 \u00002\u00001\u00001\u00004\u00004\u0000 \u0000 \u0000 \u0000 \u0000 \u0000 \u00001\u00001\u0000.\u00008\u00000\u0000 \u0000 \u00001\u00000\u00009\u00004\u00008\u0000 \u0000 \u0000 \u00005\u0000 \u0000S\u0000y\u0000n\u0000T\u0000P\u0000E\u0000n\u0000h\u0000 \u0000 \u0000 \u0000 \u0000 \u0000 \u0000 \u0000 \u0000 \u0000 \u0000 \u0000 \u0000 \u0000 \u0000 \u0000 \u0000 \u0000 \u0000 \u0000 \u0000 \u0000 \u0000 \u0000 \u0000 \u0000 \u0000\n",
      "\n",
      "\u0000\n",
      "\n",
      "\u0000 \u0000 \u0000 \u0000 \u00002\u00004\u00001\u0000 \u0000 \u0000 \u0000 \u0000 \u0000 \u0000 \u00006\u0000 \u0000 \u0000 \u0000 \u0000 \u00001\u00002\u00008\u00000\u0000 \u0000 \u0000 \u0000 \u0000 \u0000 \u0000 \u00002\u00008\u00005\u00002\u0000 \u0000 \u0000 \u0000 \u0000 \u0000 \u0000 \u0000 \u0000 \u0000 \u0000 \u0000 \u0000 \u0000 \u00004\u00003\u00002\u00004\u0000 \u0000 \u0000 \u00000\u0000 \u0000S\u0000y\u0000n\u0000T\u0000P\u0000E\u0000n\u0000h\u0000S\u0000e\u0000r\u0000v\u0000i\u0000c\u0000e\u0000 \u0000 \u0000 \u0000 \u0000 \u0000 \u0000 \u0000 \u0000 \u0000 \u0000 \u0000 \u0000 \u0000 \u0000 \u0000 \u0000 \u0000 \u0000 \u0000\n",
      "\n",
      "\u0000\n",
      "\n",
      "\u0000 \u0000 \u0000 \u0000 \u0000 \u00007\u00002\u0000 \u0000 \u0000 \u0000 \u0000 \u0000 \u0000 \u00006\u0000 \u0000 \u0000 \u0000 \u0000 \u00001\u00000\u00006\u00004\u0000 \u0000 \u0000 \u0000 \u0000 \u0000 \u0000 \u00004\u00007\u00000\u00000\u0000 \u0000 \u0000 \u0000 \u0000 \u0000 \u0000 \u00000\u0000.\u00001\u00001\u0000 \u0000 \u0000 \u00007\u00008\u00002\u00000\u0000 \u0000 \u0000 \u00005\u0000 \u0000S\u0000y\u0000n\u0000T\u0000P\u0000H\u0000e\u0000l\u0000p\u0000e\u0000r\u0000 \u0000 \u0000 \u0000 \u0000 \u0000 \u0000 \u0000 \u0000 \u0000 \u0000 \u0000 \u0000 \u0000 \u0000 \u0000 \u0000 \u0000 \u0000 \u0000 \u0000 \u0000 \u0000 \u0000\n",
      "\n",
      "\u0000\n",
      "\n",
      "\u0000 \u0000 \u0000 \u00004\u00002\u00005\u00006\u0000 \u0000 \u0000 \u0000 \u0000 \u0000 \u0000 \u00000\u0000 \u0000 \u0000 \u0000 \u0000 \u0000 \u00002\u00004\u00008\u0000 \u0000 \u0000 \u0000 \u0000 \u0000 \u00002\u00001\u00002\u00005\u00002\u0000 \u0000 \u0000 \u0000 \u0000 \u0000 \u0000 \u0000 \u0000 \u0000 \u0000 \u0000 \u0000 \u0000 \u0000 \u0000 \u0000 \u00004\u0000 \u0000 \u0000 \u00000\u0000 \u0000S\u0000y\u0000s\u0000t\u0000e\u0000m\u0000 \u0000 \u0000 \u0000 \u0000 \u0000 \u0000 \u0000 \u0000 \u0000 \u0000 \u0000 \u0000 \u0000 \u0000 \u0000 \u0000 \u0000 \u0000 \u0000 \u0000 \u0000 \u0000 \u0000 \u0000 \u0000 \u0000 \u0000 \u0000\n",
      "\n",
      "\u0000\n",
      "\n",
      "\u0000 \u0000 \u0000 \u0000 \u00002\u00007\u00007\u0000 \u0000 \u0000 \u0000 \u0000 \u0000 \u00002\u00009\u0000 \u0000 \u0000 \u0000 \u0000 \u00006\u00003\u00001\u00006\u0000 \u0000 \u0000 \u0000 \u0000 \u0000 \u00001\u00005\u00005\u00002\u00000\u0000 \u0000 \u0000 \u0000 \u0000 \u0000 \u0000 \u00000\u0000.\u00003\u00000\u0000 \u0000 \u0000 \u00008\u00005\u00004\u00004\u0000 \u0000 \u0000 \u00005\u0000 \u0000t\u0000a\u0000s\u0000k\u0000h\u0000o\u0000s\u0000t\u0000w\u0000 \u0000 \u0000 \u0000 \u0000 \u0000 \u0000 \u0000 \u0000 \u0000 \u0000 \u0000 \u0000 \u0000 \u0000 \u0000 \u0000 \u0000 \u0000 \u0000 \u0000 \u0000 \u0000 \u0000 \u0000 \u0000\n",
      "\n",
      "\u0000\n",
      "\n",
      "\u0000 \u0000 \u0000 \u0000 \u00003\u00009\u00006\u0000 \u0000 \u0000 \u0000 \u0000 \u00002\u00005\u00007\u0000 \u0000 \u0000 \u0000 \u00001\u00006\u00008\u00004\u00004\u0000 \u0000 \u0000 \u0000 \u0000 \u0000 \u0000 \u00007\u00001\u00004\u00004\u0000 \u0000 \u0000 \u0000 \u0000 \u0000 \u0000 \u0000 \u0000 \u0000 \u0000 \u0000 \u0000 \u0000 \u00004\u00001\u00005\u00006\u0000 \u0000 \u0000 \u00000\u0000 \u0000T\u0000e\u0000a\u0000m\u0000V\u0000i\u0000e\u0000w\u0000e\u0000r\u0000_\u0000S\u0000e\u0000r\u0000v\u0000i\u0000c\u0000e\u0000 \u0000 \u0000 \u0000 \u0000 \u0000 \u0000 \u0000 \u0000 \u0000 \u0000 \u0000 \u0000 \u0000 \u0000 \u0000 \u0000\n",
      "\n",
      "\u0000\n",
      "\n",
      "\u0000 \u0000 \u0000 \u0000 \u00004\u00002\u00003\u0000 \u0000 \u0000 \u0000 \u0000 \u0000 \u00001\u00009\u0000 \u0000 \u0000 \u0000 \u00002\u00006\u00007\u00008\u00004\u0000 \u0000 \u0000 \u0000 \u0000 \u0000 \u00001\u00007\u00000\u00002\u00004\u0000 \u0000 \u0000 \u0000 \u0000 \u0000 \u0000 \u0000 \u0000 \u0000 \u0000 \u0000 \u0000 \u0000 \u00004\u00008\u00001\u00002\u0000 \u0000 \u0000 \u00000\u0000 \u0000u\u0000s\u0000o\u0000c\u0000o\u0000r\u0000e\u0000w\u0000o\u0000r\u0000k\u0000e\u0000r\u0000 \u0000 \u0000 \u0000 \u0000 \u0000 \u0000 \u0000 \u0000 \u0000 \u0000 \u0000 \u0000 \u0000 \u0000 \u0000 \u0000 \u0000 \u0000 \u0000 \u0000 \u0000\n",
      "\n",
      "\u0000\n",
      "\n",
      "\u0000 \u0000 \u0000 \u0000 \u00001\u00007\u00005\u0000 \u0000 \u0000 \u0000 \u0000 \u0000 \u00001\u00004\u0000 \u0000 \u0000 \u0000 \u0000 \u00002\u00000\u00000\u00004\u0000 \u0000 \u0000 \u0000 \u0000 \u0000 \u0000 \u00002\u00009\u00006\u00004\u0000 \u0000 \u0000 \u0000 \u0000 \u0000 \u0000 \u0000 \u0000 \u0000 \u0000 \u0000 \u0000 \u0000 \u00004\u00002\u00008\u00000\u0000 \u0000 \u0000 \u00000\u0000 \u0000v\u0000m\u0000n\u0000a\u0000t\u0000 \u0000 \u0000 \u0000 \u0000 \u0000 \u0000 \u0000 \u0000 \u0000 \u0000 \u0000 \u0000 \u0000 \u0000 \u0000 \u0000 \u0000 \u0000 \u0000 \u0000 \u0000 \u0000 \u0000 \u0000 \u0000 \u0000 \u0000 \u0000 \u0000\n",
      "\n",
      "\u0000\n",
      "\n",
      "\u0000 \u0000 \u0000 \u0000 \u0000 \u00008\u00007\u0000 \u0000 \u0000 \u0000 \u0000 \u0000 \u0000 \u00008\u0000 \u0000 \u0000 \u0000 \u0000 \u00007\u00005\u00002\u00004\u0000 \u0000 \u0000 \u0000 \u0000 \u0000 \u0000 \u00001\u00001\u00005\u00006\u0000 \u0000 \u0000 \u0000 \u0000 \u0000 \u0000 \u0000 \u0000 \u0000 \u0000 \u0000 \u0000 \u0000 \u00004\u00002\u00004\u00008\u0000 \u0000 \u0000 \u00000\u0000 \u0000v\u0000m\u0000n\u0000e\u0000t\u0000d\u0000h\u0000c\u0000p\u0000 \u0000 \u0000 \u0000 \u0000 \u0000 \u0000 \u0000 \u0000 \u0000 \u0000 \u0000 \u0000 \u0000 \u0000 \u0000 \u0000 \u0000 \u0000 \u0000 \u0000 \u0000 \u0000 \u0000 \u0000 \u0000\n",
      "\n",
      "\u0000\n",
      "\n",
      "\u0000 \u0000 \u0000 \u0000 \u00005\u00005\u00000\u0000 \u0000 \u0000 \u0000 \u0000 \u0000 \u00002\u00009\u0000 \u0000 \u0000 \u0000 \u00001\u00005\u00004\u00002\u00000\u0000 \u0000 \u0000 \u0000 \u0000 \u0000 \u00001\u00001\u00009\u00008\u00000\u0000 \u0000 \u0000 \u0000 \u0000 \u0000 \u0000 \u0000 \u0000 \u0000 \u0000 \u0000 \u0000 \u0000 \u00004\u00001\u00006\u00004\u0000 \u0000 \u0000 \u00000\u0000 \u0000v\u0000m\u0000w\u0000a\u0000r\u0000e\u0000-\u0000a\u0000u\u0000t\u0000h\u0000d\u0000 \u0000 \u0000 \u0000 \u0000 \u0000 \u0000 \u0000 \u0000 \u0000 \u0000 \u0000 \u0000 \u0000 \u0000 \u0000 \u0000 \u0000 \u0000 \u0000 \u0000 \u0000 \u0000\n",
      "\n",
      "\u0000\n",
      "\n",
      "\u0000 \u0000 \u0000 \u0000 \u00004\u00005\u00003\u0000 \u0000 \u0000 \u0000 \u0000 \u0000 \u00003\u00007\u0000 \u0000 \u0000 \u0000 \u00002\u00008\u00001\u00001\u00006\u0000 \u0000 \u0000 \u0000 \u0000 \u0000 \u00001\u00004\u00008\u00005\u00006\u0000 \u0000 \u0000 \u0000 \u0000 \u0000 \u0000 \u0000 \u0000 \u0000 \u0000 \u0000 \u0000 \u0000 \u00005\u00001\u00002\u00004\u0000 \u0000 \u0000 \u00000\u0000 \u0000v\u0000m\u0000w\u0000a\u0000r\u0000e\u0000-\u0000h\u0000o\u0000s\u0000t\u0000d\u0000 \u0000 \u0000 \u0000 \u0000 \u0000 \u0000 \u0000 \u0000 \u0000 \u0000 \u0000 \u0000 \u0000 \u0000 \u0000 \u0000 \u0000 \u0000 \u0000 \u0000 \u0000 \u0000\n",
      "\n",
      "\u0000\n",
      "\n",
      "\u0000 \u0000 \u0000 \u0000 \u00001\u00005\u00000\u0000 \u0000 \u0000 \u0000 \u0000 \u0000 \u00001\u00001\u0000 \u0000 \u0000 \u0000 \u0000 \u00001\u00005\u00006\u00004\u0000 \u0000 \u0000 \u0000 \u0000 \u0000 \u0000 \u00007\u00004\u00003\u00006\u0000 \u0000 \u0000 \u0000 \u0000 \u0000 \u0000 \u00000\u0000.\u00000\u00005\u0000 \u0000 \u00001\u00000\u00001\u00009\u00006\u0000 \u0000 \u0000 \u00005\u0000 \u0000v\u0000m\u0000w\u0000a\u0000r\u0000e\u0000-\u0000t\u0000r\u0000a\u0000y\u0000 \u0000 \u0000 \u0000 \u0000 \u0000 \u0000 \u0000 \u0000 \u0000 \u0000 \u0000 \u0000 \u0000 \u0000 \u0000 \u0000 \u0000 \u0000 \u0000 \u0000 \u0000 \u0000 \u0000\n",
      "\n",
      "\u0000\n",
      "\n",
      "\u0000 \u0000 \u0000 \u0000 \u00002\u00002\u00009\u0000 \u0000 \u0000 \u0000 \u0000 \u0000 \u00001\u00003\u0000 \u0000 \u0000 \u0000 \u0000 \u00002\u00006\u00000\u00008\u0000 \u0000 \u0000 \u0000 \u0000 \u0000 \u0000 \u00003\u00005\u00008\u00000\u0000 \u0000 \u0000 \u0000 \u0000 \u0000 \u0000 \u0000 \u0000 \u0000 \u0000 \u0000 \u0000 \u0000 \u00004\u00002\u00004\u00000\u0000 \u0000 \u0000 \u00000\u0000 \u0000v\u0000m\u0000w\u0000a\u0000r\u0000e\u0000-\u0000u\u0000s\u0000b\u0000a\u0000r\u0000b\u0000i\u0000t\u0000r\u0000a\u0000t\u0000o\u0000r\u00006\u00004\u0000 \u0000 \u0000 \u0000 \u0000 \u0000 \u0000 \u0000 \u0000 \u0000 \u0000 \u0000 \u0000\n",
      "\n",
      "\u0000\n",
      "\n",
      "\u0000 \u0000 \u0000 \u0000 \u00001\u00006\u00006\u0000 \u0000 \u0000 \u0000 \u0000 \u0000 \u00001\u00001\u0000 \u0000 \u0000 \u0000 \u0000 \u00001\u00006\u00005\u00006\u0000 \u0000 \u0000 \u0000 \u0000 \u0000 \u0000 \u00003\u00006\u00004\u00008\u0000 \u0000 \u0000 \u0000 \u0000 \u0000 \u0000 \u0000 \u0000 \u0000 \u0000 \u0000 \u0000 \u0000 \u0000 \u00007\u00006\u00008\u0000 \u0000 \u0000 \u00000\u0000 \u0000w\u0000i\u0000n\u0000i\u0000n\u0000i\u0000t\u0000 \u0000 \u0000 \u0000 \u0000 \u0000 \u0000 \u0000 \u0000 \u0000 \u0000 \u0000 \u0000 \u0000 \u0000 \u0000 \u0000 \u0000 \u0000 \u0000 \u0000 \u0000 \u0000 \u0000 \u0000 \u0000 \u0000 \u0000\n",
      "\n",
      "\u0000\n",
      "\n",
      "\u0000 \u0000 \u0000 \u0000 \u00002\u00007\u00004\u0000 \u0000 \u0000 \u0000 \u0000 \u0000 \u00001\u00002\u0000 \u0000 \u0000 \u0000 \u0000 \u00002\u00006\u00002\u00000\u0000 \u0000 \u0000 \u0000 \u0000 \u0000 \u0000 \u00009\u00009\u00003\u00002\u0000 \u0000 \u0000 \u0000 \u0000 \u0000 \u0000 \u0000 \u0000 \u0000 \u0000 \u0000 \u0000 \u0000 \u00004\u00007\u00006\u00008\u0000 \u0000 \u0000 \u00005\u0000 \u0000w\u0000i\u0000n\u0000l\u0000o\u0000g\u0000o\u0000n\u0000 \u0000 \u0000 \u0000 \u0000 \u0000 \u0000 \u0000 \u0000 \u0000 \u0000 \u0000 \u0000 \u0000 \u0000 \u0000 \u0000 \u0000 \u0000 \u0000 \u0000 \u0000 \u0000 \u0000 \u0000 \u0000 \u0000\n",
      "\n",
      "\u0000\n",
      "\n",
      "\u0000 \u0000 \u0000 \u0000 \u00001\u00008\u00007\u0000 \u0000 \u0000 \u0000 \u0000 \u0000 \u00001\u00003\u0000 \u0000 \u0000 \u0000 \u0000 \u00001\u00009\u00006\u00008\u0000 \u0000 \u0000 \u0000 \u0000 \u0000 \u0000 \u00003\u00003\u00004\u00000\u0000 \u0000 \u0000 \u0000 \u0000 \u0000 \u0000 \u0000 \u0000 \u0000 \u0000 \u0000 \u0000 \u0000 \u00005\u00007\u00004\u00000\u0000 \u0000 \u0000 \u00000\u0000 \u0000W\u0000m\u0000i\u0000A\u0000p\u0000S\u0000r\u0000v\u0000 \u0000 \u0000 \u0000 \u0000 \u0000 \u0000 \u0000 \u0000 \u0000 \u0000 \u0000 \u0000 \u0000 \u0000 \u0000 \u0000 \u0000 \u0000 \u0000 \u0000 \u0000 \u0000 \u0000 \u0000 \u0000 \u0000\n",
      "\n",
      "\u0000\n",
      "\n",
      "\u0000 \u0000 \u0000 \u0000 \u00001\u00005\u00008\u0000 \u0000 \u0000 \u0000 \u0000 \u0000 \u0000 \u00009\u0000 \u0000 \u0000 \u0000 \u0000 \u00002\u00002\u00008\u00000\u0000 \u0000 \u0000 \u0000 \u0000 \u0000 \u0000 \u00008\u00002\u00000\u00004\u0000 \u0000 \u0000 \u0000 \u0000 \u0000 \u0000 \u0000 \u0000 \u0000 \u0000 \u0000 \u0000 \u0000 \u00001\u00004\u00003\u00002\u0000 \u0000 \u0000 \u00000\u0000 \u0000W\u0000m\u0000i\u0000P\u0000r\u0000v\u0000S\u0000E\u0000 \u0000 \u0000 \u0000 \u0000 \u0000 \u0000 \u0000 \u0000 \u0000 \u0000 \u0000 \u0000 \u0000 \u0000 \u0000 \u0000 \u0000 \u0000 \u0000 \u0000 \u0000 \u0000 \u0000 \u0000 \u0000 \u0000\n",
      "\n",
      "\u0000\n",
      "\n",
      "\u0000 \u0000 \u0000 \u0000 \u00001\u00007\u00004\u0000 \u0000 \u0000 \u0000 \u0000 \u0000 \u00001\u00000\u0000 \u0000 \u0000 \u0000 \u0000 \u00002\u00008\u00009\u00002\u0000 \u0000 \u0000 \u0000 \u0000 \u0000 \u0000 \u00008\u00009\u00009\u00006\u0000 \u0000 \u0000 \u0000 \u0000 \u0000 \u0000 \u0000 \u0000 \u0000 \u0000 \u0000 \u0000 \u0000 \u00004\u00005\u00001\u00002\u0000 \u0000 \u0000 \u00000\u0000 \u0000W\u0000m\u0000i\u0000P\u0000r\u0000v\u0000S\u0000E\u0000 \u0000 \u0000 \u0000 \u0000 \u0000 \u0000 \u0000 \u0000 \u0000 \u0000 \u0000 \u0000 \u0000 \u0000 \u0000 \u0000 \u0000 \u0000 \u0000 \u0000 \u0000 \u0000 \u0000 \u0000 \u0000 \u0000\n",
      "\n",
      "\u0000\n",
      "\n",
      "\u0000 \u0000 \u0000 \u0000 \u00003\u00000\u00004\u0000 \u0000 \u0000 \u0000 \u0000 \u0000 \u00001\u00003\u0000 \u0000 \u0000 \u0000 \u0000 \u00003\u00006\u00009\u00002\u0000 \u0000 \u0000 \u0000 \u0000 \u0000 \u0000 \u00003\u00008\u00003\u00002\u0000 \u0000 \u0000 \u0000 \u0000 \u0000 \u0000 \u0000 \u0000 \u0000 \u0000 \u0000 \u0000 \u0000 \u0000 \u00008\u00006\u00008\u0000 \u0000 \u0000 \u00000\u0000 \u0000W\u0000U\u0000D\u0000F\u0000H\u0000o\u0000s\u0000t\u0000 \u0000 \u0000 \u0000 \u0000 \u0000 \u0000 \u0000 \u0000 \u0000 \u0000 \u0000 \u0000 \u0000 \u0000 \u0000 \u0000 \u0000 \u0000 \u0000 \u0000 \u0000 \u0000 \u0000 \u0000 \u0000 \u0000\n",
      "\n",
      "\u0000\n",
      "\n",
      "\u0000 \u0000 \u0000 \u0000 \u00002\u00002\u00009\u0000 \u0000 \u0000 \u0000 \u0000 \u0000 \u00001\u00000\u0000 \u0000 \u0000 \u0000 \u0000 \u00001\u00007\u00001\u00002\u0000 \u0000 \u0000 \u0000 \u0000 \u0000 \u0000 \u00006\u00006\u00008\u00004\u0000 \u0000 \u0000 \u0000 \u0000 \u0000 \u0000 \u0000 \u0000 \u0000 \u0000 \u0000 \u0000 \u00001\u00002\u00006\u00006\u00000\u0000 \u0000 \u0000 \u00000\u0000 \u0000W\u0000U\u0000D\u0000F\u0000H\u0000o\u0000s\u0000t\u0000 \u0000 \u0000 \u0000 \u0000 \u0000 \u0000 \u0000 \u0000 \u0000 \u0000 \u0000 \u0000 \u0000 \u0000 \u0000 \u0000 \u0000 \u0000 \u0000 \u0000 \u0000 \u0000 \u0000 \u0000 \u0000 \u0000\n",
      "\n",
      "\u0000\n",
      "\n",
      "\u0000 \u0000 \u0000 \u0000 \u00005\u00009\u00008\u0000 \u0000 \u0000 \u0000 \u0000 \u0000 \u00002\u00009\u0000 \u0000 \u0000 \u0000 \u00001\u00006\u00001\u00008\u00004\u0000 \u0000 \u0000 \u0000 \u0000 \u0000 \u00003\u00008\u00005\u00005\u00006\u0000 \u0000 \u0000 \u0000 \u0000 \u0000 \u0000 \u00000\u0000.\u00004\u00007\u0000 \u0000 \u0000 \u00006\u00004\u00009\u00002\u0000 \u0000 \u0000 \u00005\u0000 \u0000Y\u0000o\u0000u\u0000r\u0000P\u0000h\u0000o\u0000n\u0000e\u0000 \u0000 \u0000 \u0000 \u0000 \u0000 \u0000 \u0000 \u0000 \u0000 \u0000 \u0000 \u0000 \u0000 \u0000 \u0000 \u0000 \u0000 \u0000 \u0000 \u0000 \u0000 \u0000 \u0000 \u0000 \u0000\n",
      "\n",
      "\u0000\n",
      "\n",
      "\u0000 \u0000 \u0000 \u0000 \u00007\u00003\u00004\u0000 \u0000 \u0000 \u0000 \u0000 \u0000 \u00004\u00008\u0000 \u0000 \u0000 \u0000 \u00007\u00009\u00001\u00000\u00000\u0000 \u0000 \u0000 \u0000 \u0000 \u0000 \u00009\u00003\u00000\u00005\u00002\u0000 \u0000 \u0000 \u0000 \u0000 \u0000 \u0000 \u00002\u0000.\u00007\u00007\u0000 \u0000 \u0000 \u00001\u00004\u00006\u00008\u0000 \u0000 \u0000 \u00005\u0000 \u0000Z\u0000o\u0000o\u0000m\u0000 \u0000 \u0000 \u0000 \u0000 \u0000 \u0000 \u0000 \u0000 \u0000 \u0000 \u0000 \u0000 \u0000 \u0000 \u0000 \u0000 \u0000 \u0000 \u0000 \u0000 \u0000 \u0000 \u0000 \u0000 \u0000 \u0000 \u0000 \u0000 \u0000 \u0000\n",
      "\n",
      "\u0000\n",
      "\n",
      "\u0000 \u0000 \u0000 \u00001\u00002\u00004\u00009\u0000 \u0000 \u0000 \u0000 \u0000 \u00001\u00004\u00008\u0000 \u0000 \u0000 \u00001\u00003\u00008\u00009\u00001\u00002\u0000 \u0000 \u0000 \u0000 \u0000 \u00001\u00006\u00001\u00006\u00002\u00004\u0000 \u0000 \u0000 \u0000 \u0000 \u0000 \u00001\u00000\u0000.\u00005\u00005\u0000 \u0000 \u0000 \u00003\u00002\u00002\u00000\u0000 \u0000 \u0000 \u00005\u0000 \u0000Z\u0000o\u0000o\u0000m\u0000 \u0000 \u0000 \u0000 \u0000 \u0000 \u0000 \u0000 \u0000 \u0000 \u0000 \u0000 \u0000 \u0000 \u0000 \u0000 \u0000 \u0000 \u0000 \u0000 \u0000 \u0000 \u0000 \u0000 \u0000 \u0000 \u0000 \u0000 \u0000 \u0000 \u0000\n",
      "\n",
      "\u0000\n",
      "\n",
      "\u0000\n",
      "\n",
      "\u0000\n",
      "\n",
      "\u0000\n",
      "\n",
      "\u0000\n",
      "\n",
      "\u0000\n"
     ]
    }
   ],
   "source": [
    "# file is a iterable object so\n",
    "# below is how we iterate through object\n",
    "for i in f:\n",
    "    print(i)"
   ]
  },
  {
   "cell_type": "code",
   "execution_count": 61,
   "metadata": {},
   "outputs": [
    {
     "data": {
      "text/plain": [
       "''"
      ]
     },
     "execution_count": 61,
     "metadata": {},
     "output_type": "execute_result"
    }
   ],
   "source": [
    "f.read()"
   ]
  },
  {
   "cell_type": "code",
   "execution_count": 62,
   "metadata": {},
   "outputs": [
    {
     "data": {
      "text/plain": [
       "0"
      ]
     },
     "execution_count": 62,
     "metadata": {},
     "output_type": "execute_result"
    }
   ],
   "source": [
    "f.seek(0)"
   ]
  },
  {
   "cell_type": "code",
   "execution_count": 63,
   "metadata": {
    "collapsed": true
   },
   "outputs": [
    {
     "data": {
      "text/plain": [
       "'ÿþ\\n\\x00\\n\\x00H\\x00a\\x00n\\x00d\\x00l\\x00e\\x00s\\x00 \\x00 \\x00N\\x00P\\x00M\\x00(\\x00K\\x00)\\x00 \\x00 \\x00 \\x00 \\x00P\\x00M\\x00(\\x00K\\x00)\\x00 \\x00 \\x00 \\x00 \\x00 \\x00 \\x00W\\x00S\\x00(\\x00K\\x00)\\x00 \\x00 \\x00 \\x00 \\x00 \\x00C\\x00P\\x00U\\x00(\\x00s\\x00)\\x00 \\x00 \\x00 \\x00 \\x00 \\x00I\\x00d\\x00 \\x00 \\x00S\\x00I\\x00 \\x00P\\x00r\\x00o\\x00c\\x00e\\x00s\\x00s\\x00N\\x00a\\x00m\\x00e\\x00 \\x00 \\x00 \\x00 \\x00 \\x00 \\x00 \\x00 \\x00 \\x00 \\x00 \\x00 \\x00 \\x00 \\x00 \\x00 \\x00 \\x00 \\x00 \\x00 \\x00 \\x00 \\x00 \\x00\\n\\x00\\n\\x00-\\x00-\\x00-\\x00-\\x00-\\x00-\\x00-\\x00 \\x00 \\x00-\\x00-\\x00-\\x00-\\x00-\\x00-\\x00 \\x00 \\x00 \\x00 \\x00-\\x00-\\x00-\\x00-\\x00-\\x00 \\x00 \\x00 \\x00 \\x00 \\x00 \\x00-\\x00-\\x00-\\x00-\\x00-\\x00 \\x00 \\x00 \\x00 \\x00 \\x00-\\x00-\\x00-\\x00-\\x00-\\x00-\\x00 \\x00 \\x00 \\x00 \\x00 \\x00-\\x00-\\x00 \\x00 \\x00-\\x00-\\x00 \\x00-\\x00-\\x00-\\x00-\\x00-\\x00-\\x00-\\x00-\\x00-\\x00-\\x00-\\x00 \\x00 \\x00 \\x00 \\x00 \\x00 \\x00 \\x00 \\x00 \\x00 \\x00 \\x00 \\x00 \\x00 \\x00 \\x00 \\x00 \\x00 \\x00 \\x00 \\x00 \\x00 \\x00 \\x00\\n\\x00\\n\\x00 \\x00 \\x00 \\x00 \\x002\\x008\\x000\\x00 \\x00 \\x00 \\x00 \\x00 \\x00 \\x001\\x008\\x00 \\x00 \\x00 \\x00 \\x001\\x004\\x000\\x003\\x002\\x00 \\x00 \\x00 \\x00 \\x00 \\x00 \\x002\\x000\\x008\\x002\\x008\\x00 \\x00 \\x00 \\x00 \\x00 \\x00 \\x001\\x001\\x00.\\x005\\x009\\x00 \\x00 \\x00 \\x003\\x000\\x003\\x002\\x00 \\x00 \\x00 \\x000\\x00 \\x00a\\x00u\\x00d\\x00i\\x00o\\x00d\\x00g\\x00 \\x00 \\x00 \\x00 \\x00 \\x00 \\x00 \\x00 \\x00 \\x00 \\x00 \\x00 \\x00 \\x00 \\x00 \\x00 \\x00 \\x00 \\x00 \\x00 \\x00 \\x00 \\x00 \\x00 \\x00 \\x00 \\x00 \\x00\\n\\x00\\n\\x00 \\x00 \\x00 \\x00 \\x003\\x001\\x009\\x00 \\x00 \\x00 \\x00 \\x00 \\x00 \\x001\\x008\\x00 \\x00 \\x00 \\x00 \\x00 \\x005\\x004\\x004\\x004\\x00 \\x00 \\x00 \\x00 \\x00 \\x00 \\x002\\x003\\x000\\x009\\x006\\x00 \\x00 \\x00 \\x00 \\x00 \\x00 \\x00 \\x000\\x00.\\x002\\x000\\x00 \\x00 \\x00 \\x007\\x001\\x002\\x004\\x00 \\x00 \\x00 \\x005\\x00 \\x00b\\x00a\\x00c\\x00k\\x00g\\x00r\\x00o\\x00u\\x00n\\x00d\\x00T\\x00a\\x00s\\x00k\\x00H\\x00o\\x00s\\x00t\\x00 \\x00 \\x00 \\x00 \\x00 \\x00 \\x00 \\x00 \\x00 \\x00 \\x00 \\x00 \\x00 \\x00 \\x00 \\x00 \\x00\\n\\x00\\n\\x00 \\x00 \\x00 \\x00 \\x002\\x002\\x001\\x00 \\x00 \\x00 \\x00 \\x00 \\x00 \\x001\\x004\\x00 \\x00 \\x00 \\x00 \\x001\\x006\\x006\\x007\\x006\\x00 \\x00 \\x00 \\x00 \\x00 \\x00 \\x003\\x006\\x002\\x006\\x000\\x00 \\x00 \\x00 \\x00 \\x00 \\x00 \\x00 \\x000\\x00.\\x001\\x009\\x00 \\x00 \\x00 \\x001\\x003\\x001\\x006\\x00 \\x00 \\x00 \\x005\\x00 \\x00c\\x00h\\x00r\\x00o\\x00m\\x00e\\x00 \\x00 \\x00 \\x00 \\x00 \\x00 \\x00 \\x00 \\x00 \\x00 \\x00 \\x00 \\x00 \\x00 \\x00 \\x00 \\x00 \\x00 \\x00 \\x00 \\x00 \\x00 \\x00 \\x00 \\x00 \\x00 \\x00 \\x00 \\x00\\n\\x00\\n\\x00 \\x00 \\x00 \\x00 \\x002\\x009\\x000\\x00 \\x00 \\x00 \\x00 \\x00 \\x00 \\x001\\x007\\x00 \\x00 \\x00 \\x00 \\x003\\x003\\x004\\x008\\x004\\x00 \\x00 \\x00 \\x00 \\x00 \\x00 \\x006\\x006\\x009\\x001\\x006\\x00 \\x00 \\x00 \\x00 \\x00 \\x00 \\x00 \\x001\\x00.\\x004\\x007\\x00 \\x00 \\x00 \\x001\\x007\\x004\\x008\\x00 \\x00 \\x00 \\x005\\x00 \\x00c\\x00h\\x00r\\x00o\\x00m\\x00e\\x00 \\x00 \\x00 \\x00 \\x00 \\x00 \\x00 \\x00 \\x00 \\x00 \\x00 \\x00 \\x00 \\x00 \\x00 \\x00 \\x00 \\x00 \\x00 \\x00 \\x00 \\x00 \\x00 \\x00 \\x00 \\x00 \\x00 \\x00 \\x00\\n\\x00\\n\\x00 \\x00 \\x00 \\x00 \\x003\\x005\\x007\\x00 \\x00 \\x00 \\x00 \\x00 \\x00 \\x002\\x001\\x00 \\x00 \\x00 \\x00 \\x006\\x003\\x001\\x002\\x008\\x00 \\x00 \\x00 \\x00 \\x00 \\x001\\x000\\x003\\x002\\x008\\x008\\x00 \\x00 \\x00 \\x00 \\x00 \\x00 \\x001\\x008\\x00.\\x002\\x007\\x00 \\x00 \\x00 \\x003\\x001\\x008\\x008\\x00 \\x00 \\x00 \\x005\\x00 \\x00c\\x00h\\x00r\\x00o\\x00m\\x00e\\x00 \\x00 \\x00 \\x00 \\x00 \\x00 \\x00 \\x00 \\x00 \\x00 \\x00 \\x00 \\x00 \\x00 \\x00 \\x00 \\x00 \\x00 \\x00 \\x00 \\x00 \\x00 \\x00 \\x00 \\x00 \\x00 \\x00 \\x00 \\x00\\n\\x00\\n\\x00 \\x00 \\x00 \\x001\\x004\\x003\\x000\\x00 \\x00 \\x00 \\x00 \\x00 \\x00 \\x005\\x005\\x00 \\x00 \\x00 \\x001\\x000\\x006\\x005\\x006\\x008\\x00 \\x00 \\x00 \\x00 \\x00 \\x001\\x008\\x000\\x009\\x008\\x008\\x00 \\x00 \\x00 \\x00 \\x00 \\x00 \\x001\\x002\\x00.\\x000\\x009\\x00 \\x00 \\x00 \\x003\\x003\\x005\\x006\\x00 \\x00 \\x00 \\x005\\x00 \\x00c\\x00h\\x00r\\x00o\\x00m\\x00e\\x00 \\x00 \\x00 \\x00 \\x00 \\x00 \\x00 \\x00 \\x00 \\x00 \\x00 \\x00 \\x00 \\x00 \\x00 \\x00 \\x00 \\x00 \\x00 \\x00 \\x00 \\x00 \\x00 \\x00 \\x00 \\x00 \\x00 \\x00 \\x00\\n\\x00\\n\\x00 \\x00 \\x00 \\x00 \\x002\\x009\\x000\\x00 \\x00 \\x00 \\x00 \\x00 \\x00 \\x001\\x007\\x00 \\x00 \\x00 \\x00 \\x00 \\x009\\x004\\x008\\x000\\x00 \\x00 \\x00 \\x00 \\x00 \\x00 \\x001\\x009\\x002\\x004\\x004\\x00 \\x00 \\x00 \\x00 \\x00 \\x00 \\x00 \\x000\\x00.\\x003\\x009\\x00 \\x00 \\x00 \\x005\\x008\\x000\\x008\\x00 \\x00 \\x00 \\x005\\x00 \\x00c\\x00h\\x00r\\x00o\\x00m\\x00e\\x00 \\x00 \\x00 \\x00 \\x00 \\x00 \\x00 \\x00 \\x00 \\x00 \\x00 \\x00 \\x00 \\x00 \\x00 \\x00 \\x00 \\x00 \\x00 \\x00 \\x00 \\x00 \\x00 \\x00 \\x00 \\x00 \\x00 \\x00 \\x00\\n\\x00\\n\\x00 \\x00 \\x00 \\x00 \\x004\\x009\\x009\\x00 \\x00 \\x00 \\x00 \\x00 \\x00 \\x002\\x004\\x00 \\x00 \\x00 \\x00 \\x008\\x006\\x007\\x006\\x004\\x00 \\x00 \\x00 \\x00 \\x00 \\x001\\x000\\x000\\x000\\x003\\x002\\x00 \\x00 \\x00 \\x00 \\x00 \\x00 \\x00 \\x006\\x00.\\x007\\x002\\x00 \\x00 \\x00 \\x006\\x008\\x007\\x006\\x00 \\x00 \\x00 \\x005\\x00 \\x00c\\x00h\\x00r\\x00o\\x00m\\x00e\\x00 \\x00 \\x00 \\x00 \\x00 \\x00 \\x00 \\x00 \\x00 \\x00 \\x00 \\x00 \\x00 \\x00 \\x00 \\x00 \\x00 \\x00 \\x00 \\x00 \\x00 \\x00 \\x00 \\x00 \\x00 \\x00 \\x00 \\x00 \\x00\\n\\x00\\n\\x00 \\x00 \\x00 \\x00 \\x001\\x006\\x007\\x00 \\x00 \\x00 \\x00 \\x00 \\x00 \\x00 \\x009\\x00 \\x00 \\x00 \\x00 \\x00 \\x001\\x009\\x007\\x006\\x00 \\x00 \\x00 \\x00 \\x00 \\x00 \\x00 \\x006\\x008\\x008\\x004\\x00 \\x00 \\x00 \\x00 \\x00 \\x00 \\x00 \\x000\\x00.\\x000\\x005\\x00 \\x00 \\x00 \\x008\\x001\\x002\\x000\\x00 \\x00 \\x00 \\x005\\x00 \\x00c\\x00h\\x00r\\x00o\\x00m\\x00e\\x00 \\x00 \\x00 \\x00 \\x00 \\x00 \\x00 \\x00 \\x00 \\x00 \\x00 \\x00 \\x00 \\x00 \\x00 \\x00 \\x00 \\x00 \\x00 \\x00 \\x00 \\x00 \\x00 \\x00 \\x00 \\x00 \\x00 \\x00 \\x00\\n\\x00\\n\\x00 \\x00 \\x00 \\x00 \\x003\\x008\\x002\\x00 \\x00 \\x00 \\x00 \\x00 \\x00 \\x002\\x009\\x00 \\x00 \\x00 \\x00 \\x001\\x007\\x004\\x009\\x006\\x00 \\x00 \\x00 \\x00 \\x00 \\x00 \\x003\\x006\\x002\\x009\\x006\\x00 \\x00 \\x00 \\x00 \\x00 \\x00 \\x00 \\x002\\x00.\\x005\\x002\\x00 \\x00 \\x00 \\x008\\x001\\x009\\x006\\x00 \\x00 \\x00 \\x005\\x00 \\x00c\\x00h\\x00r\\x00o\\x00m\\x00e\\x00 \\x00 \\x00 \\x00 \\x00 \\x00 \\x00 \\x00 \\x00 \\x00 \\x00 \\x00 \\x00 \\x00 \\x00 \\x00 \\x00 \\x00 \\x00 \\x00 \\x00 \\x00 \\x00 \\x00 \\x00 \\x00 \\x00 \\x00 \\x00\\n\\x00\\n\\x00 \\x00 \\x00 \\x00 \\x002\\x003\\x000\\x00 \\x00 \\x00 \\x00 \\x00 \\x00 \\x001\\x004\\x00 \\x00 \\x00 \\x00 \\x001\\x000\\x006\\x004\\x008\\x00 \\x00 \\x00 \\x00 \\x00 \\x00 \\x001\\x007\\x009\\x006\\x004\\x00 \\x00 \\x00 \\x00 \\x00 \\x00 \\x00 \\x000\\x00.\\x001\\x004\\x00 \\x00 \\x00 \\x008\\x008\\x000\\x008\\x00 \\x00 \\x00 \\x005\\x00 \\x00c\\x00h\\x00r\\x00o\\x00m\\x00e\\x00 \\x00 \\x00 \\x00 \\x00 \\x00 \\x00 \\x00 \\x00 \\x00 \\x00 \\x00 \\x00 \\x00 \\x00 \\x00 \\x00 \\x00 \\x00 \\x00 \\x00 \\x00 \\x00 \\x00 \\x00 \\x00 \\x00 \\x00 \\x00\\n\\x00\\n\\x00 \\x00 \\x00 \\x00 \\x002\\x000\\x008\\x00 \\x00 \\x00 \\x00 \\x00 \\x00 \\x001\\x004\\x00 \\x00 \\x00 \\x00 \\x001\\x004\\x009\\x002\\x008\\x00 \\x00 \\x00 \\x00 \\x00 \\x00 \\x002\\x004\\x005\\x008\\x008\\x00 \\x00 \\x00 \\x00 \\x00 \\x00 \\x00 \\x000\\x00.\\x001\\x003\\x00 \\x00 \\x001\\x003\\x002\\x003\\x006\\x00 \\x00 \\x00 \\x005\\x00 \\x00c\\x00h\\x00r\\x00o\\x00m\\x00e\\x00 \\x00 \\x00 \\x00 \\x00 \\x00 \\x00 \\x00 \\x00 \\x00 \\x00 \\x00 \\x00 \\x00 \\x00 \\x00 \\x00 \\x00 \\x00 \\x00 \\x00 \\x00 \\x00 \\x00 \\x00 \\x00 \\x00 \\x00 \\x00\\n\\x00\\n\\x00 \\x00 \\x00 \\x00 \\x002\\x006\\x002\\x00 \\x00 \\x00 \\x00 \\x00 \\x00 \\x001\\x004\\x00 \\x00 \\x00 \\x00 \\x00 \\x005\\x008\\x008\\x000\\x00 \\x00 \\x00 \\x00 \\x00 \\x00 \\x001\\x005\\x008\\x000\\x000\\x00 \\x00 \\x00 \\x00 \\x00 \\x00 \\x00 \\x000\\x00.\\x005\\x002\\x00 \\x00 \\x00 \\x001\\x007\\x005\\x006\\x00 \\x00 \\x00 \\x005\\x00 \\x00c\\x00o\\x00n\\x00h\\x00o\\x00s\\x00t\\x00 \\x00 \\x00 \\x00 \\x00 \\x00 \\x00 \\x00 \\x00 \\x00 \\x00 \\x00 \\x00 \\x00 \\x00 \\x00 \\x00 \\x00 \\x00 \\x00 \\x00 \\x00 \\x00 \\x00 \\x00 \\x00 \\x00 \\x00\\n\\x00\\n\\x00 \\x00 \\x00 \\x00 \\x002\\x006\\x005\\x00 \\x00 \\x00 \\x00 \\x00 \\x00 \\x001\\x004\\x00 \\x00 \\x00 \\x00 \\x00 \\x009\\x006\\x008\\x008\\x00 \\x00 \\x00 \\x00 \\x00 \\x00 \\x002\\x000\\x003\\x003\\x006\\x00 \\x00 \\x00 \\x00 \\x00 \\x00 \\x00 \\x000\\x00.\\x001\\x009\\x00 \\x00 \\x00 \\x003\\x008\\x000\\x000\\x00 \\x00 \\x00 \\x005\\x00 \\x00c\\x00o\\x00n\\x00h\\x00o\\x00s\\x00t\\x00 \\x00 \\x00 \\x00 \\x00 \\x00 \\x00 \\x00 \\x00 \\x00 \\x00 \\x00 \\x00 \\x00 \\x00 \\x00 \\x00 \\x00 \\x00 \\x00 \\x00 \\x00 \\x00 \\x00 \\x00 \\x00 \\x00 \\x00\\n\\x00\\n\\x00 \\x00 \\x00 \\x00 \\x001\\x004\\x003\\x00 \\x00 \\x00 \\x00 \\x00 \\x00 \\x001\\x000\\x00 \\x00 \\x00 \\x00 \\x00 \\x006\\x007\\x001\\x002\\x00 \\x00 \\x00 \\x00 \\x00 \\x00 \\x00 \\x001\\x007\\x005\\x006\\x00 \\x00 \\x00 \\x00 \\x00 \\x00 \\x00 \\x00 \\x00 \\x00 \\x00 \\x00 \\x00 \\x00 \\x006\\x003\\x009\\x006\\x00 \\x00 \\x00 \\x000\\x00 \\x00c\\x00o\\x00n\\x00h\\x00o\\x00s\\x00t\\x00 \\x00 \\x00 \\x00 \\x00 \\x00 \\x00 \\x00 \\x00 \\x00 \\x00 \\x00 \\x00 \\x00 \\x00 \\x00 \\x00 \\x00 \\x00 \\x00 \\x00 \\x00 \\x00 \\x00 \\x00 \\x00 \\x00 \\x00\\n\\x00\\n\\x00 \\x00 \\x00 \\x00 \\x003\\x008\\x008\\x00 \\x00 \\x00 \\x00 \\x00 \\x00 \\x002\\x000\\x00 \\x00 \\x00 \\x00 \\x00 \\x006\\x008\\x008\\x004\\x00 \\x00 \\x00 \\x00 \\x00 \\x00 \\x001\\x007\\x006\\x000\\x000\\x00 \\x00 \\x00 \\x00 \\x00 \\x00 \\x00 \\x000\\x00.\\x007\\x003\\x00 \\x00 \\x00 \\x006\\x005\\x006\\x000\\x00 \\x00 \\x00 \\x005\\x00 \\x00C\\x00p\\x00t\\x00H\\x00o\\x00s\\x00t\\x00 \\x00 \\x00 \\x00 \\x00 \\x00 \\x00 \\x00 \\x00 \\x00 \\x00 \\x00 \\x00 \\x00 \\x00 \\x00 \\x00 \\x00 \\x00 \\x00 \\x00 \\x00 \\x00 \\x00 \\x00 \\x00 \\x00 \\x00\\n\\x00\\n\\x00 \\x00 \\x00 \\x00 \\x007\\x003\\x003\\x00 \\x00 \\x00 \\x00 \\x00 \\x00 \\x002\\x005\\x00 \\x00 \\x00 \\x00 \\x00 \\x001\\x009\\x004\\x000\\x00 \\x00 \\x00 \\x00 \\x00 \\x00 \\x00 \\x003\\x003\\x007\\x006\\x00 \\x00 \\x00 \\x00 \\x00 \\x00 \\x00 \\x00 \\x00 \\x00 \\x00 \\x00 \\x00 \\x00 \\x00 \\x006\\x006\\x008\\x00 \\x00 \\x00 \\x000\\x00 \\x00c\\x00s\\x00r\\x00s\\x00s\\x00 \\x00 \\x00 \\x00 \\x00 \\x00 \\x00 \\x00 \\x00 \\x00 \\x00 \\x00 \\x00 \\x00 \\x00 \\x00 \\x00 \\x00 \\x00 \\x00 \\x00 \\x00 \\x00 \\x00 \\x00 \\x00 \\x00 \\x00 \\x00 \\x00\\n\\x00\\n\\x00 \\x00 \\x00 \\x00 \\x006\\x002\\x001\\x00 \\x00 \\x00 \\x00 \\x00 \\x00 \\x002\\x000\\x00 \\x00 \\x00 \\x00 \\x00 \\x002\\x004\\x000\\x000\\x00 \\x00 \\x00 \\x00 \\x00 \\x00 \\x00 \\x005\\x009\\x001\\x002\\x00 \\x00 \\x00 \\x00 \\x00 \\x00 \\x00 \\x00 \\x00 \\x00 \\x00 \\x00 \\x00 \\x00 \\x008\\x007\\x006\\x008\\x00 \\x00 \\x00 \\x005\\x00 \\x00c\\x00s\\x00r\\x00s\\x00s\\x00 \\x00 \\x00 \\x00 \\x00 \\x00 \\x00 \\x00 \\x00 \\x00 \\x00 \\x00 \\x00 \\x00 \\x00 \\x00 \\x00 \\x00 \\x00 \\x00 \\x00 \\x00 \\x00 \\x00 \\x00 \\x00 \\x00 \\x00 \\x00 \\x00\\n\\x00\\n\\x00 \\x00 \\x00 \\x00 \\x004\\x001\\x006\\x00 \\x00 \\x00 \\x00 \\x00 \\x00 \\x001\\x005\\x00 \\x00 \\x00 \\x00 \\x00 \\x003\\x006\\x009\\x002\\x00 \\x00 \\x00 \\x00 \\x00 \\x00 \\x001\\x004\\x004\\x003\\x002\\x00 \\x00 \\x00 \\x00 \\x00 \\x00 \\x00 \\x001\\x00.\\x003\\x004\\x00 \\x00 \\x001\\x001\\x000\\x003\\x006\\x00 \\x00 \\x00 \\x005\\x00 \\x00c\\x00t\\x00f\\x00m\\x00o\\x00n\\x00 \\x00 \\x00 \\x00 \\x00 \\x00 \\x00 \\x00 \\x00 \\x00 \\x00 \\x00 \\x00 \\x00 \\x00 \\x00 \\x00 \\x00 \\x00 \\x00 \\x00 \\x00 \\x00 \\x00 \\x00 \\x00 \\x00 \\x00 \\x00\\n\\x00\\n\\x00 \\x00 \\x00 \\x00 \\x002\\x003\\x008\\x00 \\x00 \\x00 \\x00 \\x00 \\x00 \\x002\\x003\\x00 \\x00 \\x00 \\x00 \\x00 \\x005\\x005\\x007\\x002\\x00 \\x00 \\x00 \\x00 \\x00 \\x00 \\x001\\x002\\x006\\x002\\x008\\x00 \\x00 \\x00 \\x00 \\x00 \\x00 \\x00 \\x000\\x00.\\x002\\x005\\x00 \\x00 \\x00 \\x006\\x008\\x004\\x000\\x00 \\x00 \\x00 \\x005\\x00 \\x00d\\x00l\\x00l\\x00h\\x00o\\x00s\\x00t\\x00 \\x00 \\x00 \\x00 \\x00 \\x00 \\x00 \\x00 \\x00 \\x00 \\x00 \\x00 \\x00 \\x00 \\x00 \\x00 \\x00 \\x00 \\x00 \\x00 \\x00 \\x00 \\x00 \\x00 \\x00 \\x00 \\x00 \\x00\\n\\x00\\n\\x00 \\x00 \\x00 \\x00 \\x00 \\x008\\x001\\x00 \\x00 \\x00 \\x00 \\x00 \\x00 \\x00 \\x006\\x00 \\x00 \\x00 \\x00 \\x00 \\x001\\x004\\x001\\x006\\x00 \\x00 \\x00 \\x00 \\x00 \\x00 \\x00 \\x004\\x005\\x002\\x000\\x00 \\x00 \\x00 \\x00 \\x00 \\x00 \\x00 \\x000\\x00.\\x000\\x003\\x00 \\x00 \\x00 \\x008\\x002\\x003\\x002\\x00 \\x00 \\x00 \\x005\\x00 \\x00d\\x00p\\x00t\\x00f\\x00_\\x00h\\x00e\\x00l\\x00p\\x00e\\x00r\\x00 \\x00 \\x00 \\x00 \\x00 \\x00 \\x00 \\x00 \\x00 \\x00 \\x00 \\x00 \\x00 \\x00 \\x00 \\x00 \\x00 \\x00 \\x00 \\x00 \\x00 \\x00 \\x00 \\x00\\n\\x00\\n\\x00 \\x00 \\x00 \\x00 \\x009\\x001\\x003\\x00 \\x00 \\x00 \\x00 \\x00 \\x00 \\x003\\x004\\x00 \\x00 \\x00 \\x00 \\x006\\x009\\x001\\x004\\x004\\x00 \\x00 \\x00 \\x00 \\x00 \\x00 \\x009\\x002\\x008\\x006\\x000\\x00 \\x00 \\x00 \\x00 \\x00 \\x00 \\x00 \\x00 \\x00 \\x00 \\x00 \\x00 \\x00 \\x001\\x000\\x008\\x009\\x006\\x00 \\x00 \\x00 \\x005\\x00 \\x00d\\x00w\\x00m\\x00 \\x00 \\x00 \\x00 \\x00 \\x00 \\x00 \\x00 \\x00 \\x00 \\x00 \\x00 \\x00 \\x00 \\x00 \\x00 \\x00 \\x00 \\x00 \\x00 \\x00 \\x00 \\x00 \\x00 \\x00 \\x00 \\x00 \\x00 \\x00 \\x00 \\x00 \\x00\\n\\x00\\n\\x00 \\x00 \\x00 \\x00 \\x006\\x009\\x003\\x00 \\x00 \\x00 \\x00 \\x00 \\x00 \\x008\\x008\\x00 \\x00 \\x00 \\x001\\x008\\x007\\x005\\x007\\x006\\x00 \\x00 \\x00 \\x00 \\x00 \\x001\\x004\\x002\\x001\\x002\\x008\\x00 \\x00 \\x00 \\x00 \\x00 \\x00 \\x00 \\x007\\x00.\\x005\\x006\\x00 \\x00 \\x001\\x000\\x009\\x006\\x000\\x00 \\x00 \\x00 \\x005\\x00 \\x00E\\x00p\\x00i\\x00c\\x00G\\x00a\\x00m\\x00e\\x00s\\x00L\\x00a\\x00u\\x00n\\x00c\\x00h\\x00e\\x00r\\x00 \\x00 \\x00 \\x00 \\x00 \\x00 \\x00 \\x00 \\x00 \\x00 \\x00 \\x00 \\x00 \\x00 \\x00 \\x00 \\x00 \\x00\\n\\x00\\n\\x00 \\x00 \\x00 \\x00 \\x002\\x009\\x003\\x00 \\x00 \\x00 \\x00 \\x00 \\x00 \\x002\\x000\\x00 \\x00 \\x00 \\x00 \\x002\\x000\\x008\\x004\\x008\\x00 \\x00 \\x00 \\x00 \\x00 \\x00 \\x003\\x000\\x000\\x001\\x002\\x00 \\x00 \\x00 \\x00 \\x00 \\x00 \\x00 \\x000\\x00.\\x001\\x004\\x00 \\x00 \\x001\\x001\\x009\\x007\\x002\\x00 \\x00 \\x00 \\x005\\x00 \\x00E\\x00p\\x00i\\x00c\\x00W\\x00e\\x00b\\x00H\\x00e\\x00l\\x00p\\x00e\\x00r\\x00 \\x00 \\x00 \\x00 \\x00 \\x00 \\x00 \\x00 \\x00 \\x00 \\x00 \\x00 \\x00 \\x00 \\x00 \\x00 \\x00 \\x00 \\x00 \\x00 \\x00 \\x00\\n\\x00\\n\\x00 \\x00 \\x00 \\x00 \\x004\\x003\\x006\\x00 \\x00 \\x00 \\x00 \\x00 \\x00 \\x002\\x004\\x00 \\x00 \\x00 \\x00 \\x003\\x005\\x001\\x008\\x004\\x00 \\x00 \\x00 \\x00 \\x00 \\x00 \\x003\\x005\\x004\\x007\\x002\\x00 \\x00 \\x00 \\x00 \\x00 \\x00 \\x00 \\x000\\x00.\\x002\\x000\\x00 \\x00 \\x001\\x002\\x005\\x006\\x000\\x00 \\x00 \\x00 \\x005\\x00 \\x00E\\x00p\\x00i\\x00c\\x00W\\x00e\\x00b\\x00H\\x00e\\x00l\\x00p\\x00e\\x00r\\x00 \\x00 \\x00 \\x00 \\x00 \\x00 \\x00 \\x00 \\x00 \\x00 \\x00 \\x00 \\x00 \\x00 \\x00 \\x00 \\x00 \\x00 \\x00 \\x00 \\x00 \\x00\\n\\x00\\n\\x00 \\x00 \\x00 \\x00 \\x001\\x002\\x009\\x00 \\x00 \\x00 \\x00 \\x00 \\x00 \\x00 \\x008\\x00 \\x00 \\x00 \\x00 \\x00 \\x001\\x008\\x007\\x006\\x00 \\x00 \\x00 \\x00 \\x00 \\x00 \\x00 \\x003\\x000\\x001\\x006\\x00 \\x00 \\x00 \\x00 \\x00 \\x00 \\x00 \\x00 \\x00 \\x00 \\x00 \\x00 \\x00 \\x00 \\x003\\x003\\x001\\x006\\x00 \\x00 \\x00 \\x000\\x00 \\x00e\\x00s\\x00i\\x00f\\x00_\\x00u\\x00f\\x00 \\x00 \\x00 \\x00 \\x00 \\x00 \\x00 \\x00 \\x00 \\x00 \\x00 \\x00 \\x00 \\x00 \\x00 \\x00 \\x00 \\x00 \\x00 \\x00 \\x00 \\x00 \\x00 \\x00 \\x00 \\x00 \\x00 \\x00\\n\\x00\\n\\x00 \\x00 \\x00 \\x002\\x004\\x001\\x005\\x00 \\x00 \\x00 \\x00 \\x00 \\x00 \\x008\\x000\\x00 \\x00 \\x00 \\x00 \\x006\\x008\\x005\\x002\\x004\\x00 \\x00 \\x00 \\x00 \\x00 \\x001\\x003\\x001\\x001\\x000\\x000\\x00 \\x00 \\x00 \\x00 \\x00 \\x00 \\x002\\x002\\x00.\\x000\\x006\\x00 \\x00 \\x00 \\x005\\x001\\x004\\x000\\x00 \\x00 \\x00 \\x005\\x00 \\x00e\\x00x\\x00p\\x00l\\x00o\\x00r\\x00e\\x00r\\x00 \\x00 \\x00 \\x00 \\x00 \\x00 \\x00 \\x00 \\x00 \\x00 \\x00 \\x00 \\x00 \\x00 \\x00 \\x00 \\x00 \\x00 \\x00 \\x00 \\x00 \\x00 \\x00 \\x00 \\x00 \\x00 \\x00\\n\\x00\\n\\x00 \\x00 \\x00 \\x00 \\x00 \\x003\\x002\\x00 \\x00 \\x00 \\x00 \\x00 \\x00 \\x00 \\x005\\x00 \\x00 \\x00 \\x00 \\x00 \\x001\\x005\\x007\\x002\\x00 \\x00 \\x00 \\x00 \\x00 \\x00 \\x00 \\x001\\x001\\x000\\x008\\x00 \\x00 \\x00 \\x00 \\x00 \\x00 \\x00 \\x00 \\x00 \\x00 \\x00 \\x00 \\x00 \\x00 \\x00 \\x006\\x003\\x006\\x00 \\x00 \\x00 \\x000\\x00 \\x00f\\x00o\\x00n\\x00t\\x00d\\x00r\\x00v\\x00h\\x00o\\x00s\\x00t\\x00 \\x00 \\x00 \\x00 \\x00 \\x00 \\x00 \\x00 \\x00 \\x00 \\x00 \\x00 \\x00 \\x00 \\x00 \\x00 \\x00 \\x00 \\x00 \\x00 \\x00 \\x00 \\x00 \\x00\\n\\x00\\n\\x00 \\x00 \\x00 \\x00 \\x00 \\x003\\x002\\x00 \\x00 \\x00 \\x00 \\x00 \\x00 \\x00 \\x006\\x00 \\x00 \\x00 \\x00 \\x00 \\x002\\x000\\x000\\x004\\x00 \\x00 \\x00 \\x00 \\x00 \\x00 \\x00 \\x005\\x000\\x008\\x008\\x00 \\x00 \\x00 \\x00 \\x00 \\x00 \\x00 \\x00 \\x00 \\x00 \\x00 \\x00 \\x00 \\x00 \\x002\\x003\\x005\\x006\\x00 \\x00 \\x00 \\x005\\x00 \\x00f\\x00o\\x00n\\x00t\\x00d\\x00r\\x00v\\x00h\\x00o\\x00s\\x00t\\x00 \\x00 \\x00 \\x00 \\x00 \\x00 \\x00 \\x00 \\x00 \\x00 \\x00 \\x00 \\x00 \\x00 \\x00 \\x00 \\x00 \\x00 \\x00 \\x00 \\x00 \\x00 \\x00 \\x00\\n\\x00\\n\\x00 \\x00 \\x00 \\x00 \\x001\\x009\\x001\\x00 \\x00 \\x00 \\x00 \\x00 \\x00 \\x001\\x001\\x00 \\x00 \\x00 \\x00 \\x00 \\x001\\x007\\x004\\x008\\x00 \\x00 \\x00 \\x00 \\x00 \\x00 \\x00 \\x00 \\x008\\x008\\x004\\x00 \\x00 \\x00 \\x00 \\x00 \\x00 \\x00 \\x00 \\x00 \\x00 \\x00 \\x00 \\x00 \\x00 \\x006\\x005\\x006\\x004\\x00 \\x00 \\x00 \\x000\\x00 \\x00G\\x00o\\x00o\\x00g\\x00l\\x00e\\x00C\\x00r\\x00a\\x00s\\x00h\\x00H\\x00a\\x00n\\x00d\\x00l\\x00e\\x00r\\x00 \\x00 \\x00 \\x00 \\x00 \\x00 \\x00 \\x00 \\x00 \\x00 \\x00 \\x00 \\x00 \\x00 \\x00 \\x00 \\x00\\n\\x00\\n\\x00 \\x00 \\x00 \\x00 \\x001\\x006\\x000\\x00 \\x00 \\x00 \\x00 \\x00 \\x00 \\x00 \\x009\\x00 \\x00 \\x00 \\x00 \\x00 \\x001\\x007\\x000\\x008\\x00 \\x00 \\x00 \\x00 \\x00 \\x00 \\x00 \\x00 \\x008\\x006\\x004\\x00 \\x00 \\x00 \\x00 \\x00 \\x00 \\x00 \\x00 \\x00 \\x00 \\x00 \\x00 \\x00 \\x00 \\x001\\x009\\x004\\x008\\x00 \\x00 \\x00 \\x000\\x00 \\x00G\\x00o\\x00o\\x00g\\x00l\\x00e\\x00C\\x00r\\x00a\\x00s\\x00h\\x00H\\x00a\\x00n\\x00d\\x00l\\x00e\\x00r\\x006\\x004\\x00 \\x00 \\x00 \\x00 \\x00 \\x00 \\x00 \\x00 \\x00 \\x00 \\x00 \\x00 \\x00 \\x00 \\x00\\n\\x00\\n\\x00 \\x00 \\x00 \\x00 \\x002\\x001\\x005\\x00 \\x00 \\x00 \\x00 \\x00 \\x00 \\x001\\x003\\x00 \\x00 \\x00 \\x00 \\x00 \\x002\\x000\\x004\\x000\\x00 \\x00 \\x00 \\x00 \\x00 \\x00 \\x00 \\x00 \\x009\\x007\\x002\\x00 \\x00 \\x00 \\x00 \\x00 \\x00 \\x00 \\x00 \\x00 \\x00 \\x00 \\x00 \\x00 \\x001\\x001\\x006\\x002\\x008\\x00 \\x00 \\x00 \\x000\\x00 \\x00G\\x00o\\x00o\\x00g\\x00l\\x00e\\x00U\\x00p\\x00d\\x00a\\x00t\\x00e\\x00 \\x00 \\x00 \\x00 \\x00 \\x00 \\x00 \\x00 \\x00 \\x00 \\x00 \\x00 \\x00 \\x00 \\x00 \\x00 \\x00 \\x00 \\x00 \\x00 \\x00 \\x00 \\x00\\n\\x00\\n\\x00 \\x00 \\x00 \\x00 \\x005\\x004\\x009\\x00 \\x00 \\x00 \\x00 \\x00 \\x00 \\x001\\x007\\x00 \\x00 \\x00 \\x00 \\x003\\x001\\x007\\x006\\x004\\x00 \\x00 \\x00 \\x00 \\x00 \\x00 \\x00 \\x009\\x004\\x000\\x004\\x00 \\x00 \\x00 \\x00 \\x00 \\x00 \\x00 \\x00 \\x00 \\x00 \\x00 \\x00 \\x00 \\x00 \\x004\\x009\\x003\\x002\\x00 \\x00 \\x00 \\x000\\x00 \\x00H\\x00P\\x00S\\x00u\\x00p\\x00p\\x00o\\x00r\\x00t\\x00S\\x00o\\x00l\\x00u\\x00t\\x00i\\x00o\\x00n\\x00s\\x00F\\x00r\\x00a\\x00m\\x00e\\x00w\\x00o\\x00r\\x00k\\x00S\\x00e\\x00r\\x00v\\x00i\\x00c\\x00e\\x00\\n\\x00\\n\\x00 \\x00 \\x00 \\x00 \\x00 \\x00 \\x000\\x00 \\x00 \\x00 \\x00 \\x00 \\x00 \\x00 \\x000\\x00 \\x00 \\x00 \\x00 \\x00 \\x00 \\x00 \\x006\\x000\\x00 \\x00 \\x00 \\x00 \\x00 \\x00 \\x00 \\x00 \\x00 \\x00 \\x008\\x00 \\x00 \\x00 \\x00 \\x00 \\x00 \\x00 \\x00 \\x00 \\x00 \\x00 \\x00 \\x00 \\x00 \\x00 \\x00 \\x00 \\x000\\x00 \\x00 \\x00 \\x000\\x00 \\x00I\\x00d\\x00l\\x00e\\x00 \\x00 \\x00 \\x00 \\x00 \\x00 \\x00 \\x00 \\x00 \\x00 \\x00 \\x00 \\x00 \\x00 \\x00 \\x00 \\x00 \\x00 \\x00 \\x00 \\x00 \\x00 \\x00 \\x00 \\x00 \\x00 \\x00 \\x00 \\x00 \\x00 \\x00\\n\\x00\\n\\x00 \\x00 \\x00 \\x00 \\x002\\x002\\x002\\x00 \\x00 \\x00 \\x00 \\x00 \\x00 \\x001\\x001\\x00 \\x00 \\x00 \\x00 \\x00 \\x002\\x009\\x000\\x000\\x00 \\x00 \\x00 \\x00 \\x00 \\x00 \\x00 \\x005\\x002\\x001\\x006\\x00 \\x00 \\x00 \\x00 \\x00 \\x00 \\x00 \\x00 \\x00 \\x00 \\x00 \\x00 \\x00 \\x00 \\x002\\x008\\x007\\x002\\x00 \\x00 \\x00 \\x000\\x00 \\x00i\\x00g\\x00f\\x00x\\x00C\\x00U\\x00I\\x00S\\x00e\\x00r\\x00v\\x00i\\x00c\\x00e\\x00 \\x00 \\x00 \\x00 \\x00 \\x00 \\x00 \\x00 \\x00 \\x00 \\x00 \\x00 \\x00 \\x00 \\x00 \\x00 \\x00 \\x00 \\x00 \\x00 \\x00\\n\\x00\\n\\x00 \\x00 \\x00 \\x00 \\x002\\x001\\x006\\x00 \\x00 \\x00 \\x00 \\x00 \\x00 \\x001\\x004\\x00 \\x00 \\x00 \\x00 \\x00 \\x003\\x005\\x000\\x004\\x00 \\x00 \\x00 \\x00 \\x00 \\x00 \\x001\\x002\\x004\\x004\\x000\\x00 \\x00 \\x00 \\x00 \\x00 \\x00 \\x00 \\x000\\x00.\\x001\\x006\\x00 \\x00 \\x00 \\x005\\x008\\x006\\x000\\x00 \\x00 \\x00 \\x005\\x00 \\x00i\\x00g\\x00f\\x00x\\x00E\\x00M\\x00 \\x00 \\x00 \\x00 \\x00 \\x00 \\x00 \\x00 \\x00 \\x00 \\x00 \\x00 \\x00 \\x00 \\x00 \\x00 \\x00 \\x00 \\x00 \\x00 \\x00 \\x00 \\x00 \\x00 \\x00 \\x00 \\x00 \\x00 \\x00\\n\\x00\\n\\x00 \\x00 \\x00 \\x00 \\x001\\x004\\x005\\x00 \\x00 \\x00 \\x00 \\x00 \\x00 \\x001\\x000\\x00 \\x00 \\x00 \\x00 \\x00 \\x002\\x003\\x005\\x006\\x00 \\x00 \\x00 \\x00 \\x00 \\x00 \\x00 \\x009\\x000\\x004\\x008\\x00 \\x00 \\x00 \\x00 \\x00 \\x00 \\x00 \\x000\\x00.\\x000\\x008\\x00 \\x00 \\x00 \\x008\\x003\\x008\\x000\\x00 \\x00 \\x00 \\x005\\x00 \\x00i\\x00g\\x00f\\x00x\\x00H\\x00K\\x00 \\x00 \\x00 \\x00 \\x00 \\x00 \\x00 \\x00 \\x00 \\x00 \\x00 \\x00 \\x00 \\x00 \\x00 \\x00 \\x00 \\x00 \\x00 \\x00 \\x00 \\x00 \\x00 \\x00 \\x00 \\x00 \\x00 \\x00 \\x00\\n\\x00\\n\\x00 \\x00 \\x00 \\x00 \\x001\\x009\\x009\\x00 \\x00 \\x00 \\x00 \\x00 \\x00 \\x001\\x003\\x00 \\x00 \\x00 \\x00 \\x00 \\x003\\x000\\x005\\x006\\x00 \\x00 \\x00 \\x00 \\x00 \\x00 \\x001\\x001\\x002\\x008\\x008\\x00 \\x00 \\x00 \\x00 \\x00 \\x00 \\x00 \\x000\\x00.\\x003\\x009\\x00 \\x00 \\x001\\x001\\x009\\x002\\x000\\x00 \\x00 \\x00 \\x005\\x00 \\x00i\\x00g\\x00f\\x00x\\x00T\\x00r\\x00a\\x00y\\x00 \\x00 \\x00 \\x00 \\x00 \\x00 \\x00 \\x00 \\x00 \\x00 \\x00 \\x00 \\x00 \\x00 \\x00 \\x00 \\x00 \\x00 \\x00 \\x00 \\x00 \\x00 \\x00 \\x00 \\x00 \\x00 \\x00\\n\\x00\\n\\x00 \\x00 \\x00 \\x00 \\x003\\x006\\x002\\x00 \\x00 \\x00 \\x00 \\x00 \\x00 \\x001\\x007\\x00 \\x00 \\x00 \\x00 \\x00 \\x003\\x000\\x006\\x004\\x00 \\x00 \\x00 \\x00 \\x00 \\x00 \\x001\\x003\\x008\\x007\\x002\\x00 \\x00 \\x00 \\x00 \\x00 \\x00 \\x00 \\x000\\x00.\\x002\\x003\\x00 \\x00 \\x00 \\x006\\x004\\x005\\x002\\x00 \\x00 \\x00 \\x005\\x00 \\x00j\\x00u\\x00c\\x00h\\x00e\\x00c\\x00k\\x00 \\x00 \\x00 \\x00 \\x00 \\x00 \\x00 \\x00 \\x00 \\x00 \\x00 \\x00 \\x00 \\x00 \\x00 \\x00 \\x00 \\x00 \\x00 \\x00 \\x00 \\x00 \\x00 \\x00 \\x00 \\x00 \\x00 \\x00\\n\\x00\\n\\x00 \\x00 \\x00 \\x00 \\x002\\x006\\x007\\x00 \\x00 \\x00 \\x00 \\x00 \\x00 \\x001\\x005\\x00 \\x00 \\x00 \\x00 \\x00 \\x002\\x003\\x002\\x000\\x00 \\x00 \\x00 \\x00 \\x00 \\x00 \\x001\\x005\\x000\\x006\\x000\\x00 \\x00 \\x00 \\x00 \\x00 \\x00 \\x00 \\x000\\x00.\\x000\\x009\\x00 \\x00 \\x001\\x000\\x002\\x008\\x000\\x00 \\x00 \\x00 \\x005\\x00 \\x00j\\x00u\\x00s\\x00c\\x00h\\x00e\\x00d\\x00 \\x00 \\x00 \\x00 \\x00 \\x00 \\x00 \\x00 \\x00 \\x00 \\x00 \\x00 \\x00 \\x00 \\x00 \\x00 \\x00 \\x00 \\x00 \\x00 \\x00 \\x00 \\x00 \\x00 \\x00 \\x00 \\x00 \\x00\\n\\x00\\n\\x00 \\x00 \\x00 \\x00 \\x00 \\x009\\x002\\x00 \\x00 \\x00 \\x00 \\x00 \\x00 \\x00 \\x009\\x00 \\x00 \\x00 \\x00 \\x00 \\x00 \\x009\\x003\\x002\\x00 \\x00 \\x00 \\x00 \\x00 \\x00 \\x00 \\x001\\x000\\x004\\x004\\x00 \\x00 \\x00 \\x00 \\x00 \\x00 \\x00 \\x00 \\x00 \\x00 \\x00 \\x00 \\x00 \\x00 \\x003\\x004\\x008\\x000\\x00 \\x00 \\x00 \\x000\\x00 \\x00K\\x00M\\x00S\\x00S\\x00S\\x00 \\x00 \\x00 \\x00 \\x00 \\x00 \\x00 \\x00 \\x00 \\x00 \\x00 \\x00 \\x00 \\x00 \\x00 \\x00 \\x00 \\x00 \\x00 \\x00 \\x00 \\x00 \\x00 \\x00 \\x00 \\x00 \\x00 \\x00 \\x00 \\x00\\n\\x00\\n\\x00 \\x00 \\x00 \\x00 \\x005\\x000\\x008\\x00 \\x00 \\x00 \\x00 \\x00 \\x00 \\x002\\x004\\x00 \\x00 \\x00 \\x00 \\x001\\x005\\x005\\x009\\x002\\x00 \\x00 \\x00 \\x00 \\x00 \\x00 \\x004\\x007\\x004\\x007\\x002\\x00 \\x00 \\x00 \\x00 \\x00 \\x00 \\x00 \\x000\\x00.\\x005\\x003\\x00 \\x00 \\x00 \\x001\\x002\\x007\\x002\\x00 \\x00 \\x00 \\x005\\x00 \\x00L\\x00o\\x00c\\x00k\\x00A\\x00p\\x00p\\x00 \\x00 \\x00 \\x00 \\x00 \\x00 \\x00 \\x00 \\x00 \\x00 \\x00 \\x00 \\x00 \\x00 \\x00 \\x00 \\x00 \\x00 \\x00 \\x00 \\x00 \\x00 \\x00 \\x00 \\x00 \\x00 \\x00 \\x00\\n\\x00\\n\\x00 \\x00 \\x00 \\x001\\x005\\x009\\x005\\x00 \\x00 \\x00 \\x00 \\x00 \\x00 \\x002\\x004\\x00 \\x00 \\x00 \\x00 \\x00 \\x008\\x001\\x009\\x002\\x00 \\x00 \\x00 \\x00 \\x00 \\x00 \\x001\\x004\\x000\\x009\\x006\\x00 \\x00 \\x00 \\x00 \\x00 \\x00 \\x00 \\x00 \\x00 \\x00 \\x00 \\x00 \\x00 \\x00 \\x00 \\x008\\x005\\x002\\x00 \\x00 \\x00 \\x000\\x00 \\x00l\\x00s\\x00a\\x00s\\x00s\\x00 \\x00 \\x00 \\x00 \\x00 \\x00 \\x00 \\x00 \\x00 \\x00 \\x00 \\x00 \\x00 \\x00 \\x00 \\x00 \\x00 \\x00 \\x00 \\x00 \\x00 \\x00 \\x00 \\x00 \\x00 \\x00 \\x00 \\x00 \\x00 \\x00\\n\\x00\\n\\x00 \\x00 \\x00 \\x00 \\x00 \\x00 \\x000\\x00 \\x00 \\x00 \\x00 \\x00 \\x00 \\x00 \\x000\\x00 \\x00 \\x00 \\x00 \\x00 \\x002\\x001\\x006\\x008\\x00 \\x00 \\x00 \\x00 \\x00 \\x003\\x009\\x009\\x006\\x004\\x000\\x00 \\x00 \\x00 \\x00 \\x00 \\x00 \\x00 \\x00 \\x00 \\x00 \\x00 \\x00 \\x00 \\x00 \\x002\\x007\\x007\\x002\\x00 \\x00 \\x00 \\x000\\x00 \\x00M\\x00e\\x00m\\x00o\\x00r\\x00y\\x00 \\x00C\\x00o\\x00m\\x00p\\x00r\\x00e\\x00s\\x00s\\x00i\\x00o\\x00n\\x00 \\x00 \\x00 \\x00 \\x00 \\x00 \\x00 \\x00 \\x00 \\x00 \\x00 \\x00 \\x00 \\x00 \\x00 \\x00 \\x00\\n\\x00\\n\\x00 \\x00 \\x00 \\x00 \\x002\\x001\\x001\\x00 \\x00 \\x00 \\x00 \\x00 \\x00 \\x001\\x002\\x00 \\x00 \\x00 \\x00 \\x00 \\x001\\x009\\x000\\x004\\x00 \\x00 \\x00 \\x00 \\x00 \\x00 \\x00 \\x00 \\x009\\x006\\x000\\x00 \\x00 \\x00 \\x00 \\x00 \\x00 \\x00 \\x00 \\x00 \\x00 \\x00 \\x00 \\x00 \\x001\\x000\\x003\\x009\\x006\\x00 \\x00 \\x00 \\x000\\x00 \\x00M\\x00i\\x00c\\x00r\\x00o\\x00s\\x00o\\x00f\\x00t\\x00E\\x00d\\x00g\\x00e\\x00U\\x00p\\x00d\\x00a\\x00t\\x00e\\x00 \\x00 \\x00 \\x00 \\x00 \\x00 \\x00 \\x00 \\x00 \\x00 \\x00 \\x00 \\x00 \\x00 \\x00 \\x00\\n\\x00\\n\\x00 \\x00 \\x00 \\x00 \\x002\\x008\\x008\\x00 \\x00 \\x00 \\x00 \\x00 \\x00 \\x002\\x003\\x00 \\x00 \\x00 \\x001\\x008\\x002\\x000\\x005\\x002\\x00 \\x00 \\x00 \\x00 \\x00 \\x00 \\x001\\x005\\x004\\x003\\x002\\x00 \\x00 \\x00 \\x00 \\x00 \\x00 \\x00 \\x00 \\x00 \\x00 \\x00 \\x00 \\x00 \\x00 \\x004\\x009\\x004\\x008\\x00 \\x00 \\x00 \\x000\\x00 \\x00m\\x00o\\x00n\\x00g\\x00o\\x00d\\x00 \\x00 \\x00 \\x00 \\x00 \\x00 \\x00 \\x00 \\x00 \\x00 \\x00 \\x00 \\x00 \\x00 \\x00 \\x00 \\x00 \\x00 \\x00 \\x00 \\x00 \\x00 \\x00 \\x00 \\x00 \\x00 \\x00 \\x00 \\x00\\n\\x00\\n\\x00 \\x00 \\x00 \\x00 \\x001\\x007\\x004\\x00 \\x00 \\x00 \\x00 \\x00 \\x00 \\x001\\x002\\x00 \\x00 \\x00 \\x00 \\x00 \\x006\\x004\\x008\\x004\\x00 \\x00 \\x00 \\x00 \\x00 \\x00 \\x001\\x004\\x000\\x008\\x004\\x00 \\x00 \\x00 \\x00 \\x00 \\x00 \\x00 \\x000\\x00.\\x001\\x009\\x00 \\x00 \\x00 \\x002\\x004\\x006\\x004\\x00 \\x00 \\x00 \\x005\\x00 \\x00m\\x00s\\x00e\\x00d\\x00g\\x00e\\x00 \\x00 \\x00 \\x00 \\x00 \\x00 \\x00 \\x00 \\x00 \\x00 \\x00 \\x00 \\x00 \\x00 \\x00 \\x00 \\x00 \\x00 \\x00 \\x00 \\x00 \\x00 \\x00 \\x00 \\x00 \\x00 \\x00 \\x00 \\x00\\n\\x00\\n\\x00 \\x00 \\x00 \\x00 \\x004\\x000\\x006\\x00 \\x00 \\x00 \\x00 \\x00 \\x00 \\x002\\x004\\x00 \\x00 \\x00 \\x001\\x000\\x007\\x004\\x005\\x006\\x00 \\x00 \\x00 \\x00 \\x00 \\x001\\x004\\x003\\x000\\x006\\x000\\x00 \\x00 \\x00 \\x00 \\x00 \\x00 \\x00 \\x009\\x00.\\x006\\x006\\x00 \\x00 \\x00 \\x003\\x007\\x001\\x002\\x00 \\x00 \\x00 \\x005\\x00 \\x00m\\x00s\\x00e\\x00d\\x00g\\x00e\\x00 \\x00 \\x00 \\x00 \\x00 \\x00 \\x00 \\x00 \\x00 \\x00 \\x00 \\x00 \\x00 \\x00 \\x00 \\x00 \\x00 \\x00 \\x00 \\x00 \\x00 \\x00 \\x00 \\x00 \\x00 \\x00 \\x00 \\x00 \\x00\\n\\x00\\n\\x00 \\x00 \\x00 \\x00 \\x004\\x007\\x003\\x00 \\x00 \\x00 \\x00 \\x00 \\x00 \\x002\\x008\\x00 \\x00 \\x00 \\x00 \\x005\\x005\\x009\\x007\\x002\\x00 \\x00 \\x00 \\x00 \\x00 \\x00 \\x007\\x008\\x000\\x008\\x000\\x00 \\x00 \\x00 \\x00 \\x00 \\x00 \\x00 \\x003\\x00.\\x007\\x005\\x00 \\x00 \\x00 \\x005\\x000\\x007\\x002\\x00 \\x00 \\x00 \\x005\\x00 \\x00m\\x00s\\x00e\\x00d\\x00g\\x00e\\x00 \\x00 \\x00 \\x00 \\x00 \\x00 \\x00 \\x00 \\x00 \\x00 \\x00 \\x00 \\x00 \\x00 \\x00 \\x00 \\x00 \\x00 \\x00 \\x00 \\x00 \\x00 \\x00 \\x00 \\x00 \\x00 \\x00 \\x00 \\x00\\n\\x00\\n\\x00 \\x00 \\x00 \\x00 \\x002\\x006\\x001\\x00 \\x00 \\x00 \\x00 \\x00 \\x00 \\x001\\x005\\x00 \\x00 \\x00 \\x00 \\x00 \\x006\\x000\\x000\\x008\\x00 \\x00 \\x00 \\x00 \\x00 \\x00 \\x001\\x007\\x000\\x003\\x002\\x00 \\x00 \\x00 \\x00 \\x00 \\x00 \\x00 \\x000\\x00.\\x001\\x006\\x00 \\x00 \\x00 \\x006\\x007\\x008\\x000\\x00 \\x00 \\x00 \\x005\\x00 \\x00m\\x00s\\x00e\\x00d\\x00g\\x00e\\x00 \\x00 \\x00 \\x00 \\x00 \\x00 \\x00 \\x00 \\x00 \\x00 \\x00 \\x00 \\x00 \\x00 \\x00 \\x00 \\x00 \\x00 \\x00 \\x00 \\x00 \\x00 \\x00 \\x00 \\x00 \\x00 \\x00 \\x00 \\x00\\n\\x00\\n\\x00 \\x00 \\x00 \\x00 \\x004\\x008\\x005\\x00 \\x00 \\x00 \\x00 \\x00 \\x00 \\x002\\x005\\x00 \\x00 \\x00 \\x001\\x001\\x003\\x007\\x003\\x006\\x00 \\x00 \\x00 \\x00 \\x00 \\x001\\x003\\x002\\x008\\x006\\x008\\x00 \\x00 \\x00 \\x00 \\x00 \\x00 \\x001\\x001\\x00.\\x004\\x007\\x00 \\x00 \\x00 \\x007\\x002\\x006\\x004\\x00 \\x00 \\x00 \\x005\\x00 \\x00m\\x00s\\x00e\\x00d\\x00g\\x00e\\x00 \\x00 \\x00 \\x00 \\x00 \\x00 \\x00 \\x00 \\x00 \\x00 \\x00 \\x00 \\x00 \\x00 \\x00 \\x00 \\x00 \\x00 \\x00 \\x00 \\x00 \\x00 \\x00 \\x00 \\x00 \\x00 \\x00 \\x00 \\x00\\n\\x00\\n\\x00 \\x00 \\x00 \\x00 \\x003\\x002\\x003\\x00 \\x00 \\x00 \\x00 \\x00 \\x00 \\x002\\x005\\x00 \\x00 \\x00 \\x00 \\x009\\x002\\x006\\x002\\x000\\x00 \\x00 \\x00 \\x00 \\x00 \\x001\\x003\\x000\\x002\\x003\\x002\\x00 \\x00 \\x00 \\x00 \\x00 \\x00 \\x002\\x004\\x00.\\x005\\x003\\x00 \\x00 \\x00 \\x008\\x000\\x002\\x000\\x00 \\x00 \\x00 \\x005\\x00 \\x00m\\x00s\\x00e\\x00d\\x00g\\x00e\\x00 \\x00 \\x00 \\x00 \\x00 \\x00 \\x00 \\x00 \\x00 \\x00 \\x00 \\x00 \\x00 \\x00 \\x00 \\x00 \\x00 \\x00 \\x00 \\x00 \\x00 \\x00 \\x00 \\x00 \\x00 \\x00 \\x00 \\x00 \\x00\\n\\x00\\n\\x00 \\x00 \\x00 \\x001\\x004\\x002\\x005\\x00 \\x00 \\x00 \\x00 \\x00 \\x00 \\x006\\x000\\x00 \\x00 \\x00 \\x00 \\x004\\x006\\x000\\x006\\x004\\x00 \\x00 \\x00 \\x00 \\x00 \\x001\\x003\\x006\\x003\\x005\\x002\\x00 \\x00 \\x00 \\x00 \\x00 \\x00 \\x001\\x002\\x00.\\x008\\x009\\x00 \\x00 \\x00 \\x008\\x001\\x000\\x004\\x00 \\x00 \\x00 \\x005\\x00 \\x00m\\x00s\\x00e\\x00d\\x00g\\x00e\\x00 \\x00 \\x00 \\x00 \\x00 \\x00 \\x00 \\x00 \\x00 \\x00 \\x00 \\x00 \\x00 \\x00 \\x00 \\x00 \\x00 \\x00 \\x00 \\x00 \\x00 \\x00 \\x00 \\x00 \\x00 \\x00 \\x00 \\x00 \\x00\\n\\x00\\n\\x00 \\x00 \\x00 \\x00 \\x001\\x006\\x001\\x00 \\x00 \\x00 \\x00 \\x00 \\x00 \\x00 \\x009\\x00 \\x00 \\x00 \\x00 \\x00 \\x001\\x006\\x006\\x008\\x00 \\x00 \\x00 \\x00 \\x00 \\x00 \\x00 \\x006\\x006\\x002\\x008\\x00 \\x00 \\x00 \\x00 \\x00 \\x00 \\x00 \\x000\\x00.\\x000\\x005\\x00 \\x00 \\x00 \\x009\\x002\\x000\\x000\\x00 \\x00 \\x00 \\x005\\x00 \\x00m\\x00s\\x00e\\x00d\\x00g\\x00e\\x00 \\x00 \\x00 \\x00 \\x00 \\x00 \\x00 \\x00 \\x00 \\x00 \\x00 \\x00 \\x00 \\x00 \\x00 \\x00 \\x00 \\x00 \\x00 \\x00 \\x00 \\x00 \\x00 \\x00 \\x00 \\x00 \\x00 \\x00 \\x00\\n\\x00\\n\\x00 \\x00 \\x00 \\x00 \\x002\\x001\\x009\\x00 \\x00 \\x00 \\x00 \\x00 \\x00 \\x001\\x004\\x00 \\x00 \\x00 \\x00 \\x001\\x001\\x004\\x009\\x006\\x00 \\x00 \\x00 \\x00 \\x00 \\x00 \\x002\\x003\\x004\\x007\\x002\\x00 \\x00 \\x00 \\x00 \\x00 \\x00 \\x00 \\x000\\x00.\\x001\\x006\\x00 \\x00 \\x001\\x001\\x004\\x006\\x000\\x00 \\x00 \\x00 \\x005\\x00 \\x00m\\x00s\\x00e\\x00d\\x00g\\x00e\\x00 \\x00 \\x00 \\x00 \\x00 \\x00 \\x00 \\x00 \\x00 \\x00 \\x00 \\x00 \\x00 \\x00 \\x00 \\x00 \\x00 \\x00 \\x00 \\x00 \\x00 \\x00 \\x00 \\x00 \\x00 \\x00 \\x00 \\x00 \\x00\\n\\x00\\n\\x00 \\x00 \\x00 \\x008\\x000\\x007\\x005\\x00 \\x00 \\x00 \\x00 \\x00 \\x00 \\x009\\x002\\x00 \\x00 \\x001\\x009\\x002\\x008\\x003\\x001\\x002\\x00 \\x00 \\x00 \\x00 \\x00 \\x004\\x008\\x005\\x003\\x009\\x002\\x00 \\x00 \\x00 \\x00 \\x00 \\x00 \\x00 \\x00 \\x00 \\x00 \\x00 \\x00 \\x00 \\x00 \\x004\\x007\\x002\\x008\\x00 \\x00 \\x00 \\x000\\x00 \\x00M\\x00s\\x00M\\x00p\\x00E\\x00n\\x00g\\x00 \\x00 \\x00 \\x00 \\x00 \\x00 \\x00 \\x00 \\x00 \\x00 \\x00 \\x00 \\x00 \\x00 \\x00 \\x00 \\x00 \\x00 \\x00 \\x00 \\x00 \\x00 \\x00 \\x00 \\x00 \\x00 \\x00 \\x00\\n\\x00\\n\\x00 \\x00 \\x00 \\x00 \\x001\\x004\\x001\\x00 \\x00 \\x00 \\x00 \\x00 \\x00 \\x00 \\x009\\x00 \\x00 \\x00 \\x00 \\x002\\x001\\x008\\x007\\x002\\x00 \\x00 \\x00 \\x00 \\x00 \\x00 \\x00 \\x001\\x006\\x006\\x000\\x00 \\x00 \\x00 \\x00 \\x00 \\x00 \\x00 \\x00 \\x00 \\x00 \\x00 \\x00 \\x00 \\x00 \\x005\\x002\\x009\\x006\\x00 \\x00 \\x00 \\x000\\x00 \\x00m\\x00y\\x00s\\x00q\\x00l\\x00d\\x00 \\x00 \\x00 \\x00 \\x00 \\x00 \\x00 \\x00 \\x00 \\x00 \\x00 \\x00 \\x00 \\x00 \\x00 \\x00 \\x00 \\x00 \\x00 \\x00 \\x00 \\x00 \\x00 \\x00 \\x00 \\x00 \\x00 \\x00 \\x00\\n\\x00\\n\\x00 \\x00 \\x00 \\x00 \\x006\\x004\\x006\\x00 \\x00 \\x00 \\x00 \\x00 \\x00 \\x002\\x007\\x00 \\x00 \\x00 \\x003\\x004\\x006\\x007\\x000\\x000\\x00 \\x00 \\x00 \\x00 \\x00 \\x00 \\x003\\x000\\x005\\x004\\x008\\x00 \\x00 \\x00 \\x00 \\x00 \\x00 \\x00 \\x00 \\x00 \\x00 \\x00 \\x00 \\x00 \\x00 \\x006\\x003\\x008\\x008\\x00 \\x00 \\x00 \\x000\\x00 \\x00m\\x00y\\x00s\\x00q\\x00l\\x00d\\x00 \\x00 \\x00 \\x00 \\x00 \\x00 \\x00 \\x00 \\x00 \\x00 \\x00 \\x00 \\x00 \\x00 \\x00 \\x00 \\x00 \\x00 \\x00 \\x00 \\x00 \\x00 \\x00 \\x00 \\x00 \\x00 \\x00 \\x00 \\x00\\n\\x00\\n\\x00 \\x00 \\x00 \\x00 \\x001\\x009\\x002\\x00 \\x00 \\x00 \\x00 \\x00 \\x00 \\x001\\x001\\x00 \\x00 \\x00 \\x00 \\x00 \\x005\\x000\\x002\\x000\\x00 \\x00 \\x00 \\x00 \\x00 \\x00 \\x00 \\x004\\x008\\x001\\x006\\x00 \\x00 \\x00 \\x00 \\x00 \\x00 \\x00 \\x00 \\x00 \\x00 \\x00 \\x00 \\x00 \\x00 \\x005\\x009\\x009\\x002\\x00 \\x00 \\x00 \\x000\\x00 \\x00N\\x00i\\x00s\\x00S\\x00r\\x00v\\x00 \\x00 \\x00 \\x00 \\x00 \\x00 \\x00 \\x00 \\x00 \\x00 \\x00 \\x00 \\x00 \\x00 \\x00 \\x00 \\x00 \\x00 \\x00 \\x00 \\x00 \\x00 \\x00 \\x00 \\x00 \\x00 \\x00 \\x00 \\x00\\n\\x00\\n\\x00 \\x00 \\x00 \\x00 \\x002\\x007\\x008\\x00 \\x00 \\x00 \\x00 \\x00 \\x00 \\x001\\x002\\x00 \\x00 \\x00 \\x00 \\x00 \\x003\\x005\\x009\\x002\\x00 \\x00 \\x00 \\x00 \\x00 \\x00 \\x00 \\x007\\x001\\x009\\x002\\x00 \\x00 \\x00 \\x00 \\x00 \\x00 \\x00 \\x00 \\x00 \\x00 \\x00 \\x00 \\x00 \\x00 \\x002\\x005\\x000\\x000\\x00 \\x00 \\x00 \\x000\\x00 \\x00N\\x00V\\x00D\\x00i\\x00s\\x00p\\x00l\\x00a\\x00y\\x00.\\x00C\\x00o\\x00n\\x00t\\x00a\\x00i\\x00n\\x00e\\x00r\\x00 \\x00 \\x00 \\x00 \\x00 \\x00 \\x00 \\x00 \\x00 \\x00 \\x00 \\x00 \\x00 \\x00 \\x00 \\x00\\n\\x00\\n\\x00 \\x00 \\x00 \\x00 \\x005\\x009\\x006\\x00 \\x00 \\x00 \\x00 \\x00 \\x00 \\x002\\x003\\x00 \\x00 \\x00 \\x00 \\x002\\x004\\x007\\x006\\x000\\x00 \\x00 \\x00 \\x00 \\x00 \\x00 \\x002\\x008\\x005\\x000\\x000\\x00 \\x00 \\x00 \\x00 \\x00 \\x00 \\x00 \\x00 \\x00 \\x00 \\x00 \\x00 \\x00 \\x00 \\x007\\x009\\x006\\x000\\x00 \\x00 \\x00 \\x005\\x00 \\x00N\\x00V\\x00D\\x00i\\x00s\\x00p\\x00l\\x00a\\x00y\\x00.\\x00C\\x00o\\x00n\\x00t\\x00a\\x00i\\x00n\\x00e\\x00r\\x00 \\x00 \\x00 \\x00 \\x00 \\x00 \\x00 \\x00 \\x00 \\x00 \\x00 \\x00 \\x00 \\x00 \\x00 \\x00\\n\\x00\\n\\x00 \\x00 \\x00 \\x00 \\x006\\x005\\x007\\x00 \\x00 \\x00 \\x00 \\x00 \\x00 \\x003\\x000\\x00 \\x00 \\x00 \\x00 \\x006\\x004\\x003\\x003\\x002\\x00 \\x00 \\x00 \\x00 \\x00 \\x00 \\x007\\x007\\x003\\x008\\x008\\x00 \\x00 \\x00 \\x00 \\x00 \\x00 \\x00 \\x001\\x00.\\x008\\x009\\x00 \\x00 \\x001\\x002\\x005\\x006\\x008\\x00 \\x00 \\x00 \\x005\\x00 \\x00p\\x00o\\x00w\\x00e\\x00r\\x00s\\x00h\\x00e\\x00l\\x00l\\x00 \\x00 \\x00 \\x00 \\x00 \\x00 \\x00 \\x00 \\x00 \\x00 \\x00 \\x00 \\x00 \\x00 \\x00 \\x00 \\x00 \\x00 \\x00 \\x00 \\x00 \\x00 \\x00 \\x00 \\x00\\n\\x00\\n\\x00 \\x00 \\x00 \\x00 \\x002\\x003\\x001\\x00 \\x00 \\x00 \\x00 \\x00 \\x00 \\x002\\x007\\x00 \\x00 \\x00 \\x00 \\x002\\x004\\x004\\x000\\x004\\x00 \\x00 \\x00 \\x00 \\x00 \\x00 \\x00 \\x003\\x009\\x000\\x000\\x00 \\x00 \\x00 \\x00 \\x00 \\x00 \\x00 \\x00 \\x00 \\x00 \\x00 \\x00 \\x00 \\x00 \\x006\\x008\\x006\\x008\\x00 \\x00 \\x00 \\x000\\x00 \\x00P\\x00r\\x00e\\x00s\\x00e\\x00n\\x00t\\x00a\\x00t\\x00i\\x00o\\x00n\\x00F\\x00o\\x00n\\x00t\\x00C\\x00a\\x00c\\x00h\\x00e\\x00 \\x00 \\x00 \\x00 \\x00 \\x00 \\x00 \\x00 \\x00 \\x00 \\x00 \\x00 \\x00 \\x00\\n\\x00\\n\\x00 \\x00 \\x00 \\x00 \\x002\\x008\\x006\\x00 \\x00 \\x00 \\x00 \\x00 \\x00 \\x007\\x005\\x00 \\x00 \\x00 \\x00 \\x004\\x002\\x006\\x008\\x004\\x00 \\x00 \\x00 \\x00 \\x00 \\x00 \\x005\\x000\\x008\\x009\\x006\\x00 \\x00 \\x00 \\x00 \\x00 \\x00 \\x00 \\x001\\x00.\\x007\\x005\\x00 \\x00 \\x00 \\x007\\x005\\x000\\x008\\x00 \\x00 \\x00 \\x005\\x00 \\x00p\\x00y\\x00t\\x00h\\x00o\\x00n\\x00 \\x00 \\x00 \\x00 \\x00 \\x00 \\x00 \\x00 \\x00 \\x00 \\x00 \\x00 \\x00 \\x00 \\x00 \\x00 \\x00 \\x00 \\x00 \\x00 \\x00 \\x00 \\x00 \\x00 \\x00 \\x00 \\x00 \\x00 \\x00\\n\\x00\\n\\x00 \\x00 \\x00 \\x00 \\x006\\x009\\x003\\x00 \\x00 \\x00 \\x00 \\x00 \\x00 \\x009\\x004\\x00 \\x00 \\x00 \\x00 \\x005\\x008\\x003\\x008\\x004\\x00 \\x00 \\x00 \\x00 \\x00 \\x00 \\x007\\x005\\x003\\x006\\x004\\x00 \\x00 \\x00 \\x00 \\x00 \\x00 \\x00 \\x009\\x00.\\x005\\x002\\x00 \\x00 \\x001\\x000\\x004\\x002\\x000\\x00 \\x00 \\x00 \\x005\\x00 \\x00p\\x00y\\x00t\\x00h\\x00o\\x00n\\x00 \\x00 \\x00 \\x00 \\x00 \\x00 \\x00 \\x00 \\x00 \\x00 \\x00 \\x00 \\x00 \\x00 \\x00 \\x00 \\x00 \\x00 \\x00 \\x00 \\x00 \\x00 \\x00 \\x00 \\x00 \\x00 \\x00 \\x00 \\x00\\n\\x00\\n\\x00 \\x00 \\x00 \\x00 \\x002\\x008\\x008\\x00 \\x00 \\x00 \\x00 \\x00 \\x00 \\x007\\x005\\x00 \\x00 \\x00 \\x00 \\x004\\x002\\x007\\x003\\x002\\x00 \\x00 \\x00 \\x00 \\x00 \\x00 \\x005\\x000\\x009\\x008\\x000\\x00 \\x00 \\x00 \\x00 \\x00 \\x00 \\x00 \\x001\\x00.\\x007\\x005\\x00 \\x00 \\x001\\x001\\x004\\x004\\x000\\x00 \\x00 \\x00 \\x005\\x00 \\x00p\\x00y\\x00t\\x00h\\x00o\\x00n\\x00 \\x00 \\x00 \\x00 \\x00 \\x00 \\x00 \\x00 \\x00 \\x00 \\x00 \\x00 \\x00 \\x00 \\x00 \\x00 \\x00 \\x00 \\x00 \\x00 \\x00 \\x00 \\x00 \\x00 \\x00 \\x00 \\x00 \\x00 \\x00\\n\\x00\\n\\x00 \\x00 \\x00 \\x00 \\x001\\x006\\x004\\x00 \\x00 \\x00 \\x00 \\x00 \\x00 \\x001\\x004\\x00 \\x00 \\x00 \\x00 \\x00 \\x008\\x000\\x007\\x002\\x00 \\x00 \\x00 \\x00 \\x00 \\x00 \\x001\\x004\\x008\\x009\\x002\\x00 \\x00 \\x00 \\x00 \\x00 \\x00 \\x00 \\x000\\x00.\\x001\\x009\\x00 \\x00 \\x001\\x001\\x006\\x009\\x006\\x00 \\x00 \\x00 \\x005\\x00 \\x00p\\x00y\\x00t\\x00h\\x00o\\x00n\\x00 \\x00 \\x00 \\x00 \\x00 \\x00 \\x00 \\x00 \\x00 \\x00 \\x00 \\x00 \\x00 \\x00 \\x00 \\x00 \\x00 \\x00 \\x00 \\x00 \\x00 \\x00 \\x00 \\x00 \\x00 \\x00 \\x00 \\x00 \\x00\\n\\x00\\n\\x00 \\x00 \\x00 \\x00 \\x003\\x001\\x004\\x00 \\x00 \\x00 \\x00 \\x00 \\x00 \\x001\\x005\\x00 \\x00 \\x00 \\x00 \\x00 \\x006\\x002\\x001\\x006\\x00 \\x00 \\x00 \\x00 \\x00 \\x00 \\x001\\x004\\x008\\x007\\x002\\x00 \\x00 \\x00 \\x00 \\x00 \\x00 \\x00 \\x00 \\x00 \\x00 \\x00 \\x00 \\x00 \\x00 \\x008\\x008\\x008\\x008\\x00 \\x00 \\x00 \\x005\\x00 \\x00R\\x00A\\x00V\\x00B\\x00g\\x006\\x004\\x00 \\x00 \\x00 \\x00 \\x00 \\x00 \\x00 \\x00 \\x00 \\x00 \\x00 \\x00 \\x00 \\x00 \\x00 \\x00 \\x00 \\x00 \\x00 \\x00 \\x00 \\x00 \\x00 \\x00 \\x00 \\x00 \\x00 \\x00\\n\\x00\\n\\x00 \\x00 \\x00 \\x00 \\x00 \\x00 \\x000\\x00 \\x00 \\x00 \\x00 \\x00 \\x00 \\x001\\x008\\x00 \\x00 \\x00 \\x00 \\x00 \\x009\\x002\\x005\\x006\\x00 \\x00 \\x00 \\x00 \\x00 \\x00 \\x004\\x000\\x007\\x001\\x002\\x00 \\x00 \\x00 \\x00 \\x00 \\x00 \\x00 \\x00 \\x00 \\x00 \\x00 \\x00 \\x00 \\x00 \\x00 \\x00 \\x009\\x006\\x00 \\x00 \\x00 \\x000\\x00 \\x00R\\x00e\\x00g\\x00i\\x00s\\x00t\\x00r\\x00y\\x00 \\x00 \\x00 \\x00 \\x00 \\x00 \\x00 \\x00 \\x00 \\x00 \\x00 \\x00 \\x00 \\x00 \\x00 \\x00 \\x00 \\x00 \\x00 \\x00 \\x00 \\x00 \\x00 \\x00 \\x00 \\x00 \\x00\\n\\x00\\n\\x00 \\x00 \\x00 \\x00 \\x002\\x002\\x006\\x00 \\x00 \\x00 \\x00 \\x00 \\x00 \\x001\\x001\\x00 \\x00 \\x00 \\x00 \\x00 \\x002\\x002\\x008\\x000\\x00 \\x00 \\x00 \\x00 \\x00 \\x00 \\x00 \\x004\\x005\\x004\\x000\\x00 \\x00 \\x00 \\x00 \\x00 \\x00 \\x00 \\x00 \\x00 \\x00 \\x00 \\x00 \\x00 \\x00 \\x003\\x001\\x007\\x006\\x00 \\x00 \\x00 \\x000\\x00 \\x00R\\x00t\\x00k\\x00A\\x00u\\x00d\\x00i\\x00o\\x00S\\x00e\\x00r\\x00v\\x00i\\x00c\\x00e\\x006\\x004\\x00 \\x00 \\x00 \\x00 \\x00 \\x00 \\x00 \\x00 \\x00 \\x00 \\x00 \\x00 \\x00 \\x00 \\x00 \\x00 \\x00 \\x00\\n\\x00\\n\\x00 \\x00 \\x00 \\x007\\x008\\x001\\x002\\x00 \\x00 \\x00 \\x00 \\x00 \\x00 \\x00 \\x008\\x00 \\x00 \\x00 \\x00 \\x00 \\x002\\x000\\x008\\x004\\x00 \\x00 \\x00 \\x00 \\x00 \\x00 \\x00 \\x003\\x005\\x006\\x000\\x00 \\x00 \\x00 \\x00 \\x00 \\x00 \\x00 \\x00 \\x00 \\x00 \\x00 \\x00 \\x00 \\x00 \\x003\\x004\\x004\\x004\\x00 \\x00 \\x00 \\x000\\x00 \\x00R\\x00t\\x00k\\x00B\\x00t\\x00M\\x00a\\x00n\\x00S\\x00e\\x00r\\x00v\\x00 \\x00 \\x00 \\x00 \\x00 \\x00 \\x00 \\x00 \\x00 \\x00 \\x00 \\x00 \\x00 \\x00 \\x00 \\x00 \\x00 \\x00 \\x00 \\x00 \\x00 \\x00 \\x00\\n\\x00\\n\\x00 \\x00 \\x00 \\x00 \\x004\\x009\\x003\\x00 \\x00 \\x00 \\x00 \\x00 \\x00 \\x001\\x007\\x00 \\x00 \\x00 \\x00 \\x001\\x000\\x007\\x002\\x000\\x00 \\x00 \\x00 \\x00 \\x00 \\x00 \\x002\\x000\\x006\\x008\\x000\\x00 \\x00 \\x00 \\x00 \\x00 \\x00 \\x00 \\x000\\x00.\\x005\\x000\\x00 \\x00 \\x00 \\x004\\x003\\x004\\x000\\x00 \\x00 \\x00 \\x005\\x00 \\x00R\\x00t\\x00k\\x00N\\x00G\\x00U\\x00I\\x006\\x004\\x00 \\x00 \\x00 \\x00 \\x00 \\x00 \\x00 \\x00 \\x00 \\x00 \\x00 \\x00 \\x00 \\x00 \\x00 \\x00 \\x00 \\x00 \\x00 \\x00 \\x00 \\x00 \\x00 \\x00 \\x00 \\x00\\n\\x00\\n\\x00 \\x00 \\x00 \\x00 \\x001\\x003\\x008\\x00 \\x00 \\x00 \\x00 \\x00 \\x00 \\x00 \\x008\\x00 \\x00 \\x00 \\x00 \\x00 \\x002\\x000\\x005\\x002\\x00 \\x00 \\x00 \\x00 \\x00 \\x00 \\x00 \\x007\\x003\\x008\\x004\\x00 \\x00 \\x00 \\x00 \\x00 \\x00 \\x00 \\x000\\x00.\\x000\\x002\\x00 \\x00 \\x00 \\x00 \\x009\\x001\\x006\\x00 \\x00 \\x00 \\x005\\x00 \\x00R\\x00u\\x00n\\x00t\\x00i\\x00m\\x00e\\x00B\\x00r\\x00o\\x00k\\x00e\\x00r\\x00 \\x00 \\x00 \\x00 \\x00 \\x00 \\x00 \\x00 \\x00 \\x00 \\x00 \\x00 \\x00 \\x00 \\x00 \\x00 \\x00 \\x00 \\x00 \\x00 \\x00 \\x00\\n\\x00\\n\\x00 \\x00 \\x00 \\x00 \\x003\\x008\\x005\\x00 \\x00 \\x00 \\x00 \\x00 \\x00 \\x002\\x001\\x00 \\x00 \\x00 \\x00 \\x00 \\x008\\x006\\x005\\x002\\x00 \\x00 \\x00 \\x00 \\x00 \\x00 \\x003\\x001\\x008\\x003\\x002\\x00 \\x00 \\x00 \\x00 \\x00 \\x00 \\x00 \\x001\\x00.\\x000\\x006\\x00 \\x00 \\x00 \\x001\\x009\\x001\\x006\\x00 \\x00 \\x00 \\x005\\x00 \\x00R\\x00u\\x00n\\x00t\\x00i\\x00m\\x00e\\x00B\\x00r\\x00o\\x00k\\x00e\\x00r\\x00 \\x00 \\x00 \\x00 \\x00 \\x00 \\x00 \\x00 \\x00 \\x00 \\x00 \\x00 \\x00 \\x00 \\x00 \\x00 \\x00 \\x00 \\x00 \\x00 \\x00 \\x00\\n\\x00\\n\\x00 \\x00 \\x00 \\x00 \\x006\\x007\\x002\\x00 \\x00 \\x00 \\x00 \\x00 \\x00 \\x003\\x002\\x00 \\x00 \\x00 \\x00 \\x001\\x002\\x003\\x003\\x006\\x00 \\x00 \\x00 \\x00 \\x00 \\x00 \\x004\\x001\\x003\\x000\\x008\\x00 \\x00 \\x00 \\x00 \\x00 \\x00 \\x00 \\x001\\x00.\\x005\\x006\\x00 \\x00 \\x00 \\x003\\x009\\x006\\x000\\x00 \\x00 \\x00 \\x005\\x00 \\x00R\\x00u\\x00n\\x00t\\x00i\\x00m\\x00e\\x00B\\x00r\\x00o\\x00k\\x00e\\x00r\\x00 \\x00 \\x00 \\x00 \\x00 \\x00 \\x00 \\x00 \\x00 \\x00 \\x00 \\x00 \\x00 \\x00 \\x00 \\x00 \\x00 \\x00 \\x00 \\x00 \\x00 \\x00\\n\\x00\\n\\x00 \\x00 \\x00 \\x00 \\x002\\x002\\x000\\x00 \\x00 \\x00 \\x00 \\x00 \\x00 \\x001\\x002\\x00 \\x00 \\x00 \\x00 \\x00 \\x002\\x007\\x003\\x006\\x00 \\x00 \\x00 \\x00 \\x00 \\x00 \\x001\\x006\\x001\\x006\\x004\\x00 \\x00 \\x00 \\x00 \\x00 \\x00 \\x00 \\x000\\x00.\\x000\\x005\\x00 \\x00 \\x00 \\x006\\x006\\x002\\x008\\x00 \\x00 \\x00 \\x005\\x00 \\x00R\\x00u\\x00n\\x00t\\x00i\\x00m\\x00e\\x00B\\x00r\\x00o\\x00k\\x00e\\x00r\\x00 \\x00 \\x00 \\x00 \\x00 \\x00 \\x00 \\x00 \\x00 \\x00 \\x00 \\x00 \\x00 \\x00 \\x00 \\x00 \\x00 \\x00 \\x00 \\x00 \\x00 \\x00\\n\\x00\\n\\x00 \\x00 \\x00 \\x00 \\x002\\x007\\x004\\x00 \\x00 \\x00 \\x00 \\x00 \\x00 \\x001\\x005\\x00 \\x00 \\x00 \\x00 \\x00 \\x005\\x006\\x008\\x000\\x00 \\x00 \\x00 \\x00 \\x00 \\x00 \\x002\\x002\\x001\\x007\\x002\\x00 \\x00 \\x00 \\x00 \\x00 \\x00 \\x00 \\x000\\x00.\\x002\\x007\\x00 \\x00 \\x00 \\x007\\x007\\x004\\x004\\x00 \\x00 \\x00 \\x005\\x00 \\x00R\\x00u\\x00n\\x00t\\x00i\\x00m\\x00e\\x00B\\x00r\\x00o\\x00k\\x00e\\x00r\\x00 \\x00 \\x00 \\x00 \\x00 \\x00 \\x00 \\x00 \\x00 \\x00 \\x00 \\x00 \\x00 \\x00 \\x00 \\x00 \\x00 \\x00 \\x00 \\x00 \\x00 \\x00\\n\\x00\\n\\x00 \\x00 \\x00 \\x00 \\x002\\x006\\x009\\x00 \\x00 \\x00 \\x00 \\x00 \\x00 \\x001\\x005\\x00 \\x00 \\x00 \\x00 \\x00 \\x003\\x007\\x000\\x008\\x00 \\x00 \\x00 \\x00 \\x00 \\x00 \\x001\\x009\\x008\\x008\\x008\\x00 \\x00 \\x00 \\x00 \\x00 \\x00 \\x00 \\x000\\x00.\\x001\\x009\\x00 \\x00 \\x00 \\x007\\x009\\x008\\x004\\x00 \\x00 \\x00 \\x005\\x00 \\x00R\\x00u\\x00n\\x00t\\x00i\\x00m\\x00e\\x00B\\x00r\\x00o\\x00k\\x00e\\x00r\\x00 \\x00 \\x00 \\x00 \\x00 \\x00 \\x00 \\x00 \\x00 \\x00 \\x00 \\x00 \\x00 \\x00 \\x00 \\x00 \\x00 \\x00 \\x00 \\x00 \\x00 \\x00\\n\\x00\\n\\x00 \\x00 \\x00 \\x00 \\x003\\x001\\x002\\x00 \\x00 \\x00 \\x00 \\x00 \\x00 \\x001\\x008\\x00 \\x00 \\x00 \\x00 \\x00 \\x006\\x001\\x008\\x004\\x00 \\x00 \\x00 \\x00 \\x00 \\x00 \\x002\\x003\\x005\\x006\\x008\\x00 \\x00 \\x00 \\x00 \\x00 \\x00 \\x00 \\x000\\x00.\\x008\\x004\\x00 \\x00 \\x001\\x000\\x009\\x002\\x008\\x00 \\x00 \\x00 \\x005\\x00 \\x00R\\x00u\\x00n\\x00t\\x00i\\x00m\\x00e\\x00B\\x00r\\x00o\\x00k\\x00e\\x00r\\x00 \\x00 \\x00 \\x00 \\x00 \\x00 \\x00 \\x00 \\x00 \\x00 \\x00 \\x00 \\x00 \\x00 \\x00 \\x00 \\x00 \\x00 \\x00 \\x00 \\x00 \\x00\\n\\x00\\n\\x00 \\x00 \\x00 \\x00 \\x001\\x002\\x000\\x00 \\x00 \\x00 \\x00 \\x00 \\x00 \\x00 \\x007\\x00 \\x00 \\x00 \\x00 \\x00 \\x001\\x002\\x001\\x002\\x00 \\x00 \\x00 \\x00 \\x00 \\x00 \\x00 \\x006\\x000\\x006\\x004\\x00 \\x00 \\x00 \\x00 \\x00 \\x00 \\x00 \\x00 \\x00 \\x00 \\x00 \\x00 \\x00 \\x00 \\x00 \\x001\\x000\\x004\\x00 \\x00 \\x00 \\x000\\x00 \\x00S\\x00e\\x00a\\x00r\\x00c\\x00h\\x00F\\x00i\\x00l\\x00t\\x00e\\x00r\\x00H\\x00o\\x00s\\x00t\\x00 \\x00 \\x00 \\x00 \\x00 \\x00 \\x00 \\x00 \\x00 \\x00 \\x00 \\x00 \\x00 \\x00 \\x00 \\x00 \\x00 \\x00 \\x00\\n\\x00\\n\\x00 \\x00 \\x00 \\x00 \\x009\\x002\\x007\\x00 \\x00 \\x00 \\x00 \\x00 \\x00 \\x008\\x002\\x00 \\x00 \\x00 \\x00 \\x007\\x001\\x008\\x000\\x000\\x00 \\x00 \\x00 \\x00 \\x00 \\x00 \\x007\\x000\\x009\\x006\\x004\\x00 \\x00 \\x00 \\x00 \\x00 \\x00 \\x00 \\x00 \\x00 \\x00 \\x00 \\x00 \\x00 \\x00 \\x008\\x002\\x003\\x006\\x00 \\x00 \\x00 \\x000\\x00 \\x00S\\x00e\\x00a\\x00r\\x00c\\x00h\\x00I\\x00n\\x00d\\x00e\\x00x\\x00e\\x00r\\x00 \\x00 \\x00 \\x00 \\x00 \\x00 \\x00 \\x00 \\x00 \\x00 \\x00 \\x00 \\x00 \\x00 \\x00 \\x00 \\x00 \\x00 \\x00 \\x00 \\x00 \\x00\\n\\x00\\n\\x00 \\x00 \\x00 \\x00 \\x003\\x007\\x001\\x00 \\x00 \\x00 \\x00 \\x00 \\x00 \\x001\\x002\\x00 \\x00 \\x00 \\x00 \\x00 \\x002\\x003\\x009\\x006\\x00 \\x00 \\x00 \\x00 \\x00 \\x00 \\x00 \\x009\\x007\\x008\\x000\\x00 \\x00 \\x00 \\x00 \\x00 \\x00 \\x00 \\x00 \\x00 \\x00 \\x00 \\x00 \\x00 \\x00 \\x003\\x006\\x001\\x006\\x00 \\x00 \\x00 \\x000\\x00 \\x00S\\x00e\\x00a\\x00r\\x00c\\x00h\\x00P\\x00r\\x00o\\x00t\\x00o\\x00c\\x00o\\x00l\\x00H\\x00o\\x00s\\x00t\\x00 \\x00 \\x00 \\x00 \\x00 \\x00 \\x00 \\x00 \\x00 \\x00 \\x00 \\x00 \\x00 \\x00 \\x00 \\x00 \\x00\\n\\x00\\n\\x00 \\x00 \\x00 \\x001\\x002\\x009\\x004\\x00 \\x00 \\x00 \\x00 \\x00 \\x00 \\x009\\x000\\x00 \\x00 \\x00 \\x001\\x001\\x003\\x005\\x002\\x008\\x00 \\x00 \\x00 \\x00 \\x00 \\x001\\x008\\x002\\x002\\x007\\x006\\x00 \\x00 \\x00 \\x00 \\x00 \\x00 \\x00 \\x005\\x00.\\x004\\x005\\x00 \\x00 \\x001\\x002\\x003\\x005\\x006\\x00 \\x00 \\x00 \\x005\\x00 \\x00S\\x00e\\x00a\\x00r\\x00c\\x00h\\x00U\\x00I\\x00 \\x00 \\x00 \\x00 \\x00 \\x00 \\x00 \\x00 \\x00 \\x00 \\x00 \\x00 \\x00 \\x00 \\x00 \\x00 \\x00 \\x00 \\x00 \\x00 \\x00 \\x00 \\x00 \\x00 \\x00 \\x00 \\x00\\n\\x00\\n\\x00 \\x00 \\x00 \\x00 \\x001\\x008\\x009\\x00 \\x00 \\x00 \\x00 \\x00 \\x00 \\x001\\x001\\x00 \\x00 \\x00 \\x00 \\x00 \\x002\\x002\\x008\\x004\\x00 \\x00 \\x00 \\x00 \\x00 \\x00 \\x001\\x004\\x004\\x003\\x006\\x00 \\x00 \\x00 \\x00 \\x00 \\x00 \\x00 \\x000\\x00.\\x000\\x008\\x00 \\x00 \\x001\\x000\\x003\\x000\\x000\\x00 \\x00 \\x00 \\x005\\x00 \\x00S\\x00e\\x00c\\x00u\\x00r\\x00i\\x00t\\x00y\\x00H\\x00e\\x00a\\x00l\\x00t\\x00h\\x00H\\x00o\\x00s\\x00t\\x00 \\x00 \\x00 \\x00 \\x00 \\x00 \\x00 \\x00 \\x00 \\x00 \\x00 \\x00 \\x00 \\x00 \\x00 \\x00 \\x00\\n\\x00\\n\\x00 \\x00 \\x00 \\x00 \\x002\\x008\\x009\\x00 \\x00 \\x00 \\x00 \\x00 \\x00 \\x001\\x003\\x00 \\x00 \\x00 \\x00 \\x00 \\x003\\x004\\x006\\x004\\x00 \\x00 \\x00 \\x00 \\x00 \\x00 \\x00 \\x008\\x003\\x001\\x002\\x00 \\x00 \\x00 \\x00 \\x00 \\x00 \\x00 \\x00 \\x00 \\x00 \\x00 \\x00 \\x00 \\x00 \\x004\\x004\\x000\\x008\\x00 \\x00 \\x00 \\x000\\x00 \\x00S\\x00e\\x00c\\x00u\\x00r\\x00i\\x00t\\x00y\\x00H\\x00e\\x00a\\x00l\\x00t\\x00h\\x00S\\x00e\\x00r\\x00v\\x00i\\x00c\\x00e\\x00 \\x00 \\x00 \\x00 \\x00 \\x00 \\x00 \\x00 \\x00 \\x00 \\x00 \\x00 \\x00 \\x00\\n\\x00\\n\\x00 \\x00 \\x00 \\x00 \\x007\\x008\\x007\\x00 \\x00 \\x00 \\x00 \\x00 \\x00 \\x001\\x002\\x00 \\x00 \\x00 \\x00 \\x00 \\x006\\x008\\x002\\x000\\x00 \\x00 \\x00 \\x00 \\x00 \\x00 \\x00 \\x008\\x005\\x006\\x000\\x00 \\x00 \\x00 \\x00 \\x00 \\x00 \\x00 \\x00 \\x00 \\x00 \\x00 \\x00 \\x00 \\x00 \\x00 \\x008\\x004\\x000\\x00 \\x00 \\x00 \\x000\\x00 \\x00s\\x00e\\x00r\\x00v\\x00i\\x00c\\x00e\\x00s\\x00 \\x00 \\x00 \\x00 \\x00 \\x00 \\x00 \\x00 \\x00 \\x00 \\x00 \\x00 \\x00 \\x00 \\x00 \\x00 \\x00 \\x00 \\x00 \\x00 \\x00 \\x00 \\x00 \\x00 \\x00 \\x00 \\x00\\n\\x00\\n\\x00 \\x00 \\x00 \\x00 \\x003\\x001\\x002\\x00 \\x00 \\x00 \\x00 \\x00 \\x00 \\x001\\x005\\x00 \\x00 \\x00 \\x00 \\x00 \\x003\\x006\\x002\\x008\\x00 \\x00 \\x00 \\x00 \\x00 \\x00 \\x00 \\x007\\x001\\x000\\x000\\x00 \\x00 \\x00 \\x00 \\x00 \\x00 \\x00 \\x000\\x00.\\x005\\x006\\x00 \\x00 \\x00 \\x005\\x003\\x002\\x000\\x00 \\x00 \\x00 \\x005\\x00 \\x00S\\x00e\\x00t\\x00t\\x00i\\x00n\\x00g\\x00S\\x00y\\x00n\\x00c\\x00H\\x00o\\x00s\\x00t\\x00 \\x00 \\x00 \\x00 \\x00 \\x00 \\x00 \\x00 \\x00 \\x00 \\x00 \\x00 \\x00 \\x00 \\x00 \\x00 \\x00 \\x00 \\x00 \\x00\\n\\x00\\n\\x00 \\x00 \\x00 \\x00 \\x00 \\x008\\x009\\x00 \\x00 \\x00 \\x00 \\x00 \\x00 \\x00 \\x006\\x00 \\x00 \\x00 \\x00 \\x00 \\x003\\x004\\x002\\x004\\x00 \\x00 \\x00 \\x00 \\x00 \\x00 \\x00 \\x004\\x001\\x004\\x008\\x00 \\x00 \\x00 \\x00 \\x00 \\x00 \\x00 \\x00 \\x00 \\x00 \\x00 \\x00 \\x00 \\x00 \\x007\\x007\\x009\\x006\\x00 \\x00 \\x00 \\x000\\x00 \\x00S\\x00g\\x00r\\x00m\\x00B\\x00r\\x00o\\x00k\\x00e\\x00r\\x00 \\x00 \\x00 \\x00 \\x00 \\x00 \\x00 \\x00 \\x00 \\x00 \\x00 \\x00 \\x00 \\x00 \\x00 \\x00 \\x00 \\x00 \\x00 \\x00 \\x00 \\x00 \\x00 \\x00 \\x00\\n\\x00\\n\\x00 \\x00 \\x00 \\x00 \\x005\\x005\\x005\\x00 \\x00 \\x00 \\x00 \\x00 \\x00 \\x002\\x005\\x00 \\x00 \\x00 \\x00 \\x001\\x005\\x005\\x008\\x000\\x00 \\x00 \\x00 \\x00 \\x00 \\x00 \\x004\\x006\\x008\\x000\\x000\\x00 \\x00 \\x00 \\x00 \\x00 \\x00 \\x00 \\x000\\x00.\\x004\\x008\\x00 \\x00 \\x00 \\x008\\x001\\x002\\x008\\x00 \\x00 \\x00 \\x005\\x00 \\x00S\\x00h\\x00e\\x00l\\x00l\\x00E\\x00x\\x00p\\x00e\\x00r\\x00i\\x00e\\x00n\\x00c\\x00e\\x00H\\x00o\\x00s\\x00t\\x00 \\x00 \\x00 \\x00 \\x00 \\x00 \\x00 \\x00 \\x00 \\x00 \\x00 \\x00 \\x00 \\x00 \\x00 \\x00\\n\\x00\\n\\x00 \\x00 \\x00 \\x00 \\x005\\x003\\x000\\x00 \\x00 \\x00 \\x00 \\x00 \\x00 \\x001\\x008\\x00 \\x00 \\x00 \\x00 \\x00 \\x006\\x003\\x004\\x008\\x00 \\x00 \\x00 \\x00 \\x00 \\x00 \\x002\\x006\\x001\\x006\\x004\\x00 \\x00 \\x00 \\x00 \\x00 \\x00 \\x00 \\x002\\x00.\\x000\\x000\\x00 \\x00 \\x00 \\x009\\x006\\x000\\x000\\x00 \\x00 \\x00 \\x005\\x00 \\x00s\\x00i\\x00h\\x00o\\x00s\\x00t\\x00 \\x00 \\x00 \\x00 \\x00 \\x00 \\x00 \\x00 \\x00 \\x00 \\x00 \\x00 \\x00 \\x00 \\x00 \\x00 \\x00 \\x00 \\x00 \\x00 \\x00 \\x00 \\x00 \\x00 \\x00 \\x00 \\x00 \\x00 \\x00\\n\\x00\\n\\x00 \\x00 \\x00 \\x001\\x000\\x003\\x002\\x00 \\x00 \\x00 \\x00 \\x00 \\x00 \\x008\\x008\\x00 \\x00 \\x00 \\x001\\x007\\x001\\x000\\x008\\x008\\x00 \\x00 \\x00 \\x00 \\x00 \\x001\\x004\\x009\\x009\\x006\\x000\\x00 \\x00 \\x00 \\x00 \\x00 \\x00 \\x00 \\x003\\x00.\\x004\\x005\\x00 \\x00 \\x00 \\x005\\x008\\x007\\x006\\x00 \\x00 \\x00 \\x005\\x00 \\x00S\\x00k\\x00y\\x00p\\x00e\\x00A\\x00p\\x00p\\x00 \\x00 \\x00 \\x00 \\x00 \\x00 \\x00 \\x00 \\x00 \\x00 \\x00 \\x00 \\x00 \\x00 \\x00 \\x00 \\x00 \\x00 \\x00 \\x00 \\x00 \\x00 \\x00 \\x00 \\x00 \\x00 \\x00\\n\\x00\\n\\x00 \\x00 \\x00 \\x00 \\x001\\x005\\x001\\x00 \\x00 \\x00 \\x00 \\x00 \\x00 \\x00 \\x008\\x00 \\x00 \\x00 \\x00 \\x00 \\x001\\x009\\x008\\x000\\x00 \\x00 \\x00 \\x00 \\x00 \\x00 \\x001\\x001\\x006\\x000\\x000\\x00 \\x00 \\x00 \\x00 \\x00 \\x00 \\x00 \\x000\\x00.\\x000\\x008\\x00 \\x00 \\x001\\x001\\x002\\x004\\x008\\x00 \\x00 \\x00 \\x005\\x00 \\x00S\\x00k\\x00y\\x00p\\x00e\\x00B\\x00a\\x00c\\x00k\\x00g\\x00r\\x00o\\x00u\\x00n\\x00d\\x00H\\x00o\\x00s\\x00t\\x00 \\x00 \\x00 \\x00 \\x00 \\x00 \\x00 \\x00 \\x00 \\x00 \\x00 \\x00 \\x00 \\x00 \\x00 \\x00\\n\\x00\\n\\x00 \\x00 \\x00 \\x00 \\x004\\x000\\x002\\x00 \\x00 \\x00 \\x00 \\x00 \\x00 \\x002\\x002\\x00 \\x00 \\x00 \\x00 \\x00 \\x008\\x000\\x000\\x000\\x00 \\x00 \\x00 \\x00 \\x00 \\x00 \\x002\\x002\\x001\\x004\\x008\\x00 \\x00 \\x00 \\x00 \\x00 \\x00 \\x00 \\x000\\x00.\\x001\\x006\\x00 \\x00 \\x001\\x003\\x002\\x001\\x006\\x00 \\x00 \\x00 \\x005\\x00 \\x00s\\x00m\\x00a\\x00r\\x00t\\x00s\\x00c\\x00r\\x00e\\x00e\\x00n\\x00 \\x00 \\x00 \\x00 \\x00 \\x00 \\x00 \\x00 \\x00 \\x00 \\x00 \\x00 \\x00 \\x00 \\x00 \\x00 \\x00 \\x00 \\x00 \\x00 \\x00 \\x00 \\x00 \\x00\\n\\x00\\n\\x00 \\x00 \\x00 \\x00 \\x00 \\x005\\x003\\x00 \\x00 \\x00 \\x00 \\x00 \\x00 \\x00 \\x003\\x00 \\x00 \\x00 \\x00 \\x00 \\x001\\x001\\x007\\x006\\x00 \\x00 \\x00 \\x00 \\x00 \\x00 \\x00 \\x00 \\x004\\x008\\x000\\x00 \\x00 \\x00 \\x00 \\x00 \\x00 \\x00 \\x00 \\x00 \\x00 \\x00 \\x00 \\x00 \\x00 \\x00 \\x004\\x000\\x004\\x00 \\x00 \\x00 \\x000\\x00 \\x00s\\x00m\\x00s\\x00s\\x00 \\x00 \\x00 \\x00 \\x00 \\x00 \\x00 \\x00 \\x00 \\x00 \\x00 \\x00 \\x00 \\x00 \\x00 \\x00 \\x00 \\x00 \\x00 \\x00 \\x00 \\x00 \\x00 \\x00 \\x00 \\x00 \\x00 \\x00 \\x00 \\x00 \\x00\\n\\x00\\n\\x00 \\x00 \\x00 \\x00 \\x004\\x004\\x001\\x00 \\x00 \\x00 \\x00 \\x00 \\x00 \\x002\\x002\\x00 \\x00 \\x00 \\x00 \\x00 \\x005\\x008\\x009\\x002\\x00 \\x00 \\x00 \\x00 \\x00 \\x00 \\x00 \\x005\\x009\\x002\\x004\\x00 \\x00 \\x00 \\x00 \\x00 \\x00 \\x00 \\x00 \\x00 \\x00 \\x00 \\x00 \\x00 \\x00 \\x003\\x009\\x000\\x008\\x00 \\x00 \\x00 \\x000\\x00 \\x00s\\x00p\\x00o\\x00o\\x00l\\x00s\\x00v\\x00 \\x00 \\x00 \\x00 \\x00 \\x00 \\x00 \\x00 \\x00 \\x00 \\x00 \\x00 \\x00 \\x00 \\x00 \\x00 \\x00 \\x00 \\x00 \\x00 \\x00 \\x00 \\x00 \\x00 \\x00 \\x00 \\x00 \\x00\\n\\x00\\n\\x00 \\x00 \\x00 \\x00 \\x007\\x003\\x000\\x00 \\x00 \\x00 \\x00 \\x00 \\x00 \\x003\\x002\\x00 \\x00 \\x00 \\x00 \\x002\\x008\\x008\\x008\\x008\\x00 \\x00 \\x00 \\x00 \\x00 \\x00 \\x007\\x003\\x005\\x002\\x008\\x00 \\x00 \\x00 \\x00 \\x00 \\x00 \\x00 \\x002\\x00.\\x002\\x007\\x00 \\x00 \\x00 \\x006\\x006\\x005\\x002\\x00 \\x00 \\x00 \\x005\\x00 \\x00S\\x00t\\x00a\\x00r\\x00t\\x00M\\x00e\\x00n\\x00u\\x00E\\x00x\\x00p\\x00e\\x00r\\x00i\\x00e\\x00n\\x00c\\x00e\\x00H\\x00o\\x00s\\x00t\\x00 \\x00 \\x00 \\x00 \\x00 \\x00 \\x00 \\x00 \\x00 \\x00 \\x00 \\x00\\n\\x00\\n\\x00 \\x00 \\x00 \\x00 \\x00 \\x008\\x006\\x00 \\x00 \\x00 \\x00 \\x00 \\x00 \\x00 \\x005\\x00 \\x00 \\x00 \\x00 \\x00 \\x00 \\x009\\x001\\x006\\x00 \\x00 \\x00 \\x00 \\x00 \\x00 \\x00 \\x001\\x003\\x002\\x004\\x00 \\x00 \\x00 \\x00 \\x00 \\x00 \\x00 \\x00 \\x00 \\x00 \\x00 \\x00 \\x00 \\x00 \\x00 \\x005\\x007\\x006\\x00 \\x00 \\x00 \\x000\\x00 \\x00s\\x00v\\x00c\\x00h\\x00o\\x00s\\x00t\\x00 \\x00 \\x00 \\x00 \\x00 \\x00 \\x00 \\x00 \\x00 \\x00 \\x00 \\x00 \\x00 \\x00 \\x00 \\x00 \\x00 \\x00 \\x00 \\x00 \\x00 \\x00 \\x00 \\x00 \\x00 \\x00 \\x00 \\x00\\n\\x00\\n\\x00 \\x00 \\x00 \\x00 \\x002\\x004\\x000\\x00 \\x00 \\x00 \\x00 \\x00 \\x00 \\x001\\x002\\x00 \\x00 \\x00 \\x00 \\x00 \\x002\\x003\\x001\\x006\\x00 \\x00 \\x00 \\x00 \\x00 \\x00 \\x00 \\x009\\x007\\x006\\x000\\x00 \\x00 \\x00 \\x00 \\x00 \\x00 \\x00 \\x00 \\x00 \\x00 \\x00 \\x00 \\x00 \\x00 \\x00 \\x005\\x009\\x002\\x00 \\x00 \\x00 \\x000\\x00 \\x00s\\x00v\\x00c\\x00h\\x00o\\x00s\\x00t\\x00 \\x00 \\x00 \\x00 \\x00 \\x00 \\x00 \\x00 \\x00 \\x00 \\x00 \\x00 \\x00 \\x00 \\x00 \\x00 \\x00 \\x00 \\x00 \\x00 \\x00 \\x00 \\x00 \\x00 \\x00 \\x00 \\x00 \\x00\\n\\x00\\n\\x00 \\x00 \\x00 \\x001\\x002\\x006\\x000\\x00 \\x00 \\x00 \\x00 \\x00 \\x00 \\x002\\x005\\x00 \\x00 \\x00 \\x00 \\x001\\x006\\x004\\x002\\x008\\x00 \\x00 \\x00 \\x00 \\x00 \\x00 \\x002\\x005\\x009\\x001\\x006\\x00 \\x00 \\x00 \\x00 \\x00 \\x00 \\x00 \\x00 \\x00 \\x00 \\x00 \\x00 \\x00 \\x00 \\x00 \\x006\\x009\\x002\\x00 \\x00 \\x00 \\x000\\x00 \\x00s\\x00v\\x00c\\x00h\\x00o\\x00s\\x00t\\x00 \\x00 \\x00 \\x00 \\x00 \\x00 \\x00 \\x00 \\x00 \\x00 \\x00 \\x00 \\x00 \\x00 \\x00 \\x00 \\x00 \\x00 \\x00 \\x00 \\x00 \\x00 \\x00 \\x00 \\x00 \\x00 \\x00 \\x00\\n\\x00\\n\\x00 \\x00 \\x00 \\x00 \\x001\\x009\\x002\\x00 \\x00 \\x00 \\x00 \\x00 \\x00 \\x001\\x005\\x00 \\x00 \\x00 \\x00 \\x00 \\x006\\x002\\x003\\x002\\x00 \\x00 \\x00 \\x00 \\x00 \\x00 \\x00 \\x009\\x003\\x005\\x002\\x00 \\x00 \\x00 \\x00 \\x00 \\x00 \\x00 \\x00 \\x00 \\x00 \\x00 \\x00 \\x00 \\x00 \\x001\\x000\\x006\\x004\\x00 \\x00 \\x00 \\x000\\x00 \\x00s\\x00v\\x00c\\x00h\\x00o\\x00s\\x00t\\x00 \\x00 \\x00 \\x00 \\x00 \\x00 \\x00 \\x00 \\x00 \\x00 \\x00 \\x00 \\x00 \\x00 \\x00 \\x00 \\x00 \\x00 \\x00 \\x00 \\x00 \\x00 \\x00 \\x00 \\x00 \\x00 \\x00 \\x00\\n\\x00\\n\\x00 \\x00 \\x00 \\x001\\x003\\x008\\x003\\x00 \\x00 \\x00 \\x00 \\x00 \\x00 \\x002\\x001\\x00 \\x00 \\x00 \\x00 \\x00 \\x009\\x001\\x009\\x006\\x00 \\x00 \\x00 \\x00 \\x00 \\x00 \\x001\\x003\\x001\\x003\\x006\\x00 \\x00 \\x00 \\x00 \\x00 \\x00 \\x00 \\x00 \\x00 \\x00 \\x00 \\x00 \\x00 \\x00 \\x001\\x001\\x006\\x008\\x00 \\x00 \\x00 \\x000\\x00 \\x00s\\x00v\\x00c\\x00h\\x00o\\x00s\\x00t\\x00 \\x00 \\x00 \\x00 \\x00 \\x00 \\x00 \\x00 \\x00 \\x00 \\x00 \\x00 \\x00 \\x00 \\x00 \\x00 \\x00 \\x00 \\x00 \\x00 \\x00 \\x00 \\x00 \\x00 \\x00 \\x00 \\x00 \\x00\\n\\x00\\n\\x00 \\x00 \\x00 \\x00 \\x002\\x008\\x007\\x00 \\x00 \\x00 \\x00 \\x00 \\x00 \\x001\\x000\\x00 \\x00 \\x00 \\x00 \\x00 \\x002\\x008\\x004\\x008\\x00 \\x00 \\x00 \\x00 \\x00 \\x00 \\x00 \\x005\\x007\\x004\\x004\\x00 \\x00 \\x00 \\x00 \\x00 \\x00 \\x00 \\x00 \\x00 \\x00 \\x00 \\x00 \\x00 \\x00 \\x001\\x002\\x002\\x000\\x00 \\x00 \\x00 \\x000\\x00 \\x00s\\x00v\\x00c\\x00h\\x00o\\x00s\\x00t\\x00 \\x00 \\x00 \\x00 \\x00 \\x00 \\x00 \\x00 \\x00 \\x00 \\x00 \\x00 \\x00 \\x00 \\x00 \\x00 \\x00 \\x00 \\x00 \\x00 \\x00 \\x00 \\x00 \\x00 \\x00 \\x00 \\x00 \\x00\\n\\x00\\n\\x00 \\x00 \\x00 \\x00 \\x006\\x002\\x005\\x00 \\x00 \\x00 \\x00 \\x00 \\x00 \\x002\\x000\\x00 \\x00 \\x00 \\x00 \\x001\\x009\\x000\\x009\\x002\\x00 \\x00 \\x00 \\x00 \\x00 \\x00 \\x001\\x008\\x001\\x006\\x004\\x00 \\x00 \\x00 \\x00 \\x00 \\x00 \\x00 \\x00 \\x00 \\x00 \\x00 \\x00 \\x00 \\x00 \\x001\\x002\\x006\\x008\\x00 \\x00 \\x00 \\x000\\x00 \\x00s\\x00v\\x00c\\x00h\\x00o\\x00s\\x00t\\x00 \\x00 \\x00 \\x00 \\x00 \\x00 \\x00 \\x00 \\x00 \\x00 \\x00 \\x00 \\x00 \\x00 \\x00 \\x00 \\x00 \\x00 \\x00 \\x00 \\x00 \\x00 \\x00 \\x00 \\x00 \\x00 \\x00 \\x00\\n\\x00\\n\\x00 \\x00 \\x00 \\x00 \\x001\\x005\\x006\\x00 \\x00 \\x00 \\x00 \\x00 \\x00 \\x00 \\x007\\x00 \\x00 \\x00 \\x00 \\x00 \\x001\\x008\\x001\\x006\\x00 \\x00 \\x00 \\x00 \\x00 \\x00 \\x00 \\x002\\x005\\x004\\x008\\x00 \\x00 \\x00 \\x00 \\x00 \\x00 \\x00 \\x00 \\x00 \\x00 \\x00 \\x00 \\x00 \\x00 \\x001\\x004\\x006\\x000\\x00 \\x00 \\x00 \\x000\\x00 \\x00s\\x00v\\x00c\\x00h\\x00o\\x00s\\x00t\\x00 \\x00 \\x00 \\x00 \\x00 \\x00 \\x00 \\x00 \\x00 \\x00 \\x00 \\x00 \\x00 \\x00 \\x00 \\x00 \\x00 \\x00 \\x00 \\x00 \\x00 \\x00 \\x00 \\x00 \\x00 \\x00 \\x00 \\x00\\n\\x00\\n\\x00 \\x00 \\x00 \\x00 \\x002\\x008\\x007\\x00 \\x00 \\x00 \\x00 \\x00 \\x00 \\x001\\x003\\x00 \\x00 \\x00 \\x00 \\x00 \\x003\\x002\\x003\\x006\\x00 \\x00 \\x00 \\x00 \\x00 \\x00 \\x00 \\x006\\x000\\x003\\x006\\x00 \\x00 \\x00 \\x00 \\x00 \\x00 \\x00 \\x00 \\x00 \\x00 \\x00 \\x00 \\x00 \\x00 \\x001\\x004\\x007\\x002\\x00 \\x00 \\x00 \\x000\\x00 \\x00s\\x00v\\x00c\\x00h\\x00o\\x00s\\x00t\\x00 \\x00 \\x00 \\x00 \\x00 \\x00 \\x00 \\x00 \\x00 \\x00 \\x00 \\x00 \\x00 \\x00 \\x00 \\x00 \\x00 \\x00 \\x00 \\x00 \\x00 \\x00 \\x00 \\x00 \\x00 \\x00 \\x00 \\x00\\n\\x00\\n\\x00 \\x00 \\x00 \\x00 \\x002\\x005\\x005\\x00 \\x00 \\x00 \\x00 \\x00 \\x00 \\x001\\x003\\x00 \\x00 \\x00 \\x00 \\x00 \\x002\\x005\\x005\\x002\\x00 \\x00 \\x00 \\x00 \\x00 \\x00 \\x00 \\x006\\x000\\x006\\x008\\x00 \\x00 \\x00 \\x00 \\x00 \\x00 \\x00 \\x00 \\x00 \\x00 \\x00 \\x00 \\x00 \\x00 \\x001\\x006\\x002\\x004\\x00 \\x00 \\x00 \\x000\\x00 \\x00s\\x00v\\x00c\\x00h\\x00o\\x00s\\x00t\\x00 \\x00 \\x00 \\x00 \\x00 \\x00 \\x00 \\x00 \\x00 \\x00 \\x00 \\x00 \\x00 \\x00 \\x00 \\x00 \\x00 \\x00 \\x00 \\x00 \\x00 \\x00 \\x00 \\x00 \\x00 \\x00 \\x00 \\x00\\n\\x00\\n\\x00 \\x00 \\x00 \\x00 \\x004\\x002\\x003\\x00 \\x00 \\x00 \\x00 \\x00 \\x00 \\x001\\x004\\x00 \\x00 \\x00 \\x00 \\x001\\x007\\x002\\x004\\x000\\x00 \\x00 \\x00 \\x00 \\x00 \\x00 \\x001\\x004\\x007\\x006\\x004\\x00 \\x00 \\x00 \\x00 \\x00 \\x00 \\x00 \\x00 \\x00 \\x00 \\x00 \\x00 \\x00 \\x00 \\x001\\x006\\x003\\x002\\x00 \\x00 \\x00 \\x000\\x00 \\x00s\\x00v\\x00c\\x00h\\x00o\\x00s\\x00t\\x00 \\x00 \\x00 \\x00 \\x00 \\x00 \\x00 \\x00 \\x00 \\x00 \\x00 \\x00 \\x00 \\x00 \\x00 \\x00 \\x00 \\x00 \\x00 \\x00 \\x00 \\x00 \\x00 \\x00 \\x00 \\x00 \\x00 \\x00\\n\\x00\\n\\x00 \\x00 \\x00 \\x00 \\x003\\x009\\x009\\x00 \\x00 \\x00 \\x00 \\x00 \\x00 \\x001\\x008\\x00 \\x00 \\x00 \\x00 \\x00 \\x006\\x007\\x001\\x006\\x00 \\x00 \\x00 \\x00 \\x00 \\x00 \\x00 \\x009\\x004\\x006\\x004\\x00 \\x00 \\x00 \\x00 \\x00 \\x00 \\x00 \\x00 \\x00 \\x00 \\x00 \\x00 \\x00 \\x00 \\x001\\x006\\x006\\x000\\x00 \\x00 \\x00 \\x000\\x00 \\x00s\\x00v\\x00c\\x00h\\x00o\\x00s\\x00t\\x00 \\x00 \\x00 \\x00 \\x00 \\x00 \\x00 \\x00 \\x00 \\x00 \\x00 \\x00 \\x00 \\x00 \\x00 \\x00 \\x00 \\x00 \\x00 \\x00 \\x00 \\x00 \\x00 \\x00 \\x00 \\x00 \\x00 \\x00\\n\\x00\\n\\x00 \\x00 \\x00 \\x00 \\x002\\x002\\x004\\x00 \\x00 \\x00 \\x00 \\x00 \\x00 \\x001\\x003\\x00 \\x00 \\x00 \\x00 \\x00 \\x004\\x002\\x000\\x004\\x00 \\x00 \\x00 \\x00 \\x00 \\x00 \\x00 \\x007\\x008\\x006\\x008\\x00 \\x00 \\x00 \\x00 \\x00 \\x00 \\x00 \\x00 \\x00 \\x00 \\x00 \\x00 \\x00 \\x00 \\x001\\x006\\x009\\x002\\x00 \\x00 \\x00 \\x000\\x00 \\x00s\\x00v\\x00c\\x00h\\x00o\\x00s\\x00t\\x00 \\x00 \\x00 \\x00 \\x00 \\x00 \\x00 \\x00 \\x00 \\x00 \\x00 \\x00 \\x00 \\x00 \\x00 \\x00 \\x00 \\x00 \\x00 \\x00 \\x00 \\x00 \\x00 \\x00 \\x00 \\x00 \\x00 \\x00\\n\\x00\\n\\x00 \\x00 \\x00 \\x00 \\x001\\x006\\x006\\x00 \\x00 \\x00 \\x00 \\x00 \\x00 \\x001\\x000\\x00 \\x00 \\x00 \\x00 \\x00 \\x002\\x004\\x007\\x002\\x00 \\x00 \\x00 \\x00 \\x00 \\x00 \\x00 \\x004\\x007\\x008\\x008\\x00 \\x00 \\x00 \\x00 \\x00 \\x00 \\x00 \\x00 \\x00 \\x00 \\x00 \\x00 \\x00 \\x00 \\x001\\x007\\x000\\x004\\x00 \\x00 \\x00 \\x000\\x00 \\x00s\\x00v\\x00c\\x00h\\x00o\\x00s\\x00t\\x00 \\x00 \\x00 \\x00 \\x00 \\x00 \\x00 \\x00 \\x00 \\x00 \\x00 \\x00 \\x00 \\x00 \\x00 \\x00 \\x00 \\x00 \\x00 \\x00 \\x00 \\x00 \\x00 \\x00 \\x00 \\x00 \\x00 \\x00\\n\\x00\\n\\x00 \\x00 \\x00 \\x00 \\x001\\x002\\x006\\x00 \\x00 \\x00 \\x00 \\x00 \\x00 \\x00 \\x008\\x00 \\x00 \\x00 \\x00 \\x00 \\x001\\x004\\x004\\x004\\x00 \\x00 \\x00 \\x00 \\x00 \\x00 \\x00 \\x003\\x005\\x004\\x000\\x00 \\x00 \\x00 \\x00 \\x00 \\x00 \\x00 \\x00 \\x00 \\x00 \\x00 \\x00 \\x00 \\x00 \\x001\\x007\\x003\\x006\\x00 \\x00 \\x00 \\x000\\x00 \\x00s\\x00v\\x00c\\x00h\\x00o\\x00s\\x00t\\x00 \\x00 \\x00 \\x00 \\x00 \\x00 \\x00 \\x00 \\x00 \\x00 \\x00 \\x00 \\x00 \\x00 \\x00 \\x00 \\x00 \\x00 \\x00 \\x00 \\x00 \\x00 \\x00 \\x00 \\x00 \\x00 \\x00 \\x00\\n\\x00\\n\\x00 \\x00 \\x00 \\x00 \\x002\\x005\\x009\\x00 \\x00 \\x00 \\x00 \\x00 \\x00 \\x001\\x000\\x00 \\x00 \\x00 \\x00 \\x00 \\x002\\x004\\x001\\x002\\x00 \\x00 \\x00 \\x00 \\x00 \\x00 \\x00 \\x005\\x000\\x007\\x002\\x00 \\x00 \\x00 \\x00 \\x00 \\x00 \\x00 \\x00 \\x00 \\x00 \\x00 \\x00 \\x00 \\x00 \\x001\\x008\\x001\\x006\\x00 \\x00 \\x00 \\x000\\x00 \\x00s\\x00v\\x00c\\x00h\\x00o\\x00s\\x00t\\x00 \\x00 \\x00 \\x00 \\x00 \\x00 \\x00 \\x00 \\x00 \\x00 \\x00 \\x00 \\x00 \\x00 \\x00 \\x00 \\x00 \\x00 \\x00 \\x00 \\x00 \\x00 \\x00 \\x00 \\x00 \\x00 \\x00 \\x00\\n\\x00\\n\\x00 \\x00 \\x00 \\x00 \\x002\\x008\\x008\\x00 \\x00 \\x00 \\x00 \\x00 \\x00 \\x001\\x005\\x00 \\x00 \\x00 \\x00 \\x00 \\x003\\x008\\x007\\x002\\x00 \\x00 \\x00 \\x00 \\x00 \\x00 \\x001\\x002\\x006\\x009\\x006\\x00 \\x00 \\x00 \\x00 \\x00 \\x00 \\x00 \\x00 \\x00 \\x00 \\x00 \\x00 \\x00 \\x00 \\x001\\x008\\x009\\x002\\x00 \\x00 \\x00 \\x000\\x00 \\x00s\\x00v\\x00c\\x00h\\x00o\\x00s\\x00t\\x00 \\x00 \\x00 \\x00 \\x00 \\x00 \\x00 \\x00 \\x00 \\x00 \\x00 \\x00 \\x00 \\x00 \\x00 \\x00 \\x00 \\x00 \\x00 \\x00 \\x00 \\x00 \\x00 \\x00 \\x00 \\x00 \\x00 \\x00\\n\\x00\\n\\x00 \\x00 \\x00 \\x00 \\x001\\x005\\x000\\x00 \\x00 \\x00 \\x00 \\x00 \\x00 \\x002\\x005\\x00 \\x00 \\x00 \\x00 \\x00 \\x005\\x001\\x001\\x006\\x00 \\x00 \\x00 \\x00 \\x00 \\x00 \\x00 \\x005\\x006\\x004\\x004\\x00 \\x00 \\x00 \\x00 \\x00 \\x00 \\x00 \\x00 \\x00 \\x00 \\x00 \\x00 \\x00 \\x00 \\x001\\x009\\x000\\x000\\x00 \\x00 \\x00 \\x000\\x00 \\x00s\\x00v\\x00c\\x00h\\x00o\\x00s\\x00t\\x00 \\x00 \\x00 \\x00 \\x00 \\x00 \\x00 \\x00 \\x00 \\x00 \\x00 \\x00 \\x00 \\x00 \\x00 \\x00 \\x00 \\x00 \\x00 \\x00 \\x00 \\x00 \\x00 \\x00 \\x00 \\x00 \\x00 \\x00\\n\\x00\\n\\x00 \\x00 \\x00 \\x00 \\x001\\x003\\x006\\x00 \\x00 \\x00 \\x00 \\x00 \\x00 \\x001\\x000\\x00 \\x00 \\x00 \\x00 \\x00 \\x001\\x006\\x000\\x000\\x00 \\x00 \\x00 \\x00 \\x00 \\x00 \\x00 \\x002\\x007\\x007\\x006\\x00 \\x00 \\x00 \\x00 \\x00 \\x00 \\x00 \\x00 \\x00 \\x00 \\x00 \\x00 \\x00 \\x00 \\x001\\x009\\x002\\x000\\x00 \\x00 \\x00 \\x000\\x00 \\x00s\\x00v\\x00c\\x00h\\x00o\\x00s\\x00t\\x00 \\x00 \\x00 \\x00 \\x00 \\x00 \\x00 \\x00 \\x00 \\x00 \\x00 \\x00 \\x00 \\x00 \\x00 \\x00 \\x00 \\x00 \\x00 \\x00 \\x00 \\x00 \\x00 \\x00 \\x00 \\x00 \\x00 \\x00\\n\\x00\\n\\x00 \\x00 \\x00 \\x00 \\x003\\x006\\x006\\x00 \\x00 \\x00 \\x00 \\x00 \\x00 \\x001\\x002\\x00 \\x00 \\x00 \\x00 \\x00 \\x002\\x009\\x005\\x002\\x00 \\x00 \\x00 \\x00 \\x00 \\x00 \\x00 \\x006\\x008\\x008\\x008\\x00 \\x00 \\x00 \\x00 \\x00 \\x00 \\x00 \\x00 \\x00 \\x00 \\x00 \\x00 \\x00 \\x00 \\x001\\x009\\x003\\x006\\x00 \\x00 \\x00 \\x000\\x00 \\x00s\\x00v\\x00c\\x00h\\x00o\\x00s\\x00t\\x00 \\x00 \\x00 \\x00 \\x00 \\x00 \\x00 \\x00 \\x00 \\x00 \\x00 \\x00 \\x00 \\x00 \\x00 \\x00 \\x00 \\x00 \\x00 \\x00 \\x00 \\x00 \\x00 \\x00 \\x00 \\x00 \\x00 \\x00\\n\\x00\\n\\x00 \\x00 \\x00 \\x00 \\x002\\x004\\x008\\x00 \\x00 \\x00 \\x00 \\x00 \\x00 \\x001\\x000\\x00 \\x00 \\x00 \\x00 \\x00 \\x002\\x007\\x003\\x002\\x00 \\x00 \\x00 \\x00 \\x00 \\x00 \\x00 \\x004\\x000\\x008\\x008\\x00 \\x00 \\x00 \\x00 \\x00 \\x00 \\x00 \\x00 \\x00 \\x00 \\x00 \\x00 \\x00 \\x00 \\x002\\x000\\x000\\x000\\x00 \\x00 \\x00 \\x000\\x00 \\x00s\\x00v\\x00c\\x00h\\x00o\\x00s\\x00t\\x00 \\x00 \\x00 \\x00 \\x00 \\x00 \\x00 \\x00 \\x00 \\x00 \\x00 \\x00 \\x00 \\x00 \\x00 \\x00 \\x00 \\x00 \\x00 \\x00 \\x00 \\x00 \\x00 \\x00 \\x00 \\x00 \\x00 \\x00\\n\\x00\\n\\x00 \\x00 \\x00 \\x00 \\x002\\x005\\x009\\x00 \\x00 \\x00 \\x00 \\x00 \\x00 \\x001\\x002\\x00 \\x00 \\x00 \\x00 \\x00 \\x007\\x006\\x006\\x000\\x00 \\x00 \\x00 \\x00 \\x00 \\x00 \\x001\\x003\\x004\\x008\\x004\\x00 \\x00 \\x00 \\x00 \\x00 \\x00 \\x00 \\x00 \\x00 \\x00 \\x00 \\x00 \\x00 \\x00 \\x002\\x001\\x004\\x008\\x00 \\x00 \\x00 \\x000\\x00 \\x00s\\x00v\\x00c\\x00h\\x00o\\x00s\\x00t\\x00 \\x00 \\x00 \\x00 \\x00 \\x00 \\x00 \\x00 \\x00 \\x00 \\x00 \\x00 \\x00 \\x00 \\x00 \\x00 \\x00 \\x00 \\x00 \\x00 \\x00 \\x00 \\x00 \\x00 \\x00 \\x00 \\x00 \\x00\\n\\x00\\n\\x00 \\x00 \\x00 \\x00 \\x002\\x005\\x006\\x00 \\x00 \\x00 \\x00 \\x00 \\x00 \\x002\\x006\\x00 \\x00 \\x00 \\x00 \\x00 \\x005\\x004\\x007\\x006\\x00 \\x00 \\x00 \\x00 \\x00 \\x00 \\x00 \\x009\\x007\\x006\\x004\\x00 \\x00 \\x00 \\x00 \\x00 \\x00 \\x00 \\x00 \\x00 \\x00 \\x00 \\x00 \\x00 \\x00 \\x002\\x001\\x009\\x002\\x00 \\x00 \\x00 \\x000\\x00 \\x00s\\x00v\\x00c\\x00h\\x00o\\x00s\\x00t\\x00 \\x00 \\x00 \\x00 \\x00 \\x00 \\x00 \\x00 \\x00 \\x00 \\x00 \\x00 \\x00 \\x00 \\x00 \\x00 \\x00 \\x00 \\x00 \\x00 \\x00 \\x00 \\x00 \\x00 \\x00 \\x00 \\x00 \\x00\\n\\x00\\n\\x00 \\x00 \\x00 \\x00 \\x001\\x003\\x005\\x00 \\x00 \\x00 \\x00 \\x00 \\x00 \\x00 \\x009\\x00 \\x00 \\x00 \\x00 \\x00 \\x001\\x005\\x009\\x006\\x00 \\x00 \\x00 \\x00 \\x00 \\x00 \\x00 \\x001\\x004\\x006\\x004\\x00 \\x00 \\x00 \\x00 \\x00 \\x00 \\x00 \\x00 \\x00 \\x00 \\x00 \\x00 \\x00 \\x00 \\x002\\x002\\x000\\x000\\x00 \\x00 \\x00 \\x000\\x00 \\x00s\\x00v\\x00c\\x00h\\x00o\\x00s\\x00t\\x00 \\x00 \\x00 \\x00 \\x00 \\x00 \\x00 \\x00 \\x00 \\x00 \\x00 \\x00 \\x00 \\x00 \\x00 \\x00 \\x00 \\x00 \\x00 \\x00 \\x00 \\x00 \\x00 \\x00 \\x00 \\x00 \\x00 \\x00\\n\\x00\\n\\x00 \\x00 \\x00 \\x00 \\x004\\x008\\x002\\x00 \\x00 \\x00 \\x00 \\x00 \\x00 \\x001\\x008\\x00 \\x00 \\x00 \\x00 \\x00 \\x003\\x007\\x005\\x006\\x00 \\x00 \\x00 \\x00 \\x00 \\x00 \\x00 \\x008\\x000\\x009\\x006\\x00 \\x00 \\x00 \\x00 \\x00 \\x00 \\x00 \\x00 \\x00 \\x00 \\x00 \\x00 \\x00 \\x00 \\x002\\x002\\x000\\x004\\x00 \\x00 \\x00 \\x000\\x00 \\x00s\\x00v\\x00c\\x00h\\x00o\\x00s\\x00t\\x00 \\x00 \\x00 \\x00 \\x00 \\x00 \\x00 \\x00 \\x00 \\x00 \\x00 \\x00 \\x00 \\x00 \\x00 \\x00 \\x00 \\x00 \\x00 \\x00 \\x00 \\x00 \\x00 \\x00 \\x00 \\x00 \\x00 \\x00\\n\\x00\\n\\x00 \\x00 \\x00 \\x00 \\x001\\x009\\x008\\x00 \\x00 \\x00 \\x00 \\x00 \\x00 \\x001\\x002\\x00 \\x00 \\x00 \\x00 \\x00 \\x002\\x006\\x003\\x006\\x00 \\x00 \\x00 \\x00 \\x00 \\x00 \\x00 \\x007\\x001\\x008\\x004\\x00 \\x00 \\x00 \\x00 \\x00 \\x00 \\x00 \\x00 \\x00 \\x00 \\x00 \\x00 \\x00 \\x00 \\x002\\x002\\x002\\x004\\x00 \\x00 \\x00 \\x000\\x00 \\x00s\\x00v\\x00c\\x00h\\x00o\\x00s\\x00t\\x00 \\x00 \\x00 \\x00 \\x00 \\x00 \\x00 \\x00 \\x00 \\x00 \\x00 \\x00 \\x00 \\x00 \\x00 \\x00 \\x00 \\x00 \\x00 \\x00 \\x00 \\x00 \\x00 \\x00 \\x00 \\x00 \\x00 \\x00\\n\\x00\\n\\x00 \\x00 \\x00 \\x00 \\x003\\x008\\x005\\x00 \\x00 \\x00 \\x00 \\x00 \\x00 \\x001\\x006\\x00 \\x00 \\x00 \\x00 \\x00 \\x005\\x002\\x004\\x008\\x00 \\x00 \\x00 \\x00 \\x00 \\x00 \\x00 \\x008\\x007\\x004\\x000\\x00 \\x00 \\x00 \\x00 \\x00 \\x00 \\x00 \\x00 \\x00 \\x00 \\x00 \\x00 \\x00 \\x00 \\x002\\x002\\x005\\x002\\x00 \\x00 \\x00 \\x000\\x00 \\x00s\\x00v\\x00c\\x00h\\x00o\\x00s\\x00t\\x00 \\x00 \\x00 \\x00 \\x00 \\x00 \\x00 \\x00 \\x00 \\x00 \\x00 \\x00 \\x00 \\x00 \\x00 \\x00 \\x00 \\x00 \\x00 \\x00 \\x00 \\x00 \\x00 \\x00 \\x00 \\x00 \\x00 \\x00\\n\\x00\\n\\x00 \\x00 \\x00 \\x00 \\x002\\x007\\x009\\x00 \\x00 \\x00 \\x00 \\x00 \\x00 \\x001\\x004\\x00 \\x00 \\x00 \\x00 \\x00 \\x003\\x007\\x003\\x002\\x00 \\x00 \\x00 \\x00 \\x00 \\x00 \\x00 \\x004\\x008\\x009\\x002\\x00 \\x00 \\x00 \\x00 \\x00 \\x00 \\x00 \\x00 \\x00 \\x00 \\x00 \\x00 \\x00 \\x00 \\x002\\x002\\x008\\x000\\x00 \\x00 \\x00 \\x000\\x00 \\x00s\\x00v\\x00c\\x00h\\x00o\\x00s\\x00t\\x00 \\x00 \\x00 \\x00 \\x00 \\x00 \\x00 \\x00 \\x00 \\x00 \\x00 \\x00 \\x00 \\x00 \\x00 \\x00 \\x00 \\x00 \\x00 \\x00 \\x00 \\x00 \\x00 \\x00 \\x00 \\x00 \\x00 \\x00\\n\\x00\\n\\x00 \\x00 \\x00 \\x00 \\x006\\x006\\x005\\x00 \\x00 \\x00 \\x00 \\x00 \\x00 \\x001\\x003\\x00 \\x00 \\x00 \\x00 \\x00 \\x003\\x002\\x009\\x002\\x00 \\x00 \\x00 \\x00 \\x00 \\x00 \\x00 \\x006\\x000\\x002\\x008\\x00 \\x00 \\x00 \\x00 \\x00 \\x00 \\x00 \\x00 \\x00 \\x00 \\x00 \\x00 \\x00 \\x00 \\x002\\x004\\x004\\x000\\x00 \\x00 \\x00 \\x000\\x00 \\x00s\\x00v\\x00c\\x00h\\x00o\\x00s\\x00t\\x00 \\x00 \\x00 \\x00 \\x00 \\x00 \\x00 \\x00 \\x00 \\x00 \\x00 \\x00 \\x00 \\x00 \\x00 \\x00 \\x00 \\x00 \\x00 \\x00 \\x00 \\x00 \\x00 \\x00 \\x00 \\x00 \\x00 \\x00\\n\\x00\\n\\x00 \\x00 \\x00 \\x00 \\x002\\x002\\x006\\x00 \\x00 \\x00 \\x00 \\x00 \\x00 \\x001\\x002\\x00 \\x00 \\x00 \\x00 \\x00 \\x002\\x003\\x000\\x004\\x00 \\x00 \\x00 \\x00 \\x00 \\x00 \\x00 \\x005\\x000\\x006\\x000\\x00 \\x00 \\x00 \\x00 \\x00 \\x00 \\x00 \\x00 \\x00 \\x00 \\x00 \\x00 \\x00 \\x00 \\x002\\x005\\x005\\x006\\x00 \\x00 \\x00 \\x000\\x00 \\x00s\\x00v\\x00c\\x00h\\x00o\\x00s\\x00t\\x00 \\x00 \\x00 \\x00 \\x00 \\x00 \\x00 \\x00 \\x00 \\x00 \\x00 \\x00 \\x00 \\x00 \\x00 \\x00 \\x00 \\x00 \\x00 \\x00 \\x00 \\x00 \\x00 \\x00 \\x00 \\x00 \\x00 \\x00\\n\\x00\\n\\x00 \\x00 \\x00 \\x00 \\x001\\x007\\x006\\x00 \\x00 \\x00 \\x00 \\x00 \\x00 \\x00 \\x009\\x00 \\x00 \\x00 \\x00 \\x00 \\x001\\x009\\x002\\x004\\x00 \\x00 \\x00 \\x00 \\x00 \\x00 \\x00 \\x004\\x001\\x007\\x002\\x00 \\x00 \\x00 \\x00 \\x00 \\x00 \\x00 \\x00 \\x00 \\x00 \\x00 \\x00 \\x00 \\x00 \\x002\\x006\\x005\\x006\\x00 \\x00 \\x00 \\x000\\x00 \\x00s\\x00v\\x00c\\x00h\\x00o\\x00s\\x00t\\x00 \\x00 \\x00 \\x00 \\x00 \\x00 \\x00 \\x00 \\x00 \\x00 \\x00 \\x00 \\x00 \\x00 \\x00 \\x00 \\x00 \\x00 \\x00 \\x00 \\x00 \\x00 \\x00 \\x00 \\x00 \\x00 \\x00 \\x00\\n\\x00\\n\\x00 \\x00 \\x00 \\x00 \\x002\\x003\\x009\\x00 \\x00 \\x00 \\x00 \\x00 \\x00 \\x001\\x005\\x00 \\x00 \\x00 \\x00 \\x009\\x005\\x005\\x008\\x008\\x00 \\x00 \\x00 \\x00 \\x00 \\x00 \\x009\\x004\\x004\\x001\\x002\\x00 \\x00 \\x00 \\x00 \\x00 \\x00 \\x00 \\x00 \\x00 \\x00 \\x00 \\x00 \\x00 \\x00 \\x002\\x006\\x008\\x004\\x00 \\x00 \\x00 \\x000\\x00 \\x00s\\x00v\\x00c\\x00h\\x00o\\x00s\\x00t\\x00 \\x00 \\x00 \\x00 \\x00 \\x00 \\x00 \\x00 \\x00 \\x00 \\x00 \\x00 \\x00 \\x00 \\x00 \\x00 \\x00 \\x00 \\x00 \\x00 \\x00 \\x00 \\x00 \\x00 \\x00 \\x00 \\x00 \\x00\\n\\x00\\n\\x00 \\x00 \\x00 \\x00 \\x002\\x001\\x007\\x00 \\x00 \\x00 \\x00 \\x00 \\x00 \\x00 \\x007\\x00 \\x00 \\x00 \\x00 \\x00 \\x001\\x003\\x004\\x004\\x00 \\x00 \\x00 \\x00 \\x00 \\x00 \\x00 \\x001\\x009\\x005\\x006\\x00 \\x00 \\x00 \\x00 \\x00 \\x00 \\x00 \\x00 \\x00 \\x00 \\x00 \\x00 \\x00 \\x00 \\x002\\x007\\x000\\x004\\x00 \\x00 \\x00 \\x000\\x00 \\x00s\\x00v\\x00c\\x00h\\x00o\\x00s\\x00t\\x00 \\x00 \\x00 \\x00 \\x00 \\x00 \\x00 \\x00 \\x00 \\x00 \\x00 \\x00 \\x00 \\x00 \\x00 \\x00 \\x00 \\x00 \\x00 \\x00 \\x00 \\x00 \\x00 \\x00 \\x00 \\x00 \\x00 \\x00\\n\\x00\\n\\x00 \\x00 \\x00 \\x00 \\x001\\x008\\x002\\x00 \\x00 \\x00 \\x00 \\x00 \\x00 \\x001\\x002\\x00 \\x00 \\x00 \\x00 \\x00 \\x002\\x000\\x008\\x004\\x00 \\x00 \\x00 \\x00 \\x00 \\x00 \\x00 \\x005\\x000\\x008\\x004\\x00 \\x00 \\x00 \\x00 \\x00 \\x00 \\x00 \\x00 \\x00 \\x00 \\x00 \\x00 \\x00 \\x00 \\x002\\x008\\x003\\x002\\x00 \\x00 \\x00 \\x000\\x00 \\x00s\\x00v\\x00c\\x00h\\x00o\\x00s\\x00t\\x00 \\x00 \\x00 \\x00 \\x00 \\x00 \\x00 \\x00 \\x00 \\x00 \\x00 \\x00 \\x00 \\x00 \\x00 \\x00 \\x00 \\x00 \\x00 \\x00 \\x00 \\x00 \\x00 \\x00 \\x00 \\x00 \\x00 \\x00\\n\\x00\\n\\x00 \\x00 \\x00 \\x00 \\x001\\x009\\x002\\x00 \\x00 \\x00 \\x00 \\x00 \\x00 \\x001\\x001\\x00 \\x00 \\x00 \\x00 \\x00 \\x002\\x003\\x004\\x000\\x00 \\x00 \\x00 \\x00 \\x00 \\x00 \\x00 \\x009\\x002\\x006\\x008\\x00 \\x00 \\x00 \\x00 \\x00 \\x00 \\x00 \\x00 \\x00 \\x00 \\x00 \\x00 \\x00 \\x00 \\x002\\x009\\x002\\x004\\x00 \\x00 \\x00 \\x000\\x00 \\x00s\\x00v\\x00c\\x00h\\x00o\\x00s\\x00t\\x00 \\x00 \\x00 \\x00 \\x00 \\x00 \\x00 \\x00 \\x00 \\x00 \\x00 \\x00 \\x00 \\x00 \\x00 \\x00 \\x00 \\x00 \\x00 \\x00 \\x00 \\x00 \\x00 \\x00 \\x00 \\x00 \\x00 \\x00\\n\\x00\\n\\x00 \\x00 \\x00 \\x00 \\x002\\x002\\x009\\x00 \\x00 \\x00 \\x00 \\x00 \\x00 \\x00 \\x009\\x00 \\x00 \\x00 \\x00 \\x00 \\x002\\x000\\x004\\x008\\x00 \\x00 \\x00 \\x00 \\x00 \\x00 \\x00 \\x005\\x000\\x007\\x006\\x00 \\x00 \\x00 \\x00 \\x00 \\x00 \\x00 \\x00 \\x00 \\x00 \\x00 \\x00 \\x00 \\x00 \\x002\\x009\\x005\\x002\\x00 \\x00 \\x00 \\x000\\x00 \\x00s\\x00v\\x00c\\x00h\\x00o\\x00s\\x00t\\x00 \\x00 \\x00 \\x00 \\x00 \\x00 \\x00 \\x00 \\x00 \\x00 \\x00 \\x00 \\x00 \\x00 \\x00 \\x00 \\x00 \\x00 \\x00 \\x00 \\x00 \\x00 \\x00 \\x00 \\x00 \\x00 \\x00 \\x00\\n\\x00\\n\\x00 \\x00 \\x00 \\x00 \\x001\\x005\\x003\\x00 \\x00 \\x00 \\x00 \\x00 \\x00 \\x00 \\x009\\x00 \\x00 \\x00 \\x00 \\x00 \\x001\\x007\\x004\\x004\\x00 \\x00 \\x00 \\x00 \\x00 \\x00 \\x00 \\x003\\x005\\x004\\x004\\x00 \\x00 \\x00 \\x00 \\x00 \\x00 \\x00 \\x00 \\x00 \\x00 \\x00 \\x00 \\x00 \\x00 \\x002\\x009\\x006\\x008\\x00 \\x00 \\x00 \\x000\\x00 \\x00s\\x00v\\x00c\\x00h\\x00o\\x00s\\x00t\\x00 \\x00 \\x00 \\x00 \\x00 \\x00 \\x00 \\x00 \\x00 \\x00 \\x00 \\x00 \\x00 \\x00 \\x00 \\x00 \\x00 \\x00 \\x00 \\x00 \\x00 \\x00 \\x00 \\x00 \\x00 \\x00 \\x00 \\x00\\n\\x00\\n\\x00 \\x00 \\x00 \\x00 \\x004\\x003\\x003\\x00 \\x00 \\x00 \\x00 \\x00 \\x00 \\x001\\x006\\x00 \\x00 \\x00 \\x00 \\x00 \\x009\\x007\\x004\\x004\\x00 \\x00 \\x00 \\x00 \\x00 \\x00 \\x001\\x004\\x000\\x006\\x000\\x00 \\x00 \\x00 \\x00 \\x00 \\x00 \\x00 \\x00 \\x00 \\x00 \\x00 \\x00 \\x00 \\x00 \\x003\\x000\\x005\\x002\\x00 \\x00 \\x00 \\x000\\x00 \\x00s\\x00v\\x00c\\x00h\\x00o\\x00s\\x00t\\x00 \\x00 \\x00 \\x00 \\x00 \\x00 \\x00 \\x00 \\x00 \\x00 \\x00 \\x00 \\x00 \\x00 \\x00 \\x00 \\x00 \\x00 \\x00 \\x00 \\x00 \\x00 \\x00 \\x00 \\x00 \\x00 \\x00 \\x00\\n\\x00\\n\\x00 \\x00 \\x00 \\x00 \\x004\\x006\\x002\\x00 \\x00 \\x00 \\x00 \\x00 \\x00 \\x001\\x005\\x00 \\x00 \\x00 \\x00 \\x00 \\x004\\x005\\x005\\x006\\x00 \\x00 \\x00 \\x00 \\x00 \\x00 \\x001\\x001\\x000\\x002\\x008\\x00 \\x00 \\x00 \\x00 \\x00 \\x00 \\x00 \\x00 \\x00 \\x00 \\x00 \\x00 \\x00 \\x00 \\x003\\x001\\x000\\x004\\x00 \\x00 \\x00 \\x000\\x00 \\x00s\\x00v\\x00c\\x00h\\x00o\\x00s\\x00t\\x00 \\x00 \\x00 \\x00 \\x00 \\x00 \\x00 \\x00 \\x00 \\x00 \\x00 \\x00 \\x00 \\x00 \\x00 \\x00 \\x00 \\x00 \\x00 \\x00 \\x00 \\x00 \\x00 \\x00 \\x00 \\x00 \\x00 \\x00\\n\\x00\\n\\x00 \\x00 \\x00 \\x00 \\x005\\x004\\x008\\x00 \\x00 \\x00 \\x00 \\x00 \\x00 \\x002\\x005\\x00 \\x00 \\x00 \\x00 \\x001\\x008\\x007\\x008\\x008\\x00 \\x00 \\x00 \\x00 \\x00 \\x00 \\x002\\x009\\x009\\x002\\x008\\x00 \\x00 \\x00 \\x00 \\x00 \\x00 \\x00 \\x00 \\x00 \\x00 \\x00 \\x00 \\x00 \\x00 \\x003\\x001\\x009\\x006\\x00 \\x00 \\x00 \\x000\\x00 \\x00s\\x00v\\x00c\\x00h\\x00o\\x00s\\x00t\\x00 \\x00 \\x00 \\x00 \\x00 \\x00 \\x00 \\x00 \\x00 \\x00 \\x00 \\x00 \\x00 \\x00 \\x00 \\x00 \\x00 \\x00 \\x00 \\x00 \\x00 \\x00 \\x00 \\x00 \\x00 \\x00 \\x00 \\x00\\n\\x00\\n\\x00 \\x00 \\x00 \\x00 \\x004\\x000\\x007\\x00 \\x00 \\x00 \\x00 \\x00 \\x00 \\x002\\x000\\x00 \\x00 \\x00 \\x00 \\x001\\x004\\x002\\x005\\x002\\x00 \\x00 \\x00 \\x00 \\x00 \\x00 \\x001\\x007\\x004\\x003\\x002\\x00 \\x00 \\x00 \\x00 \\x00 \\x00 \\x00 \\x00 \\x00 \\x00 \\x00 \\x00 \\x00 \\x00 \\x003\\x004\\x005\\x002\\x00 \\x00 \\x00 \\x000\\x00 \\x00s\\x00v\\x00c\\x00h\\x00o\\x00s\\x00t\\x00 \\x00 \\x00 \\x00 \\x00 \\x00 \\x00 \\x00 \\x00 \\x00 \\x00 \\x00 \\x00 \\x00 \\x00 \\x00 \\x00 \\x00 \\x00 \\x00 \\x00 \\x00 \\x00 \\x00 \\x00 \\x00 \\x00 \\x00\\n\\x00\\n\\x00 \\x00 \\x00 \\x00 \\x002\\x000\\x009\\x00 \\x00 \\x00 \\x00 \\x00 \\x00 \\x001\\x002\\x00 \\x00 \\x00 \\x00 \\x00 \\x002\\x004\\x000\\x004\\x00 \\x00 \\x00 \\x00 \\x00 \\x00 \\x00 \\x003\\x006\\x009\\x006\\x00 \\x00 \\x00 \\x00 \\x00 \\x00 \\x00 \\x00 \\x00 \\x00 \\x00 \\x00 \\x00 \\x00 \\x003\\x005\\x005\\x006\\x00 \\x00 \\x00 \\x000\\x00 \\x00s\\x00v\\x00c\\x00h\\x00o\\x00s\\x00t\\x00 \\x00 \\x00 \\x00 \\x00 \\x00 \\x00 \\x00 \\x00 \\x00 \\x00 \\x00 \\x00 \\x00 \\x00 \\x00 \\x00 \\x00 \\x00 \\x00 \\x00 \\x00 \\x00 \\x00 \\x00 \\x00 \\x00 \\x00\\n\\x00\\n\\x00 \\x00 \\x00 \\x00 \\x001\\x004\\x001\\x00 \\x00 \\x00 \\x00 \\x00 \\x00 \\x001\\x004\\x00 \\x00 \\x00 \\x00 \\x00 \\x001\\x009\\x002\\x004\\x00 \\x00 \\x00 \\x00 \\x00 \\x00 \\x00 \\x002\\x006\\x002\\x004\\x00 \\x00 \\x00 \\x00 \\x00 \\x00 \\x00 \\x00 \\x00 \\x00 \\x00 \\x00 \\x00 \\x00 \\x003\\x005\\x006\\x004\\x00 \\x00 \\x00 \\x000\\x00 \\x00s\\x00v\\x00c\\x00h\\x00o\\x00s\\x00t\\x00 \\x00 \\x00 \\x00 \\x00 \\x00 \\x00 \\x00 \\x00 \\x00 \\x00 \\x00 \\x00 \\x00 \\x00 \\x00 \\x00 \\x00 \\x00 \\x00 \\x00 \\x00 \\x00 \\x00 \\x00 \\x00 \\x00 \\x00\\n\\x00\\n\\x00 \\x00 \\x00 \\x00 \\x003\\x007\\x006\\x00 \\x00 \\x00 \\x00 \\x00 \\x00 \\x001\\x007\\x00 \\x00 \\x00 \\x00 \\x00 \\x002\\x007\\x002\\x000\\x00 \\x00 \\x00 \\x00 \\x00 \\x00 \\x00 \\x004\\x007\\x008\\x008\\x00 \\x00 \\x00 \\x00 \\x00 \\x00 \\x00 \\x00 \\x00 \\x00 \\x00 \\x00 \\x00 \\x00 \\x003\\x005\\x008\\x004\\x00 \\x00 \\x00 \\x000\\x00 \\x00s\\x00v\\x00c\\x00h\\x00o\\x00s\\x00t\\x00 \\x00 \\x00 \\x00 \\x00 \\x00 \\x00 \\x00 \\x00 \\x00 \\x00 \\x00 \\x00 \\x00 \\x00 \\x00 \\x00 \\x00 \\x00 \\x00 \\x00 \\x00 \\x00 \\x00 \\x00 \\x00 \\x00 \\x00\\n\\x00\\n\\x00 \\x00 \\x00 \\x00 \\x003\\x002\\x005\\x00 \\x00 \\x00 \\x00 \\x00 \\x00 \\x001\\x007\\x00 \\x00 \\x00 \\x00 \\x00 \\x005\\x002\\x008\\x000\\x00 \\x00 \\x00 \\x00 \\x00 \\x00 \\x001\\x001\\x008\\x000\\x000\\x00 \\x00 \\x00 \\x00 \\x00 \\x00 \\x00 \\x00 \\x00 \\x00 \\x00 \\x00 \\x00 \\x00 \\x003\\x006\\x001\\x002\\x00 \\x00 \\x00 \\x000\\x00 \\x00s\\x00v\\x00c\\x00h\\x00o\\x00s\\x00t\\x00 \\x00 \\x00 \\x00 \\x00 \\x00 \\x00 \\x00 \\x00 \\x00 \\x00 \\x00 \\x00 \\x00 \\x00 \\x00 \\x00 \\x00 \\x00 \\x00 \\x00 \\x00 \\x00 \\x00 \\x00 \\x00 \\x00 \\x00\\n\\x00\\n\\x00 \\x00 \\x00 \\x00 \\x004\\x004\\x007\\x00 \\x00 \\x00 \\x00 \\x00 \\x00 \\x001\\x004\\x00 \\x00 \\x00 \\x00 \\x002\\x002\\x002\\x003\\x002\\x00 \\x00 \\x00 \\x00 \\x00 \\x00 \\x001\\x001\\x004\\x007\\x006\\x00 \\x00 \\x00 \\x00 \\x00 \\x00 \\x00 \\x00 \\x00 \\x00 \\x00 \\x00 \\x00 \\x00 \\x003\\x006\\x002\\x004\\x00 \\x00 \\x00 \\x000\\x00 \\x00s\\x00v\\x00c\\x00h\\x00o\\x00s\\x00t\\x00 \\x00 \\x00 \\x00 \\x00 \\x00 \\x00 \\x00 \\x00 \\x00 \\x00 \\x00 \\x00 \\x00 \\x00 \\x00 \\x00 \\x00 \\x00 \\x00 \\x00 \\x00 \\x00 \\x00 \\x00 \\x00 \\x00 \\x00\\n\\x00\\n\\x00 \\x00 \\x00 \\x00 \\x002\\x007\\x000\\x00 \\x00 \\x00 \\x00 \\x00 \\x00 \\x001\\x003\\x00 \\x00 \\x00 \\x00 \\x00 \\x003\\x003\\x005\\x006\\x00 \\x00 \\x00 \\x00 \\x00 \\x00 \\x001\\x007\\x007\\x006\\x000\\x00 \\x00 \\x00 \\x00 \\x00 \\x00 \\x00 \\x000\\x00.\\x000\\x006\\x00 \\x00 \\x00 \\x003\\x006\\x005\\x002\\x00 \\x00 \\x00 \\x005\\x00 \\x00s\\x00v\\x00c\\x00h\\x00o\\x00s\\x00t\\x00 \\x00 \\x00 \\x00 \\x00 \\x00 \\x00 \\x00 \\x00 \\x00 \\x00 \\x00 \\x00 \\x00 \\x00 \\x00 \\x00 \\x00 \\x00 \\x00 \\x00 \\x00 \\x00 \\x00 \\x00 \\x00 \\x00 \\x00\\n\\x00\\n\\x00 \\x00 \\x00 \\x00 \\x005\\x000\\x001\\x00 \\x00 \\x00 \\x00 \\x00 \\x00 \\x002\\x000\\x00 \\x00 \\x00 \\x00 \\x00 \\x006\\x001\\x009\\x002\\x00 \\x00 \\x00 \\x00 \\x00 \\x00 \\x00 \\x008\\x000\\x008\\x000\\x00 \\x00 \\x00 \\x00 \\x00 \\x00 \\x00 \\x00 \\x00 \\x00 \\x00 \\x00 \\x00 \\x00 \\x003\\x007\\x004\\x008\\x00 \\x00 \\x00 \\x000\\x00 \\x00s\\x00v\\x00c\\x00h\\x00o\\x00s\\x00t\\x00 \\x00 \\x00 \\x00 \\x00 \\x00 \\x00 \\x00 \\x00 \\x00 \\x00 \\x00 \\x00 \\x00 \\x00 \\x00 \\x00 \\x00 \\x00 \\x00 \\x00 \\x00 \\x00 \\x00 \\x00 \\x00 \\x00 \\x00\\n\\x00\\n\\x00 \\x00 \\x00 \\x00 \\x002\\x005\\x008\\x00 \\x00 \\x00 \\x00 \\x00 \\x00 \\x001\\x006\\x00 \\x00 \\x00 \\x00 \\x00 \\x002\\x008\\x008\\x000\\x00 \\x00 \\x00 \\x00 \\x00 \\x00 \\x00 \\x009\\x003\\x001\\x002\\x00 \\x00 \\x00 \\x00 \\x00 \\x00 \\x00 \\x00 \\x00 \\x00 \\x00 \\x00 \\x00 \\x00 \\x003\\x008\\x000\\x008\\x00 \\x00 \\x00 \\x000\\x00 \\x00s\\x00v\\x00c\\x00h\\x00o\\x00s\\x00t\\x00 \\x00 \\x00 \\x00 \\x00 \\x00 \\x00 \\x00 \\x00 \\x00 \\x00 \\x00 \\x00 \\x00 \\x00 \\x00 \\x00 \\x00 \\x00 \\x00 \\x00 \\x00 \\x00 \\x00 \\x00 \\x00 \\x00 \\x00\\n\\x00\\n\\x00 \\x00 \\x00 \\x00 \\x004\\x009\\x004\\x00 \\x00 \\x00 \\x00 \\x00 \\x00 \\x003\\x004\\x00 \\x00 \\x00 \\x00 \\x001\\x002\\x006\\x006\\x004\\x00 \\x00 \\x00 \\x00 \\x00 \\x00 \\x001\\x004\\x007\\x009\\x002\\x00 \\x00 \\x00 \\x00 \\x00 \\x00 \\x00 \\x00 \\x00 \\x00 \\x00 \\x00 \\x00 \\x00 \\x003\\x009\\x004\\x004\\x00 \\x00 \\x00 \\x000\\x00 \\x00s\\x00v\\x00c\\x00h\\x00o\\x00s\\x00t\\x00 \\x00 \\x00 \\x00 \\x00 \\x00 \\x00 \\x00 \\x00 \\x00 \\x00 \\x00 \\x00 \\x00 \\x00 \\x00 \\x00 \\x00 \\x00 \\x00 \\x00 \\x00 \\x00 \\x00 \\x00 \\x00 \\x00 \\x00\\n\\x00\\n\\x00 \\x00 \\x00 \\x00 \\x001\\x008\\x007\\x00 \\x00 \\x00 \\x00 \\x00 \\x00 \\x001\\x000\\x00 \\x00 \\x00 \\x00 \\x00 \\x002\\x000\\x001\\x002\\x00 \\x00 \\x00 \\x00 \\x00 \\x00 \\x00 \\x002\\x005\\x006\\x000\\x00 \\x00 \\x00 \\x00 \\x00 \\x00 \\x00 \\x00 \\x00 \\x00 \\x00 \\x00 \\x00 \\x00 \\x003\\x009\\x007\\x002\\x00 \\x00 \\x00 \\x000\\x00 \\x00s\\x00v\\x00c\\x00h\\x00o\\x00s\\x00t\\x00 \\x00 \\x00 \\x00 \\x00 \\x00 \\x00 \\x00 \\x00 \\x00 \\x00 \\x00 \\x00 \\x00 \\x00 \\x00 \\x00 \\x00 \\x00 \\x00 \\x00 \\x00 \\x00 \\x00 \\x00 \\x00 \\x00 \\x00\\n\\x00\\n\\x00 \\x00 \\x00 \\x00 \\x002\\x001\\x003\\x00 \\x00 \\x00 \\x00 \\x00 \\x00 \\x001\\x001\\x00 \\x00 \\x00 \\x00 \\x00 \\x002\\x005\\x002\\x004\\x00 \\x00 \\x00 \\x00 \\x00 \\x00 \\x00 \\x004\\x001\\x008\\x000\\x00 \\x00 \\x00 \\x00 \\x00 \\x00 \\x00 \\x00 \\x00 \\x00 \\x00 \\x00 \\x00 \\x00 \\x003\\x009\\x008\\x000\\x00 \\x00 \\x00 \\x000\\x00 \\x00s\\x00v\\x00c\\x00h\\x00o\\x00s\\x00t\\x00 \\x00 \\x00 \\x00 \\x00 \\x00 \\x00 \\x00 \\x00 \\x00 \\x00 \\x00 \\x00 \\x00 \\x00 \\x00 \\x00 \\x00 \\x00 \\x00 \\x00 \\x00 \\x00 \\x00 \\x00 \\x00 \\x00 \\x00\\n\\x00\\n\\x00 \\x00 \\x00 \\x00 \\x002\\x003\\x007\\x00 \\x00 \\x00 \\x00 \\x00 \\x00 \\x001\\x001\\x00 \\x00 \\x00 \\x00 \\x00 \\x002\\x003\\x009\\x006\\x00 \\x00 \\x00 \\x00 \\x00 \\x00 \\x001\\x000\\x009\\x005\\x002\\x00 \\x00 \\x00 \\x00 \\x00 \\x00 \\x00 \\x00 \\x00 \\x00 \\x00 \\x00 \\x00 \\x00 \\x003\\x009\\x008\\x008\\x00 \\x00 \\x00 \\x000\\x00 \\x00s\\x00v\\x00c\\x00h\\x00o\\x00s\\x00t\\x00 \\x00 \\x00 \\x00 \\x00 \\x00 \\x00 \\x00 \\x00 \\x00 \\x00 \\x00 \\x00 \\x00 \\x00 \\x00 \\x00 \\x00 \\x00 \\x00 \\x00 \\x00 \\x00 \\x00 \\x00 \\x00 \\x00 \\x00\\n\\x00\\n\\x00 \\x00 \\x00 \\x00 \\x001\\x004\\x004\\x00 \\x00 \\x00 \\x00 \\x00 \\x00 \\x00 \\x007\\x00 \\x00 \\x00 \\x00 \\x00 \\x001\\x003\\x008\\x004\\x00 \\x00 \\x00 \\x00 \\x00 \\x00 \\x00 \\x002\\x004\\x001\\x006\\x00 \\x00 \\x00 \\x00 \\x00 \\x00 \\x00 \\x00 \\x00 \\x00 \\x00 \\x00 \\x00 \\x00 \\x004\\x001\\x002\\x004\\x00 \\x00 \\x00 \\x000\\x00 \\x00s\\x00v\\x00c\\x00h\\x00o\\x00s\\x00t\\x00 \\x00 \\x00 \\x00 \\x00 \\x00 \\x00 \\x00 \\x00 \\x00 \\x00 \\x00 \\x00 \\x00 \\x00 \\x00 \\x00 \\x00 \\x00 \\x00 \\x00 \\x00 \\x00 \\x00 \\x00 \\x00 \\x00 \\x00\\n\\x00\\n\\x00 \\x00 \\x00 \\x00 \\x001\\x007\\x003\\x00 \\x00 \\x00 \\x00 \\x00 \\x00 \\x00 \\x009\\x00 \\x00 \\x00 \\x00 \\x00 \\x001\\x006\\x009\\x002\\x00 \\x00 \\x00 \\x00 \\x00 \\x00 \\x00 \\x007\\x000\\x002\\x004\\x00 \\x00 \\x00 \\x00 \\x00 \\x00 \\x00 \\x00 \\x00 \\x00 \\x00 \\x00 \\x00 \\x00 \\x004\\x001\\x004\\x004\\x00 \\x00 \\x00 \\x000\\x00 \\x00s\\x00v\\x00c\\x00h\\x00o\\x00s\\x00t\\x00 \\x00 \\x00 \\x00 \\x00 \\x00 \\x00 \\x00 \\x00 \\x00 \\x00 \\x00 \\x00 \\x00 \\x00 \\x00 \\x00 \\x00 \\x00 \\x00 \\x00 \\x00 \\x00 \\x00 \\x00 \\x00 \\x00 \\x00\\n\\x00\\n\\x00 \\x00 \\x00 \\x00 \\x004\\x004\\x003\\x00 \\x00 \\x00 \\x00 \\x00 \\x00 \\x002\\x001\\x00 \\x00 \\x00 \\x00 \\x00 \\x005\\x007\\x001\\x002\\x00 \\x00 \\x00 \\x00 \\x00 \\x00 \\x001\\x005\\x008\\x002\\x008\\x00 \\x00 \\x00 \\x00 \\x00 \\x00 \\x00 \\x00 \\x00 \\x00 \\x00 \\x00 \\x00 \\x00 \\x004\\x003\\x009\\x002\\x00 \\x00 \\x00 \\x000\\x00 \\x00s\\x00v\\x00c\\x00h\\x00o\\x00s\\x00t\\x00 \\x00 \\x00 \\x00 \\x00 \\x00 \\x00 \\x00 \\x00 \\x00 \\x00 \\x00 \\x00 \\x00 \\x00 \\x00 \\x00 \\x00 \\x00 \\x00 \\x00 \\x00 \\x00 \\x00 \\x00 \\x00 \\x00 \\x00\\n\\x00\\n\\x00 \\x00 \\x00 \\x00 \\x002\\x002\\x003\\x00 \\x00 \\x00 \\x00 \\x00 \\x00 \\x001\\x002\\x00 \\x00 \\x00 \\x00 \\x00 \\x002\\x004\\x008\\x000\\x00 \\x00 \\x00 \\x00 \\x00 \\x00 \\x00 \\x004\\x006\\x007\\x002\\x00 \\x00 \\x00 \\x00 \\x00 \\x00 \\x00 \\x00 \\x00 \\x00 \\x00 \\x00 \\x00 \\x00 \\x004\\x005\\x003\\x002\\x00 \\x00 \\x00 \\x000\\x00 \\x00s\\x00v\\x00c\\x00h\\x00o\\x00s\\x00t\\x00 \\x00 \\x00 \\x00 \\x00 \\x00 \\x00 \\x00 \\x00 \\x00 \\x00 \\x00 \\x00 \\x00 \\x00 \\x00 \\x00 \\x00 \\x00 \\x00 \\x00 \\x00 \\x00 \\x00 \\x00 \\x00 \\x00 \\x00\\n\\x00\\n\\x00 \\x00 \\x00 \\x00 \\x001\\x003\\x006\\x00 \\x00 \\x00 \\x00 \\x00 \\x00 \\x00 \\x008\\x00 \\x00 \\x00 \\x00 \\x00 \\x001\\x005\\x009\\x002\\x00 \\x00 \\x00 \\x00 \\x00 \\x00 \\x00 \\x003\\x000\\x006\\x008\\x00 \\x00 \\x00 \\x00 \\x00 \\x00 \\x00 \\x00 \\x00 \\x00 \\x00 \\x00 \\x00 \\x00 \\x004\\x006\\x004\\x004\\x00 \\x00 \\x00 \\x000\\x00 \\x00s\\x00v\\x00c\\x00h\\x00o\\x00s\\x00t\\x00 \\x00 \\x00 \\x00 \\x00 \\x00 \\x00 \\x00 \\x00 \\x00 \\x00 \\x00 \\x00 \\x00 \\x00 \\x00 \\x00 \\x00 \\x00 \\x00 \\x00 \\x00 \\x00 \\x00 \\x00 \\x00 \\x00 \\x00\\n\\x00\\n\\x00 \\x00 \\x00 \\x00 \\x001\\x005\\x005\\x00 \\x00 \\x00 \\x00 \\x00 \\x00 \\x00 \\x009\\x00 \\x00 \\x00 \\x00 \\x00 \\x001\\x006\\x005\\x006\\x00 \\x00 \\x00 \\x00 \\x00 \\x00 \\x00 \\x004\\x005\\x004\\x008\\x00 \\x00 \\x00 \\x00 \\x00 \\x00 \\x00 \\x00 \\x00 \\x00 \\x00 \\x00 \\x00 \\x00 \\x004\\x007\\x003\\x006\\x00 \\x00 \\x00 \\x000\\x00 \\x00s\\x00v\\x00c\\x00h\\x00o\\x00s\\x00t\\x00 \\x00 \\x00 \\x00 \\x00 \\x00 \\x00 \\x00 \\x00 \\x00 \\x00 \\x00 \\x00 \\x00 \\x00 \\x00 \\x00 \\x00 \\x00 \\x00 \\x00 \\x00 \\x00 \\x00 \\x00 \\x00 \\x00 \\x00\\n\\x00\\n\\x00 \\x00 \\x00 \\x00 \\x003\\x009\\x004\\x00 \\x00 \\x00 \\x00 \\x00 \\x00 \\x002\\x005\\x00 \\x00 \\x00 \\x00 \\x00 \\x003\\x006\\x002\\x000\\x00 \\x00 \\x00 \\x00 \\x00 \\x00 \\x00 \\x005\\x005\\x000\\x004\\x00 \\x00 \\x00 \\x00 \\x00 \\x00 \\x00 \\x00 \\x00 \\x00 \\x00 \\x00 \\x00 \\x00 \\x004\\x009\\x002\\x000\\x00 \\x00 \\x00 \\x000\\x00 \\x00s\\x00v\\x00c\\x00h\\x00o\\x00s\\x00t\\x00 \\x00 \\x00 \\x00 \\x00 \\x00 \\x00 \\x00 \\x00 \\x00 \\x00 \\x00 \\x00 \\x00 \\x00 \\x00 \\x00 \\x00 \\x00 \\x00 \\x00 \\x00 \\x00 \\x00 \\x00 \\x00 \\x00 \\x00\\n\\x00\\n\\x00 \\x00 \\x00 \\x00 \\x001\\x006\\x000\\x00 \\x00 \\x00 \\x00 \\x00 \\x00 \\x001\\x000\\x00 \\x00 \\x00 \\x00 \\x00 \\x001\\x007\\x003\\x002\\x00 \\x00 \\x00 \\x00 \\x00 \\x00 \\x00 \\x003\\x008\\x003\\x006\\x00 \\x00 \\x00 \\x00 \\x00 \\x00 \\x00 \\x00 \\x00 \\x00 \\x00 \\x00 \\x00 \\x00 \\x005\\x001\\x006\\x004\\x00 \\x00 \\x00 \\x000\\x00 \\x00s\\x00v\\x00c\\x00h\\x00o\\x00s\\x00t\\x00 \\x00 \\x00 \\x00 \\x00 \\x00 \\x00 \\x00 \\x00 \\x00 \\x00 \\x00 \\x00 \\x00 \\x00 \\x00 \\x00 \\x00 \\x00 \\x00 \\x00 \\x00 \\x00 \\x00 \\x00 \\x00 \\x00 \\x00\\n\\x00\\n\\x00 \\x00 \\x00 \\x00 \\x005\\x007\\x009\\x00 \\x00 \\x00 \\x00 \\x00 \\x00 \\x002\\x006\\x00 \\x00 \\x00 \\x00 \\x00 \\x009\\x000\\x008\\x000\\x00 \\x00 \\x00 \\x00 \\x00 \\x00 \\x003\\x009\\x001\\x002\\x000\\x00 \\x00 \\x00 \\x00 \\x00 \\x00 \\x00 \\x001\\x00.\\x006\\x004\\x00 \\x00 \\x00 \\x005\\x007\\x006\\x000\\x00 \\x00 \\x00 \\x005\\x00 \\x00s\\x00v\\x00c\\x00h\\x00o\\x00s\\x00t\\x00 \\x00 \\x00 \\x00 \\x00 \\x00 \\x00 \\x00 \\x00 \\x00 \\x00 \\x00 \\x00 \\x00 \\x00 \\x00 \\x00 \\x00 \\x00 \\x00 \\x00 \\x00 \\x00 \\x00 \\x00 \\x00 \\x00 \\x00\\n\\x00\\n\\x00 \\x00 \\x00 \\x00 \\x001\\x003\\x001\\x00 \\x00 \\x00 \\x00 \\x00 \\x00 \\x00 \\x008\\x00 \\x00 \\x00 \\x00 \\x00 \\x001\\x005\\x003\\x006\\x00 \\x00 \\x00 \\x00 \\x00 \\x00 \\x00 \\x007\\x000\\x003\\x002\\x00 \\x00 \\x00 \\x00 \\x00 \\x00 \\x00 \\x00 \\x00 \\x00 \\x00 \\x00 \\x00 \\x00 \\x005\\x008\\x005\\x006\\x00 \\x00 \\x00 \\x000\\x00 \\x00s\\x00v\\x00c\\x00h\\x00o\\x00s\\x00t\\x00 \\x00 \\x00 \\x00 \\x00 \\x00 \\x00 \\x00 \\x00 \\x00 \\x00 \\x00 \\x00 \\x00 \\x00 \\x00 \\x00 \\x00 \\x00 \\x00 \\x00 \\x00 \\x00 \\x00 \\x00 \\x00 \\x00 \\x00\\n\\x00\\n\\x00 \\x00 \\x00 \\x00 \\x005\\x006\\x005\\x00 \\x00 \\x00 \\x00 \\x00 \\x00 \\x003\\x002\\x00 \\x00 \\x00 \\x00 \\x001\\x001\\x000\\x008\\x004\\x00 \\x00 \\x00 \\x00 \\x00 \\x00 \\x001\\x003\\x008\\x006\\x008\\x00 \\x00 \\x00 \\x00 \\x00 \\x00 \\x00 \\x00 \\x00 \\x00 \\x00 \\x00 \\x00 \\x00 \\x005\\x009\\x008\\x004\\x00 \\x00 \\x00 \\x000\\x00 \\x00s\\x00v\\x00c\\x00h\\x00o\\x00s\\x00t\\x00 \\x00 \\x00 \\x00 \\x00 \\x00 \\x00 \\x00 \\x00 \\x00 \\x00 \\x00 \\x00 \\x00 \\x00 \\x00 \\x00 \\x00 \\x00 \\x00 \\x00 \\x00 \\x00 \\x00 \\x00 \\x00 \\x00 \\x00\\n\\x00\\n\\x00 \\x00 \\x00 \\x00 \\x002\\x009\\x009\\x00 \\x00 \\x00 \\x00 \\x00 \\x00 \\x001\\x003\\x00 \\x00 \\x00 \\x00 \\x00 \\x004\\x009\\x000\\x004\\x00 \\x00 \\x00 \\x00 \\x00 \\x00 \\x00 \\x008\\x000\\x002\\x004\\x00 \\x00 \\x00 \\x00 \\x00 \\x00 \\x00 \\x00 \\x00 \\x00 \\x00 \\x00 \\x00 \\x00 \\x006\\x000\\x008\\x004\\x00 \\x00 \\x00 \\x000\\x00 \\x00s\\x00v\\x00c\\x00h\\x00o\\x00s\\x00t\\x00 \\x00 \\x00 \\x00 \\x00 \\x00 \\x00 \\x00 \\x00 \\x00 \\x00 \\x00 \\x00 \\x00 \\x00 \\x00 \\x00 \\x00 \\x00 \\x00 \\x00 \\x00 \\x00 \\x00 \\x00 \\x00 \\x00 \\x00\\n\\x00\\n\\x00 \\x00 \\x00 \\x00 \\x002\\x003\\x008\\x00 \\x00 \\x00 \\x00 \\x00 \\x00 \\x002\\x000\\x00 \\x00 \\x00 \\x00 \\x00 \\x002\\x001\\x002\\x004\\x00 \\x00 \\x00 \\x00 \\x00 \\x00 \\x00 \\x003\\x003\\x009\\x006\\x00 \\x00 \\x00 \\x00 \\x00 \\x00 \\x00 \\x00 \\x00 \\x00 \\x00 \\x00 \\x00 \\x00 \\x006\\x001\\x004\\x008\\x00 \\x00 \\x00 \\x000\\x00 \\x00s\\x00v\\x00c\\x00h\\x00o\\x00s\\x00t\\x00 \\x00 \\x00 \\x00 \\x00 \\x00 \\x00 \\x00 \\x00 \\x00 \\x00 \\x00 \\x00 \\x00 \\x00 \\x00 \\x00 \\x00 \\x00 \\x00 \\x00 \\x00 \\x00 \\x00 \\x00 \\x00 \\x00 \\x00\\n\\x00\\n\\x00 \\x00 \\x00 \\x00 \\x004\\x004\\x006\\x00 \\x00 \\x00 \\x00 \\x00 \\x00 \\x002\\x002\\x00 \\x00 \\x00 \\x00 \\x00 \\x005\\x009\\x006\\x000\\x00 \\x00 \\x00 \\x00 \\x00 \\x00 \\x001\\x006\\x005\\x008\\x000\\x00 \\x00 \\x00 \\x00 \\x00 \\x00 \\x00 \\x00 \\x00 \\x00 \\x00 \\x00 \\x00 \\x00 \\x006\\x001\\x008\\x000\\x00 \\x00 \\x00 \\x000\\x00 \\x00s\\x00v\\x00c\\x00h\\x00o\\x00s\\x00t\\x00 \\x00 \\x00 \\x00 \\x00 \\x00 \\x00 \\x00 \\x00 \\x00 \\x00 \\x00 \\x00 \\x00 \\x00 \\x00 \\x00 \\x00 \\x00 \\x00 \\x00 \\x00 \\x00 \\x00 \\x00 \\x00 \\x00 \\x00\\n\\x00\\n\\x00 \\x00 \\x00 \\x00 \\x003\\x000\\x009\\x00 \\x00 \\x00 \\x00 \\x00 \\x00 \\x001\\x006\\x00 \\x00 \\x00 \\x00 \\x00 \\x004\\x005\\x004\\x008\\x00 \\x00 \\x00 \\x00 \\x00 \\x00 \\x001\\x007\\x009\\x004\\x000\\x00 \\x00 \\x00 \\x00 \\x00 \\x00 \\x00 \\x00 \\x00 \\x00 \\x00 \\x00 \\x00 \\x00 \\x006\\x009\\x000\\x008\\x00 \\x00 \\x00 \\x000\\x00 \\x00s\\x00v\\x00c\\x00h\\x00o\\x00s\\x00t\\x00 \\x00 \\x00 \\x00 \\x00 \\x00 \\x00 \\x00 \\x00 \\x00 \\x00 \\x00 \\x00 \\x00 \\x00 \\x00 \\x00 \\x00 \\x00 \\x00 \\x00 \\x00 \\x00 \\x00 \\x00 \\x00 \\x00 \\x00\\n\\x00\\n\\x00 \\x00 \\x00 \\x00 \\x001\\x009\\x005\\x00 \\x00 \\x00 \\x00 \\x00 \\x00 \\x00 \\x009\\x00 \\x00 \\x00 \\x00 \\x00 \\x001\\x007\\x006\\x008\\x00 \\x00 \\x00 \\x00 \\x00 \\x00 \\x00 \\x003\\x005\\x007\\x006\\x00 \\x00 \\x00 \\x00 \\x00 \\x00 \\x00 \\x00 \\x00 \\x00 \\x00 \\x00 \\x00 \\x00 \\x007\\x001\\x003\\x006\\x00 \\x00 \\x00 \\x000\\x00 \\x00s\\x00v\\x00c\\x00h\\x00o\\x00s\\x00t\\x00 \\x00 \\x00 \\x00 \\x00 \\x00 \\x00 \\x00 \\x00 \\x00 \\x00 \\x00 \\x00 \\x00 \\x00 \\x00 \\x00 \\x00 \\x00 \\x00 \\x00 \\x00 \\x00 \\x00 \\x00 \\x00 \\x00 \\x00\\n\\x00\\n\\x00 \\x00 \\x00 \\x00 \\x002\\x003\\x004\\x00 \\x00 \\x00 \\x00 \\x00 \\x00 \\x001\\x003\\x00 \\x00 \\x00 \\x00 \\x00 \\x003\\x000\\x004\\x004\\x00 \\x00 \\x00 \\x00 \\x00 \\x00 \\x00 \\x005\\x007\\x007\\x002\\x00 \\x00 \\x00 \\x00 \\x00 \\x00 \\x00 \\x00 \\x00 \\x00 \\x00 \\x00 \\x00 \\x00 \\x007\\x003\\x000\\x004\\x00 \\x00 \\x00 \\x000\\x00 \\x00s\\x00v\\x00c\\x00h\\x00o\\x00s\\x00t\\x00 \\x00 \\x00 \\x00 \\x00 \\x00 \\x00 \\x00 \\x00 \\x00 \\x00 \\x00 \\x00 \\x00 \\x00 \\x00 \\x00 \\x00 \\x00 \\x00 \\x00 \\x00 \\x00 \\x00 \\x00 \\x00 \\x00 \\x00\\n\\x00\\n\\x00 \\x00 \\x00 \\x00 \\x004\\x003\\x001\\x00 \\x00 \\x00 \\x00 \\x00 \\x00 \\x002\\x000\\x00 \\x00 \\x00 \\x00 \\x00 \\x004\\x001\\x006\\x000\\x00 \\x00 \\x00 \\x00 \\x00 \\x00 \\x001\\x003\\x005\\x002\\x000\\x00 \\x00 \\x00 \\x00 \\x00 \\x00 \\x00 \\x00 \\x00 \\x00 \\x00 \\x00 \\x00 \\x00 \\x007\\x005\\x009\\x002\\x00 \\x00 \\x00 \\x000\\x00 \\x00s\\x00v\\x00c\\x00h\\x00o\\x00s\\x00t\\x00 \\x00 \\x00 \\x00 \\x00 \\x00 \\x00 \\x00 \\x00 \\x00 \\x00 \\x00 \\x00 \\x00 \\x00 \\x00 \\x00 \\x00 \\x00 \\x00 \\x00 \\x00 \\x00 \\x00 \\x00 \\x00 \\x00 \\x00\\n\\x00\\n\\x00 \\x00 \\x00 \\x001\\x002\\x006\\x000\\x00 \\x00 \\x00 \\x00 \\x00 \\x001\\x002\\x002\\x00 \\x00 \\x00 \\x004\\x004\\x007\\x001\\x006\\x004\\x00 \\x00 \\x00 \\x00 \\x00 \\x00 \\x004\\x005\\x001\\x005\\x002\\x00 \\x00 \\x00 \\x00 \\x00 \\x00 \\x00 \\x00 \\x00 \\x00 \\x00 \\x00 \\x00 \\x00 \\x007\\x007\\x006\\x000\\x00 \\x00 \\x00 \\x000\\x00 \\x00s\\x00v\\x00c\\x00h\\x00o\\x00s\\x00t\\x00 \\x00 \\x00 \\x00 \\x00 \\x00 \\x00 \\x00 \\x00 \\x00 \\x00 \\x00 \\x00 \\x00 \\x00 \\x00 \\x00 \\x00 \\x00 \\x00 \\x00 \\x00 \\x00 \\x00 \\x00 \\x00 \\x00 \\x00\\n\\x00\\n\\x00 \\x00 \\x00 \\x00 \\x002\\x002\\x006\\x00 \\x00 \\x00 \\x00 \\x00 \\x00 \\x001\\x001\\x00 \\x00 \\x00 \\x00 \\x00 \\x002\\x000\\x007\\x002\\x00 \\x00 \\x00 \\x00 \\x00 \\x00 \\x00 \\x005\\x000\\x003\\x002\\x00 \\x00 \\x00 \\x00 \\x00 \\x00 \\x00 \\x00 \\x00 \\x00 \\x00 \\x00 \\x00 \\x00 \\x007\\x008\\x002\\x008\\x00 \\x00 \\x00 \\x000\\x00 \\x00s\\x00v\\x00c\\x00h\\x00o\\x00s\\x00t\\x00 \\x00 \\x00 \\x00 \\x00 \\x00 \\x00 \\x00 \\x00 \\x00 \\x00 \\x00 \\x00 \\x00 \\x00 \\x00 \\x00 \\x00 \\x00 \\x00 \\x00 \\x00 \\x00 \\x00 \\x00 \\x00 \\x00 \\x00\\n\\x00\\n\\x00 \\x00 \\x00 \\x00 \\x001\\x001\\x008\\x00 \\x00 \\x00 \\x00 \\x00 \\x00 \\x00 \\x007\\x00 \\x00 \\x00 \\x00 \\x00 \\x001\\x002\\x008\\x004\\x00 \\x00 \\x00 \\x00 \\x00 \\x00 \\x00 \\x005\\x004\\x008\\x008\\x00 \\x00 \\x00 \\x00 \\x00 \\x00 \\x00 \\x00 \\x00 \\x00 \\x00 \\x00 \\x00 \\x00 \\x008\\x008\\x003\\x002\\x00 \\x00 \\x00 \\x000\\x00 \\x00s\\x00v\\x00c\\x00h\\x00o\\x00s\\x00t\\x00 \\x00 \\x00 \\x00 \\x00 \\x00 \\x00 \\x00 \\x00 \\x00 \\x00 \\x00 \\x00 \\x00 \\x00 \\x00 \\x00 \\x00 \\x00 \\x00 \\x00 \\x00 \\x00 \\x00 \\x00 \\x00 \\x00 \\x00\\n\\x00\\n\\x00 \\x00 \\x00 \\x00 \\x001\\x002\\x008\\x00 \\x00 \\x00 \\x00 \\x00 \\x00 \\x00 \\x008\\x00 \\x00 \\x00 \\x00 \\x00 \\x001\\x007\\x003\\x006\\x00 \\x00 \\x00 \\x00 \\x00 \\x00 \\x00 \\x006\\x001\\x004\\x004\\x00 \\x00 \\x00 \\x00 \\x00 \\x00 \\x00 \\x00 \\x00 \\x00 \\x00 \\x00 \\x00 \\x00 \\x009\\x003\\x002\\x008\\x00 \\x00 \\x00 \\x000\\x00 \\x00s\\x00v\\x00c\\x00h\\x00o\\x00s\\x00t\\x00 \\x00 \\x00 \\x00 \\x00 \\x00 \\x00 \\x00 \\x00 \\x00 \\x00 \\x00 \\x00 \\x00 \\x00 \\x00 \\x00 \\x00 \\x00 \\x00 \\x00 \\x00 \\x00 \\x00 \\x00 \\x00 \\x00 \\x00\\n\\x00\\n\\x00 \\x00 \\x00 \\x00 \\x002\\x002\\x002\\x00 \\x00 \\x00 \\x00 \\x00 \\x00 \\x001\\x002\\x00 \\x00 \\x00 \\x00 \\x00 \\x002\\x008\\x007\\x006\\x00 \\x00 \\x00 \\x00 \\x00 \\x00 \\x001\\x000\\x008\\x000\\x000\\x00 \\x00 \\x00 \\x00 \\x00 \\x00 \\x00 \\x00 \\x00 \\x00 \\x00 \\x00 \\x00 \\x00 \\x009\\x003\\x006\\x008\\x00 \\x00 \\x00 \\x000\\x00 \\x00s\\x00v\\x00c\\x00h\\x00o\\x00s\\x00t\\x00 \\x00 \\x00 \\x00 \\x00 \\x00 \\x00 \\x00 \\x00 \\x00 \\x00 \\x00 \\x00 \\x00 \\x00 \\x00 \\x00 \\x00 \\x00 \\x00 \\x00 \\x00 \\x00 \\x00 \\x00 \\x00 \\x00 \\x00\\n\\x00\\n\\x00 \\x00 \\x00 \\x00 \\x001\\x007\\x007\\x00 \\x00 \\x00 \\x00 \\x00 \\x00 \\x00 \\x009\\x00 \\x00 \\x00 \\x00 \\x00 \\x002\\x001\\x002\\x004\\x00 \\x00 \\x00 \\x00 \\x00 \\x00 \\x00 \\x007\\x003\\x009\\x006\\x00 \\x00 \\x00 \\x00 \\x00 \\x00 \\x00 \\x00 \\x00 \\x00 \\x00 \\x00 \\x00 \\x001\\x000\\x000\\x002\\x004\\x00 \\x00 \\x00 \\x000\\x00 \\x00s\\x00v\\x00c\\x00h\\x00o\\x00s\\x00t\\x00 \\x00 \\x00 \\x00 \\x00 \\x00 \\x00 \\x00 \\x00 \\x00 \\x00 \\x00 \\x00 \\x00 \\x00 \\x00 \\x00 \\x00 \\x00 \\x00 \\x00 \\x00 \\x00 \\x00 \\x00 \\x00 \\x00 \\x00\\n\\x00\\n\\x00 \\x00 \\x00 \\x00 \\x001\\x009\\x007\\x00 \\x00 \\x00 \\x00 \\x00 \\x00 \\x001\\x000\\x00 \\x00 \\x00 \\x00 \\x00 \\x002\\x000\\x009\\x002\\x00 \\x00 \\x00 \\x00 \\x00 \\x00 \\x00 \\x007\\x008\\x009\\x006\\x00 \\x00 \\x00 \\x00 \\x00 \\x00 \\x00 \\x00 \\x00 \\x00 \\x00 \\x00 \\x00 \\x001\\x000\\x000\\x007\\x002\\x00 \\x00 \\x00 \\x000\\x00 \\x00s\\x00v\\x00c\\x00h\\x00o\\x00s\\x00t\\x00 \\x00 \\x00 \\x00 \\x00 \\x00 \\x00 \\x00 \\x00 \\x00 \\x00 \\x00 \\x00 \\x00 \\x00 \\x00 \\x00 \\x00 \\x00 \\x00 \\x00 \\x00 \\x00 \\x00 \\x00 \\x00 \\x00 \\x00\\n\\x00\\n\\x00 \\x00 \\x00 \\x00 \\x001\\x002\\x009\\x00 \\x00 \\x00 \\x00 \\x00 \\x00 \\x00 \\x007\\x00 \\x00 \\x00 \\x00 \\x00 \\x002\\x006\\x006\\x000\\x00 \\x00 \\x00 \\x00 \\x00 \\x00 \\x00 \\x007\\x005\\x005\\x006\\x00 \\x00 \\x00 \\x00 \\x00 \\x00 \\x00 \\x00 \\x00 \\x00 \\x00 \\x00 \\x00 \\x001\\x000\\x008\\x002\\x008\\x00 \\x00 \\x00 \\x000\\x00 \\x00s\\x00v\\x00c\\x00h\\x00o\\x00s\\x00t\\x00 \\x00 \\x00 \\x00 \\x00 \\x00 \\x00 \\x00 \\x00 \\x00 \\x00 \\x00 \\x00 \\x00 \\x00 \\x00 \\x00 \\x00 \\x00 \\x00 \\x00 \\x00 \\x00 \\x00 \\x00 \\x00 \\x00 \\x00\\n\\x00\\n\\x00 \\x00 \\x00 \\x00 \\x004\\x006\\x003\\x00 \\x00 \\x00 \\x00 \\x00 \\x00 \\x001\\x009\\x00 \\x00 \\x00 \\x00 \\x00 \\x009\\x008\\x008\\x008\\x00 \\x00 \\x00 \\x00 \\x00 \\x00 \\x003\\x002\\x000\\x002\\x004\\x00 \\x00 \\x00 \\x00 \\x00 \\x00 \\x00 \\x006\\x00.\\x000\\x002\\x00 \\x00 \\x001\\x001\\x002\\x003\\x006\\x00 \\x00 \\x00 \\x005\\x00 \\x00s\\x00v\\x00c\\x00h\\x00o\\x00s\\x00t\\x00 \\x00 \\x00 \\x00 \\x00 \\x00 \\x00 \\x00 \\x00 \\x00 \\x00 \\x00 \\x00 \\x00 \\x00 \\x00 \\x00 \\x00 \\x00 \\x00 \\x00 \\x00 \\x00 \\x00 \\x00 \\x00 \\x00 \\x00\\n\\x00\\n\\x00 \\x00 \\x00 \\x00 \\x002\\x006\\x001\\x00 \\x00 \\x00 \\x00 \\x00 \\x00 \\x001\\x005\\x00 \\x00 \\x00 \\x00 \\x00 \\x003\\x000\\x003\\x002\\x00 \\x00 \\x00 \\x00 \\x00 \\x00 \\x001\\x002\\x006\\x002\\x004\\x00 \\x00 \\x00 \\x00 \\x00 \\x00 \\x00 \\x000\\x00.\\x000\\x006\\x00 \\x00 \\x001\\x001\\x004\\x002\\x004\\x00 \\x00 \\x00 \\x005\\x00 \\x00s\\x00v\\x00c\\x00h\\x00o\\x00s\\x00t\\x00 \\x00 \\x00 \\x00 \\x00 \\x00 \\x00 \\x00 \\x00 \\x00 \\x00 \\x00 \\x00 \\x00 \\x00 \\x00 \\x00 \\x00 \\x00 \\x00 \\x00 \\x00 \\x00 \\x00 \\x00 \\x00 \\x00 \\x00\\n\\x00\\n\\x00 \\x00 \\x00 \\x00 \\x002\\x006\\x003\\x00 \\x00 \\x00 \\x00 \\x00 \\x00 \\x001\\x006\\x00 \\x00 \\x00 \\x00 \\x00 \\x004\\x001\\x002\\x004\\x00 \\x00 \\x00 \\x00 \\x00 \\x00 \\x001\\x001\\x009\\x000\\x008\\x00 \\x00 \\x00 \\x00 \\x00 \\x00 \\x00 \\x00 \\x00 \\x00 \\x00 \\x00 \\x00 \\x001\\x001\\x006\\x000\\x008\\x00 \\x00 \\x00 \\x000\\x00 \\x00s\\x00v\\x00c\\x00h\\x00o\\x00s\\x00t\\x00 \\x00 \\x00 \\x00 \\x00 \\x00 \\x00 \\x00 \\x00 \\x00 \\x00 \\x00 \\x00 \\x00 \\x00 \\x00 \\x00 \\x00 \\x00 \\x00 \\x00 \\x00 \\x00 \\x00 \\x00 \\x00 \\x00 \\x00\\n\\x00\\n\\x00 \\x00 \\x00 \\x00 \\x001\\x009\\x005\\x00 \\x00 \\x00 \\x00 \\x00 \\x00 \\x001\\x002\\x00 \\x00 \\x00 \\x00 \\x00 \\x004\\x000\\x000\\x004\\x00 \\x00 \\x00 \\x00 \\x00 \\x00 \\x001\\x002\\x001\\x003\\x002\\x00 \\x00 \\x00 \\x00 \\x00 \\x00 \\x00 \\x00 \\x00 \\x00 \\x00 \\x00 \\x00 \\x001\\x001\\x009\\x006\\x008\\x00 \\x00 \\x00 \\x000\\x00 \\x00s\\x00v\\x00c\\x00h\\x00o\\x00s\\x00t\\x00 \\x00 \\x00 \\x00 \\x00 \\x00 \\x00 \\x00 \\x00 \\x00 \\x00 \\x00 \\x00 \\x00 \\x00 \\x00 \\x00 \\x00 \\x00 \\x00 \\x00 \\x00 \\x00 \\x00 \\x00 \\x00 \\x00 \\x00\\n\\x00\\n\\x00 \\x00 \\x00 \\x00 \\x005\\x002\\x007\\x00 \\x00 \\x00 \\x00 \\x00 \\x00 \\x001\\x006\\x00 \\x00 \\x00 \\x00 \\x00 \\x006\\x005\\x006\\x004\\x00 \\x00 \\x00 \\x00 \\x00 \\x00 \\x002\\x001\\x001\\x004\\x004\\x00 \\x00 \\x00 \\x00 \\x00 \\x00 \\x001\\x001\\x00.\\x008\\x000\\x00 \\x00 \\x001\\x000\\x009\\x004\\x008\\x00 \\x00 \\x00 \\x005\\x00 \\x00S\\x00y\\x00n\\x00T\\x00P\\x00E\\x00n\\x00h\\x00 \\x00 \\x00 \\x00 \\x00 \\x00 \\x00 \\x00 \\x00 \\x00 \\x00 \\x00 \\x00 \\x00 \\x00 \\x00 \\x00 \\x00 \\x00 \\x00 \\x00 \\x00 \\x00 \\x00 \\x00 \\x00 \\x00\\n\\x00\\n\\x00 \\x00 \\x00 \\x00 \\x002\\x004\\x001\\x00 \\x00 \\x00 \\x00 \\x00 \\x00 \\x00 \\x006\\x00 \\x00 \\x00 \\x00 \\x00 \\x001\\x002\\x008\\x000\\x00 \\x00 \\x00 \\x00 \\x00 \\x00 \\x00 \\x002\\x008\\x005\\x002\\x00 \\x00 \\x00 \\x00 \\x00 \\x00 \\x00 \\x00 \\x00 \\x00 \\x00 \\x00 \\x00 \\x00 \\x004\\x003\\x002\\x004\\x00 \\x00 \\x00 \\x000\\x00 \\x00S\\x00y\\x00n\\x00T\\x00P\\x00E\\x00n\\x00h\\x00S\\x00e\\x00r\\x00v\\x00i\\x00c\\x00e\\x00 \\x00 \\x00 \\x00 \\x00 \\x00 \\x00 \\x00 \\x00 \\x00 \\x00 \\x00 \\x00 \\x00 \\x00 \\x00 \\x00 \\x00 \\x00 \\x00\\n\\x00\\n\\x00 \\x00 \\x00 \\x00 \\x00 \\x007\\x002\\x00 \\x00 \\x00 \\x00 \\x00 \\x00 \\x00 \\x006\\x00 \\x00 \\x00 \\x00 \\x00 \\x001\\x000\\x006\\x004\\x00 \\x00 \\x00 \\x00 \\x00 \\x00 \\x00 \\x004\\x007\\x000\\x000\\x00 \\x00 \\x00 \\x00 \\x00 \\x00 \\x00 \\x000\\x00.\\x001\\x001\\x00 \\x00 \\x00 \\x007\\x008\\x002\\x000\\x00 \\x00 \\x00 \\x005\\x00 \\x00S\\x00y\\x00n\\x00T\\x00P\\x00H\\x00e\\x00l\\x00p\\x00e\\x00r\\x00 \\x00 \\x00 \\x00 \\x00 \\x00 \\x00 \\x00 \\x00 \\x00 \\x00 \\x00 \\x00 \\x00 \\x00 \\x00 \\x00 \\x00 \\x00 \\x00 \\x00 \\x00 \\x00 \\x00\\n\\x00\\n\\x00 \\x00 \\x00 \\x004\\x002\\x005\\x006\\x00 \\x00 \\x00 \\x00 \\x00 \\x00 \\x00 \\x000\\x00 \\x00 \\x00 \\x00 \\x00 \\x00 \\x002\\x004\\x008\\x00 \\x00 \\x00 \\x00 \\x00 \\x00 \\x002\\x001\\x002\\x005\\x002\\x00 \\x00 \\x00 \\x00 \\x00 \\x00 \\x00 \\x00 \\x00 \\x00 \\x00 \\x00 \\x00 \\x00 \\x00 \\x00 \\x00 \\x004\\x00 \\x00 \\x00 \\x000\\x00 \\x00S\\x00y\\x00s\\x00t\\x00e\\x00m\\x00 \\x00 \\x00 \\x00 \\x00 \\x00 \\x00 \\x00 \\x00 \\x00 \\x00 \\x00 \\x00 \\x00 \\x00 \\x00 \\x00 \\x00 \\x00 \\x00 \\x00 \\x00 \\x00 \\x00 \\x00 \\x00 \\x00 \\x00 \\x00\\n\\x00\\n\\x00 \\x00 \\x00 \\x00 \\x002\\x007\\x007\\x00 \\x00 \\x00 \\x00 \\x00 \\x00 \\x002\\x009\\x00 \\x00 \\x00 \\x00 \\x00 \\x006\\x003\\x001\\x006\\x00 \\x00 \\x00 \\x00 \\x00 \\x00 \\x001\\x005\\x005\\x002\\x000\\x00 \\x00 \\x00 \\x00 \\x00 \\x00 \\x00 \\x000\\x00.\\x003\\x000\\x00 \\x00 \\x00 \\x008\\x005\\x004\\x004\\x00 \\x00 \\x00 \\x005\\x00 \\x00t\\x00a\\x00s\\x00k\\x00h\\x00o\\x00s\\x00t\\x00w\\x00 \\x00 \\x00 \\x00 \\x00 \\x00 \\x00 \\x00 \\x00 \\x00 \\x00 \\x00 \\x00 \\x00 \\x00 \\x00 \\x00 \\x00 \\x00 \\x00 \\x00 \\x00 \\x00 \\x00 \\x00 \\x00\\n\\x00\\n\\x00 \\x00 \\x00 \\x00 \\x003\\x009\\x006\\x00 \\x00 \\x00 \\x00 \\x00 \\x002\\x005\\x007\\x00 \\x00 \\x00 \\x00 \\x001\\x006\\x008\\x004\\x004\\x00 \\x00 \\x00 \\x00 \\x00 \\x00 \\x00 \\x007\\x001\\x004\\x004\\x00 \\x00 \\x00 \\x00 \\x00 \\x00 \\x00 \\x00 \\x00 \\x00 \\x00 \\x00 \\x00 \\x00 \\x004\\x001\\x005\\x006\\x00 \\x00 \\x00 \\x000\\x00 \\x00T\\x00e\\x00a\\x00m\\x00V\\x00i\\x00e\\x00w\\x00e\\x00r\\x00_\\x00S\\x00e\\x00r\\x00v\\x00i\\x00c\\x00e\\x00 \\x00 \\x00 \\x00 \\x00 \\x00 \\x00 \\x00 \\x00 \\x00 \\x00 \\x00 \\x00 \\x00 \\x00 \\x00 \\x00\\n\\x00\\n\\x00 \\x00 \\x00 \\x00 \\x004\\x002\\x003\\x00 \\x00 \\x00 \\x00 \\x00 \\x00 \\x001\\x009\\x00 \\x00 \\x00 \\x00 \\x002\\x006\\x007\\x008\\x004\\x00 \\x00 \\x00 \\x00 \\x00 \\x00 \\x001\\x007\\x000\\x002\\x004\\x00 \\x00 \\x00 \\x00 \\x00 \\x00 \\x00 \\x00 \\x00 \\x00 \\x00 \\x00 \\x00 \\x00 \\x004\\x008\\x001\\x002\\x00 \\x00 \\x00 \\x000\\x00 \\x00u\\x00s\\x00o\\x00c\\x00o\\x00r\\x00e\\x00w\\x00o\\x00r\\x00k\\x00e\\x00r\\x00 \\x00 \\x00 \\x00 \\x00 \\x00 \\x00 \\x00 \\x00 \\x00 \\x00 \\x00 \\x00 \\x00 \\x00 \\x00 \\x00 \\x00 \\x00 \\x00 \\x00 \\x00\\n\\x00\\n\\x00 \\x00 \\x00 \\x00 \\x001\\x007\\x005\\x00 \\x00 \\x00 \\x00 \\x00 \\x00 \\x001\\x004\\x00 \\x00 \\x00 \\x00 \\x00 \\x002\\x000\\x000\\x004\\x00 \\x00 \\x00 \\x00 \\x00 \\x00 \\x00 \\x002\\x009\\x006\\x004\\x00 \\x00 \\x00 \\x00 \\x00 \\x00 \\x00 \\x00 \\x00 \\x00 \\x00 \\x00 \\x00 \\x00 \\x004\\x002\\x008\\x000\\x00 \\x00 \\x00 \\x000\\x00 \\x00v\\x00m\\x00n\\x00a\\x00t\\x00 \\x00 \\x00 \\x00 \\x00 \\x00 \\x00 \\x00 \\x00 \\x00 \\x00 \\x00 \\x00 \\x00 \\x00 \\x00 \\x00 \\x00 \\x00 \\x00 \\x00 \\x00 \\x00 \\x00 \\x00 \\x00 \\x00 \\x00 \\x00 \\x00\\n\\x00\\n\\x00 \\x00 \\x00 \\x00 \\x00 \\x008\\x007\\x00 \\x00 \\x00 \\x00 \\x00 \\x00 \\x00 \\x008\\x00 \\x00 \\x00 \\x00 \\x00 \\x007\\x005\\x002\\x004\\x00 \\x00 \\x00 \\x00 \\x00 \\x00 \\x00 \\x001\\x001\\x005\\x006\\x00 \\x00 \\x00 \\x00 \\x00 \\x00 \\x00 \\x00 \\x00 \\x00 \\x00 \\x00 \\x00 \\x00 \\x004\\x002\\x004\\x008\\x00 \\x00 \\x00 \\x000\\x00 \\x00v\\x00m\\x00n\\x00e\\x00t\\x00d\\x00h\\x00c\\x00p\\x00 \\x00 \\x00 \\x00 \\x00 \\x00 \\x00 \\x00 \\x00 \\x00 \\x00 \\x00 \\x00 \\x00 \\x00 \\x00 \\x00 \\x00 \\x00 \\x00 \\x00 \\x00 \\x00 \\x00 \\x00 \\x00\\n\\x00\\n\\x00 \\x00 \\x00 \\x00 \\x005\\x005\\x000\\x00 \\x00 \\x00 \\x00 \\x00 \\x00 \\x002\\x009\\x00 \\x00 \\x00 \\x00 \\x001\\x005\\x004\\x002\\x000\\x00 \\x00 \\x00 \\x00 \\x00 \\x00 \\x001\\x001\\x009\\x008\\x000\\x00 \\x00 \\x00 \\x00 \\x00 \\x00 \\x00 \\x00 \\x00 \\x00 \\x00 \\x00 \\x00 \\x00 \\x004\\x001\\x006\\x004\\x00 \\x00 \\x00 \\x000\\x00 \\x00v\\x00m\\x00w\\x00a\\x00r\\x00e\\x00-\\x00a\\x00u\\x00t\\x00h\\x00d\\x00 \\x00 \\x00 \\x00 \\x00 \\x00 \\x00 \\x00 \\x00 \\x00 \\x00 \\x00 \\x00 \\x00 \\x00 \\x00 \\x00 \\x00 \\x00 \\x00 \\x00 \\x00 \\x00\\n\\x00\\n\\x00 \\x00 \\x00 \\x00 \\x004\\x005\\x003\\x00 \\x00 \\x00 \\x00 \\x00 \\x00 \\x003\\x007\\x00 \\x00 \\x00 \\x00 \\x002\\x008\\x001\\x001\\x006\\x00 \\x00 \\x00 \\x00 \\x00 \\x00 \\x001\\x004\\x008\\x005\\x006\\x00 \\x00 \\x00 \\x00 \\x00 \\x00 \\x00 \\x00 \\x00 \\x00 \\x00 \\x00 \\x00 \\x00 \\x005\\x001\\x002\\x004\\x00 \\x00 \\x00 \\x000\\x00 \\x00v\\x00m\\x00w\\x00a\\x00r\\x00e\\x00-\\x00h\\x00o\\x00s\\x00t\\x00d\\x00 \\x00 \\x00 \\x00 \\x00 \\x00 \\x00 \\x00 \\x00 \\x00 \\x00 \\x00 \\x00 \\x00 \\x00 \\x00 \\x00 \\x00 \\x00 \\x00 \\x00 \\x00 \\x00\\n\\x00\\n\\x00 \\x00 \\x00 \\x00 \\x001\\x005\\x000\\x00 \\x00 \\x00 \\x00 \\x00 \\x00 \\x001\\x001\\x00 \\x00 \\x00 \\x00 \\x00 \\x001\\x005\\x006\\x004\\x00 \\x00 \\x00 \\x00 \\x00 \\x00 \\x00 \\x007\\x004\\x003\\x006\\x00 \\x00 \\x00 \\x00 \\x00 \\x00 \\x00 \\x000\\x00.\\x000\\x005\\x00 \\x00 \\x001\\x000\\x001\\x009\\x006\\x00 \\x00 \\x00 \\x005\\x00 \\x00v\\x00m\\x00w\\x00a\\x00r\\x00e\\x00-\\x00t\\x00r\\x00a\\x00y\\x00 \\x00 \\x00 \\x00 \\x00 \\x00 \\x00 \\x00 \\x00 \\x00 \\x00 \\x00 \\x00 \\x00 \\x00 \\x00 \\x00 \\x00 \\x00 \\x00 \\x00 \\x00 \\x00 \\x00\\n\\x00\\n\\x00 \\x00 \\x00 \\x00 \\x002\\x002\\x009\\x00 \\x00 \\x00 \\x00 \\x00 \\x00 \\x001\\x003\\x00 \\x00 \\x00 \\x00 \\x00 \\x002\\x006\\x000\\x008\\x00 \\x00 \\x00 \\x00 \\x00 \\x00 \\x00 \\x003\\x005\\x008\\x000\\x00 \\x00 \\x00 \\x00 \\x00 \\x00 \\x00 \\x00 \\x00 \\x00 \\x00 \\x00 \\x00 \\x00 \\x004\\x002\\x004\\x000\\x00 \\x00 \\x00 \\x000\\x00 \\x00v\\x00m\\x00w\\x00a\\x00r\\x00e\\x00-\\x00u\\x00s\\x00b\\x00a\\x00r\\x00b\\x00i\\x00t\\x00r\\x00a\\x00t\\x00o\\x00r\\x006\\x004\\x00 \\x00 \\x00 \\x00 \\x00 \\x00 \\x00 \\x00 \\x00 \\x00 \\x00 \\x00 \\x00\\n\\x00\\n\\x00 \\x00 \\x00 \\x00 \\x001\\x006\\x006\\x00 \\x00 \\x00 \\x00 \\x00 \\x00 \\x001\\x001\\x00 \\x00 \\x00 \\x00 \\x00 \\x001\\x006\\x005\\x006\\x00 \\x00 \\x00 \\x00 \\x00 \\x00 \\x00 \\x003\\x006\\x004\\x008\\x00 \\x00 \\x00 \\x00 \\x00 \\x00 \\x00 \\x00 \\x00 \\x00 \\x00 \\x00 \\x00 \\x00 \\x00 \\x007\\x006\\x008\\x00 \\x00 \\x00 \\x000\\x00 \\x00w\\x00i\\x00n\\x00i\\x00n\\x00i\\x00t\\x00 \\x00 \\x00 \\x00 \\x00 \\x00 \\x00 \\x00 \\x00 \\x00 \\x00 \\x00 \\x00 \\x00 \\x00 \\x00 \\x00 \\x00 \\x00 \\x00 \\x00 \\x00 \\x00 \\x00 \\x00 \\x00 \\x00 \\x00\\n\\x00\\n\\x00 \\x00 \\x00 \\x00 \\x002\\x007\\x004\\x00 \\x00 \\x00 \\x00 \\x00 \\x00 \\x001\\x002\\x00 \\x00 \\x00 \\x00 \\x00 \\x002\\x006\\x002\\x000\\x00 \\x00 \\x00 \\x00 \\x00 \\x00 \\x00 \\x009\\x009\\x003\\x002\\x00 \\x00 \\x00 \\x00 \\x00 \\x00 \\x00 \\x00 \\x00 \\x00 \\x00 \\x00 \\x00 \\x00 \\x004\\x007\\x006\\x008\\x00 \\x00 \\x00 \\x005\\x00 \\x00w\\x00i\\x00n\\x00l\\x00o\\x00g\\x00o\\x00n\\x00 \\x00 \\x00 \\x00 \\x00 \\x00 \\x00 \\x00 \\x00 \\x00 \\x00 \\x00 \\x00 \\x00 \\x00 \\x00 \\x00 \\x00 \\x00 \\x00 \\x00 \\x00 \\x00 \\x00 \\x00 \\x00 \\x00\\n\\x00\\n\\x00 \\x00 \\x00 \\x00 \\x001\\x008\\x007\\x00 \\x00 \\x00 \\x00 \\x00 \\x00 \\x001\\x003\\x00 \\x00 \\x00 \\x00 \\x00 \\x001\\x009\\x006\\x008\\x00 \\x00 \\x00 \\x00 \\x00 \\x00 \\x00 \\x003\\x003\\x004\\x000\\x00 \\x00 \\x00 \\x00 \\x00 \\x00 \\x00 \\x00 \\x00 \\x00 \\x00 \\x00 \\x00 \\x00 \\x005\\x007\\x004\\x000\\x00 \\x00 \\x00 \\x000\\x00 \\x00W\\x00m\\x00i\\x00A\\x00p\\x00S\\x00r\\x00v\\x00 \\x00 \\x00 \\x00 \\x00 \\x00 \\x00 \\x00 \\x00 \\x00 \\x00 \\x00 \\x00 \\x00 \\x00 \\x00 \\x00 \\x00 \\x00 \\x00 \\x00 \\x00 \\x00 \\x00 \\x00 \\x00 \\x00\\n\\x00\\n\\x00 \\x00 \\x00 \\x00 \\x001\\x005\\x008\\x00 \\x00 \\x00 \\x00 \\x00 \\x00 \\x00 \\x009\\x00 \\x00 \\x00 \\x00 \\x00 \\x002\\x002\\x008\\x000\\x00 \\x00 \\x00 \\x00 \\x00 \\x00 \\x00 \\x008\\x002\\x000\\x004\\x00 \\x00 \\x00 \\x00 \\x00 \\x00 \\x00 \\x00 \\x00 \\x00 \\x00 \\x00 \\x00 \\x00 \\x001\\x004\\x003\\x002\\x00 \\x00 \\x00 \\x000\\x00 \\x00W\\x00m\\x00i\\x00P\\x00r\\x00v\\x00S\\x00E\\x00 \\x00 \\x00 \\x00 \\x00 \\x00 \\x00 \\x00 \\x00 \\x00 \\x00 \\x00 \\x00 \\x00 \\x00 \\x00 \\x00 \\x00 \\x00 \\x00 \\x00 \\x00 \\x00 \\x00 \\x00 \\x00 \\x00\\n\\x00\\n\\x00 \\x00 \\x00 \\x00 \\x001\\x007\\x004\\x00 \\x00 \\x00 \\x00 \\x00 \\x00 \\x001\\x000\\x00 \\x00 \\x00 \\x00 \\x00 \\x002\\x008\\x009\\x002\\x00 \\x00 \\x00 \\x00 \\x00 \\x00 \\x00 \\x008\\x009\\x009\\x006\\x00 \\x00 \\x00 \\x00 \\x00 \\x00 \\x00 \\x00 \\x00 \\x00 \\x00 \\x00 \\x00 \\x00 \\x004\\x005\\x001\\x002\\x00 \\x00 \\x00 \\x000\\x00 \\x00W\\x00m\\x00i\\x00P\\x00r\\x00v\\x00S\\x00E\\x00 \\x00 \\x00 \\x00 \\x00 \\x00 \\x00 \\x00 \\x00 \\x00 \\x00 \\x00 \\x00 \\x00 \\x00 \\x00 \\x00 \\x00 \\x00 \\x00 \\x00 \\x00 \\x00 \\x00 \\x00 \\x00 \\x00\\n\\x00\\n\\x00 \\x00 \\x00 \\x00 \\x003\\x000\\x004\\x00 \\x00 \\x00 \\x00 \\x00 \\x00 \\x001\\x003\\x00 \\x00 \\x00 \\x00 \\x00 \\x003\\x006\\x009\\x002\\x00 \\x00 \\x00 \\x00 \\x00 \\x00 \\x00 \\x003\\x008\\x003\\x002\\x00 \\x00 \\x00 \\x00 \\x00 \\x00 \\x00 \\x00 \\x00 \\x00 \\x00 \\x00 \\x00 \\x00 \\x00 \\x008\\x006\\x008\\x00 \\x00 \\x00 \\x000\\x00 \\x00W\\x00U\\x00D\\x00F\\x00H\\x00o\\x00s\\x00t\\x00 \\x00 \\x00 \\x00 \\x00 \\x00 \\x00 \\x00 \\x00 \\x00 \\x00 \\x00 \\x00 \\x00 \\x00 \\x00 \\x00 \\x00 \\x00 \\x00 \\x00 \\x00 \\x00 \\x00 \\x00 \\x00 \\x00\\n\\x00\\n\\x00 \\x00 \\x00 \\x00 \\x002\\x002\\x009\\x00 \\x00 \\x00 \\x00 \\x00 \\x00 \\x001\\x000\\x00 \\x00 \\x00 \\x00 \\x00 \\x001\\x007\\x001\\x002\\x00 \\x00 \\x00 \\x00 \\x00 \\x00 \\x00 \\x006\\x006\\x008\\x004\\x00 \\x00 \\x00 \\x00 \\x00 \\x00 \\x00 \\x00 \\x00 \\x00 \\x00 \\x00 \\x00 \\x001\\x002\\x006\\x006\\x000\\x00 \\x00 \\x00 \\x000\\x00 \\x00W\\x00U\\x00D\\x00F\\x00H\\x00o\\x00s\\x00t\\x00 \\x00 \\x00 \\x00 \\x00 \\x00 \\x00 \\x00 \\x00 \\x00 \\x00 \\x00 \\x00 \\x00 \\x00 \\x00 \\x00 \\x00 \\x00 \\x00 \\x00 \\x00 \\x00 \\x00 \\x00 \\x00 \\x00\\n\\x00\\n\\x00 \\x00 \\x00 \\x00 \\x005\\x009\\x008\\x00 \\x00 \\x00 \\x00 \\x00 \\x00 \\x002\\x009\\x00 \\x00 \\x00 \\x00 \\x001\\x006\\x001\\x008\\x004\\x00 \\x00 \\x00 \\x00 \\x00 \\x00 \\x003\\x008\\x005\\x005\\x006\\x00 \\x00 \\x00 \\x00 \\x00 \\x00 \\x00 \\x000\\x00.\\x004\\x007\\x00 \\x00 \\x00 \\x006\\x004\\x009\\x002\\x00 \\x00 \\x00 \\x005\\x00 \\x00Y\\x00o\\x00u\\x00r\\x00P\\x00h\\x00o\\x00n\\x00e\\x00 \\x00 \\x00 \\x00 \\x00 \\x00 \\x00 \\x00 \\x00 \\x00 \\x00 \\x00 \\x00 \\x00 \\x00 \\x00 \\x00 \\x00 \\x00 \\x00 \\x00 \\x00 \\x00 \\x00 \\x00 \\x00\\n\\x00\\n\\x00 \\x00 \\x00 \\x00 \\x007\\x003\\x004\\x00 \\x00 \\x00 \\x00 \\x00 \\x00 \\x004\\x008\\x00 \\x00 \\x00 \\x00 \\x007\\x009\\x001\\x000\\x000\\x00 \\x00 \\x00 \\x00 \\x00 \\x00 \\x009\\x003\\x000\\x005\\x002\\x00 \\x00 \\x00 \\x00 \\x00 \\x00 \\x00 \\x002\\x00.\\x007\\x007\\x00 \\x00 \\x00 \\x001\\x004\\x006\\x008\\x00 \\x00 \\x00 \\x005\\x00 \\x00Z\\x00o\\x00o\\x00m\\x00 \\x00 \\x00 \\x00 \\x00 \\x00 \\x00 \\x00 \\x00 \\x00 \\x00 \\x00 \\x00 \\x00 \\x00 \\x00 \\x00 \\x00 \\x00 \\x00 \\x00 \\x00 \\x00 \\x00 \\x00 \\x00 \\x00 \\x00 \\x00 \\x00 \\x00\\n\\x00\\n\\x00 \\x00 \\x00 \\x001\\x002\\x004\\x009\\x00 \\x00 \\x00 \\x00 \\x00 \\x001\\x004\\x008\\x00 \\x00 \\x00 \\x001\\x003\\x008\\x009\\x001\\x002\\x00 \\x00 \\x00 \\x00 \\x00 \\x001\\x006\\x001\\x006\\x002\\x004\\x00 \\x00 \\x00 \\x00 \\x00 \\x00 \\x001\\x000\\x00.\\x005\\x005\\x00 \\x00 \\x00 \\x003\\x002\\x002\\x000\\x00 \\x00 \\x00 \\x005\\x00 \\x00Z\\x00o\\x00o\\x00m\\x00 \\x00 \\x00 \\x00 \\x00 \\x00 \\x00 \\x00 \\x00 \\x00 \\x00 \\x00 \\x00 \\x00 \\x00 \\x00 \\x00 \\x00 \\x00 \\x00 \\x00 \\x00 \\x00 \\x00 \\x00 \\x00 \\x00 \\x00 \\x00 \\x00 \\x00\\n\\x00\\n\\x00\\n\\x00\\n\\x00\\n\\x00\\n\\x00'"
      ]
     },
     "execution_count": 63,
     "metadata": {},
     "output_type": "execute_result"
    }
   ],
   "source": [
    "f.read()"
   ]
  },
  {
   "cell_type": "code",
   "execution_count": 64,
   "metadata": {},
   "outputs": [
    {
     "data": {
      "text/plain": [
       "0"
      ]
     },
     "execution_count": 64,
     "metadata": {},
     "output_type": "execute_result"
    }
   ],
   "source": [
    "f.seek(0)"
   ]
  },
  {
   "cell_type": "code",
   "execution_count": 65,
   "metadata": {},
   "outputs": [
    {
     "data": {
      "text/plain": [
       "'ÿþ\\n'"
      ]
     },
     "execution_count": 65,
     "metadata": {},
     "output_type": "execute_result"
    }
   ],
   "source": [
    "f.readline()"
   ]
  },
  {
   "cell_type": "code",
   "execution_count": 66,
   "metadata": {},
   "outputs": [
    {
     "data": {
      "text/plain": [
       "4"
      ]
     },
     "execution_count": 66,
     "metadata": {},
     "output_type": "execute_result"
    }
   ],
   "source": [
    "f.fileno()"
   ]
  },
  {
   "cell_type": "code",
   "execution_count": 67,
   "metadata": {},
   "outputs": [
    {
     "data": {
      "text/plain": [
       "['process.txt', 'test.txt', 'test1.txt']"
      ]
     },
     "execution_count": 67,
     "metadata": {},
     "output_type": "execute_result"
    }
   ],
   "source": [
    "os.listdir()"
   ]
  },
  {
   "cell_type": "code",
   "execution_count": 69,
   "metadata": {},
   "outputs": [
    {
     "data": {
      "text/plain": [
       "['.ipynb_checkpoints',\n",
       " '03_April_2021.ipynb',\n",
       " '05_june_2021.ipynb',\n",
       " '06_June_2021.ipynb',\n",
       " '09_may_2021.ipynb',\n",
       " '11_april_classwork.ipynb',\n",
       " '15_may_2021.ipynb',\n",
       " '15_may_2021_again.ipynb',\n",
       " '15_may_classwork.log',\n",
       " '16_may_2021.ipynb',\n",
       " '20_03_2021.ipynb',\n",
       " '21_03_2021.ipynb',\n",
       " '22_may_2021.ipynb',\n",
       " '23_may_2021.ipynb',\n",
       " '8_may_2021.ipynb',\n",
       " 'Excel.Assessment.Test_.Practice.xlsx',\n",
       " 'mydata.csv',\n",
       " 'my_pickle',\n",
       " 'newplayers.csv',\n",
       " 'pandas practice.pdf',\n",
       " 'process.csv',\n",
       " 'result.csv',\n",
       " 'sample4.csv',\n",
       " 'study_file_system',\n",
       " 'Task_of_06_june_2021.ipynb',\n",
       " 'test.csv',\n",
       " 'thenewfile',\n",
       " 'Untitled.ipynb',\n",
       " 'Untitled1.ipynb']"
      ]
     },
     "execution_count": 69,
     "metadata": {},
     "output_type": "execute_result"
    }
   ],
   "source": [
    "os.listdir(\"C:/Users/Anmol_PC/Desktop/ineuron_assign/Class_work/\")"
   ]
  },
  {
   "cell_type": "code",
   "execution_count": 70,
   "metadata": {},
   "outputs": [
    {
     "data": {
      "text/plain": [
       "'C:\\\\Users\\\\Anmol_PC\\\\Desktop\\\\ineuron_assign\\\\Class_work\\\\study_file_system'"
      ]
     },
     "execution_count": 70,
     "metadata": {},
     "output_type": "execute_result"
    }
   ],
   "source": [
    "%pwd"
   ]
  },
  {
   "cell_type": "code",
   "execution_count": 71,
   "metadata": {},
   "outputs": [],
   "source": [
    "os.chdir('C:\\\\Users\\\\Anmol_PC\\\\Desktop\\\\')"
   ]
  },
  {
   "cell_type": "code",
   "execution_count": 72,
   "metadata": {},
   "outputs": [
    {
     "data": {
      "text/plain": [
       "'C:\\\\Users\\\\Anmol_PC\\\\Desktop'"
      ]
     },
     "execution_count": 72,
     "metadata": {},
     "output_type": "execute_result"
    }
   ],
   "source": [
    "%pwd"
   ]
  },
  {
   "cell_type": "code",
   "execution_count": 76,
   "metadata": {},
   "outputs": [],
   "source": [
    "l = []\n",
    "l = %pwd"
   ]
  },
  {
   "cell_type": "code",
   "execution_count": 78,
   "metadata": {},
   "outputs": [],
   "source": [
    "for i in l:\n",
    "    if i == 'users':\n",
    "        print(i)"
   ]
  },
  {
   "cell_type": "code",
   "execution_count": 79,
   "metadata": {},
   "outputs": [
    {
     "name": "stdout",
     "output_type": "stream",
     "text": [
      " Volume in drive C has no label.\n",
      " Volume Serial Number is EA81-2A9B\n",
      "\n",
      " Directory of C:\\Users\\Anmol_PC\\Desktop\n",
      "\n",
      "06/07/2021  04:15 PM    <DIR>          .\n",
      "06/07/2021  04:15 PM    <DIR>          ..\n",
      "10/10/2020  01:24 AM    <DIR>          .vscode\n",
      "03/28/2021  09:46 PM        12,434,072 5_6057697869429735681.pdf\n",
      "12/13/2020  12:36 AM    <DIR>          AD_lab\n",
      "05/12/2021  03:11 PM         4,021,573 AD_STUDY_MATERIAL.rtf\n",
      "04/19/2021  02:55 PM           106,471 Age of Industrialization - a blessing and a curse.pdf\n",
      "05/28/2021  10:20 PM        12,805,695 Al-Sweigart-Automate-The-Boring-Stuff-With-Python_-Practical-Programming-For-Total-Beginners-No-Starch-Press-2019.pdf\n",
      "12/21/2019  06:28 PM             1,912 BitTorrent Web.lnk\n",
      "06/05/2021  10:32 PM    <DIR>          C_notes\n",
      "03/01/2021  07:04 PM    <DIR>          DSA_NOTES\n",
      "06/02/2021  01:17 PM    <DIR>          env\n",
      "06/07/2021  03:55 PM    <DIR>          Full_stack_data_science\n",
      "05/17/2020  06:35 AM               273 Grand Theft Auto V.url\n",
      "05/25/2021  07:49 PM    <DIR>          ineuron_assign\n",
      "03/25/2021  09:02 PM            87,979 Latest_photo.JPG\n",
      "05/30/2021  03:04 PM             2,406 MongoDBCompass.lnk\n",
      "12/13/2020  12:36 AM    <DIR>          My_Desktop\n",
      "02/14/2021  08:03 PM             1,167 Oracle VM VirtualBox.lnk\n",
      "07/25/2020  11:12 PM    <DIR>          Plural_site\n",
      "02/24/2021  10:19 PM             2,180 Postman.lnk\n",
      "05/17/2020  06:18 PM             1,065 Rockstar Games Launcher.lnk\n",
      "02/27/2021  08:30 PM    <DIR>          Sci_folder\n",
      "05/23/2021  02:09 AM    <DIR>          TCS_DOCS\n",
      "03/20/2021  01:04 AM    <DIR>          Technical_documents\n",
      "05/17/2020  11:51 AM    <DIR>          Things_to_be_mailed\n",
      "02/25/2021  06:55 PM               164 Tracker_for_computer_vision.txt\n",
      "01/17/2021  04:14 PM    <DIR>          updates\n",
      "04/19/2020  11:20 PM             2,218 VMware Workstation.lnk\n",
      "05/17/2021  03:39 PM             1,940 Zoom.lnk\n",
      "              14 File(s)     29,469,115 bytes\n",
      "              16 Dir(s)  168,802,291,712 bytes free\n"
     ]
    }
   ],
   "source": [
    "ls"
   ]
  },
  {
   "cell_type": "code",
   "execution_count": 83,
   "metadata": {},
   "outputs": [
    {
     "name": "stdout",
     "output_type": "stream",
     "text": [
      " Volume in drive C has no label.\n",
      " Volume Serial Number is EA81-2A9B\n",
      "\n",
      " Directory of C:\\Users\\Anmol_PC\\Desktop\n",
      "\n",
      "06/07/2021  04:15 PM    <DIR>          .\n",
      "06/07/2021  04:15 PM    <DIR>          ..\n",
      "10/10/2020  01:24 AM    <DIR>          .vscode\n",
      "03/28/2021  09:46 PM        12,434,072 5_6057697869429735681.pdf\n",
      "12/13/2020  12:36 AM    <DIR>          AD_lab\n",
      "05/12/2021  03:11 PM         4,021,573 AD_STUDY_MATERIAL.rtf\n",
      "04/19/2021  02:55 PM           106,471 Age of Industrialization - a blessing and a curse.pdf\n",
      "05/28/2021  10:20 PM        12,805,695 Al-Sweigart-Automate-The-Boring-Stuff-With-Python_-Practical-Programming-For-Total-Beginners-No-Starch-Press-2019.pdf\n",
      "12/21/2019  06:28 PM             1,912 BitTorrent Web.lnk\n",
      "06/05/2021  10:32 PM    <DIR>          C_notes\n",
      "03/01/2021  07:04 PM    <DIR>          DSA_NOTES\n",
      "06/02/2021  01:17 PM    <DIR>          env\n",
      "06/07/2021  03:55 PM    <DIR>          Full_stack_data_science\n",
      "05/17/2020  06:35 AM               273 Grand Theft Auto V.url\n",
      "05/25/2021  07:49 PM    <DIR>          ineuron_assign\n",
      "03/25/2021  09:02 PM            87,979 Latest_photo.JPG\n",
      "05/30/2021  03:04 PM             2,406 MongoDBCompass.lnk\n",
      "12/13/2020  12:36 AM    <DIR>          My_Desktop\n",
      "02/14/2021  08:03 PM             1,167 Oracle VM VirtualBox.lnk\n",
      "07/25/2020  11:12 PM    <DIR>          Plural_site\n",
      "02/24/2021  10:19 PM             2,180 Postman.lnk\n",
      "05/17/2020  06:18 PM             1,065 Rockstar Games Launcher.lnk\n",
      "02/27/2021  08:30 PM    <DIR>          Sci_folder\n",
      "05/23/2021  02:09 AM    <DIR>          TCS_DOCS\n",
      "03/20/2021  01:04 AM    <DIR>          Technical_documents\n",
      "05/17/2020  11:51 AM    <DIR>          Things_to_be_mailed\n",
      "02/25/2021  06:55 PM               164 Tracker_for_computer_vision.txt\n",
      "01/17/2021  04:14 PM    <DIR>          updates\n",
      "04/19/2020  11:20 PM             2,218 VMware Workstation.lnk\n",
      "05/17/2021  03:39 PM             1,940 Zoom.lnk\n",
      "              14 File(s)     29,469,115 bytes\n",
      "              16 Dir(s)  168,801,636,352 bytes free\n"
     ]
    }
   ],
   "source": [
    "l1 =[]\n",
    "l1 = %ls"
   ]
  },
  {
   "cell_type": "code",
   "execution_count": 86,
   "metadata": {},
   "outputs": [],
   "source": [
    "l1 = os.listdir()"
   ]
  },
  {
   "cell_type": "code",
   "execution_count": 87,
   "metadata": {},
   "outputs": [
    {
     "name": "stdout",
     "output_type": "stream",
     "text": [
      "['.vscode', '5_6057697869429735681.pdf', 'AD_lab', 'AD_STUDY_MATERIAL.rtf', 'Age of Industrialization - a blessing and a curse.pdf', 'Al-Sweigart-Automate-The-Boring-Stuff-With-Python_-Practical-Programming-For-Total-Beginners-No-Starch-Press-2019.pdf', 'BitTorrent Web.lnk', 'C_notes', 'desktop.ini', 'DSA_NOTES', 'env', 'Full_stack_data_science', 'Grand Theft Auto V.url', 'ineuron_assign', 'Latest_photo.JPG', 'MongoDBCompass.lnk', 'My_Desktop', 'Oracle VM VirtualBox.lnk', 'Plural_site', 'Postman.lnk', 'Rockstar Games Launcher.lnk', 'Sci_folder', 'TCS_DOCS', 'Technical_documents', 'Things_to_be_mailed', 'Tracker_for_computer_vision.txt', 'updates', 'VMware Workstation.lnk', 'Zoom.lnk']\n",
      "['.vscode', '5_6057697869429735681.pdf', 'AD_lab', 'AD_STUDY_MATERIAL.rtf', 'Age of Industrialization - a blessing and a curse.pdf', 'Al-Sweigart-Automate-The-Boring-Stuff-With-Python_-Practical-Programming-For-Total-Beginners-No-Starch-Press-2019.pdf', 'BitTorrent Web.lnk', 'C_notes', 'desktop.ini', 'DSA_NOTES', 'env', 'Full_stack_data_science', 'Grand Theft Auto V.url', 'ineuron_assign', 'Latest_photo.JPG', 'MongoDBCompass.lnk', 'My_Desktop', 'Oracle VM VirtualBox.lnk', 'Plural_site', 'Postman.lnk', 'Rockstar Games Launcher.lnk', 'Sci_folder', 'TCS_DOCS', 'Technical_documents', 'Things_to_be_mailed', 'Tracker_for_computer_vision.txt', 'updates', 'VMware Workstation.lnk', 'Zoom.lnk']\n",
      "['.vscode', '5_6057697869429735681.pdf', 'AD_lab', 'AD_STUDY_MATERIAL.rtf', 'Age of Industrialization - a blessing and a curse.pdf', 'Al-Sweigart-Automate-The-Boring-Stuff-With-Python_-Practical-Programming-For-Total-Beginners-No-Starch-Press-2019.pdf', 'BitTorrent Web.lnk', 'C_notes', 'desktop.ini', 'DSA_NOTES', 'env', 'Full_stack_data_science', 'Grand Theft Auto V.url', 'ineuron_assign', 'Latest_photo.JPG', 'MongoDBCompass.lnk', 'My_Desktop', 'Oracle VM VirtualBox.lnk', 'Plural_site', 'Postman.lnk', 'Rockstar Games Launcher.lnk', 'Sci_folder', 'TCS_DOCS', 'Technical_documents', 'Things_to_be_mailed', 'Tracker_for_computer_vision.txt', 'updates', 'VMware Workstation.lnk', 'Zoom.lnk']\n",
      "['.vscode', '5_6057697869429735681.pdf', 'AD_lab', 'AD_STUDY_MATERIAL.rtf', 'Age of Industrialization - a blessing and a curse.pdf', 'Al-Sweigart-Automate-The-Boring-Stuff-With-Python_-Practical-Programming-For-Total-Beginners-No-Starch-Press-2019.pdf', 'BitTorrent Web.lnk', 'C_notes', 'desktop.ini', 'DSA_NOTES', 'env', 'Full_stack_data_science', 'Grand Theft Auto V.url', 'ineuron_assign', 'Latest_photo.JPG', 'MongoDBCompass.lnk', 'My_Desktop', 'Oracle VM VirtualBox.lnk', 'Plural_site', 'Postman.lnk', 'Rockstar Games Launcher.lnk', 'Sci_folder', 'TCS_DOCS', 'Technical_documents', 'Things_to_be_mailed', 'Tracker_for_computer_vision.txt', 'updates', 'VMware Workstation.lnk', 'Zoom.lnk']\n",
      "['.vscode', '5_6057697869429735681.pdf', 'AD_lab', 'AD_STUDY_MATERIAL.rtf', 'Age of Industrialization - a blessing and a curse.pdf', 'Al-Sweigart-Automate-The-Boring-Stuff-With-Python_-Practical-Programming-For-Total-Beginners-No-Starch-Press-2019.pdf', 'BitTorrent Web.lnk', 'C_notes', 'desktop.ini', 'DSA_NOTES', 'env', 'Full_stack_data_science', 'Grand Theft Auto V.url', 'ineuron_assign', 'Latest_photo.JPG', 'MongoDBCompass.lnk', 'My_Desktop', 'Oracle VM VirtualBox.lnk', 'Plural_site', 'Postman.lnk', 'Rockstar Games Launcher.lnk', 'Sci_folder', 'TCS_DOCS', 'Technical_documents', 'Things_to_be_mailed', 'Tracker_for_computer_vision.txt', 'updates', 'VMware Workstation.lnk', 'Zoom.lnk']\n",
      "['.vscode', '5_6057697869429735681.pdf', 'AD_lab', 'AD_STUDY_MATERIAL.rtf', 'Age of Industrialization - a blessing and a curse.pdf', 'Al-Sweigart-Automate-The-Boring-Stuff-With-Python_-Practical-Programming-For-Total-Beginners-No-Starch-Press-2019.pdf', 'BitTorrent Web.lnk', 'C_notes', 'desktop.ini', 'DSA_NOTES', 'env', 'Full_stack_data_science', 'Grand Theft Auto V.url', 'ineuron_assign', 'Latest_photo.JPG', 'MongoDBCompass.lnk', 'My_Desktop', 'Oracle VM VirtualBox.lnk', 'Plural_site', 'Postman.lnk', 'Rockstar Games Launcher.lnk', 'Sci_folder', 'TCS_DOCS', 'Technical_documents', 'Things_to_be_mailed', 'Tracker_for_computer_vision.txt', 'updates', 'VMware Workstation.lnk', 'Zoom.lnk']\n",
      "['.vscode', '5_6057697869429735681.pdf', 'AD_lab', 'AD_STUDY_MATERIAL.rtf', 'Age of Industrialization - a blessing and a curse.pdf', 'Al-Sweigart-Automate-The-Boring-Stuff-With-Python_-Practical-Programming-For-Total-Beginners-No-Starch-Press-2019.pdf', 'BitTorrent Web.lnk', 'C_notes', 'desktop.ini', 'DSA_NOTES', 'env', 'Full_stack_data_science', 'Grand Theft Auto V.url', 'ineuron_assign', 'Latest_photo.JPG', 'MongoDBCompass.lnk', 'My_Desktop', 'Oracle VM VirtualBox.lnk', 'Plural_site', 'Postman.lnk', 'Rockstar Games Launcher.lnk', 'Sci_folder', 'TCS_DOCS', 'Technical_documents', 'Things_to_be_mailed', 'Tracker_for_computer_vision.txt', 'updates', 'VMware Workstation.lnk', 'Zoom.lnk']\n",
      "['.vscode', '5_6057697869429735681.pdf', 'AD_lab', 'AD_STUDY_MATERIAL.rtf', 'Age of Industrialization - a blessing and a curse.pdf', 'Al-Sweigart-Automate-The-Boring-Stuff-With-Python_-Practical-Programming-For-Total-Beginners-No-Starch-Press-2019.pdf', 'BitTorrent Web.lnk', 'C_notes', 'desktop.ini', 'DSA_NOTES', 'env', 'Full_stack_data_science', 'Grand Theft Auto V.url', 'ineuron_assign', 'Latest_photo.JPG', 'MongoDBCompass.lnk', 'My_Desktop', 'Oracle VM VirtualBox.lnk', 'Plural_site', 'Postman.lnk', 'Rockstar Games Launcher.lnk', 'Sci_folder', 'TCS_DOCS', 'Technical_documents', 'Things_to_be_mailed', 'Tracker_for_computer_vision.txt', 'updates', 'VMware Workstation.lnk', 'Zoom.lnk']\n",
      "['.vscode', '5_6057697869429735681.pdf', 'AD_lab', 'AD_STUDY_MATERIAL.rtf', 'Age of Industrialization - a blessing and a curse.pdf', 'Al-Sweigart-Automate-The-Boring-Stuff-With-Python_-Practical-Programming-For-Total-Beginners-No-Starch-Press-2019.pdf', 'BitTorrent Web.lnk', 'C_notes', 'desktop.ini', 'DSA_NOTES', 'env', 'Full_stack_data_science', 'Grand Theft Auto V.url', 'ineuron_assign', 'Latest_photo.JPG', 'MongoDBCompass.lnk', 'My_Desktop', 'Oracle VM VirtualBox.lnk', 'Plural_site', 'Postman.lnk', 'Rockstar Games Launcher.lnk', 'Sci_folder', 'TCS_DOCS', 'Technical_documents', 'Things_to_be_mailed', 'Tracker_for_computer_vision.txt', 'updates', 'VMware Workstation.lnk', 'Zoom.lnk']\n",
      "['.vscode', '5_6057697869429735681.pdf', 'AD_lab', 'AD_STUDY_MATERIAL.rtf', 'Age of Industrialization - a blessing and a curse.pdf', 'Al-Sweigart-Automate-The-Boring-Stuff-With-Python_-Practical-Programming-For-Total-Beginners-No-Starch-Press-2019.pdf', 'BitTorrent Web.lnk', 'C_notes', 'desktop.ini', 'DSA_NOTES', 'env', 'Full_stack_data_science', 'Grand Theft Auto V.url', 'ineuron_assign', 'Latest_photo.JPG', 'MongoDBCompass.lnk', 'My_Desktop', 'Oracle VM VirtualBox.lnk', 'Plural_site', 'Postman.lnk', 'Rockstar Games Launcher.lnk', 'Sci_folder', 'TCS_DOCS', 'Technical_documents', 'Things_to_be_mailed', 'Tracker_for_computer_vision.txt', 'updates', 'VMware Workstation.lnk', 'Zoom.lnk']\n",
      "['.vscode', '5_6057697869429735681.pdf', 'AD_lab', 'AD_STUDY_MATERIAL.rtf', 'Age of Industrialization - a blessing and a curse.pdf', 'Al-Sweigart-Automate-The-Boring-Stuff-With-Python_-Practical-Programming-For-Total-Beginners-No-Starch-Press-2019.pdf', 'BitTorrent Web.lnk', 'C_notes', 'desktop.ini', 'DSA_NOTES', 'env', 'Full_stack_data_science', 'Grand Theft Auto V.url', 'ineuron_assign', 'Latest_photo.JPG', 'MongoDBCompass.lnk', 'My_Desktop', 'Oracle VM VirtualBox.lnk', 'Plural_site', 'Postman.lnk', 'Rockstar Games Launcher.lnk', 'Sci_folder', 'TCS_DOCS', 'Technical_documents', 'Things_to_be_mailed', 'Tracker_for_computer_vision.txt', 'updates', 'VMware Workstation.lnk', 'Zoom.lnk']\n",
      "['.vscode', '5_6057697869429735681.pdf', 'AD_lab', 'AD_STUDY_MATERIAL.rtf', 'Age of Industrialization - a blessing and a curse.pdf', 'Al-Sweigart-Automate-The-Boring-Stuff-With-Python_-Practical-Programming-For-Total-Beginners-No-Starch-Press-2019.pdf', 'BitTorrent Web.lnk', 'C_notes', 'desktop.ini', 'DSA_NOTES', 'env', 'Full_stack_data_science', 'Grand Theft Auto V.url', 'ineuron_assign', 'Latest_photo.JPG', 'MongoDBCompass.lnk', 'My_Desktop', 'Oracle VM VirtualBox.lnk', 'Plural_site', 'Postman.lnk', 'Rockstar Games Launcher.lnk', 'Sci_folder', 'TCS_DOCS', 'Technical_documents', 'Things_to_be_mailed', 'Tracker_for_computer_vision.txt', 'updates', 'VMware Workstation.lnk', 'Zoom.lnk']\n",
      "['.vscode', '5_6057697869429735681.pdf', 'AD_lab', 'AD_STUDY_MATERIAL.rtf', 'Age of Industrialization - a blessing and a curse.pdf', 'Al-Sweigart-Automate-The-Boring-Stuff-With-Python_-Practical-Programming-For-Total-Beginners-No-Starch-Press-2019.pdf', 'BitTorrent Web.lnk', 'C_notes', 'desktop.ini', 'DSA_NOTES', 'env', 'Full_stack_data_science', 'Grand Theft Auto V.url', 'ineuron_assign', 'Latest_photo.JPG', 'MongoDBCompass.lnk', 'My_Desktop', 'Oracle VM VirtualBox.lnk', 'Plural_site', 'Postman.lnk', 'Rockstar Games Launcher.lnk', 'Sci_folder', 'TCS_DOCS', 'Technical_documents', 'Things_to_be_mailed', 'Tracker_for_computer_vision.txt', 'updates', 'VMware Workstation.lnk', 'Zoom.lnk']\n",
      "['.vscode', '5_6057697869429735681.pdf', 'AD_lab', 'AD_STUDY_MATERIAL.rtf', 'Age of Industrialization - a blessing and a curse.pdf', 'Al-Sweigart-Automate-The-Boring-Stuff-With-Python_-Practical-Programming-For-Total-Beginners-No-Starch-Press-2019.pdf', 'BitTorrent Web.lnk', 'C_notes', 'desktop.ini', 'DSA_NOTES', 'env', 'Full_stack_data_science', 'Grand Theft Auto V.url', 'ineuron_assign', 'Latest_photo.JPG', 'MongoDBCompass.lnk', 'My_Desktop', 'Oracle VM VirtualBox.lnk', 'Plural_site', 'Postman.lnk', 'Rockstar Games Launcher.lnk', 'Sci_folder', 'TCS_DOCS', 'Technical_documents', 'Things_to_be_mailed', 'Tracker_for_computer_vision.txt', 'updates', 'VMware Workstation.lnk', 'Zoom.lnk']\n",
      "['.vscode', '5_6057697869429735681.pdf', 'AD_lab', 'AD_STUDY_MATERIAL.rtf', 'Age of Industrialization - a blessing and a curse.pdf', 'Al-Sweigart-Automate-The-Boring-Stuff-With-Python_-Practical-Programming-For-Total-Beginners-No-Starch-Press-2019.pdf', 'BitTorrent Web.lnk', 'C_notes', 'desktop.ini', 'DSA_NOTES', 'env', 'Full_stack_data_science', 'Grand Theft Auto V.url', 'ineuron_assign', 'Latest_photo.JPG', 'MongoDBCompass.lnk', 'My_Desktop', 'Oracle VM VirtualBox.lnk', 'Plural_site', 'Postman.lnk', 'Rockstar Games Launcher.lnk', 'Sci_folder', 'TCS_DOCS', 'Technical_documents', 'Things_to_be_mailed', 'Tracker_for_computer_vision.txt', 'updates', 'VMware Workstation.lnk', 'Zoom.lnk']\n",
      "['.vscode', '5_6057697869429735681.pdf', 'AD_lab', 'AD_STUDY_MATERIAL.rtf', 'Age of Industrialization - a blessing and a curse.pdf', 'Al-Sweigart-Automate-The-Boring-Stuff-With-Python_-Practical-Programming-For-Total-Beginners-No-Starch-Press-2019.pdf', 'BitTorrent Web.lnk', 'C_notes', 'desktop.ini', 'DSA_NOTES', 'env', 'Full_stack_data_science', 'Grand Theft Auto V.url', 'ineuron_assign', 'Latest_photo.JPG', 'MongoDBCompass.lnk', 'My_Desktop', 'Oracle VM VirtualBox.lnk', 'Plural_site', 'Postman.lnk', 'Rockstar Games Launcher.lnk', 'Sci_folder', 'TCS_DOCS', 'Technical_documents', 'Things_to_be_mailed', 'Tracker_for_computer_vision.txt', 'updates', 'VMware Workstation.lnk', 'Zoom.lnk']\n",
      "['.vscode', '5_6057697869429735681.pdf', 'AD_lab', 'AD_STUDY_MATERIAL.rtf', 'Age of Industrialization - a blessing and a curse.pdf', 'Al-Sweigart-Automate-The-Boring-Stuff-With-Python_-Practical-Programming-For-Total-Beginners-No-Starch-Press-2019.pdf', 'BitTorrent Web.lnk', 'C_notes', 'desktop.ini', 'DSA_NOTES', 'env', 'Full_stack_data_science', 'Grand Theft Auto V.url', 'ineuron_assign', 'Latest_photo.JPG', 'MongoDBCompass.lnk', 'My_Desktop', 'Oracle VM VirtualBox.lnk', 'Plural_site', 'Postman.lnk', 'Rockstar Games Launcher.lnk', 'Sci_folder', 'TCS_DOCS', 'Technical_documents', 'Things_to_be_mailed', 'Tracker_for_computer_vision.txt', 'updates', 'VMware Workstation.lnk', 'Zoom.lnk']\n",
      "['.vscode', '5_6057697869429735681.pdf', 'AD_lab', 'AD_STUDY_MATERIAL.rtf', 'Age of Industrialization - a blessing and a curse.pdf', 'Al-Sweigart-Automate-The-Boring-Stuff-With-Python_-Practical-Programming-For-Total-Beginners-No-Starch-Press-2019.pdf', 'BitTorrent Web.lnk', 'C_notes', 'desktop.ini', 'DSA_NOTES', 'env', 'Full_stack_data_science', 'Grand Theft Auto V.url', 'ineuron_assign', 'Latest_photo.JPG', 'MongoDBCompass.lnk', 'My_Desktop', 'Oracle VM VirtualBox.lnk', 'Plural_site', 'Postman.lnk', 'Rockstar Games Launcher.lnk', 'Sci_folder', 'TCS_DOCS', 'Technical_documents', 'Things_to_be_mailed', 'Tracker_for_computer_vision.txt', 'updates', 'VMware Workstation.lnk', 'Zoom.lnk']\n",
      "['.vscode', '5_6057697869429735681.pdf', 'AD_lab', 'AD_STUDY_MATERIAL.rtf', 'Age of Industrialization - a blessing and a curse.pdf', 'Al-Sweigart-Automate-The-Boring-Stuff-With-Python_-Practical-Programming-For-Total-Beginners-No-Starch-Press-2019.pdf', 'BitTorrent Web.lnk', 'C_notes', 'desktop.ini', 'DSA_NOTES', 'env', 'Full_stack_data_science', 'Grand Theft Auto V.url', 'ineuron_assign', 'Latest_photo.JPG', 'MongoDBCompass.lnk', 'My_Desktop', 'Oracle VM VirtualBox.lnk', 'Plural_site', 'Postman.lnk', 'Rockstar Games Launcher.lnk', 'Sci_folder', 'TCS_DOCS', 'Technical_documents', 'Things_to_be_mailed', 'Tracker_for_computer_vision.txt', 'updates', 'VMware Workstation.lnk', 'Zoom.lnk']\n",
      "['.vscode', '5_6057697869429735681.pdf', 'AD_lab', 'AD_STUDY_MATERIAL.rtf', 'Age of Industrialization - a blessing and a curse.pdf', 'Al-Sweigart-Automate-The-Boring-Stuff-With-Python_-Practical-Programming-For-Total-Beginners-No-Starch-Press-2019.pdf', 'BitTorrent Web.lnk', 'C_notes', 'desktop.ini', 'DSA_NOTES', 'env', 'Full_stack_data_science', 'Grand Theft Auto V.url', 'ineuron_assign', 'Latest_photo.JPG', 'MongoDBCompass.lnk', 'My_Desktop', 'Oracle VM VirtualBox.lnk', 'Plural_site', 'Postman.lnk', 'Rockstar Games Launcher.lnk', 'Sci_folder', 'TCS_DOCS', 'Technical_documents', 'Things_to_be_mailed', 'Tracker_for_computer_vision.txt', 'updates', 'VMware Workstation.lnk', 'Zoom.lnk']\n",
      "['.vscode', '5_6057697869429735681.pdf', 'AD_lab', 'AD_STUDY_MATERIAL.rtf', 'Age of Industrialization - a blessing and a curse.pdf', 'Al-Sweigart-Automate-The-Boring-Stuff-With-Python_-Practical-Programming-For-Total-Beginners-No-Starch-Press-2019.pdf', 'BitTorrent Web.lnk', 'C_notes', 'desktop.ini', 'DSA_NOTES', 'env', 'Full_stack_data_science', 'Grand Theft Auto V.url', 'ineuron_assign', 'Latest_photo.JPG', 'MongoDBCompass.lnk', 'My_Desktop', 'Oracle VM VirtualBox.lnk', 'Plural_site', 'Postman.lnk', 'Rockstar Games Launcher.lnk', 'Sci_folder', 'TCS_DOCS', 'Technical_documents', 'Things_to_be_mailed', 'Tracker_for_computer_vision.txt', 'updates', 'VMware Workstation.lnk', 'Zoom.lnk']\n",
      "['.vscode', '5_6057697869429735681.pdf', 'AD_lab', 'AD_STUDY_MATERIAL.rtf', 'Age of Industrialization - a blessing and a curse.pdf', 'Al-Sweigart-Automate-The-Boring-Stuff-With-Python_-Practical-Programming-For-Total-Beginners-No-Starch-Press-2019.pdf', 'BitTorrent Web.lnk', 'C_notes', 'desktop.ini', 'DSA_NOTES', 'env', 'Full_stack_data_science', 'Grand Theft Auto V.url', 'ineuron_assign', 'Latest_photo.JPG', 'MongoDBCompass.lnk', 'My_Desktop', 'Oracle VM VirtualBox.lnk', 'Plural_site', 'Postman.lnk', 'Rockstar Games Launcher.lnk', 'Sci_folder', 'TCS_DOCS', 'Technical_documents', 'Things_to_be_mailed', 'Tracker_for_computer_vision.txt', 'updates', 'VMware Workstation.lnk', 'Zoom.lnk']\n",
      "['.vscode', '5_6057697869429735681.pdf', 'AD_lab', 'AD_STUDY_MATERIAL.rtf', 'Age of Industrialization - a blessing and a curse.pdf', 'Al-Sweigart-Automate-The-Boring-Stuff-With-Python_-Practical-Programming-For-Total-Beginners-No-Starch-Press-2019.pdf', 'BitTorrent Web.lnk', 'C_notes', 'desktop.ini', 'DSA_NOTES', 'env', 'Full_stack_data_science', 'Grand Theft Auto V.url', 'ineuron_assign', 'Latest_photo.JPG', 'MongoDBCompass.lnk', 'My_Desktop', 'Oracle VM VirtualBox.lnk', 'Plural_site', 'Postman.lnk', 'Rockstar Games Launcher.lnk', 'Sci_folder', 'TCS_DOCS', 'Technical_documents', 'Things_to_be_mailed', 'Tracker_for_computer_vision.txt', 'updates', 'VMware Workstation.lnk', 'Zoom.lnk']\n",
      "['.vscode', '5_6057697869429735681.pdf', 'AD_lab', 'AD_STUDY_MATERIAL.rtf', 'Age of Industrialization - a blessing and a curse.pdf', 'Al-Sweigart-Automate-The-Boring-Stuff-With-Python_-Practical-Programming-For-Total-Beginners-No-Starch-Press-2019.pdf', 'BitTorrent Web.lnk', 'C_notes', 'desktop.ini', 'DSA_NOTES', 'env', 'Full_stack_data_science', 'Grand Theft Auto V.url', 'ineuron_assign', 'Latest_photo.JPG', 'MongoDBCompass.lnk', 'My_Desktop', 'Oracle VM VirtualBox.lnk', 'Plural_site', 'Postman.lnk', 'Rockstar Games Launcher.lnk', 'Sci_folder', 'TCS_DOCS', 'Technical_documents', 'Things_to_be_mailed', 'Tracker_for_computer_vision.txt', 'updates', 'VMware Workstation.lnk', 'Zoom.lnk']\n",
      "['.vscode', '5_6057697869429735681.pdf', 'AD_lab', 'AD_STUDY_MATERIAL.rtf', 'Age of Industrialization - a blessing and a curse.pdf', 'Al-Sweigart-Automate-The-Boring-Stuff-With-Python_-Practical-Programming-For-Total-Beginners-No-Starch-Press-2019.pdf', 'BitTorrent Web.lnk', 'C_notes', 'desktop.ini', 'DSA_NOTES', 'env', 'Full_stack_data_science', 'Grand Theft Auto V.url', 'ineuron_assign', 'Latest_photo.JPG', 'MongoDBCompass.lnk', 'My_Desktop', 'Oracle VM VirtualBox.lnk', 'Plural_site', 'Postman.lnk', 'Rockstar Games Launcher.lnk', 'Sci_folder', 'TCS_DOCS', 'Technical_documents', 'Things_to_be_mailed', 'Tracker_for_computer_vision.txt', 'updates', 'VMware Workstation.lnk', 'Zoom.lnk']\n",
      "['.vscode', '5_6057697869429735681.pdf', 'AD_lab', 'AD_STUDY_MATERIAL.rtf', 'Age of Industrialization - a blessing and a curse.pdf', 'Al-Sweigart-Automate-The-Boring-Stuff-With-Python_-Practical-Programming-For-Total-Beginners-No-Starch-Press-2019.pdf', 'BitTorrent Web.lnk', 'C_notes', 'desktop.ini', 'DSA_NOTES', 'env', 'Full_stack_data_science', 'Grand Theft Auto V.url', 'ineuron_assign', 'Latest_photo.JPG', 'MongoDBCompass.lnk', 'My_Desktop', 'Oracle VM VirtualBox.lnk', 'Plural_site', 'Postman.lnk', 'Rockstar Games Launcher.lnk', 'Sci_folder', 'TCS_DOCS', 'Technical_documents', 'Things_to_be_mailed', 'Tracker_for_computer_vision.txt', 'updates', 'VMware Workstation.lnk', 'Zoom.lnk']\n",
      "['.vscode', '5_6057697869429735681.pdf', 'AD_lab', 'AD_STUDY_MATERIAL.rtf', 'Age of Industrialization - a blessing and a curse.pdf', 'Al-Sweigart-Automate-The-Boring-Stuff-With-Python_-Practical-Programming-For-Total-Beginners-No-Starch-Press-2019.pdf', 'BitTorrent Web.lnk', 'C_notes', 'desktop.ini', 'DSA_NOTES', 'env', 'Full_stack_data_science', 'Grand Theft Auto V.url', 'ineuron_assign', 'Latest_photo.JPG', 'MongoDBCompass.lnk', 'My_Desktop', 'Oracle VM VirtualBox.lnk', 'Plural_site', 'Postman.lnk', 'Rockstar Games Launcher.lnk', 'Sci_folder', 'TCS_DOCS', 'Technical_documents', 'Things_to_be_mailed', 'Tracker_for_computer_vision.txt', 'updates', 'VMware Workstation.lnk', 'Zoom.lnk']\n",
      "['.vscode', '5_6057697869429735681.pdf', 'AD_lab', 'AD_STUDY_MATERIAL.rtf', 'Age of Industrialization - a blessing and a curse.pdf', 'Al-Sweigart-Automate-The-Boring-Stuff-With-Python_-Practical-Programming-For-Total-Beginners-No-Starch-Press-2019.pdf', 'BitTorrent Web.lnk', 'C_notes', 'desktop.ini', 'DSA_NOTES', 'env', 'Full_stack_data_science', 'Grand Theft Auto V.url', 'ineuron_assign', 'Latest_photo.JPG', 'MongoDBCompass.lnk', 'My_Desktop', 'Oracle VM VirtualBox.lnk', 'Plural_site', 'Postman.lnk', 'Rockstar Games Launcher.lnk', 'Sci_folder', 'TCS_DOCS', 'Technical_documents', 'Things_to_be_mailed', 'Tracker_for_computer_vision.txt', 'updates', 'VMware Workstation.lnk', 'Zoom.lnk']\n",
      "['.vscode', '5_6057697869429735681.pdf', 'AD_lab', 'AD_STUDY_MATERIAL.rtf', 'Age of Industrialization - a blessing and a curse.pdf', 'Al-Sweigart-Automate-The-Boring-Stuff-With-Python_-Practical-Programming-For-Total-Beginners-No-Starch-Press-2019.pdf', 'BitTorrent Web.lnk', 'C_notes', 'desktop.ini', 'DSA_NOTES', 'env', 'Full_stack_data_science', 'Grand Theft Auto V.url', 'ineuron_assign', 'Latest_photo.JPG', 'MongoDBCompass.lnk', 'My_Desktop', 'Oracle VM VirtualBox.lnk', 'Plural_site', 'Postman.lnk', 'Rockstar Games Launcher.lnk', 'Sci_folder', 'TCS_DOCS', 'Technical_documents', 'Things_to_be_mailed', 'Tracker_for_computer_vision.txt', 'updates', 'VMware Workstation.lnk', 'Zoom.lnk']\n"
     ]
    }
   ],
   "source": [
    "for i in l1:\n",
    "    print(l1)"
   ]
  },
  {
   "cell_type": "code",
   "execution_count": 88,
   "metadata": {},
   "outputs": [
    {
     "data": {
      "text/plain": [
       "'C:\\\\Users\\\\Anmol_PC\\\\Desktop'"
      ]
     },
     "execution_count": 88,
     "metadata": {},
     "output_type": "execute_result"
    }
   ],
   "source": [
    "%pwd"
   ]
  },
  {
   "cell_type": "code",
   "execution_count": 90,
   "metadata": {},
   "outputs": [],
   "source": [
    "v=[]\n",
    "v = os.listdir()"
   ]
  },
  {
   "cell_type": "code",
   "execution_count": 91,
   "metadata": {},
   "outputs": [
    {
     "data": {
      "text/plain": [
       "['.vscode',\n",
       " '5_6057697869429735681.pdf',\n",
       " 'AD_lab',\n",
       " 'AD_STUDY_MATERIAL.rtf',\n",
       " 'Age of Industrialization - a blessing and a curse.pdf',\n",
       " 'Al-Sweigart-Automate-The-Boring-Stuff-With-Python_-Practical-Programming-For-Total-Beginners-No-Starch-Press-2019.pdf',\n",
       " 'BitTorrent Web.lnk',\n",
       " 'C_notes',\n",
       " 'desktop.ini',\n",
       " 'DSA_NOTES',\n",
       " 'env',\n",
       " 'Full_stack_data_science',\n",
       " 'Grand Theft Auto V.url',\n",
       " 'ineuron_assign',\n",
       " 'Latest_photo.JPG',\n",
       " 'MongoDBCompass.lnk',\n",
       " 'My_Desktop',\n",
       " 'Oracle VM VirtualBox.lnk',\n",
       " 'Plural_site',\n",
       " 'Postman.lnk',\n",
       " 'Rockstar Games Launcher.lnk',\n",
       " 'Sci_folder',\n",
       " 'TCS_DOCS',\n",
       " 'Technical_documents',\n",
       " 'Things_to_be_mailed',\n",
       " 'Tracker_for_computer_vision.txt',\n",
       " 'updates',\n",
       " 'VMware Workstation.lnk',\n",
       " 'Zoom.lnk']"
      ]
     },
     "execution_count": 91,
     "metadata": {},
     "output_type": "execute_result"
    }
   ],
   "source": [
    "v"
   ]
  },
  {
   "cell_type": "code",
   "execution_count": 92,
   "metadata": {},
   "outputs": [
    {
     "name": "stdout",
     "output_type": "stream",
     "text": [
      ".vscode\n",
      "5_6057697869429735681.pdf\n",
      "AD_lab\n",
      "AD_STUDY_MATERIAL.rtf\n",
      "Age of Industrialization - a blessing and a curse.pdf\n",
      "Al-Sweigart-Automate-The-Boring-Stuff-With-Python_-Practical-Programming-For-Total-Beginners-No-Starch-Press-2019.pdf\n",
      "BitTorrent Web.lnk\n",
      "C_notes\n",
      "desktop.ini\n",
      "DSA_NOTES\n",
      "env\n",
      "Full_stack_data_science\n",
      "Grand Theft Auto V.url\n",
      "ineuron_assign\n",
      "Latest_photo.JPG\n",
      "MongoDBCompass.lnk\n",
      "My_Desktop\n",
      "Oracle VM VirtualBox.lnk\n",
      "Plural_site\n",
      "Postman.lnk\n",
      "Rockstar Games Launcher.lnk\n",
      "Sci_folder\n",
      "TCS_DOCS\n",
      "Technical_documents\n",
      "Things_to_be_mailed\n",
      "Tracker_for_computer_vision.txt\n",
      "updates\n",
      "VMware Workstation.lnk\n",
      "Zoom.lnk\n"
     ]
    }
   ],
   "source": [
    "for i in v:\n",
    "    print(i)"
   ]
  },
  {
   "cell_type": "code",
   "execution_count": 98,
   "metadata": {},
   "outputs": [],
   "source": [
    "os.chdir('C://Users//Anmol_PC/Desktop/')"
   ]
  },
  {
   "cell_type": "code",
   "execution_count": 99,
   "metadata": {},
   "outputs": [
    {
     "name": "stdout",
     "output_type": "stream",
     "text": [
      " Volume in drive C has no label.\n",
      " Volume Serial Number is EA81-2A9B\n",
      "\n",
      " Directory of C:\\Users\\Anmol_PC\\Desktop\\ineuron_assign\n",
      "\n",
      "05/25/2021  07:49 PM    <DIR>          .\n",
      "05/25/2021  07:49 PM    <DIR>          ..\n",
      "05/15/2021  05:58 PM    <DIR>          19.2.MySQL\n",
      "06/07/2021  06:36 PM    <DIR>          Class_work\n",
      "05/11/2021  05:11 PM    <DIR>          Python_assign\n",
      "06/07/2021  04:14 PM    <DIR>          Python_assign_upload_baisc_theory\n",
      "03/20/2021  05:34 PM    <DIR>          Python_basic_coding_assignment\n",
      "05/28/2021  11:43 PM    <DIR>          Python_basic_programming_assignment_upload\n",
      "06/06/2021  11:56 PM    <DIR>          Python_practice\n",
      "               0 File(s)              0 bytes\n",
      "               9 Dir(s)  168,800,206,848 bytes free\n"
     ]
    }
   ],
   "source": [
    "for i in v:\n",
    "    if i == 'ineuron_assign' :\n",
    "        os.chdir('ineuron_assign/')\n",
    "        %pwd\n",
    "        %ls"
   ]
  },
  {
   "cell_type": "code",
   "execution_count": 100,
   "metadata": {},
   "outputs": [
    {
     "data": {
      "text/plain": [
       "'C:\\\\Users\\\\Anmol_PC\\\\Desktop\\\\ineuron_assign'"
      ]
     },
     "execution_count": 100,
     "metadata": {},
     "output_type": "execute_result"
    }
   ],
   "source": [
    "%pwd"
   ]
  },
  {
   "cell_type": "code",
   "execution_count": null,
   "metadata": {},
   "outputs": [],
   "source": []
  }
 ],
 "metadata": {
  "celltoolbar": "Attachments",
  "kernelspec": {
   "display_name": "Python 3",
   "language": "python",
   "name": "python3"
  },
  "language_info": {
   "codemirror_mode": {
    "name": "ipython",
    "version": 3
   },
   "file_extension": ".py",
   "mimetype": "text/x-python",
   "name": "python",
   "nbconvert_exporter": "python",
   "pygments_lexer": "ipython3",
   "version": "3.8.8"
  }
 },
 "nbformat": 4,
 "nbformat_minor": 4
}
